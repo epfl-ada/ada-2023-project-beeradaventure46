{
 "cells": [
  {
   "cell_type": "markdown",
   "metadata": {},
   "source": [
    "# Milestone 2 : Project proposal and initial analyses 🍻\n",
    "\n",
    "<hr style=\"clear:both\">\n",
    "This notebook was made for the ADA course at EPFL. \n",
    "\n",
    "Group : BeerADAventure46\n",
    "\n",
    "**Authors:** \\\n",
    "[Agatha Hunter](https://people.epfl.ch/agatha.hunter)\\\n",
    "[Anne-Valérie Preto](https://people.epfl.ch/anne-valerie.preto)\\\n",
    "[Tristan Carruzzo](https://people.epfl.ch/tristan.carruzzo)\\\n",
    "[Thamin Maurer](https://people.epfl.ch/thamin.maurer)\\\n",
    "[Victor Dubien](https://people.epfl.ch/victor.dubien)\n",
    "\n",
    "\n",
    "**Supervisor:**\\\n",
    "[Beatriz Borges](https://people.epfl.ch/beatriz.borges)\n",
    "<hr style=\"clear:both\">\n",
    "\n"
   ]
  },
  {
   "cell_type": "markdown",
   "metadata": {},
   "source": [
    "<blockquote>\n",
    "\n",
    "## Project proposal  📌\n",
    "\n",
    "**Influence of the serving style on the tasting profile**:\n",
    "\n",
    "Goal of the project: Use the textual reviews to find for each beer how it was served (either bottle, can or draft) and find how it influences the tasting profile.\n",
    "\n",
    "Different serving styles may be adopted in different regions or for different types of beer.  The influence of the serving style could influence not only the appearance, but also the aroma, the palate or the taste.\n",
    "</blockquote>"
   ]
  },
  {
   "cell_type": "markdown",
   "metadata": {},
   "source": [
    "### TODO LIST FOR THE GROUP:\n",
    "\n",
    "<input type=\"checkbox\" checked > New architecture of file\n",
    "\n",
    "<input type=\"checkbox\"> Create functions to import and convert initial files\n",
    "\n",
    "<input type=\"checkbox\"> More comments on the dataset -> distribution, viz\n",
    "\n",
    "<input type=\"checkbox\"> For any filtering: how, why ?\n",
    "\n",
    "<input type=\"checkbox\"> Choose a NLP method -> comment as much as possible, some trials \n",
    "\n",
    "<input type=\"checkbox\"> E-mail the proposition to Beatriz"
   ]
  },
  {
   "cell_type": "markdown",
   "metadata": {},
   "source": [
    "## Datasets 📂\n",
    "### Import dataset and libraries 📥"
   ]
  },
  {
   "cell_type": "code",
   "execution_count": 1,
   "metadata": {},
   "outputs": [],
   "source": [
    "import io\n",
    "import pandas as pd\n",
    "import numpy as np\n",
    "import seaborn as sns\n",
    "from tqdm import tqdm\n",
    "import matplotlib.pyplot as plt\n",
    "from langdetect import detect\n",
    "from scipy.stats import ttest_ind\n",
    "from sklearn.linear_model import LinearRegression\n",
    "\n",
    "from textstat import flesch_reading_ease, flesch_kincaid_grade, gunning_fog, smog_index, automated_readability_index, coleman_liau_index, linsear_write_formula, dale_chall_readability_score, text_standard\n",
    "from utils import *\n",
    "pd.set_option('display.max_columns', None)"
   ]
  },
  {
   "cell_type": "code",
   "execution_count": 2,
   "metadata": {},
   "outputs": [],
   "source": [
    "dataset_path = './data/BeerAdvocate/'"
   ]
  },
  {
   "cell_type": "code",
   "execution_count": 3,
   "metadata": {},
   "outputs": [],
   "source": [
    "#ratings_2 = convert_txt_to_csv(input_file='ratings.txt', export=True, file_name='trial_ratings')\n",
    "#can take a while to run"
   ]
  },
  {
   "cell_type": "code",
   "execution_count": 4,
   "metadata": {},
   "outputs": [],
   "source": [
    "# Firt time imports : \n",
    "# Convert txt to csv (function in the utils.py file)\n",
    "\n",
    "#ratings = convert_txt_to_csv(input_file='ratings.txt', export=True, file_name='ratings')\n",
    "#reviews = convert_txt_to_csv(input_file='reviews.txt', export=True, file_name='reviews')"
   ]
  },
  {
   "cell_type": "code",
   "execution_count": 5,
   "metadata": {},
   "outputs": [],
   "source": [
    "# Files already converted, so we can load them directly\n",
    "\n",
    "#ratings = pd.read_csv(dataset_path + 'ratings.csv')\n",
    "reviews = pd.read_csv(dataset_path + 'reviews.csv')\n",
    "beers = pd.read_csv(dataset_path + 'beers.csv')\n",
    "breweries = pd.read_csv(dataset_path + 'breweries.csv')\n",
    "users = pd.read_csv(dataset_path + 'users.csv')"
   ]
  },
  {
   "cell_type": "markdown",
   "metadata": {},
   "source": [
    "### Initial datasets analysis 🔎"
   ]
  },
  {
   "cell_type": "markdown",
   "metadata": {},
   "source": [
    "#### Beers dataset 🍺"
   ]
  },
  {
   "cell_type": "code",
   "execution_count": 6,
   "metadata": {},
   "outputs": [
    {
     "data": {
      "text/html": [
       "<div>\n",
       "<style scoped>\n",
       "    .dataframe tbody tr th:only-of-type {\n",
       "        vertical-align: middle;\n",
       "    }\n",
       "\n",
       "    .dataframe tbody tr th {\n",
       "        vertical-align: top;\n",
       "    }\n",
       "\n",
       "    .dataframe thead th {\n",
       "        text-align: right;\n",
       "    }\n",
       "</style>\n",
       "<table border=\"1\" class=\"dataframe\">\n",
       "  <thead>\n",
       "    <tr style=\"text-align: right;\">\n",
       "      <th></th>\n",
       "      <th>beer_id</th>\n",
       "      <th>beer_name</th>\n",
       "      <th>brewery_id</th>\n",
       "      <th>brewery_name</th>\n",
       "      <th>style</th>\n",
       "      <th>nbr_ratings</th>\n",
       "      <th>nbr_reviews</th>\n",
       "      <th>avg</th>\n",
       "      <th>ba_score</th>\n",
       "      <th>bros_score</th>\n",
       "      <th>abv</th>\n",
       "      <th>avg_computed</th>\n",
       "      <th>zscore</th>\n",
       "      <th>nbr_matched_valid_ratings</th>\n",
       "      <th>avg_matched_valid_ratings</th>\n",
       "    </tr>\n",
       "  </thead>\n",
       "  <tbody>\n",
       "    <tr>\n",
       "      <th>132153</th>\n",
       "      <td>205108</td>\n",
       "      <td>Incandescent Cream Ale</td>\n",
       "      <td>33128</td>\n",
       "      <td>The Industrial Revolution Brewing Company</td>\n",
       "      <td>Cream Ale</td>\n",
       "      <td>0</td>\n",
       "      <td>0</td>\n",
       "      <td>NaN</td>\n",
       "      <td>NaN</td>\n",
       "      <td>NaN</td>\n",
       "      <td>5.25</td>\n",
       "      <td>NaN</td>\n",
       "      <td>NaN</td>\n",
       "      <td>0</td>\n",
       "      <td>NaN</td>\n",
       "    </tr>\n",
       "    <tr>\n",
       "      <th>189664</th>\n",
       "      <td>214740</td>\n",
       "      <td>4042 Stout Special Blend</td>\n",
       "      <td>31493</td>\n",
       "      <td>Deep River Brewing Co.</td>\n",
       "      <td>Milk / Sweet Stout</td>\n",
       "      <td>1</td>\n",
       "      <td>0</td>\n",
       "      <td>3.89</td>\n",
       "      <td>NaN</td>\n",
       "      <td>NaN</td>\n",
       "      <td>6.70</td>\n",
       "      <td>3.89</td>\n",
       "      <td>NaN</td>\n",
       "      <td>0</td>\n",
       "      <td>NaN</td>\n",
       "    </tr>\n",
       "    <tr>\n",
       "      <th>226028</th>\n",
       "      <td>237028</td>\n",
       "      <td>Test Hill</td>\n",
       "      <td>44619</td>\n",
       "      <td>Big Hart Brewing Co</td>\n",
       "      <td>American Double / Imperial IPA</td>\n",
       "      <td>0</td>\n",
       "      <td>0</td>\n",
       "      <td>NaN</td>\n",
       "      <td>NaN</td>\n",
       "      <td>NaN</td>\n",
       "      <td>9.50</td>\n",
       "      <td>NaN</td>\n",
       "      <td>NaN</td>\n",
       "      <td>0</td>\n",
       "      <td>NaN</td>\n",
       "    </tr>\n",
       "  </tbody>\n",
       "</table>\n",
       "</div>"
      ],
      "text/plain": [
       "        beer_id                 beer_name  brewery_id  \\\n",
       "132153   205108    Incandescent Cream Ale       33128   \n",
       "189664   214740  4042 Stout Special Blend       31493   \n",
       "226028   237028                 Test Hill       44619   \n",
       "\n",
       "                                     brewery_name  \\\n",
       "132153  The Industrial Revolution Brewing Company   \n",
       "189664                     Deep River Brewing Co.   \n",
       "226028                        Big Hart Brewing Co   \n",
       "\n",
       "                                 style  nbr_ratings  nbr_reviews   avg  \\\n",
       "132153                       Cream Ale            0            0   NaN   \n",
       "189664              Milk / Sweet Stout            1            0  3.89   \n",
       "226028  American Double / Imperial IPA            0            0   NaN   \n",
       "\n",
       "        ba_score  bros_score   abv  avg_computed  zscore  \\\n",
       "132153       NaN         NaN  5.25           NaN     NaN   \n",
       "189664       NaN         NaN  6.70          3.89     NaN   \n",
       "226028       NaN         NaN  9.50           NaN     NaN   \n",
       "\n",
       "        nbr_matched_valid_ratings  avg_matched_valid_ratings  \n",
       "132153                          0                        NaN  \n",
       "189664                          0                        NaN  \n",
       "226028                          0                        NaN  "
      ]
     },
     "metadata": {},
     "output_type": "display_data"
    },
    {
     "name": "stdout",
     "output_type": "stream",
     "text": [
      "Shape of beers :  (280823, 15)\n"
     ]
    }
   ],
   "source": [
    "display(beers.sample(3))\n",
    "print('Shape of beers : ', beers.shape)"
   ]
  },
  {
   "cell_type": "code",
   "execution_count": 7,
   "metadata": {},
   "outputs": [
    {
     "name": "stdout",
     "output_type": "stream",
     "text": [
      "Number of different beers id: 280823\n",
      "Number of different beers name: 236209\n"
     ]
    }
   ],
   "source": [
    "# print the number of beers id and beer name\n",
    "print('Number of different beers id:', len(beers.beer_id.unique()))\n",
    "print('Number of different beers name:', len(beers.beer_name.unique()))"
   ]
  },
  {
   "cell_type": "markdown",
   "metadata": {},
   "source": [
    "<blockquote>\n",
    "\n",
    "**Initial comments about the dataset**\n",
    "\n",
    "-Some beers have the same name! In order to avoid confusion, we will drop the column beer_name (and brewery_name) from the dataset.\n",
    "\n",
    "-As we will not use the RateBeer dataset, we can also drop the column nbr_matched_valid_ratings and avg_matched_valid_ratings.  \n",
    "\n",
    "-The column bros_score only reflect the ratings from the two creators of the website, so we can also drop it.  \n",
    "\n",
    "-ba_score reprensents the percentage (rounded to the tenth for depth) of raters who gave the beer a 3.75 or higher as long as the beers as at least 10 ratings.\n",
    "\n",
    "</blockquote>"
   ]
  },
  {
   "cell_type": "code",
   "execution_count": 8,
   "metadata": {},
   "outputs": [
    {
     "data": {
      "image/png": "[encoded data removed]",
      "text/plain": [
       "<Figure size 432x288 with 1 Axes>"
      ]
     },
     "metadata": {
      "needs_background": "light"
     },
     "output_type": "display_data"
    }
   ],
   "source": [
    "# show the percentage of missing values per columm\n",
    "plt.figure()\n",
    "(beers.isna().sum() / len(beers) * 100).plot(kind='barh', title='Percentage of missing values per column')\n",
    "plt.xlabel('Percentage of missing values')\n",
    "plt.show()"
   ]
  },
  {
   "cell_type": "markdown",
   "metadata": {},
   "source": [
    "<blockquote>\n",
    "\n",
    "**More comments about the dataset**\n",
    "\n",
    "We see that more than 80% of the beers do not have a z-score value. We can drop this column alongside avg_computed and compute them manually later if needed.\n",
    "\n",
    "80% of the beers have no ba_score value, so we can also drop it and compute it later if needed.\n",
    "\n",
    "</blockquote>"
   ]
  },
  {
   "cell_type": "code",
   "execution_count": 9,
   "metadata": {},
   "outputs": [],
   "source": [
    "beers_filtered = beers.drop(columns=['beer_name', \n",
    "                            'brewery_name',\n",
    "                            'bros_score',\n",
    "                            'ba_score',\n",
    "                            'nbr_matched_valid_ratings',\n",
    "                            'avg_matched_valid_ratings',\n",
    "                            'zscore',\n",
    "                            'avg_computed']).copy(deep=True)\n",
    "\n",
    "beers_filtered.rename(columns={'nbr_ratings': 'beer_nbr_ratings',\n",
    "                               'nbr_reviews': 'beer_nbr_reviews'}, inplace=True)"
   ]
  },
  {
   "cell_type": "code",
   "execution_count": 10,
   "metadata": {},
   "outputs": [
    {
     "data": {
      "text/html": [
       "<div>\n",
       "<style scoped>\n",
       "    .dataframe tbody tr th:only-of-type {\n",
       "        vertical-align: middle;\n",
       "    }\n",
       "\n",
       "    .dataframe tbody tr th {\n",
       "        vertical-align: top;\n",
       "    }\n",
       "\n",
       "    .dataframe thead th {\n",
       "        text-align: right;\n",
       "    }\n",
       "</style>\n",
       "<table border=\"1\" class=\"dataframe\">\n",
       "  <thead>\n",
       "    <tr style=\"text-align: right;\">\n",
       "      <th></th>\n",
       "      <th>beer_id</th>\n",
       "      <th>brewery_id</th>\n",
       "      <th>style</th>\n",
       "      <th>beer_nbr_ratings</th>\n",
       "      <th>beer_nbr_reviews</th>\n",
       "      <th>avg</th>\n",
       "      <th>abv</th>\n",
       "    </tr>\n",
       "  </thead>\n",
       "  <tbody>\n",
       "    <tr>\n",
       "      <th>183632</th>\n",
       "      <td>272997</td>\n",
       "      <td>31764</td>\n",
       "      <td>American Pale Lager</td>\n",
       "      <td>2</td>\n",
       "      <td>0</td>\n",
       "      <td>3.63</td>\n",
       "      <td>4.5</td>\n",
       "    </tr>\n",
       "    <tr>\n",
       "      <th>239654</th>\n",
       "      <td>174341</td>\n",
       "      <td>40408</td>\n",
       "      <td>Kölsch</td>\n",
       "      <td>4</td>\n",
       "      <td>2</td>\n",
       "      <td>3.62</td>\n",
       "      <td>5.5</td>\n",
       "    </tr>\n",
       "    <tr>\n",
       "      <th>244334</th>\n",
       "      <td>104124</td>\n",
       "      <td>30437</td>\n",
       "      <td>American Black Ale</td>\n",
       "      <td>296</td>\n",
       "      <td>47</td>\n",
       "      <td>3.69</td>\n",
       "      <td>7.5</td>\n",
       "    </tr>\n",
       "  </tbody>\n",
       "</table>\n",
       "</div>"
      ],
      "text/plain": [
       "        beer_id  brewery_id                style  beer_nbr_ratings  \\\n",
       "183632   272997       31764  American Pale Lager                 2   \n",
       "239654   174341       40408               Kölsch                 4   \n",
       "244334   104124       30437   American Black Ale               296   \n",
       "\n",
       "        beer_nbr_reviews   avg  abv  \n",
       "183632                 0  3.63  4.5  \n",
       "239654                 2  3.62  5.5  \n",
       "244334                47  3.69  7.5  "
      ]
     },
     "execution_count": 10,
     "metadata": {},
     "output_type": "execute_result"
    }
   ],
   "source": [
    "beers_filtered.sample(3)"
   ]
  },
  {
   "cell_type": "code",
   "execution_count": 11,
   "metadata": {},
   "outputs": [
    {
     "data": {
      "image/png": "[encoded data removed]",
      "text/plain": [
       "<Figure size 1080x360 with 2 Axes>"
      ]
     },
     "metadata": {
      "needs_background": "light"
     },
     "output_type": "display_data"
    }
   ],
   "source": [
    "plt.figure(figsize=(15, 5))\n",
    "plt.subplot(1, 2, 1)\n",
    "beers_filtered['style'].value_counts(normalize=False).head(10).plot(kind='barh', title='10 most common beer styles')\n",
    "plt.xlabel('Number of beers')\n",
    "plt.subplot(1, 2, 2)\n",
    "beers_filtered['beer_nbr_reviews'].hist(bins=50,log=True)\n",
    "plt.title('Number of reviews per beer')\n",
    "plt.ylabel('Count')\n",
    "plt.xlabel('Number of reviews')\n",
    "plt.tight_layout()\n",
    "plt.show()"
   ]
  },
  {
   "cell_type": "code",
   "execution_count": 12,
   "metadata": {},
   "outputs": [],
   "source": [
    "# Some beers have no reviews and no ratings, resulting in NaN avg value, we remove them\n",
    "beers_filtered = beers_filtered[beers_filtered['avg'].notna()].copy(deep=True)\n",
    "\n",
    "# We also remove the few beers that have 0 reviews and 0 ratings but a non NaN avg value (not sure why there are such beers)\n",
    "beers_filtered = beers_filtered[(beers_filtered['beer_nbr_reviews'] != 0) & (beers_filtered['beer_nbr_ratings'] != 0)].copy(deep=True)"
   ]
  },
  {
   "cell_type": "code",
   "execution_count": 13,
   "metadata": {},
   "outputs": [
    {
     "data": {
      "text/html": [
       "<div>\n",
       "<style scoped>\n",
       "    .dataframe tbody tr th:only-of-type {\n",
       "        vertical-align: middle;\n",
       "    }\n",
       "\n",
       "    .dataframe tbody tr th {\n",
       "        vertical-align: top;\n",
       "    }\n",
       "\n",
       "    .dataframe thead th {\n",
       "        text-align: right;\n",
       "    }\n",
       "</style>\n",
       "<table border=\"1\" class=\"dataframe\">\n",
       "  <thead>\n",
       "    <tr style=\"text-align: right;\">\n",
       "      <th></th>\n",
       "      <th>beer_id</th>\n",
       "      <th>brewery_id</th>\n",
       "      <th>beer_nbr_ratings</th>\n",
       "      <th>beer_nbr_reviews</th>\n",
       "      <th>avg</th>\n",
       "      <th>abv</th>\n",
       "    </tr>\n",
       "  </thead>\n",
       "  <tbody>\n",
       "    <tr>\n",
       "      <th>count</th>\n",
       "      <td>166649.000000</td>\n",
       "      <td>166649.000000</td>\n",
       "      <td>166649.000000</td>\n",
       "      <td>166649.000000</td>\n",
       "      <td>166649.000000</td>\n",
       "      <td>144879.000000</td>\n",
       "    </tr>\n",
       "    <tr>\n",
       "      <th>mean</th>\n",
       "      <td>118304.063271</td>\n",
       "      <td>17174.929871</td>\n",
       "      <td>49.216653</td>\n",
       "      <td>15.539163</td>\n",
       "      <td>3.709953</td>\n",
       "      <td>6.566462</td>\n",
       "    </tr>\n",
       "    <tr>\n",
       "      <th>std</th>\n",
       "      <td>82294.748008</td>\n",
       "      <td>14573.636775</td>\n",
       "      <td>298.336124</td>\n",
       "      <td>88.846266</td>\n",
       "      <td>0.489242</td>\n",
       "      <td>2.138165</td>\n",
       "    </tr>\n",
       "    <tr>\n",
       "      <th>min</th>\n",
       "      <td>3.000000</td>\n",
       "      <td>1.000000</td>\n",
       "      <td>1.000000</td>\n",
       "      <td>1.000000</td>\n",
       "      <td>1.000000</td>\n",
       "      <td>0.010000</td>\n",
       "    </tr>\n",
       "    <tr>\n",
       "      <th>25%</th>\n",
       "      <td>50831.000000</td>\n",
       "      <td>1853.000000</td>\n",
       "      <td>2.000000</td>\n",
       "      <td>1.000000</td>\n",
       "      <td>3.500000</td>\n",
       "      <td>5.000000</td>\n",
       "    </tr>\n",
       "    <tr>\n",
       "      <th>50%</th>\n",
       "      <td>95991.000000</td>\n",
       "      <td>16111.000000</td>\n",
       "      <td>5.000000</td>\n",
       "      <td>2.000000</td>\n",
       "      <td>3.780000</td>\n",
       "      <td>6.000000</td>\n",
       "    </tr>\n",
       "    <tr>\n",
       "      <th>75%</th>\n",
       "      <td>184603.000000</td>\n",
       "      <td>30176.000000</td>\n",
       "      <td>17.000000</td>\n",
       "      <td>5.000000</td>\n",
       "      <td>4.020000</td>\n",
       "      <td>7.600000</td>\n",
       "    </tr>\n",
       "    <tr>\n",
       "      <th>max</th>\n",
       "      <td>293285.000000</td>\n",
       "      <td>49815.000000</td>\n",
       "      <td>16509.000000</td>\n",
       "      <td>3899.000000</td>\n",
       "      <td>5.000000</td>\n",
       "      <td>67.500000</td>\n",
       "    </tr>\n",
       "  </tbody>\n",
       "</table>\n",
       "</div>"
      ],
      "text/plain": [
       "             beer_id     brewery_id  beer_nbr_ratings  beer_nbr_reviews  \\\n",
       "count  166649.000000  166649.000000     166649.000000     166649.000000   \n",
       "mean   118304.063271   17174.929871         49.216653         15.539163   \n",
       "std     82294.748008   14573.636775        298.336124         88.846266   \n",
       "min         3.000000       1.000000          1.000000          1.000000   \n",
       "25%     50831.000000    1853.000000          2.000000          1.000000   \n",
       "50%     95991.000000   16111.000000          5.000000          2.000000   \n",
       "75%    184603.000000   30176.000000         17.000000          5.000000   \n",
       "max    293285.000000   49815.000000      16509.000000       3899.000000   \n",
       "\n",
       "                 avg            abv  \n",
       "count  166649.000000  144879.000000  \n",
       "mean        3.709953       6.566462  \n",
       "std         0.489242       2.138165  \n",
       "min         1.000000       0.010000  \n",
       "25%         3.500000       5.000000  \n",
       "50%         3.780000       6.000000  \n",
       "75%         4.020000       7.600000  \n",
       "max         5.000000      67.500000  "
      ]
     },
     "execution_count": 13,
     "metadata": {},
     "output_type": "execute_result"
    }
   ],
   "source": [
    "beers_filtered.describe()"
   ]
  },
  {
   "cell_type": "markdown",
   "metadata": {},
   "source": [
    "<blockquote>\n",
    "\n",
    "We are left with a clean dataset containing 166'649 beers. Some beers do not have a alcohol percentage value.\n",
    "\n",
    "</blockquote>"
   ]
  },
  {
   "cell_type": "markdown",
   "metadata": {},
   "source": [
    "#### Breweries dataset 🏭"
   ]
  },
  {
   "cell_type": "code",
   "execution_count": 14,
   "metadata": {},
   "outputs": [
    {
     "data": {
      "text/html": [
       "<div>\n",
       "<style scoped>\n",
       "    .dataframe tbody tr th:only-of-type {\n",
       "        vertical-align: middle;\n",
       "    }\n",
       "\n",
       "    .dataframe tbody tr th {\n",
       "        vertical-align: top;\n",
       "    }\n",
       "\n",
       "    .dataframe thead th {\n",
       "        text-align: right;\n",
       "    }\n",
       "</style>\n",
       "<table border=\"1\" class=\"dataframe\">\n",
       "  <thead>\n",
       "    <tr style=\"text-align: right;\">\n",
       "      <th></th>\n",
       "      <th>id</th>\n",
       "      <th>location</th>\n",
       "      <th>name</th>\n",
       "      <th>nbr_beers</th>\n",
       "    </tr>\n",
       "  </thead>\n",
       "  <tbody>\n",
       "    <tr>\n",
       "      <th>1762</th>\n",
       "      <td>15394</td>\n",
       "      <td>Canada</td>\n",
       "      <td>Brasserie BVM Inc.</td>\n",
       "      <td>4</td>\n",
       "    </tr>\n",
       "    <tr>\n",
       "      <th>16154</th>\n",
       "      <td>4696</td>\n",
       "      <td>Canada, Alberta</td>\n",
       "      <td>Brew Brothers Brewery</td>\n",
       "      <td>9</td>\n",
       "    </tr>\n",
       "    <tr>\n",
       "      <th>1130</th>\n",
       "      <td>32635</td>\n",
       "      <td>England</td>\n",
       "      <td>The Cheshire Brewhouse</td>\n",
       "      <td>29</td>\n",
       "    </tr>\n",
       "  </tbody>\n",
       "</table>\n",
       "</div>"
      ],
      "text/plain": [
       "          id         location                    name  nbr_beers\n",
       "1762   15394           Canada      Brasserie BVM Inc.          4\n",
       "16154   4696  Canada, Alberta   Brew Brothers Brewery          9\n",
       "1130   32635          England  The Cheshire Brewhouse         29"
      ]
     },
     "metadata": {},
     "output_type": "display_data"
    },
    {
     "name": "stdout",
     "output_type": "stream",
     "text": [
      "Shape of breweries :  (16758, 4)\n"
     ]
    }
   ],
   "source": [
    "display(breweries.sample(3))\n",
    "print('Shape of breweries : ', breweries.shape)"
   ]
  },
  {
   "cell_type": "code",
   "execution_count": 15,
   "metadata": {},
   "outputs": [
    {
     "data": {
      "image/png": "[encoded data removed]",
      "text/plain": [
       "<Figure size 432x288 with 1 Axes>"
      ]
     },
     "metadata": {
      "needs_background": "light"
     },
     "output_type": "display_data"
    }
   ],
   "source": [
    "# show the percentage of missing values per columm\n",
    "plt.figure()\n",
    "(breweries.isna().sum() / len(breweries) * 100).plot(kind='barh', title='Percentage of missing values per column')\n",
    "plt.xlabel('Percentage of missing values')\n",
    "plt.show()"
   ]
  },
  {
   "cell_type": "markdown",
   "metadata": {},
   "source": [
    "<blockquote>\n",
    "\n",
    "This dataset has no missing values, we will simply rename the columns and drop the brewery name.\n",
    "\n",
    "</blockquote>"
   ]
  },
  {
   "cell_type": "code",
   "execution_count": 16,
   "metadata": {},
   "outputs": [],
   "source": [
    "breweries_filtered = breweries.drop(columns=['name']).copy(deep=True)\n",
    "breweries_filtered.rename(columns={'id':'brewery_id',\n",
    "                                   'location':'brewery_location',\n",
    "                                   'nbr_beers':'brewery_nbr_beers'}, inplace=True)"
   ]
  },
  {
   "cell_type": "code",
   "execution_count": 17,
   "metadata": {},
   "outputs": [
    {
     "data": {
      "text/html": [
       "<div>\n",
       "<style scoped>\n",
       "    .dataframe tbody tr th:only-of-type {\n",
       "        vertical-align: middle;\n",
       "    }\n",
       "\n",
       "    .dataframe tbody tr th {\n",
       "        vertical-align: top;\n",
       "    }\n",
       "\n",
       "    .dataframe thead th {\n",
       "        text-align: right;\n",
       "    }\n",
       "</style>\n",
       "<table border=\"1\" class=\"dataframe\">\n",
       "  <thead>\n",
       "    <tr style=\"text-align: right;\">\n",
       "      <th></th>\n",
       "      <th>brewery_id</th>\n",
       "      <th>brewery_location</th>\n",
       "      <th>brewery_nbr_beers</th>\n",
       "    </tr>\n",
       "  </thead>\n",
       "  <tbody>\n",
       "    <tr>\n",
       "      <th>9674</th>\n",
       "      <td>44749</td>\n",
       "      <td>United States, New Jersey</td>\n",
       "      <td>23</td>\n",
       "    </tr>\n",
       "    <tr>\n",
       "      <th>14931</th>\n",
       "      <td>1682</td>\n",
       "      <td>France</td>\n",
       "      <td>20</td>\n",
       "    </tr>\n",
       "    <tr>\n",
       "      <th>5969</th>\n",
       "      <td>46013</td>\n",
       "      <td>Spain</td>\n",
       "      <td>3</td>\n",
       "    </tr>\n",
       "  </tbody>\n",
       "</table>\n",
       "</div>"
      ],
      "text/plain": [
       "       brewery_id           brewery_location  brewery_nbr_beers\n",
       "9674        44749  United States, New Jersey                 23\n",
       "14931        1682                     France                 20\n",
       "5969        46013                      Spain                  3"
      ]
     },
     "execution_count": 17,
     "metadata": {},
     "output_type": "execute_result"
    }
   ],
   "source": [
    "breweries_filtered.sample(3)"
   ]
  },
  {
   "cell_type": "code",
   "execution_count": 18,
   "metadata": {},
   "outputs": [
    {
     "name": "stdout",
     "output_type": "stream",
     "text": [
      "Number of breweries with a weird location value: 35\n"
     ]
    }
   ],
   "source": [
    "# Some breweries have weird location values, should find a way to clean them or simply remove them\n",
    "\n",
    "print('Number of breweries with a weird location value:', len(breweries_filtered[breweries_filtered['brewery_location'].str.contains('<', na=False)]))\n",
    "\n",
    "# remove the breweries with a weird location value\n",
    "breweries_filtered = breweries_filtered[~breweries_filtered['brewery_location'].str.contains('<', na=False)].copy(deep=True)\n",
    "\n",
    "# for loc in breweries_filtered[breweries_filtered['brewery_location'].str.contains('<', na=False)]['brewery_location'].unique()[0:5]:\n",
    "#     print(loc) # print the first 5 strange values"
   ]
  },
  {
   "cell_type": "code",
   "execution_count": 19,
   "metadata": {},
   "outputs": [
    {
     "data": {
      "image/png": "[encoded data removed]",
      "text/plain": [
       "<Figure size 1080x360 with 2 Axes>"
      ]
     },
     "metadata": {
      "needs_background": "light"
     },
     "output_type": "display_data"
    }
   ],
   "source": [
    "plt.figure(figsize=(15, 5))\n",
    "plt.subplot(1, 2, 1)\n",
    "breweries_filtered['brewery_nbr_beers'].hist(bins=50, log=True)\n",
    "plt.title('Number of beers per brewery')\n",
    "plt.ylabel('Count')\n",
    "plt.xlabel('Number of beers')\n",
    "plt.subplot(1, 2, 2)\n",
    "breweries_filtered['brewery_location'].value_counts(normalize=False).head(10).plot(kind='barh', title='10 most common brewery locations')\n",
    "plt.xlabel('Number of breweries')\n",
    "plt.tight_layout()\n",
    "plt.show()"
   ]
  },
  {
   "cell_type": "markdown",
   "metadata": {},
   "source": [
    "#### Users dataset 👤"
   ]
  },
  {
   "cell_type": "code",
   "execution_count": 20,
   "metadata": {},
   "outputs": [
    {
     "data": {
      "text/html": [
       "<div>\n",
       "<style scoped>\n",
       "    .dataframe tbody tr th:only-of-type {\n",
       "        vertical-align: middle;\n",
       "    }\n",
       "\n",
       "    .dataframe tbody tr th {\n",
       "        vertical-align: top;\n",
       "    }\n",
       "\n",
       "    .dataframe thead th {\n",
       "        text-align: right;\n",
       "    }\n",
       "</style>\n",
       "<table border=\"1\" class=\"dataframe\">\n",
       "  <thead>\n",
       "    <tr style=\"text-align: right;\">\n",
       "      <th></th>\n",
       "      <th>nbr_ratings</th>\n",
       "      <th>nbr_reviews</th>\n",
       "      <th>user_id</th>\n",
       "      <th>user_name</th>\n",
       "      <th>joined</th>\n",
       "      <th>location</th>\n",
       "    </tr>\n",
       "  </thead>\n",
       "  <tbody>\n",
       "    <tr>\n",
       "      <th>117773</th>\n",
       "      <td>1</td>\n",
       "      <td>0</td>\n",
       "      <td>jami80424.1181924</td>\n",
       "      <td>Jami80424</td>\n",
       "      <td>1.480244e+09</td>\n",
       "      <td>United States, Colorado</td>\n",
       "    </tr>\n",
       "    <tr>\n",
       "      <th>25538</th>\n",
       "      <td>340</td>\n",
       "      <td>0</td>\n",
       "      <td>doldham.540016</td>\n",
       "      <td>doldham</td>\n",
       "      <td>1.292584e+09</td>\n",
       "      <td>United States, Ohio</td>\n",
       "    </tr>\n",
       "    <tr>\n",
       "      <th>140229</th>\n",
       "      <td>1</td>\n",
       "      <td>0</td>\n",
       "      <td>cotto45.984697</td>\n",
       "      <td>Cotto45</td>\n",
       "      <td>1.431166e+09</td>\n",
       "      <td>NaN</td>\n",
       "    </tr>\n",
       "  </tbody>\n",
       "</table>\n",
       "</div>"
      ],
      "text/plain": [
       "        nbr_ratings  nbr_reviews            user_id  user_name        joined  \\\n",
       "117773            1            0  jami80424.1181924  Jami80424  1.480244e+09   \n",
       "25538           340            0     doldham.540016    doldham  1.292584e+09   \n",
       "140229            1            0     cotto45.984697    Cotto45  1.431166e+09   \n",
       "\n",
       "                       location  \n",
       "117773  United States, Colorado  \n",
       "25538       United States, Ohio  \n",
       "140229                      NaN  "
      ]
     },
     "metadata": {},
     "output_type": "display_data"
    },
    {
     "name": "stdout",
     "output_type": "stream",
     "text": [
      "Shape of users :  (153704, 6)\n"
     ]
    }
   ],
   "source": [
    "display(users.sample(3))\n",
    "print('Shape of users : ', users.shape)"
   ]
  },
  {
   "cell_type": "code",
   "execution_count": 21,
   "metadata": {},
   "outputs": [
    {
     "data": {
      "image/png": "[encoded data removed]",
      "text/plain": [
       "<Figure size 432x288 with 1 Axes>"
      ]
     },
     "metadata": {
      "needs_background": "light"
     },
     "output_type": "display_data"
    }
   ],
   "source": [
    "plt.figure()\n",
    "(users.isna().sum() / len(users) * 100).plot(kind='barh', title='Percentage of missing values per column')\n",
    "plt.xlabel('Percentage of missing values')\n",
    "plt.show()"
   ]
  },
  {
   "cell_type": "markdown",
   "metadata": {},
   "source": [
    "<blockquote>\n",
    "\n",
    "We are only missing information about when the user joined the website and locations. (and 1 username, which we drop anyway)\n",
    "\n",
    "</blockquote>"
   ]
  },
  {
   "cell_type": "code",
   "execution_count": 22,
   "metadata": {},
   "outputs": [
    {
     "data": {
      "text/html": [
       "<div>\n",
       "<style scoped>\n",
       "    .dataframe tbody tr th:only-of-type {\n",
       "        vertical-align: middle;\n",
       "    }\n",
       "\n",
       "    .dataframe tbody tr th {\n",
       "        vertical-align: top;\n",
       "    }\n",
       "\n",
       "    .dataframe thead th {\n",
       "        text-align: right;\n",
       "    }\n",
       "</style>\n",
       "<table border=\"1\" class=\"dataframe\">\n",
       "  <thead>\n",
       "    <tr style=\"text-align: right;\">\n",
       "      <th></th>\n",
       "      <th>user_nbr_ratings</th>\n",
       "      <th>user_nbr_reviews</th>\n",
       "      <th>user_id</th>\n",
       "      <th>user_joined</th>\n",
       "      <th>user_location</th>\n",
       "    </tr>\n",
       "  </thead>\n",
       "  <tbody>\n",
       "    <tr>\n",
       "      <th>103172</th>\n",
       "      <td>5</td>\n",
       "      <td>0</td>\n",
       "      <td>suldes2.825540</td>\n",
       "      <td>1.405332e+09</td>\n",
       "      <td>NaN</td>\n",
       "    </tr>\n",
       "    <tr>\n",
       "      <th>77242</th>\n",
       "      <td>1</td>\n",
       "      <td>1</td>\n",
       "      <td>herestohopping.714279</td>\n",
       "      <td>1.358766e+09</td>\n",
       "      <td>NaN</td>\n",
       "    </tr>\n",
       "    <tr>\n",
       "      <th>60960</th>\n",
       "      <td>1</td>\n",
       "      <td>0</td>\n",
       "      <td>19of19.870348</td>\n",
       "      <td>1.411898e+09</td>\n",
       "      <td>NaN</td>\n",
       "    </tr>\n",
       "  </tbody>\n",
       "</table>\n",
       "</div>"
      ],
      "text/plain": [
       "        user_nbr_ratings  user_nbr_reviews                user_id  \\\n",
       "103172                 5                 0         suldes2.825540   \n",
       "77242                  1                 1  herestohopping.714279   \n",
       "60960                  1                 0          19of19.870348   \n",
       "\n",
       "         user_joined user_location  \n",
       "103172  1.405332e+09           NaN  \n",
       "77242   1.358766e+09           NaN  \n",
       "60960   1.411898e+09           NaN  "
      ]
     },
     "execution_count": 22,
     "metadata": {},
     "output_type": "execute_result"
    }
   ],
   "source": [
    "users_filtered = users.drop(columns=['user_name']).copy(deep=True)\n",
    "\n",
    "users_filtered.rename(columns={'nbr_ratings':'user_nbr_ratings',\n",
    "                               'nbr_reviews':'user_nbr_reviews',\n",
    "                               'joined':'user_joined',\n",
    "                               'location':'user_location'}, inplace=True)\n",
    "\n",
    "users_filtered.sample(3)"
   ]
  },
  {
   "cell_type": "code",
   "execution_count": 23,
   "metadata": {},
   "outputs": [
    {
     "data": {
      "image/png": "[encoded data removed]",
      "text/plain": [
       "<Figure size 1080x360 with 2 Axes>"
      ]
     },
     "metadata": {
      "needs_background": "light"
     },
     "output_type": "display_data"
    }
   ],
   "source": [
    "plt.figure(figsize=(15, 5))\n",
    "plt.subplot(1, 2, 1)\n",
    "users_filtered['user_nbr_reviews'].hist(bins=50, log=True)\n",
    "plt.title('Number of reviews per users')\n",
    "plt.ylabel('Count')\n",
    "plt.xlabel('Number of reviews')\n",
    "plt.subplot(1, 2, 2)\n",
    "users_filtered['user_location'].value_counts(normalize=False).head(10).plot(kind='barh', title='10 most common user locations')\n",
    "plt.xlabel('Number of users')\n",
    "plt.tight_layout()\n",
    "plt.show()"
   ]
  },
  {
   "cell_type": "markdown",
   "metadata": {},
   "source": [
    "<blockquote>\n",
    "\n",
    "We observe that many users have no reviews at all, they will be removed from the dataset when merging. Also, the 10 most common user location are all in the US.\n",
    "\n",
    "</blockquote>"
   ]
  },
  {
   "cell_type": "markdown",
   "metadata": {},
   "source": [
    "#### Reviews dataset 📝"
   ]
  },
  {
   "cell_type": "code",
   "execution_count": 24,
   "metadata": {},
   "outputs": [
    {
     "data": {
      "text/html": [
       "<div>\n",
       "<style scoped>\n",
       "    .dataframe tbody tr th:only-of-type {\n",
       "        vertical-align: middle;\n",
       "    }\n",
       "\n",
       "    .dataframe tbody tr th {\n",
       "        vertical-align: top;\n",
       "    }\n",
       "\n",
       "    .dataframe thead th {\n",
       "        text-align: right;\n",
       "    }\n",
       "</style>\n",
       "<table border=\"1\" class=\"dataframe\">\n",
       "  <thead>\n",
       "    <tr style=\"text-align: right;\">\n",
       "      <th></th>\n",
       "      <th>beer_name</th>\n",
       "      <th>beer_id</th>\n",
       "      <th>brewery_name</th>\n",
       "      <th>brewery_id</th>\n",
       "      <th>style</th>\n",
       "      <th>abv</th>\n",
       "      <th>date</th>\n",
       "      <th>user_name</th>\n",
       "      <th>user_id</th>\n",
       "      <th>appearance</th>\n",
       "      <th>aroma</th>\n",
       "      <th>palate</th>\n",
       "      <th>taste</th>\n",
       "      <th>overall</th>\n",
       "      <th>rating</th>\n",
       "      <th>text</th>\n",
       "    </tr>\n",
       "  </thead>\n",
       "  <tbody>\n",
       "    <tr>\n",
       "      <th>304292</th>\n",
       "      <td>Märzen</td>\n",
       "      <td>50005</td>\n",
       "      <td>Staffelberg-Bräu</td>\n",
       "      <td>5970</td>\n",
       "      <td>Märzen / Oktoberfest</td>\n",
       "      <td>5.5</td>\n",
       "      <td>1442052000</td>\n",
       "      <td>BeerAndGasMasks</td>\n",
       "      <td>beerandgasmasks.673685</td>\n",
       "      <td>4.0</td>\n",
       "      <td>3.75</td>\n",
       "      <td>3.75</td>\n",
       "      <td>4.0</td>\n",
       "      <td>3.75</td>\n",
       "      <td>3.87</td>\n",
       "      <td>From the half liter bottle, it pours amber wit...</td>\n",
       "    </tr>\n",
       "    <tr>\n",
       "      <th>699549</th>\n",
       "      <td>AleSmith Double IPA</td>\n",
       "      <td>7284</td>\n",
       "      <td>AleSmith Brewing Company</td>\n",
       "      <td>396</td>\n",
       "      <td>American Double / Imperial IPA</td>\n",
       "      <td>8.5</td>\n",
       "      <td>1311415200</td>\n",
       "      <td>AAxsom</td>\n",
       "      <td>aaxsom.415069</td>\n",
       "      <td>4.5</td>\n",
       "      <td>4.00</td>\n",
       "      <td>4.50</td>\n",
       "      <td>4.5</td>\n",
       "      <td>4.50</td>\n",
       "      <td>4.38</td>\n",
       "      <td>Thanks to metallitone1 for this great bottle!A...</td>\n",
       "    </tr>\n",
       "    <tr>\n",
       "      <th>2445797</th>\n",
       "      <td>Leffe Blonde</td>\n",
       "      <td>2137</td>\n",
       "      <td>Abbaye de Leffe S.A.</td>\n",
       "      <td>470</td>\n",
       "      <td>Belgian Pale Ale</td>\n",
       "      <td>6.6</td>\n",
       "      <td>1294225200</td>\n",
       "      <td>etn3000</td>\n",
       "      <td>etn3000.533607</td>\n",
       "      <td>4.0</td>\n",
       "      <td>3.50</td>\n",
       "      <td>4.50</td>\n",
       "      <td>4.0</td>\n",
       "      <td>3.50</td>\n",
       "      <td>3.83</td>\n",
       "      <td>Had this at a bar. I just picked a beer at ran...</td>\n",
       "    </tr>\n",
       "  </tbody>\n",
       "</table>\n",
       "</div>"
      ],
      "text/plain": [
       "                   beer_name  beer_id              brewery_name  brewery_id  \\\n",
       "304292                Märzen    50005          Staffelberg-Bräu        5970   \n",
       "699549   AleSmith Double IPA     7284  AleSmith Brewing Company         396   \n",
       "2445797         Leffe Blonde     2137      Abbaye de Leffe S.A.         470   \n",
       "\n",
       "                                  style  abv        date        user_name  \\\n",
       "304292             Märzen / Oktoberfest  5.5  1442052000  BeerAndGasMasks   \n",
       "699549   American Double / Imperial IPA  8.5  1311415200           AAxsom   \n",
       "2445797                Belgian Pale Ale  6.6  1294225200          etn3000   \n",
       "\n",
       "                        user_id  appearance  aroma  palate  taste  overall  \\\n",
       "304292   beerandgasmasks.673685         4.0   3.75    3.75    4.0     3.75   \n",
       "699549            aaxsom.415069         4.5   4.00    4.50    4.5     4.50   \n",
       "2445797          etn3000.533607         4.0   3.50    4.50    4.0     3.50   \n",
       "\n",
       "         rating                                               text  \n",
       "304292     3.87  From the half liter bottle, it pours amber wit...  \n",
       "699549     4.38  Thanks to metallitone1 for this great bottle!A...  \n",
       "2445797    3.83  Had this at a bar. I just picked a beer at ran...  "
      ]
     },
     "metadata": {},
     "output_type": "display_data"
    },
    {
     "name": "stdout",
     "output_type": "stream",
     "text": [
      "Shape of reviews :  (2589586, 16)\n"
     ]
    }
   ],
   "source": [
    "display(reviews.sample(3))\n",
    "print('Shape of reviews : ', reviews.shape)"
   ]
  },
  {
   "cell_type": "code",
   "execution_count": 25,
   "metadata": {},
   "outputs": [
    {
     "data": {
      "image/png": "[encoded data removed]",
      "text/plain": [
       "<Figure size 432x288 with 1 Axes>"
      ]
     },
     "metadata": {
      "needs_background": "light"
     },
     "output_type": "display_data"
    }
   ],
   "source": [
    "plt.figure()\n",
    "(reviews.isna().sum() / len(reviews) * 100).plot(kind='barh', title='Percentage of missing values per column')\n",
    "plt.xlabel('Percentage of missing values')\n",
    "plt.show()"
   ]
  },
  {
   "cell_type": "code",
   "execution_count": 26,
   "metadata": {},
   "outputs": [
    {
     "name": "stdout",
     "output_type": "stream",
     "text": [
      "Number of rows with NaN values for each column :\n",
      "overall : 32009\n",
      "taste : 32009\n",
      "palate : 32009\n",
      "aroma : 32009\n",
      "appearance : 32009\n",
      "False    2557577\n",
      "True       32009\n",
      "Name: all_missing, dtype: int64\n"
     ]
    }
   ],
   "source": [
    "# making sure that all the NaN are in the same rows\n",
    "\n",
    "# print the number of rows that contains a NaN value for each column ['overall', 'taste', 'palate', 'aroma', 'appearance']\n",
    "print('Number of rows with NaN values for each column :')\n",
    "for col in ['overall', 'taste', 'palate', 'aroma', 'appearance']:\n",
    "    print(col, ':', len(reviews[reviews[col].isna()]))\n",
    "    \n",
    "missing_values = reviews[['overall', 'taste', 'palate', 'aroma', 'appearance']].isna()\n",
    "missing_values['all_missing'] = missing_values.all(axis=1)\n",
    "print(missing_values['all_missing'].value_counts())"
   ]
  },
  {
   "cell_type": "markdown",
   "metadata": {},
   "source": [
    "<blockquote>\n",
    "\n",
    "All the missing values are in the same rows, and they represent less than 1.5% of the dataset. We can then drop them.\n",
    "\n",
    "</blockquote>"
   ]
  },
  {
   "cell_type": "code",
   "execution_count": 27,
   "metadata": {},
   "outputs": [
    {
     "data": {
      "text/html": [
       "<div>\n",
       "<style scoped>\n",
       "    .dataframe tbody tr th:only-of-type {\n",
       "        vertical-align: middle;\n",
       "    }\n",
       "\n",
       "    .dataframe tbody tr th {\n",
       "        vertical-align: top;\n",
       "    }\n",
       "\n",
       "    .dataframe thead th {\n",
       "        text-align: right;\n",
       "    }\n",
       "</style>\n",
       "<table border=\"1\" class=\"dataframe\">\n",
       "  <thead>\n",
       "    <tr style=\"text-align: right;\">\n",
       "      <th></th>\n",
       "      <th>beer_id</th>\n",
       "      <th>brewery_id</th>\n",
       "      <th>style</th>\n",
       "      <th>abv</th>\n",
       "      <th>date</th>\n",
       "      <th>user_id</th>\n",
       "      <th>appearance</th>\n",
       "      <th>aroma</th>\n",
       "      <th>palate</th>\n",
       "      <th>taste</th>\n",
       "      <th>overall</th>\n",
       "      <th>rating</th>\n",
       "      <th>text</th>\n",
       "    </tr>\n",
       "  </thead>\n",
       "  <tbody>\n",
       "    <tr>\n",
       "      <th>2208505</th>\n",
       "      <td>54178</td>\n",
       "      <td>1304</td>\n",
       "      <td>American Pale Ale (APA)</td>\n",
       "      <td>NaN</td>\n",
       "      <td>1258455600</td>\n",
       "      <td>ccrida.80807</td>\n",
       "      <td>3.5</td>\n",
       "      <td>4.5</td>\n",
       "      <td>4.00</td>\n",
       "      <td>4.0</td>\n",
       "      <td>4.0</td>\n",
       "      <td>4.09</td>\n",
       "      <td>Brewed as a final farewell by Jason Schoneman,...</td>\n",
       "    </tr>\n",
       "    <tr>\n",
       "      <th>816447</th>\n",
       "      <td>2751</td>\n",
       "      <td>610</td>\n",
       "      <td>American IPA</td>\n",
       "      <td>7.5</td>\n",
       "      <td>1293447600</td>\n",
       "      <td>juankzas.227593</td>\n",
       "      <td>3.0</td>\n",
       "      <td>2.5</td>\n",
       "      <td>3.00</td>\n",
       "      <td>3.5</td>\n",
       "      <td>3.0</td>\n",
       "      <td>3.08</td>\n",
       "      <td>A: Served in an imperial pint glass from a 22o...</td>\n",
       "    </tr>\n",
       "    <tr>\n",
       "      <th>810104</th>\n",
       "      <td>71031</td>\n",
       "      <td>25959</td>\n",
       "      <td>American IPA</td>\n",
       "      <td>7.2</td>\n",
       "      <td>1445857200</td>\n",
       "      <td>luisitoelmatador88.914365</td>\n",
       "      <td>4.5</td>\n",
       "      <td>4.0</td>\n",
       "      <td>4.25</td>\n",
       "      <td>4.5</td>\n",
       "      <td>4.5</td>\n",
       "      <td>4.36</td>\n",
       "      <td>Appearance: golden / light amber / copper. mos...</td>\n",
       "    </tr>\n",
       "  </tbody>\n",
       "</table>\n",
       "</div>"
      ],
      "text/plain": [
       "         beer_id  brewery_id                    style  abv        date  \\\n",
       "2208505    54178        1304  American Pale Ale (APA)  NaN  1258455600   \n",
       "816447      2751         610             American IPA  7.5  1293447600   \n",
       "810104     71031       25959             American IPA  7.2  1445857200   \n",
       "\n",
       "                           user_id  appearance  aroma  palate  taste  overall  \\\n",
       "2208505               ccrida.80807         3.5    4.5    4.00    4.0      4.0   \n",
       "816447             juankzas.227593         3.0    2.5    3.00    3.5      3.0   \n",
       "810104   luisitoelmatador88.914365         4.5    4.0    4.25    4.5      4.5   \n",
       "\n",
       "         rating                                               text  \n",
       "2208505    4.09  Brewed as a final farewell by Jason Schoneman,...  \n",
       "816447     3.08  A: Served in an imperial pint glass from a 22o...  \n",
       "810104     4.36  Appearance: golden / light amber / copper. mos...  "
      ]
     },
     "metadata": {},
     "output_type": "display_data"
    },
    {
     "name": "stdout",
     "output_type": "stream",
     "text": [
      "Shape of reviews_filtered :  (2557577, 13)\n"
     ]
    }
   ],
   "source": [
    "# remove the columns that are not useful for our analysis\n",
    "\n",
    "reviews_filtered = reviews.drop(columns=['user_name', 'beer_name', 'brewery_name']).copy(deep=True)\n",
    "\n",
    "#remove rows in reviews_filtered that have all_missing True in missing_values\n",
    "reviews_filtered = reviews_filtered[~missing_values['all_missing']].copy(deep=True)\n",
    "\n",
    "display(reviews_filtered.sample(3))\n",
    "print('Shape of reviews_filtered : ', reviews_filtered.shape)"
   ]
  },
  {
   "cell_type": "code",
   "execution_count": 28,
   "metadata": {},
   "outputs": [
    {
     "name": "stdout",
     "output_type": "stream",
     "text": [
      "Number of NaN values for each column :\n",
      "overall : 0\n",
      "taste : 0\n",
      "palate : 0\n",
      "aroma : 0\n",
      "appearance : 0\n"
     ]
    }
   ],
   "source": [
    "# count the number of NaN in columns ['overall', 'taste', 'palate', 'aroma', 'appearance']\n",
    "print('Number of NaN values for each column :')\n",
    "for col in ['overall', 'taste', 'palate', 'aroma', 'appearance']:\n",
    "    print(col, ':', len(reviews_filtered[reviews_filtered[col].isna()]))\n"
   ]
  },
  {
   "cell_type": "code",
   "execution_count": 29,
   "metadata": {},
   "outputs": [
    {
     "data": {
      "image/png": "[encoded data removed]",
      "text/plain": [
       "<Figure size 576x360 with 1 Axes>"
      ]
     },
     "metadata": {
      "needs_background": "light"
     },
     "output_type": "display_data"
    }
   ],
   "source": [
    "# show boxplot for each rating column, appearance, aroma, palate, taste and overall\n",
    "\n",
    "plt.figure(figsize=(8, 5))\n",
    "sns.boxplot(data=reviews_filtered[['appearance', 'aroma', 'palate', 'taste', 'overall']])\n",
    "plt.title('Beer Ratings by Aspect')\n",
    "plt.xlabel('Aspect')\n",
    "plt.ylabel('Rating')\n",
    "plt.show()"
   ]
  },
  {
   "cell_type": "markdown",
   "metadata": {},
   "source": [
    "### Merge datasets 🔗"
   ]
  },
  {
   "cell_type": "code",
   "execution_count": 30,
   "metadata": {},
   "outputs": [
    {
     "data": {
      "text/html": [
       "<div>\n",
       "<style scoped>\n",
       "    .dataframe tbody tr th:only-of-type {\n",
       "        vertical-align: middle;\n",
       "    }\n",
       "\n",
       "    .dataframe tbody tr th {\n",
       "        vertical-align: top;\n",
       "    }\n",
       "\n",
       "    .dataframe thead th {\n",
       "        text-align: right;\n",
       "    }\n",
       "</style>\n",
       "<table border=\"1\" class=\"dataframe\">\n",
       "  <thead>\n",
       "    <tr style=\"text-align: right;\">\n",
       "      <th></th>\n",
       "      <th>beer_id</th>\n",
       "      <th>brewery_id</th>\n",
       "      <th>style</th>\n",
       "      <th>abv</th>\n",
       "      <th>date</th>\n",
       "      <th>user_id</th>\n",
       "      <th>appearance</th>\n",
       "      <th>aroma</th>\n",
       "      <th>palate</th>\n",
       "      <th>taste</th>\n",
       "      <th>overall</th>\n",
       "      <th>rating</th>\n",
       "      <th>text</th>\n",
       "      <th>beer_nbr_ratings</th>\n",
       "      <th>beer_nbr_reviews</th>\n",
       "      <th>avg</th>\n",
       "      <th>user_nbr_ratings</th>\n",
       "      <th>user_nbr_reviews</th>\n",
       "      <th>user_joined</th>\n",
       "      <th>user_location</th>\n",
       "      <th>brewery_location</th>\n",
       "      <th>brewery_nbr_beers</th>\n",
       "    </tr>\n",
       "  </thead>\n",
       "  <tbody>\n",
       "    <tr>\n",
       "      <th>2434747</th>\n",
       "      <td>155148</td>\n",
       "      <td>190</td>\n",
       "      <td>Gueuze</td>\n",
       "      <td>5.5</td>\n",
       "      <td>1457434800</td>\n",
       "      <td>stinkypuss.209764</td>\n",
       "      <td>3.75</td>\n",
       "      <td>3.25</td>\n",
       "      <td>3.0</td>\n",
       "      <td>2.5</td>\n",
       "      <td>2.75</td>\n",
       "      <td>2.86</td>\n",
       "      <td>Pours a cider like golden color with a slight ...</td>\n",
       "      <td>63</td>\n",
       "      <td>29</td>\n",
       "      <td>3.35</td>\n",
       "      <td>3200</td>\n",
       "      <td>3199</td>\n",
       "      <td>1.207562e+09</td>\n",
       "      <td>United States, Pennsylvania</td>\n",
       "      <td>Belgium</td>\n",
       "      <td>25.0</td>\n",
       "    </tr>\n",
       "  </tbody>\n",
       "</table>\n",
       "</div>"
      ],
      "text/plain": [
       "         beer_id  brewery_id   style  abv        date            user_id  \\\n",
       "2434747   155148         190  Gueuze  5.5  1457434800  stinkypuss.209764   \n",
       "\n",
       "         appearance  aroma  palate  taste  overall  rating  \\\n",
       "2434747        3.75   3.25     3.0    2.5     2.75    2.86   \n",
       "\n",
       "                                                      text  beer_nbr_ratings  \\\n",
       "2434747  Pours a cider like golden color with a slight ...                63   \n",
       "\n",
       "         beer_nbr_reviews   avg  user_nbr_ratings  user_nbr_reviews  \\\n",
       "2434747                29  3.35              3200              3199   \n",
       "\n",
       "          user_joined                user_location brewery_location  \\\n",
       "2434747  1.207562e+09  United States, Pennsylvania          Belgium   \n",
       "\n",
       "         brewery_nbr_beers  \n",
       "2434747               25.0  "
      ]
     },
     "metadata": {},
     "output_type": "display_data"
    },
    {
     "name": "stdout",
     "output_type": "stream",
     "text": [
      "Shape of df_merged :  (2557577, 22)\n"
     ]
    }
   ],
   "source": [
    "# Merge reviews with users and beers and breweries\n",
    "df_merged = reviews_filtered.merge(beers_filtered, how='left', on=['beer_id', 'brewery_id', 'style', 'abv'])\n",
    "df_merged = df_merged.merge(users_filtered, how='left', on='user_id')\n",
    "df_merged = df_merged.merge(breweries_filtered, how='left', on='brewery_id')\n",
    "\n",
    "display(df_merged.sample(1))\n",
    "print('Shape of df_merged : ', df_merged.shape)"
   ]
  },
  {
   "cell_type": "markdown",
   "metadata": {},
   "source": [
    "### Filter datasets ✂️\n",
    "\n",
    "<div class=\"alert alert-block alert-danger\">\n",
    "<b>Danger:</b> Comment EVERY filtering\n",
    "</div>"
   ]
  },
  {
   "cell_type": "code",
   "execution_count": 31,
   "metadata": {},
   "outputs": [
    {
     "data": {
      "image/png": "[encoded data removed]",
      "text/plain": [
       "<Figure size 432x288 with 1 Axes>"
      ]
     },
     "metadata": {
      "needs_background": "light"
     },
     "output_type": "display_data"
    }
   ],
   "source": [
    "# show the percentage of missing values per columm\n",
    "plt.figure()\n",
    "(df_merged.isna().sum() / len(df_merged) * 100).plot(kind='barh', title='Percentage of missing values per column')\n",
    "plt.xlabel('Percentage of missing values')\n",
    "plt.show()"
   ]
  },
  {
   "cell_type": "code",
   "execution_count": 32,
   "metadata": {},
   "outputs": [
    {
     "name": "stdout",
     "output_type": "stream",
     "text": [
      "Shape of df_nonan :  (2387578, 22)\n",
      "Percentage of rows removed :  6.65 %\n"
     ]
    }
   ],
   "source": [
    "df_nonan = df_merged.dropna().copy(deep=True)\n",
    "print('Shape of df_nonan : ', df_nonan.shape)\n",
    "print('Percentage of rows removed : ', round((1 - len(df_nonan) / len(df_merged)) * 100, 2), '%')"
   ]
  },
  {
   "cell_type": "code",
   "execution_count": 33,
   "metadata": {},
   "outputs": [],
   "source": [
    "# Save to csv\n",
    "#df_nonan.to_csv(dataset_path + 'BeerAdvocateMerged.csv', index=False)"
   ]
  },
  {
   "cell_type": "code",
   "execution_count": 34,
   "metadata": {},
   "outputs": [],
   "source": [
    "#df = pd.read_csv(dataset_path + 'BeerAdvocateMerged.csv')"
   ]
  },
  {
   "cell_type": "code",
   "execution_count": 35,
   "metadata": {},
   "outputs": [],
   "source": [
    "#display(df.sample(3))\n",
    "#print('Shape of df : ', df.shape)"
   ]
  },
  {
   "cell_type": "markdown",
   "metadata": {},
   "source": [
    "## Data enrichment 🍺\n",
    "### Serving type 🍾🥤🚰\n",
    "\n",
    ">Since our goal is to look at the influence of the serving style, we need to know how each beer was served. \n",
    "For now, we use a naive approach. We only look at whether a word specific to as service style has been used. \n"
   ]
  },
  {
   "cell_type": "code",
   "execution_count": 36,
   "metadata": {},
   "outputs": [],
   "source": [
    "# Create 3 different columns according to the text review, \"bottle\", \"can\", \"draft\"\n",
    "\n",
    "bottle = ['bottle', 'bottled', 'bottles']\n",
    "can = [' can ', 'canned', ' cans ']\n",
    "draft = ['draft', 'draught', 'tap', 'taps']\n",
    "# Create different columns if review text contains the word\n",
    "df_merged['bottle'] =  df_merged['text'].apply(lambda x: any(ele in str(x).lower() for ele in bottle))\n",
    "df_merged['can'] =  df_merged['text'].apply(lambda x: any(ele in str(x).lower() for ele in can))\n",
    "df_merged['draft'] =  df_merged['text'].apply(lambda x: any(ele in str(x).lower() for ele in draft))\n",
    "\n",
    "\n",
    "#df_merged.head()"
   ]
  },
  {
   "cell_type": "code",
   "execution_count": 37,
   "metadata": {},
   "outputs": [
    {
     "data": {
      "text/html": [
       "<div>\n",
       "<style scoped>\n",
       "    .dataframe tbody tr th:only-of-type {\n",
       "        vertical-align: middle;\n",
       "    }\n",
       "\n",
       "    .dataframe tbody tr th {\n",
       "        vertical-align: top;\n",
       "    }\n",
       "\n",
       "    .dataframe thead th {\n",
       "        text-align: right;\n",
       "    }\n",
       "</style>\n",
       "<table border=\"1\" class=\"dataframe\">\n",
       "  <thead>\n",
       "    <tr style=\"text-align: right;\">\n",
       "      <th></th>\n",
       "      <th>beer_id</th>\n",
       "      <th>brewery_id</th>\n",
       "      <th>style</th>\n",
       "      <th>abv</th>\n",
       "      <th>date</th>\n",
       "      <th>user_id</th>\n",
       "      <th>appearance</th>\n",
       "      <th>aroma</th>\n",
       "      <th>palate</th>\n",
       "      <th>taste</th>\n",
       "      <th>overall</th>\n",
       "      <th>rating</th>\n",
       "      <th>text</th>\n",
       "      <th>beer_nbr_ratings</th>\n",
       "      <th>beer_nbr_reviews</th>\n",
       "      <th>avg</th>\n",
       "      <th>user_nbr_ratings</th>\n",
       "      <th>user_nbr_reviews</th>\n",
       "      <th>user_joined</th>\n",
       "      <th>user_location</th>\n",
       "      <th>brewery_location</th>\n",
       "      <th>brewery_nbr_beers</th>\n",
       "      <th>serving_type</th>\n",
       "    </tr>\n",
       "  </thead>\n",
       "  <tbody>\n",
       "    <tr>\n",
       "      <th>1297404</th>\n",
       "      <td>93728</td>\n",
       "      <td>418</td>\n",
       "      <td>Herbed / Spiced Beer</td>\n",
       "      <td>8.0</td>\n",
       "      <td>1377424800</td>\n",
       "      <td>kansasbeerlover.299329</td>\n",
       "      <td>4.0</td>\n",
       "      <td>4.0</td>\n",
       "      <td>3.0</td>\n",
       "      <td>3.25</td>\n",
       "      <td>3.0</td>\n",
       "      <td>3.40</td>\n",
       "      <td>Served on-tap in a tulip glass.One finger crea...</td>\n",
       "      <td>9</td>\n",
       "      <td>2</td>\n",
       "      <td>3.17</td>\n",
       "      <td>110</td>\n",
       "      <td>80</td>\n",
       "      <td>1.234782e+09</td>\n",
       "      <td>United States, Kansas</td>\n",
       "      <td>United States, Colorado</td>\n",
       "      <td>115.0</td>\n",
       "      <td>draft</td>\n",
       "    </tr>\n",
       "    <tr>\n",
       "      <th>662735</th>\n",
       "      <td>1904</td>\n",
       "      <td>140</td>\n",
       "      <td>American IPA</td>\n",
       "      <td>6.8</td>\n",
       "      <td>1292497200</td>\n",
       "      <td>epicness.288608</td>\n",
       "      <td>4.0</td>\n",
       "      <td>4.5</td>\n",
       "      <td>4.0</td>\n",
       "      <td>4.00</td>\n",
       "      <td>4.0</td>\n",
       "      <td>4.12</td>\n",
       "      <td>A: Dark ruby, almost copper-like color. Most l...</td>\n",
       "      <td>10221</td>\n",
       "      <td>3466</td>\n",
       "      <td>4.15</td>\n",
       "      <td>76</td>\n",
       "      <td>76</td>\n",
       "      <td>1.232190e+09</td>\n",
       "      <td>United States, New York</td>\n",
       "      <td>United States, California</td>\n",
       "      <td>574.0</td>\n",
       "      <td>can</td>\n",
       "    </tr>\n",
       "    <tr>\n",
       "      <th>702422</th>\n",
       "      <td>45857</td>\n",
       "      <td>3120</td>\n",
       "      <td>American Double / Imperial Stout</td>\n",
       "      <td>10.0</td>\n",
       "      <td>1237633200</td>\n",
       "      <td>hopderek.110806</td>\n",
       "      <td>4.0</td>\n",
       "      <td>3.5</td>\n",
       "      <td>4.0</td>\n",
       "      <td>4.00</td>\n",
       "      <td>3.5</td>\n",
       "      <td>3.78</td>\n",
       "      <td>A bomber picked up at Pizza Port Carlsbad's bo...</td>\n",
       "      <td>70</td>\n",
       "      <td>58</td>\n",
       "      <td>3.54</td>\n",
       "      <td>632</td>\n",
       "      <td>632</td>\n",
       "      <td>1.165576e+09</td>\n",
       "      <td>United States, Pennsylvania</td>\n",
       "      <td>United States, California</td>\n",
       "      <td>113.0</td>\n",
       "      <td>bottle</td>\n",
       "    </tr>\n",
       "  </tbody>\n",
       "</table>\n",
       "</div>"
      ],
      "text/plain": [
       "         beer_id  brewery_id                             style   abv  \\\n",
       "1297404    93728         418              Herbed / Spiced Beer   8.0   \n",
       "662735      1904         140                      American IPA   6.8   \n",
       "702422     45857        3120  American Double / Imperial Stout  10.0   \n",
       "\n",
       "               date                 user_id  appearance  aroma  palate  taste  \\\n",
       "1297404  1377424800  kansasbeerlover.299329         4.0    4.0     3.0   3.25   \n",
       "662735   1292497200         epicness.288608         4.0    4.5     4.0   4.00   \n",
       "702422   1237633200         hopderek.110806         4.0    3.5     4.0   4.00   \n",
       "\n",
       "         overall  rating                                               text  \\\n",
       "1297404      3.0    3.40  Served on-tap in a tulip glass.One finger crea...   \n",
       "662735       4.0    4.12  A: Dark ruby, almost copper-like color. Most l...   \n",
       "702422       3.5    3.78  A bomber picked up at Pizza Port Carlsbad's bo...   \n",
       "\n",
       "         beer_nbr_ratings  beer_nbr_reviews   avg  user_nbr_ratings  \\\n",
       "1297404                 9                 2  3.17               110   \n",
       "662735              10221              3466  4.15                76   \n",
       "702422                 70                58  3.54               632   \n",
       "\n",
       "         user_nbr_reviews   user_joined                user_location  \\\n",
       "1297404                80  1.234782e+09        United States, Kansas   \n",
       "662735                 76  1.232190e+09      United States, New York   \n",
       "702422                632  1.165576e+09  United States, Pennsylvania   \n",
       "\n",
       "                  brewery_location  brewery_nbr_beers serving_type  \n",
       "1297404    United States, Colorado              115.0        draft  \n",
       "662735   United States, California              574.0          can  \n",
       "702422   United States, California              113.0       bottle  "
      ]
     },
     "metadata": {},
     "output_type": "display_data"
    },
    {
     "data": {
      "text/plain": [
       "bottle    653386\n",
       "can       199071\n",
       "draft     184124\n",
       "Name: serving_type, dtype: int64"
      ]
     },
     "execution_count": 37,
     "metadata": {},
     "output_type": "execute_result"
    }
   ],
   "source": [
    "# remove every row where columns bottle, can and draft are all False\n",
    "df_merged = df_merged[df_merged[['bottle', 'can', 'draft']].any(axis=1)]\n",
    "# display(df.sample(3))\n",
    "# print('We have {} valid reviews'.format(df.shape[0]))\n",
    "\n",
    "# remove every row with more than 1 true\n",
    "df_merged = df_merged[df_merged[['bottle', 'can', 'draft']].sum(axis=1) == 1]\n",
    "# display(df.sample(3))\n",
    "# print('We have {} valid reviews'.format(df.shape[0]))\n",
    "\n",
    "#create a new column with the serving type\n",
    "df_merged['serving_type'] = df_merged[['bottle', 'can', 'draft']].idxmax(axis=1)\n",
    "\n",
    "# drop the columns bottle, can and draft\n",
    "df_merged.drop(['bottle', 'can', 'draft'], axis=1, inplace=True)\n",
    "\n",
    "display(df_merged.sample(3))\n",
    "# print the number of reviews for each serving type\n",
    "df_merged['serving_type'].value_counts(normalize=False)"
   ]
  },
  {
   "cell_type": "markdown",
   "metadata": {},
   "source": [
    "## Data filtering 🧹\n",
    "Number of valid reviews per beer and users & average rating per beer"
   ]
  },
  {
   "cell_type": "markdown",
   "metadata": {},
   "source": [
    "### Filtering on amount of reviews"
   ]
  },
  {
   "cell_type": "code",
   "execution_count": 38,
   "metadata": {},
   "outputs": [],
   "source": [
    "# compute the number of valid reviews per user\n",
    "df_merged['user_nbr_reviews_computed'] = df_merged.groupby('user_id')['user_id'].transform('count')\n",
    "\n",
    "# compute the number of valid reviews per beer\n",
    "df_merged['beer_nbr_reviews_computed'] = df_merged.groupby('beer_id')['beer_id'].transform('count')\n",
    "\n",
    "# compute the avg rating per beer\n",
    "df_merged['beer_avg_computed'] = df_merged.groupby('beer_id')['rating'].transform('mean')\n",
    "\n",
    "#df.sample(3)"
   ]
  },
  {
   "cell_type": "code",
   "execution_count": 39,
   "metadata": {},
   "outputs": [
    {
     "data": {
      "image/png": "[encoded data removed]",
      "text/plain": [
       "<Figure size 1080x360 with 2 Axes>"
      ]
     },
     "metadata": {
      "needs_background": "light"
     },
     "output_type": "display_data"
    }
   ],
   "source": [
    "plt.figure(figsize=(15, 5))\n",
    "\n",
    "# group the reviews by beer_id and show a histogram of the number of reviews computed\n",
    "plt.subplot(1, 2, 1)\n",
    "df_merged.groupby('beer_id')['beer_nbr_reviews_computed'].mean().hist(bins=100, log=True)\n",
    "plt.xlabel('Number of reviews per beer')\n",
    "plt.ylabel('Count')\n",
    "\n",
    "# group the reviews by user_id and show a histogram of the number of reviews computed\n",
    "plt.subplot(1, 2, 2)\n",
    "df_merged.groupby('user_id')['user_nbr_reviews_computed'].mean().hist(bins=100, log=True)\n",
    "plt.xlabel('Number of reviews per user')\n",
    "plt.ylabel('Count')\n",
    "\n",
    "plt.tight_layout()\n",
    "plt.show()"
   ]
  },
  {
   "cell_type": "code",
   "execution_count": 40,
   "metadata": {},
   "outputs": [
    {
     "name": "stdout",
     "output_type": "stream",
     "text": [
      "We removed 283282 rows, leaving us with 72.67 %% of the original dataset\n",
      "We have 753299 valid reviews\n"
     ]
    },
    {
     "data": {
      "text/plain": [
       "bottle    514624\n",
       "can       148085\n",
       "draft      90590\n",
       "Name: serving_type, dtype: int64"
      ]
     },
     "execution_count": 40,
     "metadata": {},
     "output_type": "execute_result"
    }
   ],
   "source": [
    "#Filtering to remove users and beers with less reviews\n",
    "\n",
    "min_nbr_reviews_per_user = 0\n",
    "min_nbr_reviews_per_beer = 20\n",
    "\n",
    "len0 = df_merged.shape[0]\n",
    "\n",
    "# remove every row where the number of reviews per user is less than min_nbr_reviews_per_user\n",
    "df_filter = df_merged[df_merged['user_nbr_reviews_computed'] >= min_nbr_reviews_per_user].copy(deep=True)\n",
    "\n",
    "# remove every row where the number of reviews per beer is less than min_nbr_reviews_per_beer\n",
    "df_filter_full = df_filter[df_filter['beer_nbr_reviews_computed'] >= min_nbr_reviews_per_beer].copy(deep=True)\n",
    "\n",
    "print('We removed {} rows, leaving us with {} %% of the original dataset'.format(len0 - df_filter_full.shape[0], round(df_filter_full.shape[0] / len0 * 100, 2)))\n",
    "print('We have {} valid reviews'.format(df_filter_full.shape[0]))\n",
    "\n",
    "# print the number of reviews for each serving type\n",
    "df_filter_full['serving_type'].value_counts(normalize=False)\n"
   ]
  },
  {
   "cell_type": "markdown",
   "metadata": {},
   "source": [
    "### Filter on readability score of the reviews 📝"
   ]
  },
  {
   "cell_type": "code",
   "execution_count": 41,
   "metadata": {},
   "outputs": [],
   "source": [
    "df_sample = df_filter_full.sample(n=1000, random_state=46)"
   ]
  },
  {
   "cell_type": "code",
   "execution_count": 42,
   "metadata": {},
   "outputs": [
    {
     "data": {
      "text/plain": [
       "<AxesSubplot:>"
      ]
     },
     "execution_count": 42,
     "metadata": {},
     "output_type": "execute_result"
    },
    {
     "data": {
      "image/png": "[encoded data removed]",
      "text/plain": [
       "<Figure size 1080x360 with 1 Axes>"
      ]
     },
     "metadata": {
      "needs_background": "light"
     },
     "output_type": "display_data"
    }
   ],
   "source": [
    "df_sample['readability_score'] = df_sample['text'].apply(lambda x: flesch_reading_ease(x) if isinstance(x, str) else None)\n",
    "df_sample['readability_score'].hist(bins=100, figsize=(15, 5), log=True)"
   ]
  },
  {
   "cell_type": "code",
   "execution_count": 43,
   "metadata": {},
   "outputs": [
    {
     "data": {
      "text/plain": [
       "11"
      ]
     },
     "execution_count": 43,
     "metadata": {},
     "output_type": "execute_result"
    }
   ],
   "source": [
    "# printing some reviews based on readability score\n",
    "\n",
    "df_sample[df_sample['readability_score'] < 20]['text'].count()\n",
    "\n",
    "# for row in df_sample[df_sample['readability_score'] > 96]['text']:\n",
    "#     print(row)\n",
    "#     print('----------------------')"
   ]
  },
  {
   "cell_type": "code",
   "execution_count": 44,
   "metadata": {},
   "outputs": [],
   "source": [
    "# remove reviews with bad readability score\n",
    "\n"
   ]
  },
  {
   "cell_type": "markdown",
   "metadata": {},
   "source": [
    "### Extracting the serving mode with NLP"
   ]
  },
  {
   "cell_type": "code",
   "execution_count": 45,
   "metadata": {},
   "outputs": [],
   "source": [
    "import nltk\n",
    "import spacy"
   ]
  },
  {
   "cell_type": "code",
   "execution_count": 46,
   "metadata": {},
   "outputs": [],
   "source": [
    "df_test_nlp = df_sample.copy(deep=True)\n",
    "nlp = spacy.load(\"en_core_web_sm\")"
   ]
  },
  {
   "cell_type": "code",
   "execution_count": 58,
   "metadata": {},
   "outputs": [],
   "source": [
    "def extract_serving_style(text):\n",
    "    # Process the text using spaCy\n",
    "    doc = nlp(text)\n",
    "    \n",
    "    # Initialize the serving style variable\n",
    "    serving_style = None\n",
    "    \n",
    "    # Analyze the dependency tree and part-of-speech tags\n",
    "    # Find the serving styles\n",
    "    for token in doc:\n",
    "        if \"can\" == token.lemma and token.dep_ == \"nsubj\":\n",
    "            serving_style = \"can\"\n",
    "            break\n",
    "        elif \"bottle\" == token.lemma and token.dep_ == \"nsubj\" and \"VB\" in token.head.pos_:\n",
    "            serving_style = \"bottle\"\n",
    "            break\n",
    "        elif \"tap\" == token.lemma and token.dep_ == \"nsubj\" and \"VB\" in token.head.pos_:\n",
    "            serving_style = \"tap\"\n",
    "            break\n",
    "    \n",
    "    return serving_style"
   ]
  },
  {
   "cell_type": "code",
   "execution_count": 59,
   "metadata": {},
   "outputs": [],
   "source": [
    "ex_review = str(\"Can. I would love to try it on tap\")"
   ]
  },
  {
   "cell_type": "code",
   "execution_count": 60,
   "metadata": {},
   "outputs": [
    {
     "name": "stdout",
     "output_type": "stream",
     "text": [
      "Can can AUX ROOT\n",
      ". . PUNCT punct\n",
      "I I PRON nsubj\n",
      "would would AUX aux\n",
      "love love VERB ROOT\n",
      "to to PART aux\n",
      "try try VERB xcomp\n",
      "it it PRON dobj\n",
      "on on ADP prep\n",
      "tap tap NOUN pobj\n"
     ]
    }
   ],
   "source": [
    "doc = nlp(ex_review)\n",
    "for token in doc:\n",
    "    print(token.text, token.lemma_, token.pos_, token.dep_)"
   ]
  },
  {
   "cell_type": "code",
   "execution_count": 61,
   "metadata": {},
   "outputs": [
    {
     "name": "stdout",
     "output_type": "stream",
     "text": [
      "None\n"
     ]
    }
   ],
   "source": [
    "print(extract_serving_style(ex_review))"
   ]
  },
  {
   "cell_type": "code",
   "execution_count": 51,
   "metadata": {},
   "outputs": [
    {
     "data": {
      "text/plain": [
       "1256611    Ska Brewing Company--Euphoria Pale Ale--Ska'a ...\n",
       "Name: text, dtype: object"
      ]
     },
     "execution_count": 51,
     "metadata": {},
     "output_type": "execute_result"
    }
   ],
   "source": [
    "df_test_nlp['text'].sample(1)"
   ]
  },
  {
   "cell_type": "code",
   "execution_count": 52,
   "metadata": {},
   "outputs": [
    {
     "name": "stdout",
     "output_type": "stream",
     "text": [
      "CPU times: user 23.9 s, sys: 2.01 s, total: 25.9 s\n",
      "Wall time: 28 s\n"
     ]
    }
   ],
   "source": [
    "%%time\n",
    "df_test_nlp['serving_style'] = df_test_nlp['text'].apply(extract_serving_style)"
   ]
  },
  {
   "cell_type": "code",
   "execution_count": 62,
   "metadata": {},
   "outputs": [
    {
     "data": {
      "text/plain": [
       "True"
      ]
     },
     "execution_count": 62,
     "metadata": {},
     "output_type": "execute_result"
    }
   ],
   "source": [
    "# Look if all serving_style values are still None (True or False)\n",
    "df_test_nlp['serving_style'].isna().all()"
   ]
  },
  {
   "cell_type": "code",
   "execution_count": 85,
   "metadata": {},
   "outputs": [
    {
     "name": "stdout",
     "output_type": "stream",
     "text": [
      "['verb', 'noun', 'verb']\n",
      "['verb', 'noun']\n"
     ]
    }
   ],
   "source": [
    "#General fonction that will say if the word \"can\" is a verb or a noun  \n",
    "import spacy\n",
    "nlp = spacy.load(\"en_core_web_sm\")\n",
    "\n",
    "def differentiate_can(sentence):\n",
    "    doc = nlp(sentence)\n",
    "    verbes_nom=[]\n",
    "    for token in doc:\n",
    "        if token.text.lower() == \"can\":\n",
    "            if any(t.dep_ == \"aux\" for t in token.head.children):\n",
    "                verbes_nom .append(\"verb\")\n",
    "            else:\n",
    "                verbes_nom .append(\"noun\") \n",
    "    \n",
    "    return verbes_nom\n",
    "\n",
    "ex_review = str(\"Can I go to the bathroom I had a beer in a can even if I would have prefered it served by draft because I can\")\n",
    "test = str(\"Plase can you stop eating from the can\")\n",
    "print(differentiate_can(ex_review))\n",
    "print(differentiate_can(test))\n"
   ]
  },
  {
   "cell_type": "markdown",
   "metadata": {},
   "source": [
    "### Countries grouping 🌍"
   ]
  },
  {
   "cell_type": "code",
   "execution_count": null,
   "metadata": {},
   "outputs": [],
   "source": [
    "countries = pd.read_csv('data/countries.csv', usecols=['name', 'region', 'sub-region'])\n",
    "countries.sample(1)"
   ]
  },
  {
   "cell_type": "markdown",
   "metadata": {},
   "source": [
    "### Visualization 📊"
   ]
  },
  {
   "cell_type": "code",
   "execution_count": null,
   "metadata": {},
   "outputs": [],
   "source": [
    "# print some reviews for each serving type\n",
    "print('Reviews with bottle:\\n')\n",
    "for text in df[df['serving_type'] == 'bottle']['text'].sample(1):\n",
    "    print(text)\n",
    "    print('----------------------')\n",
    "print('Reviews with can:\\n')\n",
    "for text in df[df['serving_type'] == 'can']['text'].sample(1):\n",
    "    print(text)\n",
    "    print('----------------------')\n",
    "print('Reviews with draft:\\n')\n",
    "for text in df[df['serving_type'] == 'draft']['text'].sample(1):\n",
    "    print(text)\n",
    "    print('----------------------')"
   ]
  },
  {
   "cell_type": "code",
   "execution_count": null,
   "metadata": {},
   "outputs": [],
   "source": [
    "# print the average value of the rating for each serving type\n",
    "comp_str = 'rating'\n",
    "print('Average ' + comp_str + ' for bottle: ', round(df[df['serving_type'] == 'bottle'][comp_str].mean(), 3))\n",
    "print('Average ' + comp_str + ' for can: ', round(df[df['serving_type'] == 'can'][comp_str].mean(), 3))\n",
    "print('Average ' + comp_str + ' for draft: ', round(df[df['serving_type'] == 'draft'][comp_str].mean(), 3))"
   ]
  },
  {
   "cell_type": "code",
   "execution_count": null,
   "metadata": {},
   "outputs": [],
   "source": [
    "# show boxplot and histograms of ratings for bottle, can and draft\n",
    "plt.figure(figsize=(10, 6))\n",
    "plt.subplot(121)\n",
    "sns.boxplot(data=df, hue='serving_type', y='rating')\n",
    "plt.subplot(122)\n",
    "sns.histplot(data=df, hue='serving_type', x='rating', kde=True, bins=20)\n",
    "plt.tight_layout()\n",
    "plt.show()"
   ]
  },
  {
   "cell_type": "markdown",
   "metadata": {},
   "source": [
    "# Statistical Analysis 📈"
   ]
  },
  {
   "cell_type": "markdown",
   "metadata": {},
   "source": [
    "### Measure the impact of each aspect on rating 📏"
   ]
  },
  {
   "cell_type": "code",
   "execution_count": null,
   "metadata": {},
   "outputs": [],
   "source": [
    "# fit a linear regression line to the data for all 5 aspects\n",
    "reg1 = LinearRegression().fit(df[['appearance']], df['rating'])\n",
    "reg2 = LinearRegression().fit(df[['aroma']], df['rating'])\n",
    "reg3 = LinearRegression().fit(df[['palate']], df['rating'])\n",
    "reg4 = LinearRegression().fit(df[['taste']], df['rating'])\n",
    "reg5 = LinearRegression().fit(df[['overall']], df['rating'])\n",
    "\n",
    "# create subplots for all 5 aspects\n",
    "fig, axs = plt.subplots(1, 5, figsize=(20, 5))\n",
    "\n",
    "# plot the data and regression line for each aspect\n",
    "sns.scatterplot(data=df, x='appearance', y='rating', s=0.5, ax=axs[0])\n",
    "axs[0].plot(df[['appearance']], reg1.predict(df[['appearance']]), color='red')\n",
    "axs[0].set_title('Appearance\\nSlope = ' + str(round(reg1.coef_[0], 3)) + '\\nR2 = ' + str(round(reg1.score(df[['appearance']], df['rating']), 3)))\n",
    "\n",
    "sns.scatterplot(data=df, x='aroma', y='rating', s=0.5, ax=axs[1])\n",
    "axs[1].plot(df[['aroma']], reg2.predict(df[['aroma']]), color='red')\n",
    "axs[1].set_title('Aroma\\nSlope = ' + str(round(reg2.coef_[0], 3)) + '\\nR2 = ' + str(round(reg2.score(df[['aroma']], df['rating']), 3)))\n",
    "\n",
    "sns.scatterplot(data=df, x='palate', y='rating', s=0.5, ax=axs[2])\n",
    "axs[2].plot(df[['palate']], reg3.predict(df[['palate']]), color='red')\n",
    "axs[2].set_title('Palate\\nSlope = ' + str(round(reg3.coef_[0], 3)) + '\\nR2 = ' + str(round(reg3.score(df[['palate']], df['rating']), 3)))\n",
    "\n",
    "sns.scatterplot(data=df, x='taste', y='rating', s=0.5, ax=axs[3])\n",
    "axs[3].plot(df[['taste']], reg4.predict(df[['taste']]), color='red')\n",
    "axs[3].set_title('Taste\\nSlope = ' + str(round(reg4.coef_[0], 3)) + '\\nR2 = ' + str(round(reg4.score(df[['taste']], df['rating']), 3)))\n",
    "\n",
    "sns.scatterplot(data=df, x='overall', y='rating', s=0.5, ax=axs[4])\n",
    "axs[4].plot(df[['overall']], reg5.predict(df[['overall']]), color='red')\n",
    "axs[4].set_title('Overall\\nSlope = ' + str(round(reg5.coef_[0], 3)) + '\\nR2 = ' + str(round(reg5.score(df[['overall']], df['rating']), 3)))\n",
    "\n",
    "plt.tight_layout()\n",
    "plt.show()\n",
    "\n",
    "# should still add confidence intervals"
   ]
  },
  {
   "cell_type": "markdown",
   "metadata": {},
   "source": [
    "It seems like Taste as the biggest impact on the rating while appearance has the least impact."
   ]
  },
  {
   "cell_type": "markdown",
   "metadata": {},
   "source": [
    "### Hypothesis testing on the new labels"
   ]
  },
  {
   "cell_type": "code",
   "execution_count": null,
   "metadata": {},
   "outputs": [],
   "source": [
    "def do_ttest(type1, type2, category):\n",
    "    ttest = ttest_ind(df[df['serving_type'] == type1][category],df[df['serving_type'] == type2][category])\n",
    "    if ttest[1] > 0.05:\n",
    "        print('The p-value is high (' + str(ttest[1]) + '), so we cannot reject the null hypothesis that the two samples have the same average')\n",
    "    else:\n",
    "        print('The p-value is very low (' + str(ttest[1]) + '), so we can reject the null hypothesis that the two samples have the same average')"
   ]
  },
  {
   "cell_type": "code",
   "execution_count": null,
   "metadata": {},
   "outputs": [],
   "source": [
    "# define the columns to compare\n",
    "columns = ['appearance', 'aroma', 'palate', 'taste', 'overall', 'rating']\n",
    "\n",
    "# create an empty matrix to store the p-values\n",
    "p_values = np.zeros((len(columns), 3))\n",
    "\n",
    "# perform the t-test and store the p-values in the matrix\n",
    "for i in range(len(columns)):\n",
    "    ttest1 = ttest_ind(df[df['serving_type'] == 'bottle'][columns[i]], df[df['serving_type'] == 'can'][columns[i]])\n",
    "    ttest2 = ttest_ind(df[df['serving_type'] == 'can'][columns[i]], df[df['serving_type'] == 'draft'][columns[i]])\n",
    "    ttest3 = ttest_ind(df[df['serving_type'] == 'draft'][columns[i]], df[df['serving_type'] == 'bottle'][columns[i]])\n",
    "    p_values[i][0] = ttest1[1]\n",
    "    p_values[i][1] = ttest2[1]\n",
    "    p_values[i][2] = ttest3[1]\n",
    "\n",
    "# create the grouped bar chart\n",
    "fig, ax = plt.subplots(figsize=(10, 6))\n",
    "x = np.arange(len(columns))\n",
    "width = 0.25\n",
    "rects1 = ax.bar(x - width, p_values[:,0], width, label='Bottle vs Can')\n",
    "rects2 = ax.bar(x, p_values[:,1], width, label='Can vs Draft')\n",
    "rects3 = ax.bar(x + width, p_values[:,2], width, label='Draft vs Bottle')\n",
    "ax.set_xticks(x)\n",
    "# ax.set_yscale('log')\n",
    "ax.set_xticklabels(columns)\n",
    "ax.set_ylabel('p-value')\n",
    "ax.set_title('Comparison of Aspects between Service Types')\n",
    "ax.legend()\n",
    "plt.show()"
   ]
  },
  {
   "cell_type": "markdown",
   "metadata": {},
   "source": [
    "All the p-values are below 0.05 (expect 1), so we can reject the null hypothesis and conclude that there is a significant difference between the groups."
   ]
  },
  {
   "cell_type": "code",
   "execution_count": null,
   "metadata": {},
   "outputs": [],
   "source": [
    "# t-test for aroma betwwen draft and bottle\n",
    "do_ttest('draft', 'bottle', 'aroma')"
   ]
  },
  {
   "cell_type": "code",
   "execution_count": null,
   "metadata": {},
   "outputs": [],
   "source": [
    "# show a boxplot of aroma for draft and bottle\n",
    "plt.figure(figsize=(10, 6))\n",
    "sns.boxplot(data=df[df['serving_type'].isin(['draft', 'bottle'])], x='serving_type', y='aroma')\n",
    "plt.show()"
   ]
  },
  {
   "cell_type": "markdown",
   "metadata": {},
   "source": []
  }
 ],
 "metadata": {
  "kernelspec": {
   "display_name": "Python 3",
   "language": "python",
   "name": "python3"
  },
  "language_info": {
   "codemirror_mode": {
    "name": "ipython",
    "version": 3
   },
   "file_extension": ".py",
   "mimetype": "text/x-python",
   "name": "python",
   "nbconvert_exporter": "python",
   "pygments_lexer": "ipython3",
   "version": "3.8.5"
  }
 },
 "nbformat": 4,
 "nbformat_minor": 4
}
