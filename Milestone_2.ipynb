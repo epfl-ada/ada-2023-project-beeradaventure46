{
 "cells": [
  {
   "cell_type": "markdown",
   "metadata": {},
   "source": [
    "# Milestone 2 : Project proposal and initial analyses 🍻\n",
    "\n",
    "<hr style=\"clear:both\">\n",
    "This notebook was made for the ADA course at EPFL. \n",
    "\n",
    "Group : BeerADAventure46\n",
    "\n",
    "**Authors:** \\\n",
    "[Agatha Hunter](https://people.epfl.ch/agatha.hunter)\\\n",
    "[Anne-Valérie Preto](https://people.epfl.ch/anne-valerie.preto)\\\n",
    "[Tristan Carruzzo](https://people.epfl.ch/tristan.carruzzo)\\\n",
    "[Thamin Maurer](https://people.epfl.ch/thamin.maurer)\\\n",
    "[Victor Dubien](https://people.epfl.ch/victor.dubien)\n",
    "\n",
    "\n",
    "**Supervisor:**\\\n",
    "[Beatriz Borges](https://people.epfl.ch/beatriz.borges)\n",
    "<hr style=\"clear:both\">\n",
    "\n"
   ]
  },
  {
   "cell_type": "markdown",
   "metadata": {},
   "source": [
    "<blockquote>\n",
    "\n",
    "## Project proposal  📌\n",
    "\n",
    "**Influence of the serving style on the tasting profile**:\n",
    "\n",
    "Goal of the project: Use the textual reviews to find for each beer how it was served (either bottle, can or draft) and find how it influences the tasting profile.\n",
    "\n",
    "Different serving styles may be adopted in different regions or for different types of beer.  The influence of the serving style could influence not only the appearance, but also the aroma, the palate or the taste.\n",
    "</blockquote>"
   ]
  },
  {
   "cell_type": "markdown",
   "metadata": {},
   "source": [
    "### TODO LIST FOR THE GROUP:\n",
    "\n",
    "<input type=\"checkbox\" checked > New architecture of file\n",
    "\n",
    "<input type=\"checkbox\"> Create functions to import and convert initial files\n",
    "\n",
    "<input type=\"checkbox\"> More comments on the dataset -> distribution, viz\n",
    "\n",
    "<input type=\"checkbox\"> For any filtering: how, why ?\n",
    "\n",
    "<input type=\"checkbox\"> Choose a NLP method -> comment as much as possible, some trials \n",
    "\n",
    "<input type=\"checkbox\"> E-mail the proposition to Beatriz"
   ]
  },
  {
   "cell_type": "markdown",
   "metadata": {},
   "source": [
    "## Datasets 📂\n",
    "### Import dataset and libraries 📥"
   ]
  },
  {
   "cell_type": "code",
   "execution_count": 1,
   "metadata": {},
   "outputs": [],
   "source": [
    "import io\n",
    "import pandas as pd\n",
    "import numpy as np\n",
    "import seaborn as sns\n",
    "from tqdm import tqdm\n",
    "import matplotlib.pyplot as plt\n",
    "from langdetect import detect\n",
    "from scipy.stats import ttest_ind\n",
    "from sklearn.linear_model import LinearRegression\n",
    "\n",
    "from textstat import flesch_reading_ease, flesch_kincaid_grade, gunning_fog, smog_index, automated_readability_index, coleman_liau_index, linsear_write_formula, dale_chall_readability_score, text_standard\n",
    "from utils import *\n",
    "pd.set_option('display.max_columns', None)"
   ]
  },
  {
   "cell_type": "code",
   "execution_count": 2,
   "metadata": {},
   "outputs": [],
   "source": [
    "dataset_path = './data/BeerAdvocate/'"
   ]
  },
  {
   "cell_type": "code",
   "execution_count": 3,
   "metadata": {},
   "outputs": [],
   "source": [
    "#ratings_2 = convert_txt_to_csv(input_file='ratings.txt', export=True, file_name='trial_ratings')\n",
    "#can take a while to run"
   ]
  },
  {
   "cell_type": "code",
   "execution_count": 4,
   "metadata": {},
   "outputs": [],
   "source": [
    "# Firt time imports : \n",
    "# Convert txt to csv (function in the utils.py file)\n",
    "\n",
    "#ratings = convert_txt_to_csv(input_file='ratings.txt', export=True, file_name='ratings')\n",
    "#reviews = convert_txt_to_csv(input_file='reviews.txt', export=True, file_name='reviews')"
   ]
  },
  {
   "cell_type": "code",
   "execution_count": 5,
   "metadata": {},
   "outputs": [],
   "source": [
    "# Files already converted, so we can load them directly\n",
    "\n",
    "#ratings = pd.read_csv(dataset_path + 'ratings.csv')\n",
    "reviews = pd.read_csv(dataset_path + 'reviews.csv')\n",
    "beers = pd.read_csv(dataset_path + 'beers.csv')\n",
    "breweries = pd.read_csv(dataset_path + 'breweries.csv')\n",
    "users = pd.read_csv(dataset_path + 'users.csv')"
   ]
  },
  {
   "cell_type": "markdown",
   "metadata": {},
   "source": [
    "### Initial datasets analysis 🔎"
   ]
  },
  {
   "cell_type": "markdown",
   "metadata": {},
   "source": [
    "#### Beers dataset 🍺"
   ]
  },
  {
   "cell_type": "code",
   "execution_count": 6,
   "metadata": {},
   "outputs": [
    {
     "data": {
      "text/html": [
       "<div>\n",
       "<style scoped>\n",
       "    .dataframe tbody tr th:only-of-type {\n",
       "        vertical-align: middle;\n",
       "    }\n",
       "\n",
       "    .dataframe tbody tr th {\n",
       "        vertical-align: top;\n",
       "    }\n",
       "\n",
       "    .dataframe thead th {\n",
       "        text-align: right;\n",
       "    }\n",
       "</style>\n",
       "<table border=\"1\" class=\"dataframe\">\n",
       "  <thead>\n",
       "    <tr style=\"text-align: right;\">\n",
       "      <th></th>\n",
       "      <th>beer_id</th>\n",
       "      <th>beer_name</th>\n",
       "      <th>brewery_id</th>\n",
       "      <th>brewery_name</th>\n",
       "      <th>style</th>\n",
       "      <th>nbr_ratings</th>\n",
       "      <th>nbr_reviews</th>\n",
       "      <th>avg</th>\n",
       "      <th>ba_score</th>\n",
       "      <th>bros_score</th>\n",
       "      <th>abv</th>\n",
       "      <th>avg_computed</th>\n",
       "      <th>zscore</th>\n",
       "      <th>nbr_matched_valid_ratings</th>\n",
       "      <th>avg_matched_valid_ratings</th>\n",
       "    </tr>\n",
       "  </thead>\n",
       "  <tbody>\n",
       "    <tr>\n",
       "      <th>249916</th>\n",
       "      <td>204867</td>\n",
       "      <td>Wet Kitty</td>\n",
       "      <td>36212</td>\n",
       "      <td>Texas Beer Refinery</td>\n",
       "      <td>American Pale Ale (APA)</td>\n",
       "      <td>1</td>\n",
       "      <td>0</td>\n",
       "      <td>4.03</td>\n",
       "      <td>NaN</td>\n",
       "      <td>NaN</td>\n",
       "      <td>5.5</td>\n",
       "      <td>4.030000</td>\n",
       "      <td>NaN</td>\n",
       "      <td>0</td>\n",
       "      <td>NaN</td>\n",
       "    </tr>\n",
       "    <tr>\n",
       "      <th>197807</th>\n",
       "      <td>169148</td>\n",
       "      <td>Citra-Pils Keller Bier</td>\n",
       "      <td>5691</td>\n",
       "      <td>Switchback Brewing Company</td>\n",
       "      <td>Kellerbier / Zwickelbier</td>\n",
       "      <td>87</td>\n",
       "      <td>26</td>\n",
       "      <td>3.94</td>\n",
       "      <td>87.0</td>\n",
       "      <td>88.0</td>\n",
       "      <td>5.1</td>\n",
       "      <td>3.880345</td>\n",
       "      <td>NaN</td>\n",
       "      <td>0</td>\n",
       "      <td>NaN</td>\n",
       "    </tr>\n",
       "    <tr>\n",
       "      <th>169899</th>\n",
       "      <td>262221</td>\n",
       "      <td>Strike A Chord</td>\n",
       "      <td>43809</td>\n",
       "      <td>New District Brewing Company</td>\n",
       "      <td>German Pilsener</td>\n",
       "      <td>0</td>\n",
       "      <td>0</td>\n",
       "      <td>NaN</td>\n",
       "      <td>NaN</td>\n",
       "      <td>NaN</td>\n",
       "      <td>5.5</td>\n",
       "      <td>NaN</td>\n",
       "      <td>NaN</td>\n",
       "      <td>0</td>\n",
       "      <td>NaN</td>\n",
       "    </tr>\n",
       "  </tbody>\n",
       "</table>\n",
       "</div>"
      ],
      "text/plain": [
       "        beer_id               beer_name  brewery_id  \\\n",
       "249916   204867               Wet Kitty       36212   \n",
       "197807   169148  Citra-Pils Keller Bier        5691   \n",
       "169899   262221          Strike A Chord       43809   \n",
       "\n",
       "                        brewery_name                     style  nbr_ratings  \\\n",
       "249916           Texas Beer Refinery   American Pale Ale (APA)            1   \n",
       "197807    Switchback Brewing Company  Kellerbier / Zwickelbier           87   \n",
       "169899  New District Brewing Company           German Pilsener            0   \n",
       "\n",
       "        nbr_reviews   avg  ba_score  bros_score  abv  avg_computed  zscore  \\\n",
       "249916            0  4.03       NaN         NaN  5.5      4.030000     NaN   \n",
       "197807           26  3.94      87.0        88.0  5.1      3.880345     NaN   \n",
       "169899            0   NaN       NaN         NaN  5.5           NaN     NaN   \n",
       "\n",
       "        nbr_matched_valid_ratings  avg_matched_valid_ratings  \n",
       "249916                          0                        NaN  \n",
       "197807                          0                        NaN  \n",
       "169899                          0                        NaN  "
      ]
     },
     "metadata": {},
     "output_type": "display_data"
    },
    {
     "name": "stdout",
     "output_type": "stream",
     "text": [
      "Shape of beers :  (280823, 15)\n"
     ]
    }
   ],
   "source": [
    "display(beers.sample(3))\n",
    "print('Shape of beers : ', beers.shape)"
   ]
  },
  {
   "cell_type": "code",
   "execution_count": 7,
   "metadata": {},
   "outputs": [
    {
     "name": "stdout",
     "output_type": "stream",
     "text": [
      "Number of different beers id: 280823\n",
      "Number of different beers name: 236209\n"
     ]
    }
   ],
   "source": [
    "# print the number of beers id and beer name\n",
    "print('Number of different beers id:', len(beers.beer_id.unique()))\n",
    "print('Number of different beers name:', len(beers.beer_name.unique()))"
   ]
  },
  {
   "cell_type": "markdown",
   "metadata": {},
   "source": [
    "<blockquote>\n",
    "\n",
    "**Initial comments about the dataset**\n",
    "\n",
    "-Some beers have the same name! In order to avoid confusion, we will drop the column beer_name (and brewery_name) from the dataset.\n",
    "\n",
    "-As we will not use the RateBeer dataset, we can also drop the column nbr_matched_valid_ratings and avg_matched_valid_ratings.  \n",
    "\n",
    "-The column bros_score only reflect the ratings from the two creators of the website, so we can also drop it.  \n",
    "\n",
    "-ba_score reprensents the percentage (rounded to the tenth for depth) of raters who gave the beer a 3.75 or higher as long as the beers as at least 10 ratings.\n",
    "\n",
    "</blockquote>"
   ]
  },
  {
   "cell_type": "code",
   "execution_count": 8,
   "metadata": {},
   "outputs": [
    {
     "data": {
      "image/png": "[encoded data removed]",
      "text/plain": [
       "<Figure size 640x480 with 1 Axes>"
      ]
     },
     "metadata": {},
     "output_type": "display_data"
    }
   ],
   "source": [
    "# show the percentage of missing values per columm\n",
    "plt.figure()\n",
    "(beers.isna().sum() / len(beers) * 100).plot(kind='barh', title='Percentage of missing values per column')\n",
    "plt.xlabel('Percentage of missing values')\n",
    "plt.show()"
   ]
  },
  {
   "cell_type": "markdown",
   "metadata": {},
   "source": [
    "<blockquote>\n",
    "\n",
    "**More comments about the dataset**\n",
    "\n",
    "We see that more than 80% of the beers do not have a z-score value. We can drop this column alongside avg_computed and compute them manually later if needed.\n",
    "\n",
    "80% of the beers have no ba_score value, so we can also drop it and compute it later if needed.\n",
    "\n",
    "</blockquote>"
   ]
  },
  {
   "cell_type": "code",
   "execution_count": 9,
   "metadata": {},
   "outputs": [],
   "source": [
    "beers_filtered = beers.drop(columns=['beer_name', \n",
    "                            'brewery_name',\n",
    "                            'bros_score',\n",
    "                            'ba_score',\n",
    "                            'nbr_matched_valid_ratings',\n",
    "                            'avg_matched_valid_ratings',\n",
    "                            'zscore',\n",
    "                            'avg_computed']).copy(deep=True)\n",
    "\n",
    "beers_filtered.rename(columns={'nbr_ratings': 'beer_nbr_ratings',\n",
    "                               'nbr_reviews': 'beer_nbr_reviews'}, inplace=True)"
   ]
  },
  {
   "cell_type": "code",
   "execution_count": 10,
   "metadata": {},
   "outputs": [
    {
     "data": {
      "text/html": [
       "<div>\n",
       "<style scoped>\n",
       "    .dataframe tbody tr th:only-of-type {\n",
       "        vertical-align: middle;\n",
       "    }\n",
       "\n",
       "    .dataframe tbody tr th {\n",
       "        vertical-align: top;\n",
       "    }\n",
       "\n",
       "    .dataframe thead th {\n",
       "        text-align: right;\n",
       "    }\n",
       "</style>\n",
       "<table border=\"1\" class=\"dataframe\">\n",
       "  <thead>\n",
       "    <tr style=\"text-align: right;\">\n",
       "      <th></th>\n",
       "      <th>beer_id</th>\n",
       "      <th>brewery_id</th>\n",
       "      <th>style</th>\n",
       "      <th>beer_nbr_ratings</th>\n",
       "      <th>beer_nbr_reviews</th>\n",
       "      <th>avg</th>\n",
       "      <th>abv</th>\n",
       "    </tr>\n",
       "  </thead>\n",
       "  <tbody>\n",
       "    <tr>\n",
       "      <th>146877</th>\n",
       "      <td>151214</td>\n",
       "      <td>19304</td>\n",
       "      <td>American Double / Imperial IPA</td>\n",
       "      <td>2</td>\n",
       "      <td>0</td>\n",
       "      <td>4.20</td>\n",
       "      <td>8.5</td>\n",
       "    </tr>\n",
       "    <tr>\n",
       "      <th>45684</th>\n",
       "      <td>276776</td>\n",
       "      <td>44191</td>\n",
       "      <td>American Strong Ale</td>\n",
       "      <td>1</td>\n",
       "      <td>1</td>\n",
       "      <td>3.28</td>\n",
       "      <td>8.5</td>\n",
       "    </tr>\n",
       "    <tr>\n",
       "      <th>226383</th>\n",
       "      <td>122276</td>\n",
       "      <td>1199</td>\n",
       "      <td>American Pale Ale (APA)</td>\n",
       "      <td>210</td>\n",
       "      <td>13</td>\n",
       "      <td>3.92</td>\n",
       "      <td>5.4</td>\n",
       "    </tr>\n",
       "  </tbody>\n",
       "</table>\n",
       "</div>"
      ],
      "text/plain": [
       "        beer_id  brewery_id                           style  beer_nbr_ratings  \\\n",
       "146877   151214       19304  American Double / Imperial IPA                 2   \n",
       "45684    276776       44191             American Strong Ale                 1   \n",
       "226383   122276        1199         American Pale Ale (APA)               210   \n",
       "\n",
       "        beer_nbr_reviews   avg  abv  \n",
       "146877                 0  4.20  8.5  \n",
       "45684                  1  3.28  8.5  \n",
       "226383                13  3.92  5.4  "
      ]
     },
     "execution_count": 10,
     "metadata": {},
     "output_type": "execute_result"
    }
   ],
   "source": [
    "beers_filtered.sample(3)"
   ]
  },
  {
   "cell_type": "code",
   "execution_count": 11,
   "metadata": {},
   "outputs": [
    {
     "data": {
      "image/png": "[encoded data removed]",
      "text/plain": [
       "<Figure size 1500x500 with 2 Axes>"
      ]
     },
     "metadata": {},
     "output_type": "display_data"
    }
   ],
   "source": [
    "plt.figure(figsize=(15, 5))\n",
    "plt.subplot(1, 2, 1)\n",
    "beers_filtered['style'].value_counts(normalize=False).head(10).plot(kind='barh', title='10 most common beer styles')\n",
    "plt.xlabel('Number of beers')\n",
    "plt.subplot(1, 2, 2)\n",
    "beers_filtered['beer_nbr_reviews'].hist(bins=50,log=True)\n",
    "plt.title('Number of reviews per beer')\n",
    "plt.ylabel('Count')\n",
    "plt.xlabel('Number of reviews')\n",
    "plt.tight_layout()\n",
    "plt.show()"
   ]
  },
  {
   "cell_type": "code",
   "execution_count": 12,
   "metadata": {},
   "outputs": [],
   "source": [
    "# Some beers have no reviews and no ratings, resulting in NaN avg value, we remove them\n",
    "beers_filtered = beers_filtered[beers_filtered['avg'].notna()].copy(deep=True)\n",
    "\n",
    "# We also remove the few beers that have 0 reviews and 0 ratings but a non NaN avg value (not sure why there are such beers)\n",
    "beers_filtered = beers_filtered[(beers_filtered['beer_nbr_reviews'] != 0) & (beers_filtered['beer_nbr_ratings'] != 0)].copy(deep=True)"
   ]
  },
  {
   "cell_type": "code",
   "execution_count": 13,
   "metadata": {},
   "outputs": [
    {
     "data": {
      "text/html": [
       "<div>\n",
       "<style scoped>\n",
       "    .dataframe tbody tr th:only-of-type {\n",
       "        vertical-align: middle;\n",
       "    }\n",
       "\n",
       "    .dataframe tbody tr th {\n",
       "        vertical-align: top;\n",
       "    }\n",
       "\n",
       "    .dataframe thead th {\n",
       "        text-align: right;\n",
       "    }\n",
       "</style>\n",
       "<table border=\"1\" class=\"dataframe\">\n",
       "  <thead>\n",
       "    <tr style=\"text-align: right;\">\n",
       "      <th></th>\n",
       "      <th>beer_id</th>\n",
       "      <th>brewery_id</th>\n",
       "      <th>beer_nbr_ratings</th>\n",
       "      <th>beer_nbr_reviews</th>\n",
       "      <th>avg</th>\n",
       "      <th>abv</th>\n",
       "    </tr>\n",
       "  </thead>\n",
       "  <tbody>\n",
       "    <tr>\n",
       "      <th>count</th>\n",
       "      <td>166649.000000</td>\n",
       "      <td>166649.000000</td>\n",
       "      <td>166649.000000</td>\n",
       "      <td>166649.000000</td>\n",
       "      <td>166649.000000</td>\n",
       "      <td>144879.000000</td>\n",
       "    </tr>\n",
       "    <tr>\n",
       "      <th>mean</th>\n",
       "      <td>118304.063271</td>\n",
       "      <td>17174.929871</td>\n",
       "      <td>49.216653</td>\n",
       "      <td>15.539163</td>\n",
       "      <td>3.709953</td>\n",
       "      <td>6.566462</td>\n",
       "    </tr>\n",
       "    <tr>\n",
       "      <th>std</th>\n",
       "      <td>82294.748008</td>\n",
       "      <td>14573.636775</td>\n",
       "      <td>298.336124</td>\n",
       "      <td>88.846266</td>\n",
       "      <td>0.489242</td>\n",
       "      <td>2.138165</td>\n",
       "    </tr>\n",
       "    <tr>\n",
       "      <th>min</th>\n",
       "      <td>3.000000</td>\n",
       "      <td>1.000000</td>\n",
       "      <td>1.000000</td>\n",
       "      <td>1.000000</td>\n",
       "      <td>1.000000</td>\n",
       "      <td>0.010000</td>\n",
       "    </tr>\n",
       "    <tr>\n",
       "      <th>25%</th>\n",
       "      <td>50831.000000</td>\n",
       "      <td>1853.000000</td>\n",
       "      <td>2.000000</td>\n",
       "      <td>1.000000</td>\n",
       "      <td>3.500000</td>\n",
       "      <td>5.000000</td>\n",
       "    </tr>\n",
       "    <tr>\n",
       "      <th>50%</th>\n",
       "      <td>95991.000000</td>\n",
       "      <td>16111.000000</td>\n",
       "      <td>5.000000</td>\n",
       "      <td>2.000000</td>\n",
       "      <td>3.780000</td>\n",
       "      <td>6.000000</td>\n",
       "    </tr>\n",
       "    <tr>\n",
       "      <th>75%</th>\n",
       "      <td>184603.000000</td>\n",
       "      <td>30176.000000</td>\n",
       "      <td>17.000000</td>\n",
       "      <td>5.000000</td>\n",
       "      <td>4.020000</td>\n",
       "      <td>7.600000</td>\n",
       "    </tr>\n",
       "    <tr>\n",
       "      <th>max</th>\n",
       "      <td>293285.000000</td>\n",
       "      <td>49815.000000</td>\n",
       "      <td>16509.000000</td>\n",
       "      <td>3899.000000</td>\n",
       "      <td>5.000000</td>\n",
       "      <td>67.500000</td>\n",
       "    </tr>\n",
       "  </tbody>\n",
       "</table>\n",
       "</div>"
      ],
      "text/plain": [
       "             beer_id     brewery_id  beer_nbr_ratings  beer_nbr_reviews  \\\n",
       "count  166649.000000  166649.000000     166649.000000     166649.000000   \n",
       "mean   118304.063271   17174.929871         49.216653         15.539163   \n",
       "std     82294.748008   14573.636775        298.336124         88.846266   \n",
       "min         3.000000       1.000000          1.000000          1.000000   \n",
       "25%     50831.000000    1853.000000          2.000000          1.000000   \n",
       "50%     95991.000000   16111.000000          5.000000          2.000000   \n",
       "75%    184603.000000   30176.000000         17.000000          5.000000   \n",
       "max    293285.000000   49815.000000      16509.000000       3899.000000   \n",
       "\n",
       "                 avg            abv  \n",
       "count  166649.000000  144879.000000  \n",
       "mean        3.709953       6.566462  \n",
       "std         0.489242       2.138165  \n",
       "min         1.000000       0.010000  \n",
       "25%         3.500000       5.000000  \n",
       "50%         3.780000       6.000000  \n",
       "75%         4.020000       7.600000  \n",
       "max         5.000000      67.500000  "
      ]
     },
     "execution_count": 13,
     "metadata": {},
     "output_type": "execute_result"
    }
   ],
   "source": [
    "beers_filtered.describe()"
   ]
  },
  {
   "cell_type": "markdown",
   "metadata": {},
   "source": [
    "<blockquote>\n",
    "\n",
    "We are left with a clean dataset containing 166'649 beers. Some beers do not have a alcohol percentage value.\n",
    "\n",
    "</blockquote>"
   ]
  },
  {
   "cell_type": "markdown",
   "metadata": {},
   "source": [
    "#### Breweries dataset 🏭"
   ]
  },
  {
   "cell_type": "code",
   "execution_count": 14,
   "metadata": {},
   "outputs": [
    {
     "data": {
      "text/html": [
       "<div>\n",
       "<style scoped>\n",
       "    .dataframe tbody tr th:only-of-type {\n",
       "        vertical-align: middle;\n",
       "    }\n",
       "\n",
       "    .dataframe tbody tr th {\n",
       "        vertical-align: top;\n",
       "    }\n",
       "\n",
       "    .dataframe thead th {\n",
       "        text-align: right;\n",
       "    }\n",
       "</style>\n",
       "<table border=\"1\" class=\"dataframe\">\n",
       "  <thead>\n",
       "    <tr style=\"text-align: right;\">\n",
       "      <th></th>\n",
       "      <th>id</th>\n",
       "      <th>location</th>\n",
       "      <th>name</th>\n",
       "      <th>nbr_beers</th>\n",
       "    </tr>\n",
       "  </thead>\n",
       "  <tbody>\n",
       "    <tr>\n",
       "      <th>3778</th>\n",
       "      <td>2458</td>\n",
       "      <td>Germany</td>\n",
       "      <td>Vogel Hausbräu Ettlingen</td>\n",
       "      <td>0</td>\n",
       "    </tr>\n",
       "    <tr>\n",
       "      <th>4370</th>\n",
       "      <td>6235</td>\n",
       "      <td>Germany</td>\n",
       "      <td>Zum Goldenen Löwen Richard Luber</td>\n",
       "      <td>0</td>\n",
       "    </tr>\n",
       "    <tr>\n",
       "      <th>14771</th>\n",
       "      <td>41061</td>\n",
       "      <td>France</td>\n",
       "      <td>The Eye's Hunter</td>\n",
       "      <td>3</td>\n",
       "    </tr>\n",
       "  </tbody>\n",
       "</table>\n",
       "</div>"
      ],
      "text/plain": [
       "          id location                              name  nbr_beers\n",
       "3778    2458  Germany          Vogel Hausbräu Ettlingen          0\n",
       "4370    6235  Germany  Zum Goldenen Löwen Richard Luber          0\n",
       "14771  41061   France                  The Eye's Hunter          3"
      ]
     },
     "metadata": {},
     "output_type": "display_data"
    },
    {
     "name": "stdout",
     "output_type": "stream",
     "text": [
      "Shape of breweries :  (16758, 4)\n"
     ]
    }
   ],
   "source": [
    "display(breweries.sample(3))\n",
    "print('Shape of breweries : ', breweries.shape)"
   ]
  },
  {
   "cell_type": "code",
   "execution_count": 15,
   "metadata": {},
   "outputs": [
    {
     "data": {
      "image/png": "[encoded data removed]",
      "text/plain": [
       "<Figure size 640x480 with 1 Axes>"
      ]
     },
     "metadata": {},
     "output_type": "display_data"
    }
   ],
   "source": [
    "# show the percentage of missing values per columm\n",
    "plt.figure()\n",
    "(breweries.isna().sum() / len(breweries) * 100).plot(kind='barh', title='Percentage of missing values per column')\n",
    "plt.xlabel('Percentage of missing values')\n",
    "plt.show()"
   ]
  },
  {
   "cell_type": "markdown",
   "metadata": {},
   "source": [
    "<blockquote>\n",
    "\n",
    "This dataset has no missing values, we will simply rename the columns and drop the brewery name.\n",
    "\n",
    "</blockquote>"
   ]
  },
  {
   "cell_type": "code",
   "execution_count": 16,
   "metadata": {},
   "outputs": [],
   "source": [
    "breweries_filtered = breweries.drop(columns=['name']).copy(deep=True)\n",
    "breweries_filtered.rename(columns={'id':'brewery_id',\n",
    "                                   'location':'brewery_location',\n",
    "                                   'nbr_beers':'brewery_nbr_beers'}, inplace=True)"
   ]
  },
  {
   "cell_type": "code",
   "execution_count": 17,
   "metadata": {},
   "outputs": [
    {
     "data": {
      "text/html": [
       "<div>\n",
       "<style scoped>\n",
       "    .dataframe tbody tr th:only-of-type {\n",
       "        vertical-align: middle;\n",
       "    }\n",
       "\n",
       "    .dataframe tbody tr th {\n",
       "        vertical-align: top;\n",
       "    }\n",
       "\n",
       "    .dataframe thead th {\n",
       "        text-align: right;\n",
       "    }\n",
       "</style>\n",
       "<table border=\"1\" class=\"dataframe\">\n",
       "  <thead>\n",
       "    <tr style=\"text-align: right;\">\n",
       "      <th></th>\n",
       "      <th>brewery_id</th>\n",
       "      <th>brewery_location</th>\n",
       "      <th>brewery_nbr_beers</th>\n",
       "    </tr>\n",
       "  </thead>\n",
       "  <tbody>\n",
       "    <tr>\n",
       "      <th>8593</th>\n",
       "      <td>48382</td>\n",
       "      <td>United States, California</td>\n",
       "      <td>0</td>\n",
       "    </tr>\n",
       "    <tr>\n",
       "      <th>2874</th>\n",
       "      <td>258</td>\n",
       "      <td>Italy</td>\n",
       "      <td>13</td>\n",
       "    </tr>\n",
       "    <tr>\n",
       "      <th>7378</th>\n",
       "      <td>42399</td>\n",
       "      <td>Latvia</td>\n",
       "      <td>27</td>\n",
       "    </tr>\n",
       "  </tbody>\n",
       "</table>\n",
       "</div>"
      ],
      "text/plain": [
       "      brewery_id           brewery_location  brewery_nbr_beers\n",
       "8593       48382  United States, California                  0\n",
       "2874         258                      Italy                 13\n",
       "7378       42399                     Latvia                 27"
      ]
     },
     "execution_count": 17,
     "metadata": {},
     "output_type": "execute_result"
    }
   ],
   "source": [
    "breweries_filtered.sample(3)"
   ]
  },
  {
   "cell_type": "code",
   "execution_count": 18,
   "metadata": {},
   "outputs": [
    {
     "name": "stdout",
     "output_type": "stream",
     "text": [
      "Number of breweries with a weird location value: 35\n"
     ]
    }
   ],
   "source": [
    "# Some breweries have weird location values, should find a way to clean them or simply remove them\n",
    "\n",
    "print('Number of breweries with a weird location value:', len(breweries_filtered[breweries_filtered['brewery_location'].str.contains('<', na=False)]))\n",
    "\n",
    "# remove the breweries with a weird location value\n",
    "breweries_filtered = breweries_filtered[~breweries_filtered['brewery_location'].str.contains('<', na=False)].copy(deep=True)\n",
    "\n",
    "# for loc in breweries_filtered[breweries_filtered['brewery_location'].str.contains('<', na=False)]['brewery_location'].unique()[0:5]:\n",
    "#     print(loc) # print the first 5 strange values"
   ]
  },
  {
   "cell_type": "code",
   "execution_count": 19,
   "metadata": {},
   "outputs": [
    {
     "data": {
      "image/png": "[encoded data removed]",
      "text/plain": [
       "<Figure size 1500x500 with 2 Axes>"
      ]
     },
     "metadata": {},
     "output_type": "display_data"
    }
   ],
   "source": [
    "plt.figure(figsize=(15, 5))\n",
    "plt.subplot(1, 2, 1)\n",
    "breweries_filtered['brewery_nbr_beers'].hist(bins=50, log=True)\n",
    "plt.title('Number of beers per brewery')\n",
    "plt.ylabel('Count')\n",
    "plt.xlabel('Number of beers')\n",
    "plt.subplot(1, 2, 2)\n",
    "breweries_filtered['brewery_location'].value_counts(normalize=False).head(10).plot(kind='barh', title='10 most common brewery locations')\n",
    "plt.xlabel('Number of breweries')\n",
    "plt.tight_layout()\n",
    "plt.show()"
   ]
  },
  {
   "cell_type": "markdown",
   "metadata": {},
   "source": [
    "#### Users dataset 👤"
   ]
  },
  {
   "cell_type": "code",
   "execution_count": 20,
   "metadata": {},
   "outputs": [
    {
     "data": {
      "text/html": [
       "<div>\n",
       "<style scoped>\n",
       "    .dataframe tbody tr th:only-of-type {\n",
       "        vertical-align: middle;\n",
       "    }\n",
       "\n",
       "    .dataframe tbody tr th {\n",
       "        vertical-align: top;\n",
       "    }\n",
       "\n",
       "    .dataframe thead th {\n",
       "        text-align: right;\n",
       "    }\n",
       "</style>\n",
       "<table border=\"1\" class=\"dataframe\">\n",
       "  <thead>\n",
       "    <tr style=\"text-align: right;\">\n",
       "      <th></th>\n",
       "      <th>nbr_ratings</th>\n",
       "      <th>nbr_reviews</th>\n",
       "      <th>user_id</th>\n",
       "      <th>user_name</th>\n",
       "      <th>joined</th>\n",
       "      <th>location</th>\n",
       "    </tr>\n",
       "  </thead>\n",
       "  <tbody>\n",
       "    <tr>\n",
       "      <th>9506</th>\n",
       "      <td>485</td>\n",
       "      <td>0</td>\n",
       "      <td>salinasa.466156</td>\n",
       "      <td>salinasa</td>\n",
       "      <td>1.275646e+09</td>\n",
       "      <td>United States, Michigan</td>\n",
       "    </tr>\n",
       "    <tr>\n",
       "      <th>100958</th>\n",
       "      <td>9</td>\n",
       "      <td>2</td>\n",
       "      <td>ctsoxfan.1037232</td>\n",
       "      <td>CtSoxFan</td>\n",
       "      <td>1.441188e+09</td>\n",
       "      <td>United States, Connecticut</td>\n",
       "    </tr>\n",
       "    <tr>\n",
       "      <th>70176</th>\n",
       "      <td>10</td>\n",
       "      <td>0</td>\n",
       "      <td>wtnelso.705734</td>\n",
       "      <td>wtnelso</td>\n",
       "      <td>1.354360e+09</td>\n",
       "      <td>NaN</td>\n",
       "    </tr>\n",
       "  </tbody>\n",
       "</table>\n",
       "</div>"
      ],
      "text/plain": [
       "        nbr_ratings  nbr_reviews           user_id user_name        joined  \\\n",
       "9506            485            0   salinasa.466156  salinasa  1.275646e+09   \n",
       "100958            9            2  ctsoxfan.1037232  CtSoxFan  1.441188e+09   \n",
       "70176            10            0    wtnelso.705734   wtnelso  1.354360e+09   \n",
       "\n",
       "                          location  \n",
       "9506       United States, Michigan  \n",
       "100958  United States, Connecticut  \n",
       "70176                          NaN  "
      ]
     },
     "metadata": {},
     "output_type": "display_data"
    },
    {
     "name": "stdout",
     "output_type": "stream",
     "text": [
      "Shape of users :  (153704, 6)\n"
     ]
    }
   ],
   "source": [
    "display(users.sample(3))\n",
    "print('Shape of users : ', users.shape)"
   ]
  },
  {
   "cell_type": "code",
   "execution_count": 21,
   "metadata": {},
   "outputs": [
    {
     "data": {
      "image/png": "[encoded data removed]",
      "text/plain": [
       "<Figure size 640x480 with 1 Axes>"
      ]
     },
     "metadata": {},
     "output_type": "display_data"
    }
   ],
   "source": [
    "plt.figure()\n",
    "(users.isna().sum() / len(users) * 100).plot(kind='barh', title='Percentage of missing values per column')\n",
    "plt.xlabel('Percentage of missing values')\n",
    "plt.show()"
   ]
  },
  {
   "cell_type": "markdown",
   "metadata": {},
   "source": [
    "<blockquote>\n",
    "\n",
    "We are only missing information about when the user joined the website and locations. (and 1 username, which we drop anyway)\n",
    "\n",
    "</blockquote>"
   ]
  },
  {
   "cell_type": "code",
   "execution_count": 22,
   "metadata": {},
   "outputs": [
    {
     "data": {
      "text/html": [
       "<div>\n",
       "<style scoped>\n",
       "    .dataframe tbody tr th:only-of-type {\n",
       "        vertical-align: middle;\n",
       "    }\n",
       "\n",
       "    .dataframe tbody tr th {\n",
       "        vertical-align: top;\n",
       "    }\n",
       "\n",
       "    .dataframe thead th {\n",
       "        text-align: right;\n",
       "    }\n",
       "</style>\n",
       "<table border=\"1\" class=\"dataframe\">\n",
       "  <thead>\n",
       "    <tr style=\"text-align: right;\">\n",
       "      <th></th>\n",
       "      <th>user_nbr_ratings</th>\n",
       "      <th>user_nbr_reviews</th>\n",
       "      <th>user_id</th>\n",
       "      <th>user_joined</th>\n",
       "      <th>user_location</th>\n",
       "    </tr>\n",
       "  </thead>\n",
       "  <tbody>\n",
       "    <tr>\n",
       "      <th>44925</th>\n",
       "      <td>25</td>\n",
       "      <td>0</td>\n",
       "      <td>flipudez.629476</td>\n",
       "      <td>1.318932e+09</td>\n",
       "      <td>Spain</td>\n",
       "    </tr>\n",
       "    <tr>\n",
       "      <th>86350</th>\n",
       "      <td>5</td>\n",
       "      <td>0</td>\n",
       "      <td>troutfishingusa.779612</td>\n",
       "      <td>1.391252e+09</td>\n",
       "      <td>United States, Connecticut</td>\n",
       "    </tr>\n",
       "    <tr>\n",
       "      <th>33468</th>\n",
       "      <td>1</td>\n",
       "      <td>0</td>\n",
       "      <td>fozzyosbourne.1192188</td>\n",
       "      <td>1.488020e+09</td>\n",
       "      <td>Canada</td>\n",
       "    </tr>\n",
       "  </tbody>\n",
       "</table>\n",
       "</div>"
      ],
      "text/plain": [
       "       user_nbr_ratings  user_nbr_reviews                 user_id  \\\n",
       "44925                25                 0         flipudez.629476   \n",
       "86350                 5                 0  troutfishingusa.779612   \n",
       "33468                 1                 0   fozzyosbourne.1192188   \n",
       "\n",
       "        user_joined               user_location  \n",
       "44925  1.318932e+09                       Spain  \n",
       "86350  1.391252e+09  United States, Connecticut  \n",
       "33468  1.488020e+09                      Canada  "
      ]
     },
     "execution_count": 22,
     "metadata": {},
     "output_type": "execute_result"
    }
   ],
   "source": [
    "users_filtered = users.drop(columns=['user_name']).copy(deep=True)\n",
    "\n",
    "users_filtered.rename(columns={'nbr_ratings':'user_nbr_ratings',\n",
    "                               'nbr_reviews':'user_nbr_reviews',\n",
    "                               'joined':'user_joined',\n",
    "                               'location':'user_location'}, inplace=True)\n",
    "\n",
    "users_filtered.sample(3)"
   ]
  },
  {
   "cell_type": "code",
   "execution_count": 23,
   "metadata": {},
   "outputs": [
    {
     "data": {
      "image/png": "[encoded data removed]",
      "text/plain": [
       "<Figure size 1500x500 with 2 Axes>"
      ]
     },
     "metadata": {},
     "output_type": "display_data"
    }
   ],
   "source": [
    "plt.figure(figsize=(15, 5))\n",
    "plt.subplot(1, 2, 1)\n",
    "users_filtered['user_nbr_reviews'].hist(bins=50, log=True)\n",
    "plt.title('Number of reviews per users')\n",
    "plt.ylabel('Count')\n",
    "plt.xlabel('Number of reviews')\n",
    "plt.subplot(1, 2, 2)\n",
    "users_filtered['user_location'].value_counts(normalize=False).head(10).plot(kind='barh', title='10 most common user locations')\n",
    "plt.xlabel('Number of users')\n",
    "plt.tight_layout()\n",
    "plt.show()"
   ]
  },
  {
   "cell_type": "markdown",
   "metadata": {},
   "source": [
    "<blockquote>\n",
    "\n",
    "We observe that many users have no reviews at all, they will be removed from the dataset when merging. Also, the 10 most common user location are all in the US.\n",
    "\n",
    "</blockquote>"
   ]
  },
  {
   "cell_type": "markdown",
   "metadata": {},
   "source": [
    "#### Reviews dataset 📝"
   ]
  },
  {
   "cell_type": "code",
   "execution_count": 24,
   "metadata": {},
   "outputs": [
    {
     "data": {
      "text/html": [
       "<div>\n",
       "<style scoped>\n",
       "    .dataframe tbody tr th:only-of-type {\n",
       "        vertical-align: middle;\n",
       "    }\n",
       "\n",
       "    .dataframe tbody tr th {\n",
       "        vertical-align: top;\n",
       "    }\n",
       "\n",
       "    .dataframe thead th {\n",
       "        text-align: right;\n",
       "    }\n",
       "</style>\n",
       "<table border=\"1\" class=\"dataframe\">\n",
       "  <thead>\n",
       "    <tr style=\"text-align: right;\">\n",
       "      <th></th>\n",
       "      <th>beer_name</th>\n",
       "      <th>beer_id</th>\n",
       "      <th>brewery_name</th>\n",
       "      <th>brewery_id</th>\n",
       "      <th>style</th>\n",
       "      <th>abv</th>\n",
       "      <th>date</th>\n",
       "      <th>user_name</th>\n",
       "      <th>user_id</th>\n",
       "      <th>appearance</th>\n",
       "      <th>aroma</th>\n",
       "      <th>palate</th>\n",
       "      <th>taste</th>\n",
       "      <th>overall</th>\n",
       "      <th>rating</th>\n",
       "      <th>text</th>\n",
       "    </tr>\n",
       "  </thead>\n",
       "  <tbody>\n",
       "    <tr>\n",
       "      <th>1757595</th>\n",
       "      <td>Summit Sága IPA</td>\n",
       "      <td>81072</td>\n",
       "      <td>Summit Brewing Company</td>\n",
       "      <td>467</td>\n",
       "      <td>American IPA</td>\n",
       "      <td>6.4</td>\n",
       "      <td>1497693600</td>\n",
       "      <td>BlackBeerPirate</td>\n",
       "      <td>blackbeerpirate.297687</td>\n",
       "      <td>3.75</td>\n",
       "      <td>3.5</td>\n",
       "      <td>3.75</td>\n",
       "      <td>3.75</td>\n",
       "      <td>3.75</td>\n",
       "      <td>3.69</td>\n",
       "      <td>Taste: smooth semi sweet malts balance with ge...</td>\n",
       "    </tr>\n",
       "    <tr>\n",
       "      <th>772706</th>\n",
       "      <td>Cable Car Small Batch Winter Brew</td>\n",
       "      <td>64713</td>\n",
       "      <td>World Brews</td>\n",
       "      <td>21092</td>\n",
       "      <td>Herbed / Spiced Beer</td>\n",
       "      <td>6.3</td>\n",
       "      <td>1307008800</td>\n",
       "      <td>ManuelHerrera</td>\n",
       "      <td>manuelherrera.388335</td>\n",
       "      <td>3.50</td>\n",
       "      <td>3.5</td>\n",
       "      <td>3.00</td>\n",
       "      <td>3.00</td>\n",
       "      <td>3.00</td>\n",
       "      <td>3.15</td>\n",
       "      <td>A beer with a little promise, but falls a litt...</td>\n",
       "    </tr>\n",
       "    <tr>\n",
       "      <th>1476102</th>\n",
       "      <td>Whirlwind Witbier</td>\n",
       "      <td>1015</td>\n",
       "      <td>Victory Brewing Company - Downingtown</td>\n",
       "      <td>345</td>\n",
       "      <td>Witbier</td>\n",
       "      <td>5.0</td>\n",
       "      <td>1155031200</td>\n",
       "      <td>Citadel82</td>\n",
       "      <td>citadel82.8148</td>\n",
       "      <td>4.00</td>\n",
       "      <td>4.0</td>\n",
       "      <td>4.00</td>\n",
       "      <td>3.50</td>\n",
       "      <td>4.50</td>\n",
       "      <td>3.90</td>\n",
       "      <td>This is a delicious and crisply refreshing sum...</td>\n",
       "    </tr>\n",
       "  </tbody>\n",
       "</table>\n",
       "</div>"
      ],
      "text/plain": [
       "                                 beer_name  beer_id  \\\n",
       "1757595                    Summit Sága IPA    81072   \n",
       "772706   Cable Car Small Batch Winter Brew    64713   \n",
       "1476102                  Whirlwind Witbier     1015   \n",
       "\n",
       "                                  brewery_name  brewery_id  \\\n",
       "1757595                 Summit Brewing Company         467   \n",
       "772706                             World Brews       21092   \n",
       "1476102  Victory Brewing Company - Downingtown         345   \n",
       "\n",
       "                        style  abv        date        user_name  \\\n",
       "1757595          American IPA  6.4  1497693600  BlackBeerPirate   \n",
       "772706   Herbed / Spiced Beer  6.3  1307008800    ManuelHerrera   \n",
       "1476102               Witbier  5.0  1155031200        Citadel82   \n",
       "\n",
       "                        user_id  appearance  aroma  palate  taste  overall  \\\n",
       "1757595  blackbeerpirate.297687        3.75    3.5    3.75   3.75     3.75   \n",
       "772706     manuelherrera.388335        3.50    3.5    3.00   3.00     3.00   \n",
       "1476102          citadel82.8148        4.00    4.0    4.00   3.50     4.50   \n",
       "\n",
       "         rating                                               text  \n",
       "1757595    3.69  Taste: smooth semi sweet malts balance with ge...  \n",
       "772706     3.15  A beer with a little promise, but falls a litt...  \n",
       "1476102    3.90  This is a delicious and crisply refreshing sum...  "
      ]
     },
     "metadata": {},
     "output_type": "display_data"
    },
    {
     "name": "stdout",
     "output_type": "stream",
     "text": [
      "Shape of reviews :  (2589586, 16)\n"
     ]
    }
   ],
   "source": [
    "display(reviews.sample(3))\n",
    "print('Shape of reviews : ', reviews.shape)"
   ]
  },
  {
   "cell_type": "code",
   "execution_count": 25,
   "metadata": {},
   "outputs": [
    {
     "data": {
      "image/png": "[encoded data removed]",
      "text/plain": [
       "<Figure size 640x480 with 1 Axes>"
      ]
     },
     "metadata": {},
     "output_type": "display_data"
    }
   ],
   "source": [
    "plt.figure()\n",
    "(reviews.isna().sum() / len(reviews) * 100).plot(kind='barh', title='Percentage of missing values per column')\n",
    "plt.xlabel('Percentage of missing values')\n",
    "plt.show()"
   ]
  },
  {
   "cell_type": "code",
   "execution_count": 26,
   "metadata": {},
   "outputs": [
    {
     "name": "stdout",
     "output_type": "stream",
     "text": [
      "Number of rows with NaN values for each column :\n",
      "overall : 32009\n",
      "taste : 32009\n",
      "palate : 32009\n",
      "aroma : 32009\n",
      "appearance : 32009\n",
      "all_missing\n",
      "False    2557577\n",
      "True       32009\n",
      "Name: count, dtype: int64\n"
     ]
    }
   ],
   "source": [
    "# making sure that all the NaN are in the same rows\n",
    "\n",
    "# print the number of rows that contains a NaN value for each column ['overall', 'taste', 'palate', 'aroma', 'appearance']\n",
    "print('Number of rows with NaN values for each column :')\n",
    "for col in ['overall', 'taste', 'palate', 'aroma', 'appearance']:\n",
    "    print(col, ':', len(reviews[reviews[col].isna()]))\n",
    "    \n",
    "missing_values = reviews[['overall', 'taste', 'palate', 'aroma', 'appearance']].isna()\n",
    "missing_values['all_missing'] = missing_values.all(axis=1)\n",
    "print(missing_values['all_missing'].value_counts())"
   ]
  },
  {
   "cell_type": "markdown",
   "metadata": {},
   "source": [
    "<blockquote>\n",
    "\n",
    "All the missing values are in the same rows, and they represent less than 1.5% of the dataset. We can then drop them.\n",
    "\n",
    "</blockquote>"
   ]
  },
  {
   "cell_type": "code",
   "execution_count": 27,
   "metadata": {},
   "outputs": [
    {
     "data": {
      "text/html": [
       "<div>\n",
       "<style scoped>\n",
       "    .dataframe tbody tr th:only-of-type {\n",
       "        vertical-align: middle;\n",
       "    }\n",
       "\n",
       "    .dataframe tbody tr th {\n",
       "        vertical-align: top;\n",
       "    }\n",
       "\n",
       "    .dataframe thead th {\n",
       "        text-align: right;\n",
       "    }\n",
       "</style>\n",
       "<table border=\"1\" class=\"dataframe\">\n",
       "  <thead>\n",
       "    <tr style=\"text-align: right;\">\n",
       "      <th></th>\n",
       "      <th>beer_id</th>\n",
       "      <th>brewery_id</th>\n",
       "      <th>style</th>\n",
       "      <th>abv</th>\n",
       "      <th>date</th>\n",
       "      <th>user_id</th>\n",
       "      <th>appearance</th>\n",
       "      <th>aroma</th>\n",
       "      <th>palate</th>\n",
       "      <th>taste</th>\n",
       "      <th>overall</th>\n",
       "      <th>rating</th>\n",
       "      <th>text</th>\n",
       "    </tr>\n",
       "  </thead>\n",
       "  <tbody>\n",
       "    <tr>\n",
       "      <th>871922</th>\n",
       "      <td>87</td>\n",
       "      <td>147</td>\n",
       "      <td>American Pale Ale (APA)</td>\n",
       "      <td>5.4</td>\n",
       "      <td>1246960800</td>\n",
       "      <td>rugerj.143830</td>\n",
       "      <td>3.5</td>\n",
       "      <td>3.50</td>\n",
       "      <td>3.50</td>\n",
       "      <td>3.5</td>\n",
       "      <td>4.00</td>\n",
       "      <td>3.60</td>\n",
       "      <td>Beer pours a deep copper /orange color with a ...</td>\n",
       "    </tr>\n",
       "    <tr>\n",
       "      <th>1035269</th>\n",
       "      <td>191243</td>\n",
       "      <td>28609</td>\n",
       "      <td>American Porter</td>\n",
       "      <td>6.7</td>\n",
       "      <td>1451300400</td>\n",
       "      <td>brewskis.680032</td>\n",
       "      <td>4.0</td>\n",
       "      <td>3.75</td>\n",
       "      <td>3.75</td>\n",
       "      <td>4.0</td>\n",
       "      <td>3.75</td>\n",
       "      <td>3.87</td>\n",
       "      <td>Pours a dark brown/black with over a finger of...</td>\n",
       "    </tr>\n",
       "    <tr>\n",
       "      <th>2159418</th>\n",
       "      <td>64798</td>\n",
       "      <td>43</td>\n",
       "      <td>American Amber / Red Ale</td>\n",
       "      <td>7.5</td>\n",
       "      <td>1299322800</td>\n",
       "      <td>codsmith.432558</td>\n",
       "      <td>4.5</td>\n",
       "      <td>3.00</td>\n",
       "      <td>3.00</td>\n",
       "      <td>2.0</td>\n",
       "      <td>3.00</td>\n",
       "      <td>2.69</td>\n",
       "      <td>Appearance - Very nice and clear dark amber wi...</td>\n",
       "    </tr>\n",
       "  </tbody>\n",
       "</table>\n",
       "</div>"
      ],
      "text/plain": [
       "         beer_id  brewery_id                     style  abv        date  \\\n",
       "871922        87         147   American Pale Ale (APA)  5.4  1246960800   \n",
       "1035269   191243       28609           American Porter  6.7  1451300400   \n",
       "2159418    64798          43  American Amber / Red Ale  7.5  1299322800   \n",
       "\n",
       "                 user_id  appearance  aroma  palate  taste  overall  rating  \\\n",
       "871922     rugerj.143830         3.5   3.50    3.50    3.5     4.00    3.60   \n",
       "1035269  brewskis.680032         4.0   3.75    3.75    4.0     3.75    3.87   \n",
       "2159418  codsmith.432558         4.5   3.00    3.00    2.0     3.00    2.69   \n",
       "\n",
       "                                                      text  \n",
       "871922   Beer pours a deep copper /orange color with a ...  \n",
       "1035269  Pours a dark brown/black with over a finger of...  \n",
       "2159418  Appearance - Very nice and clear dark amber wi...  "
      ]
     },
     "metadata": {},
     "output_type": "display_data"
    },
    {
     "name": "stdout",
     "output_type": "stream",
     "text": [
      "Shape of reviews_filtered :  (2557577, 13)\n"
     ]
    }
   ],
   "source": [
    "# remove the columns that are not useful for our analysis\n",
    "\n",
    "reviews_filtered = reviews.drop(columns=['user_name', 'beer_name', 'brewery_name']).copy(deep=True)\n",
    "\n",
    "#remove rows in reviews_filtered that have all_missing True in missing_values\n",
    "reviews_filtered = reviews_filtered[~missing_values['all_missing']].copy(deep=True)\n",
    "\n",
    "display(reviews_filtered.sample(3))\n",
    "print('Shape of reviews_filtered : ', reviews_filtered.shape)"
   ]
  },
  {
   "cell_type": "code",
   "execution_count": 28,
   "metadata": {},
   "outputs": [
    {
     "name": "stdout",
     "output_type": "stream",
     "text": [
      "Number of NaN values for each column :\n",
      "overall : 0\n",
      "taste : 0\n",
      "palate : 0\n",
      "aroma : 0\n",
      "appearance : 0\n"
     ]
    }
   ],
   "source": [
    "# count the number of NaN in columns ['overall', 'taste', 'palate', 'aroma', 'appearance']\n",
    "print('Number of NaN values for each column :')\n",
    "for col in ['overall', 'taste', 'palate', 'aroma', 'appearance']:\n",
    "    print(col, ':', len(reviews_filtered[reviews_filtered[col].isna()]))\n"
   ]
  },
  {
   "cell_type": "code",
   "execution_count": 29,
   "metadata": {},
   "outputs": [
    {
     "data": {
      "image/png": "[encoded data removed]",
      "text/plain": [
       "<Figure size 800x500 with 1 Axes>"
      ]
     },
     "metadata": {},
     "output_type": "display_data"
    }
   ],
   "source": [
    "# show boxplot for each rating column, appearance, aroma, palate, taste and overall\n",
    "\n",
    "plt.figure(figsize=(8, 5))\n",
    "sns.boxplot(data=reviews_filtered[['appearance', 'aroma', 'palate', 'taste', 'overall']])\n",
    "plt.title('Beer Ratings by Aspect')\n",
    "plt.xlabel('Aspect')\n",
    "plt.ylabel('Rating')\n",
    "plt.show()"
   ]
  },
  {
   "cell_type": "markdown",
   "metadata": {},
   "source": [
    "### Merge datasets 🔗"
   ]
  },
  {
   "cell_type": "code",
   "execution_count": 30,
   "metadata": {},
   "outputs": [
    {
     "data": {
      "text/html": [
       "<div>\n",
       "<style scoped>\n",
       "    .dataframe tbody tr th:only-of-type {\n",
       "        vertical-align: middle;\n",
       "    }\n",
       "\n",
       "    .dataframe tbody tr th {\n",
       "        vertical-align: top;\n",
       "    }\n",
       "\n",
       "    .dataframe thead th {\n",
       "        text-align: right;\n",
       "    }\n",
       "</style>\n",
       "<table border=\"1\" class=\"dataframe\">\n",
       "  <thead>\n",
       "    <tr style=\"text-align: right;\">\n",
       "      <th></th>\n",
       "      <th>beer_id</th>\n",
       "      <th>brewery_id</th>\n",
       "      <th>style</th>\n",
       "      <th>abv</th>\n",
       "      <th>date</th>\n",
       "      <th>user_id</th>\n",
       "      <th>appearance</th>\n",
       "      <th>aroma</th>\n",
       "      <th>palate</th>\n",
       "      <th>taste</th>\n",
       "      <th>overall</th>\n",
       "      <th>rating</th>\n",
       "      <th>text</th>\n",
       "      <th>beer_nbr_ratings</th>\n",
       "      <th>beer_nbr_reviews</th>\n",
       "      <th>avg</th>\n",
       "      <th>user_nbr_ratings</th>\n",
       "      <th>user_nbr_reviews</th>\n",
       "      <th>user_joined</th>\n",
       "      <th>user_location</th>\n",
       "      <th>brewery_location</th>\n",
       "      <th>brewery_nbr_beers</th>\n",
       "    </tr>\n",
       "  </thead>\n",
       "  <tbody>\n",
       "    <tr>\n",
       "      <th>1579346</th>\n",
       "      <td>103949</td>\n",
       "      <td>32706</td>\n",
       "      <td>American IPA</td>\n",
       "      <td>7.0</td>\n",
       "      <td>1419073200</td>\n",
       "      <td>jadpsu.190309</td>\n",
       "      <td>4.0</td>\n",
       "      <td>4.0</td>\n",
       "      <td>3.75</td>\n",
       "      <td>3.75</td>\n",
       "      <td>3.75</td>\n",
       "      <td>3.83</td>\n",
       "      <td>Pours a very hazy light copper amber with an a...</td>\n",
       "      <td>20</td>\n",
       "      <td>3</td>\n",
       "      <td>3.6</td>\n",
       "      <td>395</td>\n",
       "      <td>393</td>\n",
       "      <td>1.201432e+09</td>\n",
       "      <td>United States, Georgia</td>\n",
       "      <td>United States, Mississippi</td>\n",
       "      <td>2.0</td>\n",
       "    </tr>\n",
       "  </tbody>\n",
       "</table>\n",
       "</div>"
      ],
      "text/plain": [
       "         beer_id  brewery_id         style  abv        date        user_id  \\\n",
       "1579346   103949       32706  American IPA  7.0  1419073200  jadpsu.190309   \n",
       "\n",
       "         appearance  aroma  palate  taste  overall  rating  \\\n",
       "1579346         4.0    4.0    3.75   3.75     3.75    3.83   \n",
       "\n",
       "                                                      text  beer_nbr_ratings  \\\n",
       "1579346  Pours a very hazy light copper amber with an a...                20   \n",
       "\n",
       "         beer_nbr_reviews  avg  user_nbr_ratings  user_nbr_reviews  \\\n",
       "1579346                 3  3.6               395               393   \n",
       "\n",
       "          user_joined           user_location            brewery_location  \\\n",
       "1579346  1.201432e+09  United States, Georgia  United States, Mississippi   \n",
       "\n",
       "         brewery_nbr_beers  \n",
       "1579346                2.0  "
      ]
     },
     "metadata": {},
     "output_type": "display_data"
    },
    {
     "name": "stdout",
     "output_type": "stream",
     "text": [
      "Shape of df_merged :  (2557577, 22)\n"
     ]
    }
   ],
   "source": [
    "# Merge reviews with users and beers and breweries\n",
    "df_merged = reviews_filtered.merge(beers_filtered, how='left', on=['beer_id', 'brewery_id', 'style', 'abv'])\n",
    "df_merged = df_merged.merge(users_filtered, how='left', on='user_id')\n",
    "df_merged = df_merged.merge(breweries_filtered, how='left', on='brewery_id')\n",
    "\n",
    "display(df_merged.sample(1))\n",
    "print('Shape of df_merged : ', df_merged.shape)"
   ]
  },
  {
   "cell_type": "markdown",
   "metadata": {},
   "source": [
    "### Filter datasets ✂️\n",
    "\n",
    "<div class=\"alert alert-block alert-danger\">\n",
    "<b>Danger:</b> Comment EVERY filtering\n",
    "</div>"
   ]
  },
  {
   "cell_type": "code",
   "execution_count": 31,
   "metadata": {},
   "outputs": [
    {
     "data": {
      "image/png": "[encoded data removed]",
      "text/plain": [
       "<Figure size 640x480 with 1 Axes>"
      ]
     },
     "metadata": {},
     "output_type": "display_data"
    }
   ],
   "source": [
    "# show the percentage of missing values per columm\n",
    "plt.figure()\n",
    "(df_merged.isna().sum() / len(df_merged) * 100).plot(kind='barh', title='Percentage of missing values per column')\n",
    "plt.xlabel('Percentage of missing values')\n",
    "plt.show()"
   ]
  },
  {
   "cell_type": "code",
   "execution_count": 36,
   "metadata": {},
   "outputs": [
    {
     "name": "stdout",
     "output_type": "stream",
     "text": [
      "Shape of df_nonan :  (2387578, 22)\n",
      "Percentage of rows removed :  6.65 %\n"
     ]
    }
   ],
   "source": [
    "df_nonan = df_merged.dropna().copy(deep=True)\n",
    "print('Shape of df_nonan : ', df_nonan.shape)\n",
    "print('Percentage of rows removed : ', round((1 - len(df_nonan) / len(df_merged)) * 100, 2), '%')"
   ]
  },
  {
   "cell_type": "code",
   "execution_count": 37,
   "metadata": {},
   "outputs": [],
   "source": [
    "# Save to csv\n",
    "df_nonan.to_csv(dataset_path + 'BeerAdvocateMerged.csv', index=False)"
   ]
  },
  {
   "cell_type": "code",
   "execution_count": 38,
   "metadata": {},
   "outputs": [],
   "source": [
    "df = pd.read_csv(dataset_path + 'BeerAdvocateMerged.csv')"
   ]
  },
  {
   "cell_type": "code",
   "execution_count": 39,
   "metadata": {},
   "outputs": [
    {
     "data": {
      "text/html": [
       "<div>\n",
       "<style scoped>\n",
       "    .dataframe tbody tr th:only-of-type {\n",
       "        vertical-align: middle;\n",
       "    }\n",
       "\n",
       "    .dataframe tbody tr th {\n",
       "        vertical-align: top;\n",
       "    }\n",
       "\n",
       "    .dataframe thead th {\n",
       "        text-align: right;\n",
       "    }\n",
       "</style>\n",
       "<table border=\"1\" class=\"dataframe\">\n",
       "  <thead>\n",
       "    <tr style=\"text-align: right;\">\n",
       "      <th></th>\n",
       "      <th>beer_id</th>\n",
       "      <th>brewery_id</th>\n",
       "      <th>style</th>\n",
       "      <th>abv</th>\n",
       "      <th>date</th>\n",
       "      <th>user_id</th>\n",
       "      <th>appearance</th>\n",
       "      <th>aroma</th>\n",
       "      <th>palate</th>\n",
       "      <th>taste</th>\n",
       "      <th>overall</th>\n",
       "      <th>rating</th>\n",
       "      <th>text</th>\n",
       "      <th>beer_nbr_ratings</th>\n",
       "      <th>beer_nbr_reviews</th>\n",
       "      <th>avg</th>\n",
       "      <th>user_nbr_ratings</th>\n",
       "      <th>user_nbr_reviews</th>\n",
       "      <th>user_joined</th>\n",
       "      <th>user_location</th>\n",
       "      <th>brewery_location</th>\n",
       "      <th>brewery_nbr_beers</th>\n",
       "    </tr>\n",
       "  </thead>\n",
       "  <tbody>\n",
       "    <tr>\n",
       "      <th>1600959</th>\n",
       "      <td>45914</td>\n",
       "      <td>402</td>\n",
       "      <td>Baltic Porter</td>\n",
       "      <td>6.8</td>\n",
       "      <td>1356778800</td>\n",
       "      <td>tone77.332060</td>\n",
       "      <td>4.0</td>\n",
       "      <td>3.50</td>\n",
       "      <td>3.5</td>\n",
       "      <td>3.50</td>\n",
       "      <td>3.5</td>\n",
       "      <td>3.53</td>\n",
       "      <td>Poured from a brwon12 oz. bottle. Has a black ...</td>\n",
       "      <td>230</td>\n",
       "      <td>111</td>\n",
       "      <td>3.75</td>\n",
       "      <td>3489</td>\n",
       "      <td>3489</td>\n",
       "      <td>1.242814e+09</td>\n",
       "      <td>United States, Pennsylvania</td>\n",
       "      <td>United States, Delaware</td>\n",
       "      <td>104.0</td>\n",
       "    </tr>\n",
       "    <tr>\n",
       "      <th>1143218</th>\n",
       "      <td>38660</td>\n",
       "      <td>130</td>\n",
       "      <td>Russian Imperial Stout</td>\n",
       "      <td>8.0</td>\n",
       "      <td>1239962400</td>\n",
       "      <td>glid02.173319</td>\n",
       "      <td>4.0</td>\n",
       "      <td>4.00</td>\n",
       "      <td>3.5</td>\n",
       "      <td>4.50</td>\n",
       "      <td>4.0</td>\n",
       "      <td>4.15</td>\n",
       "      <td>Had this courtesy of daryk77 - much obliged!Po...</td>\n",
       "      <td>491</td>\n",
       "      <td>332</td>\n",
       "      <td>3.82</td>\n",
       "      <td>2303</td>\n",
       "      <td>2298</td>\n",
       "      <td>1.195297e+09</td>\n",
       "      <td>United States, Georgia</td>\n",
       "      <td>United States, Colorado</td>\n",
       "      <td>111.0</td>\n",
       "    </tr>\n",
       "    <tr>\n",
       "      <th>1300</th>\n",
       "      <td>95722</td>\n",
       "      <td>31842</td>\n",
       "      <td>English Bitter</td>\n",
       "      <td>4.3</td>\n",
       "      <td>1372154400</td>\n",
       "      <td>blackhaddock.90923</td>\n",
       "      <td>2.0</td>\n",
       "      <td>3.25</td>\n",
       "      <td>3.0</td>\n",
       "      <td>3.25</td>\n",
       "      <td>3.0</td>\n",
       "      <td>3.10</td>\n",
       "      <td>500ml Bottle conditioned: BBD 29 Nov 2013, pou...</td>\n",
       "      <td>1</td>\n",
       "      <td>1</td>\n",
       "      <td>3.10</td>\n",
       "      <td>3050</td>\n",
       "      <td>3050</td>\n",
       "      <td>1.154686e+09</td>\n",
       "      <td>England</td>\n",
       "      <td>Wales</td>\n",
       "      <td>5.0</td>\n",
       "    </tr>\n",
       "  </tbody>\n",
       "</table>\n",
       "</div>"
      ],
      "text/plain": [
       "         beer_id  brewery_id                   style  abv        date  \\\n",
       "1600959    45914         402           Baltic Porter  6.8  1356778800   \n",
       "1143218    38660         130  Russian Imperial Stout  8.0  1239962400   \n",
       "1300       95722       31842          English Bitter  4.3  1372154400   \n",
       "\n",
       "                    user_id  appearance  aroma  palate  taste  overall  \\\n",
       "1600959       tone77.332060         4.0   3.50     3.5   3.50      3.5   \n",
       "1143218       glid02.173319         4.0   4.00     3.5   4.50      4.0   \n",
       "1300     blackhaddock.90923         2.0   3.25     3.0   3.25      3.0   \n",
       "\n",
       "         rating                                               text  \\\n",
       "1600959    3.53  Poured from a brwon12 oz. bottle. Has a black ...   \n",
       "1143218    4.15  Had this courtesy of daryk77 - much obliged!Po...   \n",
       "1300       3.10  500ml Bottle conditioned: BBD 29 Nov 2013, pou...   \n",
       "\n",
       "         beer_nbr_ratings  beer_nbr_reviews   avg  user_nbr_ratings  \\\n",
       "1600959               230               111  3.75              3489   \n",
       "1143218               491               332  3.82              2303   \n",
       "1300                    1                 1  3.10              3050   \n",
       "\n",
       "         user_nbr_reviews   user_joined                user_location  \\\n",
       "1600959              3489  1.242814e+09  United States, Pennsylvania   \n",
       "1143218              2298  1.195297e+09       United States, Georgia   \n",
       "1300                 3050  1.154686e+09                      England   \n",
       "\n",
       "                brewery_location  brewery_nbr_beers  \n",
       "1600959  United States, Delaware              104.0  \n",
       "1143218  United States, Colorado              111.0  \n",
       "1300                       Wales                5.0  "
      ]
     },
     "metadata": {},
     "output_type": "display_data"
    },
    {
     "name": "stdout",
     "output_type": "stream",
     "text": [
      "Shape of df :  (2387578, 22)\n"
     ]
    }
   ],
   "source": [
    "display(df.sample(3))\n",
    "print('Shape of df : ', df.shape)"
   ]
  },
  {
   "cell_type": "markdown",
   "metadata": {},
   "source": [
    "## Data enrichment 🍺\n",
    "### Serving type 🍾🥤🚰\n",
    "\n",
    ">Since our goal is to look at the influence of the serving style, we need to know how each beer was served. \n",
    "For now, we use a naive approach. We only look at whether a word specific to as service style has been used. \n"
   ]
  },
  {
   "cell_type": "code",
   "execution_count": 40,
   "metadata": {},
   "outputs": [],
   "source": [
    "# Create 3 different columns according to the text review, \"bottle\", \"can\", \"draft\"\n",
    "\n",
    "bottle = ['bottle', 'bottled', 'bottles']\n",
    "can = [' can ', 'canned', ' cans ']\n",
    "draft = ['draft', 'draught', 'tap', 'taps']\n",
    "# Create different columns if review text contains the word\n",
    "df['bottle'] = df['text'].apply(lambda x: any(ele in x.lower() for ele in bottle))\n",
    "df['can'] = df['text'].apply(lambda x: any(ele in x.lower() for ele in can))\n",
    "df['draft'] = df['text'].apply(lambda x: any(ele in x.lower() for ele in draft))"
   ]
  },
  {
   "cell_type": "code",
   "execution_count": 41,
   "metadata": {},
   "outputs": [
    {
     "data": {
      "text/html": [
       "<div>\n",
       "<style scoped>\n",
       "    .dataframe tbody tr th:only-of-type {\n",
       "        vertical-align: middle;\n",
       "    }\n",
       "\n",
       "    .dataframe tbody tr th {\n",
       "        vertical-align: top;\n",
       "    }\n",
       "\n",
       "    .dataframe thead th {\n",
       "        text-align: right;\n",
       "    }\n",
       "</style>\n",
       "<table border=\"1\" class=\"dataframe\">\n",
       "  <thead>\n",
       "    <tr style=\"text-align: right;\">\n",
       "      <th></th>\n",
       "      <th>beer_id</th>\n",
       "      <th>brewery_id</th>\n",
       "      <th>style</th>\n",
       "      <th>abv</th>\n",
       "      <th>date</th>\n",
       "      <th>user_id</th>\n",
       "      <th>appearance</th>\n",
       "      <th>aroma</th>\n",
       "      <th>palate</th>\n",
       "      <th>taste</th>\n",
       "      <th>overall</th>\n",
       "      <th>rating</th>\n",
       "      <th>text</th>\n",
       "      <th>beer_nbr_ratings</th>\n",
       "      <th>beer_nbr_reviews</th>\n",
       "      <th>avg</th>\n",
       "      <th>user_nbr_ratings</th>\n",
       "      <th>user_nbr_reviews</th>\n",
       "      <th>user_joined</th>\n",
       "      <th>user_location</th>\n",
       "      <th>brewery_location</th>\n",
       "      <th>brewery_nbr_beers</th>\n",
       "      <th>serving_type</th>\n",
       "    </tr>\n",
       "  </thead>\n",
       "  <tbody>\n",
       "    <tr>\n",
       "      <th>1362709</th>\n",
       "      <td>1013</td>\n",
       "      <td>345</td>\n",
       "      <td>American Double / Imperial Stout</td>\n",
       "      <td>9.10</td>\n",
       "      <td>1223028000</td>\n",
       "      <td>deepsix.244328</td>\n",
       "      <td>4.0</td>\n",
       "      <td>4.0</td>\n",
       "      <td>4.50</td>\n",
       "      <td>4.00</td>\n",
       "      <td>4.00</td>\n",
       "      <td>4.05</td>\n",
       "      <td>Black. Poured with a dark brown head, about ha...</td>\n",
       "      <td>5913</td>\n",
       "      <td>2642</td>\n",
       "      <td>4.10</td>\n",
       "      <td>60</td>\n",
       "      <td>60</td>\n",
       "      <td>1.219399e+09</td>\n",
       "      <td>United States, Maryland</td>\n",
       "      <td>United States, Pennsylvania</td>\n",
       "      <td>317.0</td>\n",
       "      <td>bottle</td>\n",
       "    </tr>\n",
       "    <tr>\n",
       "      <th>886895</th>\n",
       "      <td>112640</td>\n",
       "      <td>936</td>\n",
       "      <td>American IPA</td>\n",
       "      <td>6.25</td>\n",
       "      <td>1397383200</td>\n",
       "      <td>mactrail.311921</td>\n",
       "      <td>3.5</td>\n",
       "      <td>4.0</td>\n",
       "      <td>3.75</td>\n",
       "      <td>3.75</td>\n",
       "      <td>3.75</td>\n",
       "      <td>3.80</td>\n",
       "      <td>Golden amber in the nonic glass with plenty of...</td>\n",
       "      <td>46</td>\n",
       "      <td>8</td>\n",
       "      <td>3.72</td>\n",
       "      <td>5058</td>\n",
       "      <td>5030</td>\n",
       "      <td>1.237892e+09</td>\n",
       "      <td>United States, Washington</td>\n",
       "      <td>United States, Washington</td>\n",
       "      <td>71.0</td>\n",
       "      <td>bottle</td>\n",
       "    </tr>\n",
       "    <tr>\n",
       "      <th>2213197</th>\n",
       "      <td>78</td>\n",
       "      <td>149</td>\n",
       "      <td>Witbier</td>\n",
       "      <td>4.50</td>\n",
       "      <td>1329735600</td>\n",
       "      <td>xnicknj.333746</td>\n",
       "      <td>4.0</td>\n",
       "      <td>4.0</td>\n",
       "      <td>4.00</td>\n",
       "      <td>3.50</td>\n",
       "      <td>3.50</td>\n",
       "      <td>3.70</td>\n",
       "      <td>on tap at tapestry in phillyPours a completely...</td>\n",
       "      <td>992</td>\n",
       "      <td>333</td>\n",
       "      <td>3.71</td>\n",
       "      <td>2192</td>\n",
       "      <td>1198</td>\n",
       "      <td>1.243246e+09</td>\n",
       "      <td>United States, Pennsylvania</td>\n",
       "      <td>Belgium</td>\n",
       "      <td>43.0</td>\n",
       "      <td>draft</td>\n",
       "    </tr>\n",
       "  </tbody>\n",
       "</table>\n",
       "</div>"
      ],
      "text/plain": [
       "         beer_id  brewery_id                             style   abv  \\\n",
       "1362709     1013         345  American Double / Imperial Stout  9.10   \n",
       "886895    112640         936                      American IPA  6.25   \n",
       "2213197       78         149                           Witbier  4.50   \n",
       "\n",
       "               date          user_id  appearance  aroma  palate  taste  \\\n",
       "1362709  1223028000   deepsix.244328         4.0    4.0    4.50   4.00   \n",
       "886895   1397383200  mactrail.311921         3.5    4.0    3.75   3.75   \n",
       "2213197  1329735600   xnicknj.333746         4.0    4.0    4.00   3.50   \n",
       "\n",
       "         overall  rating                                               text  \\\n",
       "1362709     4.00    4.05  Black. Poured with a dark brown head, about ha...   \n",
       "886895      3.75    3.80  Golden amber in the nonic glass with plenty of...   \n",
       "2213197     3.50    3.70  on tap at tapestry in phillyPours a completely...   \n",
       "\n",
       "         beer_nbr_ratings  beer_nbr_reviews   avg  user_nbr_ratings  \\\n",
       "1362709              5913              2642  4.10                60   \n",
       "886895                 46                 8  3.72              5058   \n",
       "2213197               992               333  3.71              2192   \n",
       "\n",
       "         user_nbr_reviews   user_joined                user_location  \\\n",
       "1362709                60  1.219399e+09      United States, Maryland   \n",
       "886895               5030  1.237892e+09    United States, Washington   \n",
       "2213197              1198  1.243246e+09  United States, Pennsylvania   \n",
       "\n",
       "                    brewery_location  brewery_nbr_beers serving_type  \n",
       "1362709  United States, Pennsylvania              317.0       bottle  \n",
       "886895     United States, Washington               71.0       bottle  \n",
       "2213197                      Belgium               43.0        draft  "
      ]
     },
     "metadata": {},
     "output_type": "display_data"
    },
    {
     "data": {
      "text/plain": [
       "serving_type\n",
       "bottle    619246\n",
       "can       187137\n",
       "draft     165750\n",
       "Name: count, dtype: int64"
      ]
     },
     "execution_count": 41,
     "metadata": {},
     "output_type": "execute_result"
    }
   ],
   "source": [
    "# remove every row where columns bottle, can and draft are all False\n",
    "df = df[df[['bottle', 'can', 'draft']].any(axis=1)]\n",
    "# display(df.sample(3))\n",
    "# print('We have {} valid reviews'.format(df.shape[0]))\n",
    "\n",
    "# remove every row with more than 1 true\n",
    "df = df[df[['bottle', 'can', 'draft']].sum(axis=1) == 1]\n",
    "# display(df.sample(3))\n",
    "# print('We have {} valid reviews'.format(df.shape[0]))\n",
    "\n",
    "#create a new column with the serving type\n",
    "df['serving_type'] = df[['bottle', 'can', 'draft']].idxmax(axis=1)\n",
    "\n",
    "# drop the columns bottle, can and draft\n",
    "df.drop(['bottle', 'can', 'draft'], axis=1, inplace=True)\n",
    "\n",
    "display(df.sample(3))\n",
    "\n",
    "# print the number of reviews for each serving type\n",
    "df['serving_type'].value_counts(normalize=False)"
   ]
  },
  {
   "cell_type": "markdown",
   "metadata": {},
   "source": [
    "## Data filtering 🧹\n",
    "Number of valid reviews per beer and users & average rating per beer"
   ]
  },
  {
   "cell_type": "markdown",
   "metadata": {},
   "source": [
    "### Filtering on amount of reviews"
   ]
  },
  {
   "cell_type": "code",
   "execution_count": null,
   "metadata": {},
   "outputs": [],
   "source": [
    "# compute the number of valid reviews per user\n",
    "df['user_nbr_reviews_computed'] = df.groupby('user_id')['user_id'].transform('count')\n",
    "\n",
    "# compute the number of valid reviews per beer\n",
    "df['beer_nbr_reviews_computed'] = df.groupby('beer_id')['beer_id'].transform('count')\n",
    "\n",
    "# compute the avg rating per beer\n",
    "df['beer_avg_computed'] = df.groupby('beer_id')['rating'].transform('mean')\n",
    "\n",
    "df.sample(3)"
   ]
  },
  {
   "cell_type": "code",
   "execution_count": null,
   "metadata": {},
   "outputs": [],
   "source": [
    "plt.figure(figsize=(15, 5))\n",
    "\n",
    "# group the reviews by beer_id and show a histogram of the number of reviews computed\n",
    "plt.subplot(1, 2, 1)\n",
    "df.groupby('beer_id')['beer_nbr_reviews_computed'].mean().hist(bins=100, log=True)\n",
    "plt.xlabel('Number of reviews per beer')\n",
    "plt.ylabel('Count')\n",
    "\n",
    "# group the reviews by user_id and show a histogram of the number of reviews computed\n",
    "plt.subplot(1, 2, 2)\n",
    "df.groupby('user_id')['user_nbr_reviews_computed'].mean().hist(bins=100, log=True)\n",
    "plt.xlabel('Number of reviews per user')\n",
    "plt.ylabel('Count')\n",
    "\n",
    "plt.tight_layout()\n",
    "plt.show()"
   ]
  },
  {
   "cell_type": "code",
   "execution_count": null,
   "metadata": {},
   "outputs": [],
   "source": [
    "#Filtering to remove users and beers with less reviews\n",
    "\n",
    "min_nbr_reviews_per_user = 0\n",
    "min_nbr_reviews_per_beer = 20\n",
    "\n",
    "len0 = df.shape[0]\n",
    "\n",
    "# remove every row where the number of reviews per user is less than min_nbr_reviews_per_user\n",
    "df_filter = df[df['user_nbr_reviews_computed'] >= min_nbr_reviews_per_user].copy(deep=True)\n",
    "\n",
    "# remove every row where the number of reviews per beer is less than min_nbr_reviews_per_beer\n",
    "df_filter_full = df_filter[df_filter['beer_nbr_reviews_computed'] >= min_nbr_reviews_per_beer].copy(deep=True)\n",
    "\n",
    "print('We removed {} rows, leaving us with {} %% of the original dataset'.format(len0 - df_filter_full.shape[0], round(df_filter_full.shape[0] / len0 * 100, 2)))\n",
    "print('We have {} valid reviews'.format(df_filter_full.shape[0]))\n",
    "\n",
    "# print the number of reviews for each serving type\n",
    "df_filter_full['serving_type'].value_counts(normalize=False)"
   ]
  },
  {
   "cell_type": "markdown",
   "metadata": {},
   "source": [
    "### Filter on readability score of the reviews 📝"
   ]
  },
  {
   "cell_type": "code",
   "execution_count": null,
   "metadata": {},
   "outputs": [],
   "source": [
    "df_sample = df_filter_full.sample(n=1000, random_state=46)"
   ]
  },
  {
   "cell_type": "code",
   "execution_count": null,
   "metadata": {},
   "outputs": [],
   "source": [
    "df_sample['readability_score'] = df_sample['text'].apply(lambda x: flesch_reading_ease(x) if isinstance(x, str) else None)\n",
    "df_sample['readability_score'].hist(bins=100, figsize=(15, 5), log=True)"
   ]
  },
  {
   "cell_type": "code",
   "execution_count": null,
   "metadata": {},
   "outputs": [],
   "source": [
    "# printing some reviews based on readability score\n",
    "\n",
    "df_sample[df_sample['readability_score'] < 20]['text'].count()\n",
    "\n",
    "# for row in df_sample[df_sample['readability_score'] > 96]['text']:\n",
    "#     print(row)\n",
    "#     print('----------------------')"
   ]
  },
  {
   "cell_type": "code",
   "execution_count": null,
   "metadata": {},
   "outputs": [],
   "source": [
    "# remove reviews with bad readability score\n",
    "\n"
   ]
  },
  {
   "cell_type": "markdown",
   "metadata": {},
   "source": [
    "### Extracting the serving mode with NLP"
   ]
  },
  {
   "cell_type": "code",
   "execution_count": null,
   "metadata": {},
   "outputs": [],
   "source": [
    "import nltk\n",
    "import spacy"
   ]
  },
  {
   "cell_type": "code",
   "execution_count": null,
   "metadata": {},
   "outputs": [],
   "source": [
    "df_test_nlp = df_sample.copy(deep=True)\n",
    "nlp = spacy.load(\"en_core_web_sm\")"
   ]
  },
  {
   "cell_type": "code",
   "execution_count": null,
   "metadata": {},
   "outputs": [],
   "source": [
    "def extract_serving_style(text):\n",
    "    # Process the text using spaCy\n",
    "    doc = nlp(text)\n",
    "    \n",
    "    # Initialize the serving style variable\n",
    "    serving_style = None\n",
    "    \n",
    "    # Analyze the dependency tree and part-of-speech tags\n",
    "    # Find the serving styles\n",
    "    for token in doc:\n",
    "        if \"can\" == token.lemma and token.dep_ == \"nsubj\":\n",
    "            serving_style = \"can\"\n",
    "            break\n",
    "        elif \"bottle\" == token.lemma and token.dep_ == \"nsubj\" and \"VB\" in token.head.pos_:\n",
    "            serving_style = \"bottle\"\n",
    "            break\n",
    "        elif \"tap\" == token.lemma and token.dep_ == \"nsubj\" and \"VB\" in token.head.pos_:\n",
    "            serving_style = \"tap\"\n",
    "            break\n",
    "    \n",
    "    return serving_style"
   ]
  },
  {
   "cell_type": "code",
   "execution_count": null,
   "metadata": {},
   "outputs": [],
   "source": [
    "ex_review = str(\"Can. I would love to try it on tap\")"
   ]
  },
  {
   "cell_type": "code",
   "execution_count": null,
   "metadata": {},
   "outputs": [],
   "source": [
    "doc = nlp(ex_review)\n",
    "for token in doc:\n",
    "    print(token.text, token.lemma_, token.pos_, token.dep_)"
   ]
  },
  {
   "cell_type": "code",
   "execution_count": null,
   "metadata": {},
   "outputs": [],
   "source": [
    "print(extract_serving_style(ex_review))"
   ]
  },
  {
   "cell_type": "code",
   "execution_count": null,
   "metadata": {},
   "outputs": [],
   "source": [
    "df_test_nlp['text'].sample(1)"
   ]
  },
  {
   "cell_type": "code",
   "execution_count": null,
   "metadata": {},
   "outputs": [],
   "source": [
    "%%time\n",
    "df_test_nlp['serving_style'] = df_test_nlp['text'].apply(extract_serving_style)"
   ]
  },
  {
   "cell_type": "code",
   "execution_count": null,
   "metadata": {},
   "outputs": [],
   "source": [
    "# Look if all serving_style values are still None (True or False)\n",
    "df_test_nlp['serving_style'].isna().all()"
   ]
  },
  {
   "cell_type": "markdown",
   "metadata": {},
   "source": [
    "### Countries grouping 🌍"
   ]
  },
  {
   "cell_type": "code",
   "execution_count": null,
   "metadata": {},
   "outputs": [],
   "source": [
    "countries = pd.read_csv('data/countries.csv', usecols=['name', 'region', 'sub-region'])\n",
    "countries.sample(1)"
   ]
  },
  {
   "cell_type": "markdown",
   "metadata": {},
   "source": [
    "### Visualization 📊"
   ]
  },
  {
   "cell_type": "code",
   "execution_count": null,
   "metadata": {},
   "outputs": [],
   "source": [
    "# print some reviews for each serving type\n",
    "print('Reviews with bottle:\\n')\n",
    "for text in df[df['serving_type'] == 'bottle']['text'].sample(1):\n",
    "    print(text)\n",
    "    print('----------------------')\n",
    "print('Reviews with can:\\n')\n",
    "for text in df[df['serving_type'] == 'can']['text'].sample(1):\n",
    "    print(text)\n",
    "    print('----------------------')\n",
    "print('Reviews with draft:\\n')\n",
    "for text in df[df['serving_type'] == 'draft']['text'].sample(1):\n",
    "    print(text)\n",
    "    print('----------------------')"
   ]
  },
  {
   "cell_type": "code",
   "execution_count": null,
   "metadata": {},
   "outputs": [],
   "source": [
    "# print the average value of the rating for each serving type\n",
    "comp_str = 'rating'\n",
    "print('Average ' + comp_str + ' for bottle: ', round(df[df['serving_type'] == 'bottle'][comp_str].mean(), 3))\n",
    "print('Average ' + comp_str + ' for can: ', round(df[df['serving_type'] == 'can'][comp_str].mean(), 3))\n",
    "print('Average ' + comp_str + ' for draft: ', round(df[df['serving_type'] == 'draft'][comp_str].mean(), 3))"
   ]
  },
  {
   "cell_type": "code",
   "execution_count": null,
   "metadata": {},
   "outputs": [],
   "source": [
    "# show boxplot and histograms of ratings for bottle, can and draft\n",
    "plt.figure(figsize=(10, 6))\n",
    "plt.subplot(121)\n",
    "sns.boxplot(data=df, hue='serving_type', y='rating')\n",
    "plt.subplot(122)\n",
    "sns.histplot(data=df, hue='serving_type', x='rating', kde=True, bins=20)\n",
    "plt.tight_layout()\n",
    "plt.show()"
   ]
  },
  {
   "cell_type": "markdown",
   "metadata": {},
   "source": [
    "# Statistical Analysis 📈"
   ]
  },
  {
   "cell_type": "markdown",
   "metadata": {},
   "source": [
    "### Measure the impact of each aspect on rating 📏"
   ]
  },
  {
   "cell_type": "code",
   "execution_count": null,
   "metadata": {},
   "outputs": [],
   "source": [
    "# fit a linear regression line to the data for all 5 aspects\n",
    "reg1 = LinearRegression().fit(df[['appearance']], df['rating'])\n",
    "reg2 = LinearRegression().fit(df[['aroma']], df['rating'])\n",
    "reg3 = LinearRegression().fit(df[['palate']], df['rating'])\n",
    "reg4 = LinearRegression().fit(df[['taste']], df['rating'])\n",
    "reg5 = LinearRegression().fit(df[['overall']], df['rating'])\n",
    "\n",
    "# create subplots for all 5 aspects\n",
    "fig, axs = plt.subplots(1, 5, figsize=(20, 5))\n",
    "\n",
    "# plot the data and regression line for each aspect\n",
    "sns.scatterplot(data=df, x='appearance', y='rating', s=0.5, ax=axs[0])\n",
    "axs[0].plot(df[['appearance']], reg1.predict(df[['appearance']]), color='red')\n",
    "axs[0].set_title('Appearance\\nSlope = ' + str(round(reg1.coef_[0], 3)) + '\\nR2 = ' + str(round(reg1.score(df[['appearance']], df['rating']), 3)))\n",
    "\n",
    "sns.scatterplot(data=df, x='aroma', y='rating', s=0.5, ax=axs[1])\n",
    "axs[1].plot(df[['aroma']], reg2.predict(df[['aroma']]), color='red')\n",
    "axs[1].set_title('Aroma\\nSlope = ' + str(round(reg2.coef_[0], 3)) + '\\nR2 = ' + str(round(reg2.score(df[['aroma']], df['rating']), 3)))\n",
    "\n",
    "sns.scatterplot(data=df, x='palate', y='rating', s=0.5, ax=axs[2])\n",
    "axs[2].plot(df[['palate']], reg3.predict(df[['palate']]), color='red')\n",
    "axs[2].set_title('Palate\\nSlope = ' + str(round(reg3.coef_[0], 3)) + '\\nR2 = ' + str(round(reg3.score(df[['palate']], df['rating']), 3)))\n",
    "\n",
    "sns.scatterplot(data=df, x='taste', y='rating', s=0.5, ax=axs[3])\n",
    "axs[3].plot(df[['taste']], reg4.predict(df[['taste']]), color='red')\n",
    "axs[3].set_title('Taste\\nSlope = ' + str(round(reg4.coef_[0], 3)) + '\\nR2 = ' + str(round(reg4.score(df[['taste']], df['rating']), 3)))\n",
    "\n",
    "sns.scatterplot(data=df, x='overall', y='rating', s=0.5, ax=axs[4])\n",
    "axs[4].plot(df[['overall']], reg5.predict(df[['overall']]), color='red')\n",
    "axs[4].set_title('Overall\\nSlope = ' + str(round(reg5.coef_[0], 3)) + '\\nR2 = ' + str(round(reg5.score(df[['overall']], df['rating']), 3)))\n",
    "\n",
    "plt.tight_layout()\n",
    "plt.show()\n",
    "\n",
    "# should still add confidence intervals"
   ]
  },
  {
   "cell_type": "markdown",
   "metadata": {},
   "source": [
    "It seems like Taste as the biggest impact on the rating while appearance has the least impact."
   ]
  },
  {
   "cell_type": "markdown",
   "metadata": {},
   "source": [
    "### Hypothesis testing on the new labels"
   ]
  },
  {
   "cell_type": "code",
   "execution_count": null,
   "metadata": {},
   "outputs": [],
   "source": [
    "def do_ttest(type1, type2, category):\n",
    "    ttest = ttest_ind(df[df['serving_type'] == type1][category],df[df['serving_type'] == type2][category])\n",
    "    if ttest[1] > 0.05:\n",
    "        print('The p-value is high (' + str(ttest[1]) + '), so we cannot reject the null hypothesis that the two samples have the same average')\n",
    "    else:\n",
    "        print('The p-value is very low (' + str(ttest[1]) + '), so we can reject the null hypothesis that the two samples have the same average')"
   ]
  },
  {
   "cell_type": "code",
   "execution_count": null,
   "metadata": {},
   "outputs": [],
   "source": [
    "# define the columns to compare\n",
    "columns = ['appearance', 'aroma', 'palate', 'taste', 'overall', 'rating']\n",
    "\n",
    "# create an empty matrix to store the p-values\n",
    "p_values = np.zeros((len(columns), 3))\n",
    "\n",
    "# perform the t-test and store the p-values in the matrix\n",
    "for i in range(len(columns)):\n",
    "    ttest1 = ttest_ind(df[df['serving_type'] == 'bottle'][columns[i]], df[df['serving_type'] == 'can'][columns[i]])\n",
    "    ttest2 = ttest_ind(df[df['serving_type'] == 'can'][columns[i]], df[df['serving_type'] == 'draft'][columns[i]])\n",
    "    ttest3 = ttest_ind(df[df['serving_type'] == 'draft'][columns[i]], df[df['serving_type'] == 'bottle'][columns[i]])\n",
    "    p_values[i][0] = ttest1[1]\n",
    "    p_values[i][1] = ttest2[1]\n",
    "    p_values[i][2] = ttest3[1]\n",
    "\n",
    "# create the grouped bar chart\n",
    "fig, ax = plt.subplots(figsize=(10, 6))\n",
    "x = np.arange(len(columns))\n",
    "width = 0.25\n",
    "rects1 = ax.bar(x - width, p_values[:,0], width, label='Bottle vs Can')\n",
    "rects2 = ax.bar(x, p_values[:,1], width, label='Can vs Draft')\n",
    "rects3 = ax.bar(x + width, p_values[:,2], width, label='Draft vs Bottle')\n",
    "ax.set_xticks(x)\n",
    "# ax.set_yscale('log')\n",
    "ax.set_xticklabels(columns)\n",
    "ax.set_ylabel('p-value')\n",
    "ax.set_title('Comparison of Aspects between Service Types')\n",
    "ax.legend()\n",
    "plt.show()"
   ]
  },
  {
   "cell_type": "markdown",
   "metadata": {},
   "source": [
    "All the p-values are below 0.05 (expect 1), so we can reject the null hypothesis and conclude that there is a significant difference between the groups."
   ]
  },
  {
   "cell_type": "code",
   "execution_count": null,
   "metadata": {},
   "outputs": [],
   "source": [
    "# t-test for aroma betwwen draft and bottle\n",
    "do_ttest('draft', 'bottle', 'aroma')"
   ]
  },
  {
   "cell_type": "code",
   "execution_count": null,
   "metadata": {},
   "outputs": [],
   "source": [
    "# show a boxplot of aroma for draft and bottle\n",
    "plt.figure(figsize=(10, 6))\n",
    "sns.boxplot(data=df[df['serving_type'].isin(['draft', 'bottle'])], x='serving_type', y='aroma')\n",
    "plt.show()"
   ]
  },
  {
   "cell_type": "markdown",
   "metadata": {},
   "source": []
  }
 ],
 "metadata": {
  "kernelspec": {
   "display_name": "ADA",
   "language": "python",
   "name": "python3"
  },
  "language_info": {
   "codemirror_mode": {
    "name": "ipython",
    "version": 3
   },
   "file_extension": ".py",
   "mimetype": "text/x-python",
   "name": "python",
   "nbconvert_exporter": "python",
   "pygments_lexer": "ipython3",
   "version": "3.11.5"
  }
 },
 "nbformat": 4,
 "nbformat_minor": 2
}
