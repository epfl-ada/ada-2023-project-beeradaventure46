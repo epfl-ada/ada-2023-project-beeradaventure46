{
 "cells": [
  {
   "cell_type": "markdown",
   "metadata": {},
   "source": [
    "# Milestone 2 : Project proposal and initial analyses 🍻\n",
    "\n",
    "<hr style=\"clear:both\">\n",
    "This notebook was made for the ADA course at EPFL. \n",
    "\n",
    "Group : BeerADAventure46\n",
    "\n",
    "**Authors:** \\\n",
    "[Agatha Hunter](https://people.epfl.ch/agatha.hunter)\\\n",
    "[Anne-Valérie Preto](https://people.epfl.ch/anne-valerie.preto)\\\n",
    "[Tristan Carruzzo](https://people.epfl.ch/tristan.carruzzo)\\\n",
    "[Thamin Maurer](https://people.epfl.ch/thamin.maurer)\\\n",
    "[Victor Dubien](https://people.epfl.ch/victor.dubien)\n",
    "\n",
    "\n",
    "**Supervisor:**\\\n",
    "[Beatriz Borges](https://people.epfl.ch/beatriz.borges)\n",
    "<hr style=\"clear:both\">\n",
    "\n"
   ]
  },
  {
   "cell_type": "markdown",
   "metadata": {},
   "source": [
    "<blockquote>\n",
    "\n",
    "## Project proposal  📌\n",
    "\n",
    "**Influence of the serving style on the tasting profile**:\n",
    "\n",
    "Goal of the project: Use the textual reviews to find for each beer how it was served (either bottle, can or draft) and find how it influences the tasting profile.\n",
    "\n",
    "Different serving styles may be adopted in different regions or for different types of beer.  The influence of the serving style could influence not only the appearance, but also the aroma, the palate or the taste.\n",
    "</blockquote>"
   ]
  },
  {
   "cell_type": "markdown",
   "metadata": {},
   "source": [
    "### TODO LIST FOR THE GROUP:\n",
    "\n",
    "<input type=\"checkbox\" checked > New architecture of file\n",
    "\n",
    "<input type=\"checkbox\"> Create functions to import and convert initial files\n",
    "\n",
    "<input type=\"checkbox\"> More comments on the dataset -> distribution, viz\n",
    "\n",
    "<input type=\"checkbox\"> For any filtering: how, why ?\n",
    "\n",
    "<input type=\"checkbox\"> Choose a NLP method -> comment as much as possible, some trials \n",
    "\n",
    "<input type=\"checkbox\"> E-mail the proposition to Beatriz"
   ]
  },
  {
   "cell_type": "markdown",
   "metadata": {},
   "source": [
    "## Datasets 📂\n",
    "### Import dataset and libraries 📥"
   ]
  },
  {
   "cell_type": "code",
   "execution_count": 1,
   "metadata": {},
   "outputs": [],
   "source": [
    "import io\n",
    "import pandas as pd\n",
    "import numpy as np\n",
    "import seaborn as sns\n",
    "from tqdm import tqdm\n",
    "import matplotlib.pyplot as plt\n",
    "from langdetect import detect\n",
    "from scipy.stats import ttest_ind\n",
    "from sklearn.linear_model import LinearRegression\n",
    "\n",
    "from textstat import flesch_reading_ease, flesch_kincaid_grade, gunning_fog, smog_index, automated_readability_index, coleman_liau_index, linsear_write_formula, dale_chall_readability_score, text_standard\n",
    "from utils import *\n",
    "pd.set_option('display.max_columns', None)"
   ]
  },
  {
   "cell_type": "code",
   "execution_count": 2,
   "metadata": {},
   "outputs": [],
   "source": [
    "dataset_path = './data/BeerAdvocate/'"
   ]
  },
  {
   "cell_type": "code",
   "execution_count": 3,
   "metadata": {},
   "outputs": [],
   "source": [
    "#ratings_2 = convert_txt_to_csv(input_file='ratings.txt', export=True, file_name='trial_ratings')\n",
    "#can take a while to run"
   ]
  },
  {
   "cell_type": "code",
   "execution_count": 4,
   "metadata": {},
   "outputs": [],
   "source": [
    "# Firt time imports : \n",
    "# Convert txt to csv (function in the utils.py file)\n",
    "\n",
    "#ratings = convert_txt_to_csv(input_file='ratings.txt', export=True, file_name='ratings')\n",
    "#reviews = convert_txt_to_csv(input_file='reviews.txt', export=True, file_name='reviews')"
   ]
  },
  {
   "cell_type": "code",
   "execution_count": 5,
   "metadata": {},
   "outputs": [],
   "source": [
    "# Files already converted, so we can load them directly\n",
    "\n",
    "#ratings = pd.read_csv(dataset_path + 'ratings.csv')\n",
    "reviews = pd.read_csv(dataset_path + 'reviews.csv')\n",
    "beers = pd.read_csv(dataset_path + 'beers.csv')\n",
    "breweries = pd.read_csv(dataset_path + 'breweries.csv')\n",
    "users = pd.read_csv(dataset_path + 'users.csv')"
   ]
  },
  {
   "cell_type": "markdown",
   "metadata": {},
   "source": [
    "### Initial datasets analysis 🔎"
   ]
  },
  {
   "cell_type": "markdown",
   "metadata": {},
   "source": [
    "#### Beers dataset 🍺"
   ]
  },
  {
   "cell_type": "code",
   "execution_count": 6,
   "metadata": {},
   "outputs": [
    {
     "data": {
      "text/html": [
       "<div>\n",
       "<style scoped>\n",
       "    .dataframe tbody tr th:only-of-type {\n",
       "        vertical-align: middle;\n",
       "    }\n",
       "\n",
       "    .dataframe tbody tr th {\n",
       "        vertical-align: top;\n",
       "    }\n",
       "\n",
       "    .dataframe thead th {\n",
       "        text-align: right;\n",
       "    }\n",
       "</style>\n",
       "<table border=\"1\" class=\"dataframe\">\n",
       "  <thead>\n",
       "    <tr style=\"text-align: right;\">\n",
       "      <th></th>\n",
       "      <th>beer_id</th>\n",
       "      <th>beer_name</th>\n",
       "      <th>brewery_id</th>\n",
       "      <th>brewery_name</th>\n",
       "      <th>style</th>\n",
       "      <th>nbr_ratings</th>\n",
       "      <th>nbr_reviews</th>\n",
       "      <th>avg</th>\n",
       "      <th>ba_score</th>\n",
       "      <th>bros_score</th>\n",
       "      <th>abv</th>\n",
       "      <th>avg_computed</th>\n",
       "      <th>zscore</th>\n",
       "      <th>nbr_matched_valid_ratings</th>\n",
       "      <th>avg_matched_valid_ratings</th>\n",
       "    </tr>\n",
       "  </thead>\n",
       "  <tbody>\n",
       "    <tr>\n",
<<<<<<< HEAD
       "      <th>117147</th>\n",
       "      <td>143231</td>\n",
       "      <td>Hop Lab - Amarillo Hops</td>\n",
       "      <td>26676</td>\n",
       "      <td>Kane Brewing Company</td>\n",
       "      <td>American Pale Ale (APA)</td>\n",
       "      <td>6</td>\n",
       "      <td>0</td>\n",
       "      <td>3.83</td>\n",
       "      <td>NaN</td>\n",
       "      <td>NaN</td>\n",
       "      <td>5.40</td>\n",
       "      <td>3.835000</td>\n",
=======
       "      <th>53380</th>\n",
       "      <td>123256</td>\n",
       "      <td>Deetz Hoppy Kölsch</td>\n",
       "      <td>32715</td>\n",
       "      <td>Bevog Brewery</td>\n",
       "      <td>Kölsch</td>\n",
       "      <td>17</td>\n",
       "      <td>4</td>\n",
       "      <td>3.80</td>\n",
       "      <td>84.0</td>\n",
       "      <td>NaN</td>\n",
       "      <td>4.8</td>\n",
       "      <td>3.894118</td>\n",
>>>>>>> bfef783d08199443687fe6e8f4e76ec5e2a4e156
       "      <td>NaN</td>\n",
       "      <td>0</td>\n",
       "      <td>NaN</td>\n",
       "    </tr>\n",
       "    <tr>\n",
<<<<<<< HEAD
       "      <th>246152</th>\n",
       "      <td>167066</td>\n",
       "      <td>Cat Fight IPA</td>\n",
       "      <td>40007</td>\n",
       "      <td>Bitter Sisters Brewing Company</td>\n",
       "      <td>American IPA</td>\n",
       "      <td>23</td>\n",
       "      <td>3</td>\n",
       "      <td>3.66</td>\n",
       "      <td>83.0</td>\n",
=======
       "      <th>212199</th>\n",
       "      <td>163876</td>\n",
       "      <td>Ginger Coconut Belgian Style Singel</td>\n",
       "      <td>17981</td>\n",
       "      <td>Cigar City Brewing</td>\n",
       "      <td>Belgian Strong Pale Ale</td>\n",
       "      <td>1</td>\n",
       "      <td>0</td>\n",
       "      <td>4.09</td>\n",
       "      <td>NaN</td>\n",
       "      <td>NaN</td>\n",
       "      <td>4.2</td>\n",
       "      <td>4.090000</td>\n",
       "      <td>NaN</td>\n",
       "      <td>0</td>\n",
>>>>>>> bfef783d08199443687fe6e8f4e76ec5e2a4e156
       "      <td>NaN</td>\n",
       "      <td>6.66</td>\n",
       "      <td>3.695217</td>\n",
       "      <td>-0.557574</td>\n",
       "      <td>4</td>\n",
       "      <td>3.9475</td>\n",
       "    </tr>\n",
       "    <tr>\n",
<<<<<<< HEAD
       "      <th>171737</th>\n",
       "      <td>287867</td>\n",
       "      <td>Cameron's British Pub Ale</td>\n",
       "      <td>37452</td>\n",
       "      <td>Pleasure House Brewing</td>\n",
       "      <td>Extra Special / Strong Bitter (ESB)</td>\n",
       "      <td>2</td>\n",
       "      <td>1</td>\n",
       "      <td>3.92</td>\n",
       "      <td>NaN</td>\n",
       "      <td>NaN</td>\n",
       "      <td>6.20</td>\n",
       "      <td>4.045000</td>\n",
=======
       "      <th>107605</th>\n",
       "      <td>66750</td>\n",
       "      <td>Malt Bomb Ale</td>\n",
       "      <td>11212</td>\n",
       "      <td>Iron Horse Brewery</td>\n",
       "      <td>American Brown Ale</td>\n",
       "      <td>7</td>\n",
       "      <td>4</td>\n",
       "      <td>3.59</td>\n",
       "      <td>NaN</td>\n",
       "      <td>NaN</td>\n",
       "      <td>6.0</td>\n",
       "      <td>3.660000</td>\n",
>>>>>>> bfef783d08199443687fe6e8f4e76ec5e2a4e156
       "      <td>NaN</td>\n",
       "      <td>0</td>\n",
       "      <td>NaN</td>\n",
       "    </tr>\n",
       "  </tbody>\n",
       "</table>\n",
       "</div>"
      ],
      "text/plain": [
<<<<<<< HEAD
       "        beer_id                  beer_name  brewery_id  \\\n",
       "117147   143231    Hop Lab - Amarillo Hops       26676   \n",
       "246152   167066              Cat Fight IPA       40007   \n",
       "171737   287867  Cameron's British Pub Ale       37452   \n",
       "\n",
       "                          brewery_name                                style  \\\n",
       "117147            Kane Brewing Company              American Pale Ale (APA)   \n",
       "246152  Bitter Sisters Brewing Company                         American IPA   \n",
       "171737          Pleasure House Brewing  Extra Special / Strong Bitter (ESB)   \n",
       "\n",
       "        nbr_ratings  nbr_reviews   avg  ba_score  bros_score   abv  \\\n",
       "117147            6            0  3.83       NaN         NaN  5.40   \n",
       "246152           23            3  3.66      83.0         NaN  6.66   \n",
       "171737            2            1  3.92       NaN         NaN  6.20   \n",
       "\n",
       "        avg_computed    zscore  nbr_matched_valid_ratings  \\\n",
       "117147      3.835000       NaN                          0   \n",
       "246152      3.695217 -0.557574                          4   \n",
       "171737      4.045000       NaN                          0   \n",
       "\n",
       "        avg_matched_valid_ratings  \n",
       "117147                        NaN  \n",
       "246152                     3.9475  \n",
       "171737                        NaN  "
=======
       "        beer_id                            beer_name  brewery_id  \\\n",
       "53380    123256                   Deetz Hoppy Kölsch       32715   \n",
       "212199   163876  Ginger Coconut Belgian Style Singel       17981   \n",
       "107605    66750                        Malt Bomb Ale       11212   \n",
       "\n",
       "              brewery_name                    style  nbr_ratings  nbr_reviews  \\\n",
       "53380        Bevog Brewery                   Kölsch           17            4   \n",
       "212199  Cigar City Brewing  Belgian Strong Pale Ale            1            0   \n",
       "107605  Iron Horse Brewery       American Brown Ale            7            4   \n",
       "\n",
       "         avg  ba_score  bros_score  abv  avg_computed  zscore  \\\n",
       "53380   3.80      84.0         NaN  4.8      3.894118     NaN   \n",
       "212199  4.09       NaN         NaN  4.2      4.090000     NaN   \n",
       "107605  3.59       NaN         NaN  6.0      3.660000     NaN   \n",
       "\n",
       "        nbr_matched_valid_ratings  avg_matched_valid_ratings  \n",
       "53380                           0                        NaN  \n",
       "212199                          0                        NaN  \n",
       "107605                          0                        NaN  "
>>>>>>> bfef783d08199443687fe6e8f4e76ec5e2a4e156
      ]
     },
     "metadata": {},
     "output_type": "display_data"
    },
    {
     "name": "stdout",
     "output_type": "stream",
     "text": [
      "Shape of beers :  (280823, 15)\n"
     ]
    }
   ],
   "source": [
    "display(beers.sample(3))\n",
    "print('Shape of beers : ', beers.shape)"
   ]
  },
  {
   "cell_type": "code",
   "execution_count": 7,
   "metadata": {},
   "outputs": [
    {
     "name": "stdout",
     "output_type": "stream",
     "text": [
      "Number of different beers id: 280823\n",
      "Number of different beers name: 236209\n"
     ]
    }
   ],
   "source": [
    "# print the number of beers id and beer name\n",
    "print('Number of different beers id:', len(beers.beer_id.unique()))\n",
    "print('Number of different beers name:', len(beers.beer_name.unique()))"
   ]
  },
  {
   "cell_type": "markdown",
   "metadata": {},
   "source": [
    "<blockquote>\n",
    "\n",
    "**Initial comments about the dataset**\n",
    "\n",
    "-Some beers have the same name! In order to avoid confusion, we will drop the column beer_name (and brewery_name) from the dataset.\n",
    "\n",
    "-As we will not use the RateBeer dataset, we can also drop the column nbr_matched_valid_ratings and avg_matched_valid_ratings.  \n",
    "\n",
    "-The column bros_score only reflect the ratings from the two creators of the website, so we can also drop it.  \n",
    "\n",
    "-ba_score reprensents the percentage (rounded to the tenth for depth) of raters who gave the beer a 3.75 or higher as long as the beers as at least 10 ratings.\n",
    "\n",
    "</blockquote>"
   ]
  },
  {
   "cell_type": "code",
   "execution_count": 8,
   "metadata": {},
   "outputs": [
    {
     "data": {
      "image/png": "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\n",
      "text/plain": [
       "<Figure size 432x288 with 1 Axes>"
      ]
     },
     "metadata": {
      "needs_background": "light"
     },
     "output_type": "display_data"
    }
   ],
   "source": [
    "# show the percentage of missing values per columm\n",
    "plt.figure()\n",
    "(beers.isna().sum() / len(beers) * 100).plot(kind='barh', title='Percentage of missing values per column')\n",
    "plt.xlabel('Percentage of missing values')\n",
    "plt.show()"
   ]
  },
  {
   "cell_type": "markdown",
   "metadata": {},
   "source": [
    "<blockquote>\n",
    "\n",
    "**More comments about the dataset**\n",
    "\n",
    "We see that more than 80% of the beers do not have a z-score value. We can drop this column alongside avg_computed and compute them manually later if needed.\n",
    "\n",
    "80% of the beers have no ba_score value, so we can also drop it and compute it later if needed.\n",
    "\n",
    "</blockquote>"
   ]
  },
  {
   "cell_type": "code",
   "execution_count": 9,
   "metadata": {},
   "outputs": [],
   "source": [
    "beers_filtered = beers.drop(columns=['beer_name', \n",
    "                            'brewery_name',\n",
    "                            'bros_score',\n",
    "                            'ba_score',\n",
    "                            'nbr_matched_valid_ratings',\n",
    "                            'avg_matched_valid_ratings',\n",
    "                            'zscore',\n",
    "                            'avg_computed']).copy(deep=True)\n",
    "\n",
    "beers_filtered.rename(columns={'nbr_ratings': 'beer_nbr_ratings',\n",
    "                               'nbr_reviews': 'beer_nbr_reviews'}, inplace=True)"
   ]
  },
  {
   "cell_type": "code",
   "execution_count": 10,
   "metadata": {},
   "outputs": [
    {
     "data": {
      "text/html": [
       "<div>\n",
       "<style scoped>\n",
       "    .dataframe tbody tr th:only-of-type {\n",
       "        vertical-align: middle;\n",
       "    }\n",
       "\n",
       "    .dataframe tbody tr th {\n",
       "        vertical-align: top;\n",
       "    }\n",
       "\n",
       "    .dataframe thead th {\n",
       "        text-align: right;\n",
       "    }\n",
       "</style>\n",
       "<table border=\"1\" class=\"dataframe\">\n",
       "  <thead>\n",
       "    <tr style=\"text-align: right;\">\n",
       "      <th></th>\n",
       "      <th>beer_id</th>\n",
       "      <th>brewery_id</th>\n",
       "      <th>style</th>\n",
       "      <th>beer_nbr_ratings</th>\n",
       "      <th>beer_nbr_reviews</th>\n",
       "      <th>avg</th>\n",
       "      <th>abv</th>\n",
       "    </tr>\n",
       "  </thead>\n",
       "  <tbody>\n",
       "    <tr>\n",
<<<<<<< HEAD
       "      <th>252666</th>\n",
       "      <td>88990</td>\n",
       "      <td>24445</td>\n",
       "      <td>Saison / Farmhouse Ale</td>\n",
       "      <td>10</td>\n",
       "      <td>3</td>\n",
       "      <td>3.97</td>\n",
       "      <td>6.0</td>\n",
       "    </tr>\n",
       "    <tr>\n",
       "      <th>166941</th>\n",
       "      <td>267904</td>\n",
       "      <td>43575</td>\n",
       "      <td>American Malt Liquor</td>\n",
       "      <td>0</td>\n",
       "      <td>0</td>\n",
       "      <td>NaN</td>\n",
       "      <td>4.5</td>\n",
       "    </tr>\n",
       "    <tr>\n",
       "      <th>190230</th>\n",
       "      <td>164332</td>\n",
       "      <td>11599</td>\n",
       "      <td>Berliner Weissbier</td>\n",
       "      <td>14</td>\n",
       "      <td>1</td>\n",
       "      <td>4.07</td>\n",
       "      <td>4.3</td>\n",
=======
       "      <th>178541</th>\n",
       "      <td>37255</td>\n",
       "      <td>1285</td>\n",
       "      <td>Belgian Pale Ale</td>\n",
       "      <td>1</td>\n",
       "      <td>1</td>\n",
       "      <td>3.44</td>\n",
       "      <td>6.5</td>\n",
       "    </tr>\n",
       "    <tr>\n",
       "      <th>156351</th>\n",
       "      <td>35898</td>\n",
       "      <td>694</td>\n",
       "      <td>German Pilsener</td>\n",
       "      <td>3</td>\n",
       "      <td>3</td>\n",
       "      <td>4.22</td>\n",
       "      <td>5.3</td>\n",
       "    </tr>\n",
       "    <tr>\n",
       "      <th>6040</th>\n",
       "      <td>147814</td>\n",
       "      <td>13029</td>\n",
       "      <td>English India Pale Ale (IPA)</td>\n",
       "      <td>7</td>\n",
       "      <td>1</td>\n",
       "      <td>3.97</td>\n",
       "      <td>5.9</td>\n",
>>>>>>> bfef783d08199443687fe6e8f4e76ec5e2a4e156
       "    </tr>\n",
       "  </tbody>\n",
       "</table>\n",
       "</div>"
      ],
      "text/plain": [
<<<<<<< HEAD
       "        beer_id  brewery_id                   style  beer_nbr_ratings  \\\n",
       "252666    88990       24445  Saison / Farmhouse Ale                10   \n",
       "166941   267904       43575    American Malt Liquor                 0   \n",
       "190230   164332       11599      Berliner Weissbier                14   \n",
       "\n",
       "        beer_nbr_reviews   avg  abv  \n",
       "252666                 3  3.97  6.0  \n",
       "166941                 0   NaN  4.5  \n",
       "190230                 1  4.07  4.3  "
=======
       "        beer_id  brewery_id                         style  beer_nbr_ratings  \\\n",
       "178541    37255        1285              Belgian Pale Ale                 1   \n",
       "156351    35898         694               German Pilsener                 3   \n",
       "6040     147814       13029  English India Pale Ale (IPA)                 7   \n",
       "\n",
       "        beer_nbr_reviews   avg  abv  \n",
       "178541                 1  3.44  6.5  \n",
       "156351                 3  4.22  5.3  \n",
       "6040                   1  3.97  5.9  "
>>>>>>> bfef783d08199443687fe6e8f4e76ec5e2a4e156
      ]
     },
     "execution_count": 10,
     "metadata": {},
     "output_type": "execute_result"
    }
   ],
   "source": [
    "beers_filtered.sample(3)"
   ]
  },
  {
   "cell_type": "code",
   "execution_count": 11,
   "metadata": {},
   "outputs": [
    {
     "data": {
      "image/png": "iVBORw0KGgoAAAANSUhEUgAABDAAAAFgCAYAAABNIolGAAAAOXRFWHRTb2Z0d2FyZQBNYXRwbG90bGliIHZlcnNpb24zLjMuMiwgaHR0cHM6Ly9tYXRwbG90bGliLm9yZy8vihELAAAACXBIWXMAAAsTAAALEwEAmpwYAABevUlEQVR4nO3deZxcVZn/8c+XhD3QrOYXw9KQsBhJCNCAGISOMAhCZBWIUYkikXEgOsMiDItBUaOMg2wDExFDHCQgixBAiAIdFpGkgZAFBFnCsAlEsDHAIEme3x/3FLkUVb0k1V1V3d/361Wv3Hvuvec851alb9VT555SRGBmZmZmZmZmVstWq3YAZmZmZmZmZmYdcQLDzMzMzMzMzGqeExhmZmZmZmZmVvOcwDAzMzMzMzOzmucEhpmZmZmZmZnVPCcwzMzMzMzMzKzmOYFhZmbdSlKLpK9VO45VIalZ0gvVjsPMrJ5Jmirp3Cq1LUm/kPSGpNnd3NYWkpZI6ted7VSDpPGS7qt2HNZ3OYFhZnVF0gmSWiW9K2lqie37SPqTpLcl3S1pyyqEmY/HF/oaJKlRUkjqX+1YzMyqRdIiSa9IWjdX9jVJLVUMq7vsCfwTsFlE7NadDUXE/0bEgIhY1p3tmPVFTmCYWb15CTgXuKJ4g6RNgBuAs4CNgFbgmh6NzqrGyQgzs5XSH/hmtYPoqpUY3bAlsCgi3upk/X3+mlLNc+Dzb+U4gWFmdSUiboiI3wB/LbH5MGBhRPw6Iv4PmATsKGn7UnWlWxvOlfSHNNRzhqSNJV0l6U1JcyQ15vb/ZCprS/9+MrdtvKRnJP1d0rOSxkn6GHAZsEeq/29l4tgoDWt9KQ1t/U1u23GSnpL0uqSbJX00ty0kfUPSn1O735M0RNIDKf5rJa2R9m2W9IKkUyW9KullSYdI+qykJ1P9/56re01JP00xvZSW1yyq66RcXV/p4KkbIml2Onc3Sdoo19Yn0nPwN0mPSmrObWuQ9PPUxovp+eqXO+f3Szpf0uvp+S4+t7ulETtvpm8Z/zNtuif9+7f03OydzsHw3LEfkfSOpE1L1PtRSddLei093xM70aaZWS06DzhZ0gbFG0qNVlPutsCiv8N/S9fBT6by59M14piiajeR9Lt03Zql3EhJSdunba9LekLSkbltUyVdKuk2SW8Bo0vE+9F0rXw9XTuPS+XHApez4np8ToljP3RNSdfC/5D0v+nv+WWS1k77Py7poNzx/SUtlrRz8Xnr4Fr2nKRd0vIX03HD0vrXlN4TdPbakrtG/3uKZ5Gkcbnt7fWpcOy3Jf0F+EWpNrJddZGya/qfJO2T21C2r2n7V9O5e0PSHUXPf0j6F0l/Bv5cpm3r45zAMLPe5OPAo4WV9C3L06m8nKOBLwGDgSHAA2QX7I2Ax4HvQJZkAG4FLgQ2Bv4TuFVZwmPdVH5ARKwHfBKYGxGPA8cDD6ShpBuUieGXwDopzo8A56c2Pw38EDgSGAQ8B0wvOnZ/YBfgE8CpwBRgHLA5sAMwNrfv/wPWSn09G/gZ8MV0/KeAsyVtnfY9I9U5EtgR2A04s6iuhlTXscAlkjYs0z+ALwNfBT4KLCU7X0gaTHZezyU75ycD12tF0uDKtP9QYCdgPyA/n8buwDPpvH2/RLsXABdExPpkz++1qXyv9O8G6bmZRXZuv5g7dizw+4h4LV+hpNWAGWSvtcHAPsC3JH2mgzbNzGpRK9BC9vd3ZewOzCO7Nv6K7G/prmR/t78IXCxpQG7/ccD3gE2AucBVAOla+rtUx0fI/gb/l6T8NfwLZH/r1wNK3Z55NfAC2bXmCOAHkvaJiJ/zwevxd9rpS/6a8iNgW7Jr4VBWXD8LbeWvsZ8BFkfEwyXqbe9aNgtoTst7pfb3zq3PSstdubb8P7LzOxg4Bpgiabu0rb0+FY7diGzEyoQy9RfO0yZk75Nu0IovJsr2VdIhwL+TfeG0KXAv2XnMOyTVP6yd/llfFhF++OGHH3X3IPvAO7Wo7OfA5KKy+4HxZepoAc7Irf8E+G1ufQxZIgKyJMfsouMfAMYD6wJ/Aw4H1i7aZzxwXzv9GAQsBzYsse3nwI9z6wOA94DGtB7AqNz2h4BvF/Xnp2m5GXgH6JfW10vH7150/CFp+Wngs7ltnyEbepuvq39u+6vAJ9o5z5Nz68OAfwD9gG8Dvyza/w6yN1wDgXfz55TszeLduXP7vx28Tu4BzgE2KSpvTP3P92F34HlgtbTeChyZ6/MLuf3+t6i+04FftNemH3744UetPYBFwL5kCe82sg+VXwNa0vZSfytbgK+l5fHAn3Pbhqf9B+bK/gqMTMtTgem5bQOAZWRJ96OAe4vi+2/gO7ljp7XTl81TXevlyn5Ieq9Ax9fjD1xTAAFvAUNyZXsAz6blocDfgXXS+lXA2cXnrRPXsmOBm9Py4+n8T0/rzwE7p+VOXVvS9WopsG6u7Fqy22s76lMz2fV5rQ7O00uAcmWzyd4nddTX3wLH5ratBrwNbJnWA/h0tf9f+FHbD4/AMLPeZAmwflHZ+mRvMMp5Jbf8Ton1wrdGHyV7I5H3HDA4spEeR5F9u/OypFtV5raVEjYHXo+IN0ps+0CbEbGE7I3g4JWIH+CvsWJCsXfKHF+uv8+lsnxdS3Prbxe1Vez5orpWJ/vmZkvg82no8d+U3WazJ1liZ8u038u5bf9N9s1YqXpLOZbsm6Y/Kbvt56ByO0bEg2Rv7PZOz99Q4OYSu24JfLQo5n8ne+PWpTbNzGpBRCwAbgFOW4nDi68jRER716L3/26n69rrZNeXLYHdi/62jiMbEfChY0v4KNn1NH/Nf44PXjM7kq9/U7LRkQ/l4rk9lRMRT5ElHMZIWgf4HNnokWIdXctmAZ+S9P/IEvvXAKOU3cLaQDZKBbp2bXkjPjjXR+Ea3m6fktciuw23PS9GRJSov6O+bglckNv2OllSJf8cdXRdtz7Ok6OYWW+ykOybe+D94ahDUvmqeonswpu3BdmFn4i4A7gj3Ud6LtntGZ8i+zahPc8DG0naICL+1l6bqT8bAy+uZB+6otB24dxtkcpW1ua55S3IRpIsJuv/LyPiuOIDJA0i+yZnk6JkSV675zci/gyMTbd9HAZcJ2njdo67kmzI81+A68q8iXue7NuqbbrSZnRy4jgzsyr5DvAw2ei9gsLfrXWAN9NyPqGwMt6/HqRbSzYiu748D8yKiH9q59j2/ua/RHY9XS+XxNiCrl0z8/UvJku+fDwiytVRuI1kNeCxlNQo9jztXMsi4ilJbwMTgXsi4u9p/okJZCNGlqf9unJt2VDSurltWwALOtmnjt63AAyWpFwSYwuyhH+7fU3bvx8RV7VTd2fatz7MIzDMrK4omyRrLbJvKfpJWksrJhe7EdhB0uFpn7OBeRHxpwo0fRuwraQvpBiOIrsV4hZJAyV9LiUY3iUbCVIY6fAKsJnSZJrFIuJlsiGV/yVpQ0mrSyrMz/Ar4CuSRiqbQPMHwIMRsagC/enI1cCZkjZV9usuZwP/swr1fVHSsPQt1XfJkgPLUp1jJH1GUuH5bJa0WTo3M4GfSFpf0mrKJindu72G8pRNiLZpegP4t1S8DHiN7NadrYsO+SVwKFkSY1qZamcDb6ZJztZOce8gadcO2jQzq1npw/c1ZB+kC2WvkSUAvpj+1n2V7IuBVfFZSXum6+L3yK5rz5ONANlW0pfStXB1SbsqmxC7M/E/D/wB+GG6lowgG7XQ3ofl9upbTvZlxPmSPgLZvE25+Y4gm+9jP+CfKT36gk5ey2YBJ7BivouWovWVubacI2kNSZ8CDgJ+3ck+dcZHgInpOfo88DHgtk709TLgdKV5TZRN+Pn5LrZtfZwTGGZWb84k+/bgNLIPme+kssIbrcPJJt56g2yugqMr0WhE/JXsDcBJZLdxnAocFBGLyf6WnkT27c/rZJNvfSMdehfZKIa/SFpcpvovkY1I+BPZXBLfSm3eSXbP6vXAy2RvGivSn044l2wOiHnAfLJv5c5dhfp+SXb/8l/IJhKdCO+/4TyY7BaM18i+nTmFFdenLwNrAI+RPafXkd1e0ln7AwslLSGbAO3oiPi/iHib7HVyfxrK+okUzwtkfQ2yycU+JCVexpBNgPYs2Tdal5MN9S3bZhdiNjOrlu+SzeuUdxzZ3+W/kk02/YdVbONXZKM9XiebRHocQBo1sR/Zde4lsuvFj4A1u1D3WLL5J14i+1LjOxHxu1WI9dvAU8AfJb0J/B4oTIZZSE48QDZ5d3s/297RtWwW2dxU95RZh65dW/6S2nmJLIFzfO7LnHb71EkPAtuQXf++DxyR3ie129eIuJHsOZ2e2l4AHNDFtq2P0wdvXzIzM+vbJF0BvBQRZ3a4s5mZWQ1R9lPk/xMRm1U5FLNu4TkwzMzMkjRp2mFkP/1mZmZmZjXEt5CYmZkBkr5HNpz1vIh4ttrxmJmZmdkH+RYSMzMzMzMzM6t5HoFhZmZmZmZmZjXPc2BYr7LJJptEY2NjtcMwM7M+5KGHHlocEZtWO45KqOR19K233mLddYt/0KJ+1Hv8UP99qPf4of774Pirr9770Jn4u3IddQLDepXGxkZaW1urHYaZmfUhkp6rdgyrStIYYMzQoUMrdh1taWmhubm5InVVQ73HD/Xfh3qPH+q/D46/+uq9D52JvyvXUd9CYmZmZtbHRcSMiJjQ0NBQ7VDMzMzKcgLDzMzMzMzMzGqeExhmZmZmZmZmVvOcwDAzMzMzMzOzmucEhpmZmVkfJ2mMpCltbW3VDsXMzKwsJzDMzMzM+jhP4mlmZvXAP6Nqvcr8F9toPO3WaodR9xZNPrDaIZiZmZmZmX2AR2CYmZmZmZmZWc1zAsPMzMzMzMzMap4TGGZmZmZmZmZW85zASCQtkzQ392jswrHHS/pyWh4v6aPt7LuHpJ8VlT0rabuisp9KOrWL3WgvxmZJn+zEfpMknVyivFHSgi62WTinj0p6uDPtm5mZWc/zr5CYmVk9cAJjhXciYmTusaiwQZmy5yoiLouIaWl1PFA2gQHsD9xeVDYdODrX3mrAEcA1XetCu5qBnk4gFM7pjsDpwA8rUamkfpWox8zMzDL+FRIzM6sH/hWSMtIIjN8CdwN7AIdIWhgRA9L2I4CDImK8pEnAEmAR0ARcJekdYI+IeKeo6n2A/ywqu5osWXFOWt8LWBQRz0n6IjARWAN4EPhGRCyTdCzwbeAl4M/AuxFxgqRNgcuALVJd3wJeBI4HlqX6TgQ2AM5M9f4VGBcRr6RjdpR0F7A58OOIKB4x0g+YTJYUWRO4JCL+u4NTuj7wRq6OU4Aj0/E3RsR3Unm5/i5J5+0zwEnAfR20Z2ZmZlU0/8U2xpf5ZTD/2pWZma0Mj8BYYe3c7SM3prLtgGkRsVNEPNdRBRFxHdBKlgwYWZy8kLQJ8F5EtBUdNw9YLmnHVHQ0cLWkjwFHAaMiYiSwDBiXblE5C/gE8E/A9rnqLgDOj4hdgcOBy9NokstS+ciIuJcsAfCJiNiJbARI/naVEcCBZImbs0vcEnMs0Jba2BU4TtJWJU5J4Zz+Cbgc+F46D/sB2wC7ASOBXSTtVa6/qa51gQURsXtEfCB5IWmCpFZJrcve9tBXMzMzMzOz3sgjMFZ4J31oBt4fgfFcRPyxgm3sB8wss+1q4GhJC4GDgbPJRijsAsyRBLA28CrZB/9ZEfF6ivXXwLapnn2BYWl/gPUlrVeivc2AayQNIhvt8Gxu200p+fKOpLtTe3OL+jEijUIBaCBLSOTrgNw5lbQHME3SDun4/YBH0n4D0vEjyvQXsmTG9SX6QURMAaYArDlomyi1j5mZmZmZmdU3JzDa91bRev7D8VorUd8BfPj2kYKryZIbs4B5EfGqsk/xV0bE6fkdJR3aThurUeLWlVxCo+Ai4D8j4mZJzcCk3LbiJEDxuoATI+KOduL4YAURD6QRKJum439YfNuJpBMp0d/k/yJiWWfbMzMzMzMzs97Ft5B0zSuSPpYm2SyXRPg78KERDykZMYIPjmR4X0Q8TTYXxWSyZAbAncARkj6S6thI0pbAbGBvSRtK6k92q0jBTOCEXLsjy8TVQDY3BsAxReEcLGktSRuTzXMxp2j7HcA/S1o9tbGtpHVL9SsXx/ZAv9THO4CvSirMJzI49bFcf83MzMzMzKyP8wiMrjkNuAV4HlhAdutDsanAZSUm8dwFeCQi2rvF4WqyX+q4ESAiHpN0JjAzJU3eA/4lIv4o6Qdkk1y+BDwGFCZ/mAhcImke2fN7D9kEnjOA6yQdTDaJ5yTg15JeBP4I5OewmA3cSjYR6Pci4qWin5W9HGgEHk6JmdeAQ0r0Z21Jc9OygGPSKIqZab6LB9LIkCXAF8v1F+hw/hEzMzMzMzPr3ZzASAq/LpJbXwTsUFR2HXBdiWMn5Zavp/RcDaV+PrW4nvOB84vKrqH0z6n+KiKmpBEYN5Lm1oiIxWQTYRbX/STZCJC8m9rrS1H5ItL5iIjlwL+nR3v9KftzpxFxAdmEo8XlJftb/PyYmZlZ5UgaA4wZOnRotUMxMzMry7eQ9JCIODciplewyklpdMMCsskzf1PBus3MzKwPiYgZETGhoaGh2qGYmZmV5REYdSoiTq52DLVo+OAGWv3b8mZmZmZmZr2OR2CYmZmZmZmZWc1zAsPMzMzMzMzMap4TGGZmZmZmZmZW85zAMDMzMzMzM7Oa5wSGmZmZmZmZmdU8JzDMzMzMzMzMrOY5gWFmZmZmZmZmNc8JDDMzMzMzMzOreU5gmJmZmZmZmVnNcwLDzMzMrBeS1CzpXkmXSWqudjxmZmarygkMMzMzszoh6QpJr0paUFS+v6QnJD0l6bRUHMASYC3ghZ6O1czMrNKcwDAzMzOrH1OB/fMFkvoBlwAHAMOAsZKGAfdGxAHAt4FzejhOMzOzilNEVDsGs4ppamqK1tbWaodhZmZ9iKSHIqKpB9trBG6JiB3S+h7ApIj4TFo/HSAifpjW1wB+FRFHlKlvAjABYODAgbtMnz69InG++nobr7xTetvwwQ0VaaM7LVmyhAEDBlQ7jFVS732o9/ih/vvg+Kuv3vvQmfhHjx7d6eto/4pEZWZmZmbVMhh4Prf+ArC7pMOAzwAbABeXOzgipgBTIPsioLm5uSJBXXTVTfxkfum3movGVaaN7tTS0kKlzkW11Hsf6j1+qP8+OP7qq/c+VDp+JzCsV5n/YhuNp91a7TD6tEWTD6x2CGZmfY1KlEVE3ADc0KkKpDHAmKFDh1Y0MDMzs0ryHBhmZmZm9e0FYPPc+mbAS12pICJmRMSEhobav7XDzMz6LicwzMzMzOrbHGAbSVul+S6OBm6uckxmZmYV5wSGmZmZWZ2QdDXwALCdpBckHRsRS4ETgDuAx4FrI2JhF+sdI2lKW1tb5YM2MzOrECcwaoSkQyWFpO27sY0mSRd2Y/3rSLpK0nxJCyTdJ2mApA0kfWMV6/6WpHUqFauZmVk9ioixETEoIlaPiM0i4uep/LaI2DYihkTE91eiXt9CYmZmNc8JjNoxFriPbNhnxUnqHxGtETGxO+pPvgm8EhHD00+7HQu8Rzb7+SolMIBvAU5gmJmZmZmZ9VFOYNQASQOAUWQf+I/OlTdLmiXpWklPSposaZyk2WmUw5C036aSrpc0Jz1GpfJJkqZImglMS/XdUmhT0i9SPfMkHZ7KL5XUKmmhpHNysSySdI6kh9MxpUaKDAJeLKxExBMR8S4wGRgiaa6k85Q5L43SmC/pqFx/b8m1ebGk8ZImAh8F7pZ0d2XOupmZmRX4FhIzM6sHTmDUhkOA2yPiSeB1STvntu1INrJhOPAlYNuI2A24HDgx7XMBcH5E7AocnrYV7AIcHBFfKGrzLKAtjZYYAdyVys+IiCZgBLC3pBG5YxZHxM7ApcDJJfpxBfBtSQ9IOlfSNqn8NODpiBgZEacAhwEjU9/2Bc6TNKjcyYmIC8lmUx8dEaOLt0uakJIurcve9hsvMzOzrvItJGZmVg+cwKgNY4HpaXl6Wi+YExEvp5EMTwMzU/l8oDEt7wtcLGku2azj60taL227OSLeKdHmvsAlhZWIeCMtHinpYeAR4OPAsNwxhd+SfyjX9vsiYi6wNXAesBEwR9LHSrS9J3B1RCyLiFeAWcCuJfbrlIiYEhFNEdHUbx2/8TIzMzMzM+uN+lc7gL5O0sbAp4EdJAXQDwhJp6Zd3s3tvjy3vpwVz99qwB7FiQpJAG+VaxqIov23IhtZsWtEvCFpKrBWbpdC28so89qJiCVkiY4bJC0HPgtcX6LtUpbywaTaWmX2MzMzswqSNAYYM3To0GqHYmZmVpZHYFTfEcC0iNgyIhojYnPgWbJRCp01k+zn0wCQNHIljtkQWJ8s4dEmaSBwQBdiQNKoVA/pd+iHAc8BfwfWy+16D3CUpH6SNgX2AmanfYdJWlNSA7BP7pjiOszMzKxCfAuJmZnVAycwqm8scGNR2fVA8ZwV7ZkINKXJOB8Dju/EMecCG6aJNB8lm1/iUbJbRxaSzWdxfxdiABgCzJI0P9XTClwfEX8F7k9tnUfW33nAo2Rzb5waEX+JiOeBa9O2q1IdBVOA33oSTzMzMzMzs77Jt5BUWUQ0lyi7MLfaUmrfiGgpbIuIxcBRJeqZVLSeP2YJcEyJY8aXibMxt9wKlIp7GjCtzPHFCZlT0qN4v1OBU0uUXwRcVKpuMzMzMzMz6/08AsPMzMysj/PPqJqZWT3wCAzrVYYPbqB18oHVDsPMzKyuRMQMYEZTU9Nx1Y7FzMysHI/AMDMzMzMzM7Oa5wSGmZmZmZmZmdU8JzDMzMzM+jjPgWFmZvXACQwzMzOzPi4iZkTEhIaGhmqHYmZmVpYTGGZmZmZmZmZW85zAMDMzMzMzM7Oa5wSGmZmZmZmZmdU8JzDMzMzMzMzMrOY5gWFmZmZmZmZmNc8JDDMzM7M+zj+jamZm9cAJDDMzM7M+zj+jamZm9cAJDDMzMzMzMzOreU5gmJmZmZmZmVnNcwLDzMzMzMzMzGpe/2oHYFZJ819so/G0W6sdhiWLJh9Y7RDMzMzMzKyX8AgMMzMzMzMzM6t5TmCYmZmZmZmZWc1zAsPMzMysj5M0RtKUtra2aodiZmZWVqcSGJIOlRSStu+uQCQ1SbqwG+tvltQm6RFJT0i6R9JBq1jfLWW2LZK0SRfrGyvpjM620V068zyUi0vSOpKukjRf0gJJ90kaIGkDSd9Yxbi+JWmdVanDzMzMSouIGRExoaGhodqhmJmZldXZERhjgfuAo7sjCEn9I6I1IiZ2R/0590bEThGxHTARuFjSPt3cZmftD9xezQAq8Dx8E3glIoZHxA7AscB7wAbAKiUwgG8BTmCYmZmZmZn1UR0mMCQNAEaRfRg9OlfeLGmWpGslPSlpsqRxkmanb+CHpP02lXS9pDnpMSqVT5I0RdJMYFr+W/30rf0vUj3zJB2eyi+V1CppoaRzcrEsknSOpIfTMR2OFImIucB3gRNSHVtKujO1d6ekLVL5VElH5NpakqtmfUk3SnpM0mWSPnQ+JX0xnZO5kv5bUr8S+wgYCTxcLt50vq6UNDP19zBJP079vV3S6rlz8aPU5mxJQ1fhedhN0h/SqJU/SNqug9M6CHgxd46fiIh3gcnAkHQOzlPmvDRKY76ko1J7HxjZIeliSeMlTQQ+Ctwt6e4OYjAzMzMzM7NeqDMjMA4Bbo+IJ4HXJe2c27Yj2bfuw4EvAdtGxG7A5cCJaZ8LgPMjYlfg8LStYBfg4Ij4QlGbZwFt6Zv8EcBdqfyMiGgCRgB7SxqRO2ZxROwMXAqc3Il+QZYwKCQ7LgampfauAjpzO8tuwElk/R8CHJbfKOljwFHAqIgYCSwDxpWoZyfg0YiIDtobAhwIHAz8D3B3RAwH3knlBW+m5+Fi4KepbGWehz8Be0XETsDZwA86iO8K4NuSHpB0rqRtUvlpwNMRMTIiTiE7TyPJXj/7AudJGlSu0oi4EHgJGB0Ro4u3S5qQEluty972vbtmZmZmZma9Uf9O7DOWFR+Cp6f1wkiBORHxMoCkp4GZqXw+UPiguS8wLBtkAGSjFtZLyzdHxDsl2tyX3GiPiHgjLR4paUKKexAwDJiXtt2Q/n2IokRCO5Rb3iN33C+BH3fi+NkR8QyApKuBPYHrctv3IUsOzEn9Xxt4tUQ9+wO/7UR7v42I9yTNB/qx4paT+UBjbr+rc/+en5ZX5nloAK5MiYgAVm8vuIiYK2lrYL/U3hxJe5AlWPL2BK6OiGXAK5JmAbsCb7ZXfzvtTgGmAKw5aJuOkkBmZmZmZmZWh9pNYEjaGPg0sIOkIPvQHJJOTbu8m9t9eW59ea7u1YA9ij8gpw/Sb5VrmuwDc37/rchGVuwaEW9Imgqsldul0PayjvqVsxPweJlthfaXkkaqpFs91iixT7l1AVdGxOkdxLEf2aiIjrwLEBHLJb2XG7GRP9/FcRSWV+Z5+B7ZKI9DJTUCLR0FGBFLyJJJN0haDnwWuL5oN33owMz75zpZq8x+ZmZmZmZm1sd0dAvJEWS3VWwZEY0RsTnwLNk36J01kzTPBICkkStxzIbA+mQftNskDQQO6EIMH5JuPzkLuCQV/YEVoz7GkU1aCrCIbBQFZLdu5Ech7CZpqzT3xVG5YwruBI6Q9JHU5kaStiyKowHoHxF/XZX+FDkq9+8DaXllnocGVsxpMb6jnSWNSs8VktYgGyHzHPB3YL3crvcAR0nqJ2lTYC9gdtp3mKQ103nJT7BaXIeZmZmZmZn1IR0lMMYCNxaVXQ8Uz5XQnolAU5oc8zHg+E4ccy6wYZrk8VGyuQ8eBR4BFpLNtXB/F2Io+FSakPIJssTFxIi4MxfnVyTNI5vP45up/Gdk823MBnbng6MVHiCboHIBWWLnA+cqIh4DzgRmpnp/R3brS94/Ab9fib60Z01JD6Y+/GsqW5nn4cfADyXdTzb6piNDgFnpFpdHgFbg+pScuT89n+eRnad5wKNk85ucGhF/iYjngWvTtqtSHQVTgN96Ek8zMzMzM7O+qd1bLSKiuURZfnLLllL7RkRLYVtELGbFiIB8PZOK1vPHLAGOKXHM+DJxNuaWW4FScbeQjSgoKSIWkd0uU1z+CvCJXNHpxfF2EM81wDXl2iWb/+LyUhuKzsmkom0Dcssf2AZcEhHnFO2/Ms/DA8C2uc1nFe9TdOw0YFqZvhQnvU5Jj+L9TgVOLVF+EXBRqbrNzMzMzMys9+vsXBHWTSLia9WOwczMzMzMzKzWdeZnVK2OpLlKFlc7DjMzM6s+SetKekjSQdWOxczMbFV5BIb1KsMHN9A6+cBqh2FmZtYtJF0BHAS8GhE75Mr3By4gm7Pq8oiYnDZ9m2x+KTMzs7rnERhmZmZm9WMq2fxZ75PUj2xy8gPIfgFsrKRhkvYFHgNe6ekgzczMuoNHYJiZmZnViYi4R1JjUfFuwFMR8QyApOlkP/0+AFiXLKnxjqTbImJ5T8ZrZmZWSYqIasdgVjFNTU3R2tpa7TDMzKwPkfRQRDT1YHuNwC2FW0gkHQHsX5gYXNKXgN0j4oS0Ph5YHBG3lKlvAjABYODAgbtMnz69InG++nobr7xTetvwwWV/GK5mLFmyhAEDBnS8Yw2r9z7Ue/xQ/31w/NVX733oTPyjR4/u9HXUIzDMzMzM6ptKlL3/DVVETG3v4IiYAkyB7IuA5ubmigR10VU38ZP5pd9qLhpXmTa6U0tLC5U6F9VS732o9/ih/vvg+Kuv3vtQ6fg9B4aZmZlZfXsB2Dy3vhnwUlcqkDRG0pS2traKBmZmZlZJTmCYmZmZ1bc5wDaStpK0BnA0cHNXKoiIGRExoaGh9m/tMDOzvssJDDMzM7M6Ielq4AFgO0kvSDo2IpYCJwB3AI8D10bEwi7W6xEYZmZW8zwHhpmZmVmdiIixZcpvA25bhXpnADOampqOW9k6zMzMuptHYJiZmZmZmZlZzXMCw8zMzKyP8y0kZmZWD5zAMDMzM+vjPImnmZnVAycwzMzMzMzMzKzmOYFhZmZmZmZmZjXPv0Jivcr8F9toPO3WaodhFbBo8oHVDsHMrM+QNAYYM3To0GqHYmZmVpZHYJiZmZn1cZ4Dw8zM6oETGGZmZmZmZmZW85zAMDMzM+vj/DOqZmZWD+ougSHpUEkhaftubKNJ0oXdVX+unQskvSipy8+DpEWSNqlwPLdLGlxUNlXSs5LmSnpU0j5drHOqpCPKbOsvabGkHxaVt0hq6noPzMzMbGX4FhIzM6sHdZfAAMYC9wFHd0flkvpHRGtETOyO+nPtrAYcCjwP7NWdbZVo+0OTt0paG9goIl4sccgpETES+BZwWQVD2Q94AjhSkipYr5mZmZmZmfUydZXAkDQAGAUcSy6BIalZ0ixJ10p6UtJkSeMkzZY0X9KQtN+mkq6XNCc9RqXySZKmSJoJTEv13VJoU9IvUj3zJB2eyi+V1CppoaRzcrEsknSOpIfTMeVGiowGFgCXkiVlCsdPknSlpJmprsMk/TjVdbuk1XN1nJL6OFvS0K70sUQ8zUBLB0/BA8DgVF8/SeelNuZJ+noql6SLJT0m6VbgI+3UNxa4APhf4BOldpC0n6QH0vn8dXoNmJmZmZmZWR9TVwkM4BDg9oh4Enhd0s65bTsC3wSGA18Cto2I3YDLgRPTPhcA50fErsDhaVvBLsDBEfGFojbPAtoiYnhEjADuSuVnREQTMALYW9KI3DGLI2JnsuTEyWX6Mha4GrgROKgoMTEEOBA4GPgf4O6IGA68k8oL3kx9vBj46Sr0EeAA4PYysRbsD/wmLR9Ldl52BXYFjpO0Fdmoku3InofjgE+WqiiN+NgHuIXsPIwtsc8mwJnAvul8tgL/VmK/CSmZ1Lrsbd+7a2ZmZmZm1hvVWwJjLDA9LU/ngx9650TEyxHxLvA0MDOVzwca0/K+wMWS5gI3A+tLWi9tuzki3inR5r7AJYWViHgjLR4p6WHgEeDjwLDcMTekfx/Ktf0+SWsAnwV+ExFvAg+S3U5R8NuIeC/F3o8ViYV8XyD74F/4d49V6CNkI1vuK7PtPEnPkCVTfpDK9gO+nNp5ENgY2IbsdpirI2JZRLzEioRPsYPIEjNvA9cDh0rqV7TPJ8jO6/2pnWOALYsriogpEdEUEU391vG9u2ZmZl0lT+JpZmZ14ENzIdQqSRsDnwZ2kBRkH+xD0qlpl3dzuy/PrS9nRT9XA/Yo/hCfpl94q1zTQBTtvxXZyIpdI+INSVOBtXK7FNpeRulzvD/QAMxPba8DvA3cmj8+IpZLei8iCu3n+0JRXIXlLvdR0tbA8xHxj1LbgVPIkjITgSvJRnIIODEi7iiq67NFcZUzFhglaVFa35jstprf56sDfhcRHxqdYWZmZpUTETOAGU1NTcdVOxYzM7Ny6mkExhHAtIjYMiIaI2Jz4Flgzy7UMRM4obAiaeRKHLMhsD5ZMqBN0kCy2y+6YizwtdSPRmArYD9J63SxnqNy/z5QJt6Rnainw9tHImI52e0pq0n6DHAH8M+FW18kbStpXeAe4Og0R8YgsqTEB0han+x52yJ3Dv6FD99G8keyJEdhfo91JG3bif6YmZmZmZlZL1NPCYyxZPNF5F0PlJrPoZyJQFOadPIx4PhOHHMusKGkBZIeBUZHxKNkt44sBK4A7u9sAClJ8RlWjLYgIt4iu31jTKd7kllT0oNkc3/8aypbmT7uT8fzX5BGgpwLnEo2t8ZjwMOSFgD/TTY65Ebgz2S3u1wKzCpR1WHAXel2n4KbgM9JWjPX3mvAeOBqSfPIEhrd9vO5ZmZmZmZmVrvq5haSiGguUXZhbrWl1L4R0VLYFhGLWTFqIV/PpKL1/DFLyOZeKD5mfJk4G3PLrWS/7pHf/jawUYnjDitT34Dc8qTccqGdc4r271QfC1LCYFBELCrT/vii9evJEkcA/54exU4oUZavYyowtajsdWDTtNqcK7+LbJJQMzMzMzMz68PqJoFh3SONgmiqdhxmZmZmZmZm7amnW0jMzMzMrBv4V0jMzKweeASG9SrDBzfQOvnAaodhZmZWV/wrJGZmVg88AsPMzMzMzMzMap5HYJiZmZlZj2o87dZ2ty/yaEozMyvBIzDMzMzMzMzMrOY5gWFmZmZmZmZmNc8JDDMzMzMzMzOreU5gmJmZmZmZmVnNcwLDzMzMzMzMzGqeExhmZmZmfZykMZKmtLW1VTsUMzOzspzAMDMzM+vjImJGRExoaGiodihmZmZlOYFhZmZmZmZmZjXPCQwzMzMzMzMzq3lOYJiZmZmZmZlZzXMCw8zMzMzMzMxqXv9qB2BWSfNfbKPxtFurHYZV0KLJB1Y7BDMzMzMzqwEegWFmZmZmZmZmNc8JDDMzMzMzMzOreU5gmJmZmZmZmVnNcwKjwiQdKikkbd+NbTRJurAb639E0si03F/SW5K+mNv+kKSdJX1X0r6prEVSU4m6xku6uJ22bpL0QFHZJEknV6xDZmZmZmZmVvecwKi8scB9wNHdUbmk/hHRGhETu6P+5A/AJ9PyjsAThXVJ6wJbA49GxNkR8fuVbUTSBsDOwAaStlqliM3MzOwDJH1M0mWSrpP0z9WOx8zMbFU5gVFBkgYAo4BjySUwJDVLmiXpWklPSposaZyk2ZLmSxqS9ttU0vWS5qTHqFQ+SdIUSTOBaam+WwptSvpFqmeepMNT+aWSWiUtlHROLpZFks6R9HA6ptRIkftZkcD4JHAZMDKt7wY8HBHLJE2VdESJ8/CV1M9Z6XyUczgwA5hOmYSPpCGSbk+jPu7tzpEtZmZmtU7SFZJelbSgqHx/SU9IekrSaQAR8XhEHA8cCXxolKSZmVm9cQKjsg4Bbo+IJ4HXJe2c27Yj8E1gOPAlYNuI2A24HDgx7XMBcH5E7Er24f7y3PG7AAdHxBeK2jwLaIuI4RExArgrlZ8REU3ACGBvSSNyxyyOiJ2BS4FSt2rkR2B8ErgHeFfSemn9/nInQNIg4ByyxMU/AcPK7Us2WuXq9BhbZp8pwIkRsUuK9b/aqc/MzKy3mwrsny+Q1A+4BDiA7Lo7VtKwtO1zZCND7+zZMM3MzCqvf7UD6GXGAj9Ny9PT+sNpfU5EvAwg6WlgZiqfD4xOy/sCwyQV6ls/JQ0Abo6Id0q0uS+50QsR8UZaPFLSBLLneBDZG5p5adsN6d+HgMOKK4yIRZLWkPT/gO3JbiGZA+xOlsC4qPwpYHegJSJeS329Bti2eCdJA4GhwH0REZKWStohIhbk9hmQ2vt17pysWaKuCcAEgH7rb9pOaGZmZvUtIu6R1FhUvBvwVEQ8AyBpOnAw8FhE3AzcLOlW4Fel6sxfRwcOHEhLS0tFYh24Npw0fOlKHXvRVTe1u3344IaVqrcrlixZUrFzUS313od6jx/qvw+Ov/rqvQ+Vjt8JjAqRtDHwaWAHSQH0A0LSqWmXd3O7L8+tL2fF87AasEdxoiJ9eH+rXNNAFO2/FdlohV0j4g1JU4G1crsU2l5G+dfAA8ARwMspwfBHslEVuwF/LHNMQXSwHeAoYEPg2dS/9ckSMWfm9lkN+FtEjGy3sYgpZCM1WHPQNp1p28zMrDcZDDyfW38B2F1SM9kXFWsCt5U7OH8dbWpqiubm5ooEddFVN/GT+d3zVnPRuOZuqTevpaWFSp2Laqn3PtR7/FD/fXD81Vfvfah0/L6FpHKOAKZFxJYR0RgRmwPPAnt2oY6ZwAmFlcIvgXTxmA3JkgFvAW1ppMMBXYih4H7gX8kSGaR/vwz8JSL+1s5xDwLNkjaWtDrw+TL7jQX2T+eqkewWmQ/MgxERb5IlOD6f+iZJO65EX8zMzGpKYZ6rjso6W12JsoiIloiYGBFfj4hLVrJuMzOzmuEERuWMBW4sKrseKJ6zoj0TgaY0GedjwPGdOOZcYENJCyQ9CoyOiEeBR4CFwBW0M2dFO+4n+7WRBwDS7S/9yObHKCvtNykd93tW3ELzvjT0dQtyIzki4lngTUm7F+0+Djg29W0h2ZBYMzOzelfqdsz2btFszwvA5rn1zYCXulKBpDGSprS1ta1kCGZmZt3Pt5BUSEQ0lyi7MLfaUmrfiGgpbIuIxWS3VhTXM6loPX/MEuCYEseMLxNnY265FfhQ3GnbHIq+0ckfW9xGUZ9+AfyiVL1p+yKy4a7F5YVJTx/MlT1L0WRlZmZm9UrSHmTzO20q6d9ym9Yn+6JgZcwBtkm3kL5INqKxK1+gEBEzgBlNTU3HrWQMZmZm3c4jMMzMzMx6zhrAALIvkdbLPd4kux21XZKuJhvluJ2kFyQdGxFLyW4nvQN4HLg2IhZ2JSiPwDAzs3rgERhmZmZmPSQiZgGzJE2NiOdW4viSPzseEbfRzkSdnajXIzDMzKzmOYFhvcrwwQ20Tj6w2mGYmZl1ZE1JU4BGcu/HIuLTVYvIzMysxjmBYWZmZtbzfg1cBlxO9rPmVSVpDDBm6NCh1Q7FzMysLCcwzMzMzHre0oi4tNpBFPgWEjMzqweexNPMzMys582Q9A1JgyRtVHhUOygzM7Na5hEYZmZmZj2v8BPop+TKAti6CrH4FhIzM6sLHoFhZmZm1sMiYqsSj6okL1I8MyJiQkNDQ7VCMDMz65BHYJiZmZn1MElfLlUeEdN6OhYzM7N64QSGmZmZWc/bNbe8FrAP8DDgBEYnNJ52a9lti/xz6mZmvZYTGGZmZmY9LCJOzK9LagB+WaVwPAeGmZnVBc+BYWZmZlZ9bwPbVKtxz4FhZmb1wCMwzMzMzHqYpBlkvzoC0A/4GHBt9SIyMzOrfU5gmJmZmfW8/8gtLwWei4gXqhWMmZlZPfAtJGZmZmY9LCJmAX8C1gM2BP5R3YjMzMxqnxMYZmZmZj1M0pHAbODzwJHAg5KOqGI8YyRNaWtrq1YIZmZmHfItJNarzH+xrd2fVrPewT+RZ2a9wBnArhHxKoCkTYHfA9dVI5iImAHMaGpqOq4a7ZuZmXWGR2CYmZmZ9bzVCsmL5K/4fZmZmVm7PALDzMzMrOfdLukO4Oq0fhRwWxXj6TU6GonpUXxmZvXLCQwzMzOzHiJpKDAwIk6RdBiwJyDgAeCqqgZnZmZW4zxUsYokHSopJG3fjW00SbqwG+tvltQm6RFJj0v6ThePP0TSsO6Kz8zMrMb8FPg7QETcEBH/FhH/Sjb64qdVjMvMzKzmOYFRXWOB+4Cju6NySf0jojUiJnZH/Tn3RsROQBPwRUm7dOYgSf2BQ4AuJTDScWZmZvWoMSLmFRdGRCvQ2PPhZPwrJGZmVg+cwKgSSQOAUcCx5BIYaUTDLEnXSnpS0mRJ4yTNljRf0pC036aSrpc0Jz1GpfJJkqZImglMS/XdUmhT0i9SPfMkHZ7KL5XUKmmhpHNysSySdI6kh9Mx7Y4UiYi3gIeAIZJGSvpjaudGSRumOlsk/UDSLODbwOeA8yTNlTQkPW6X9JCkewttSpoq6T8l3Q38qDLPgpmZWY9bq51ta/dYFEUiYkZETGhoaKhWCGZmZh1yAqN6DgFuj4gngdcl7ZzbtiPwTWA48CVg24jYDbgcODHtcwFwfkTsChyethXsAhwcEV8oavMsoC0ihkfECOCuVH5GRDQBI4C9JY3IHbM4InYGLgVObq9DkjYGPgEsBKYB307tzAfyt5ZsEBF7R8T3gZuBUyJiZEQ8DUwBToyIXVJ7/5U7bltg34g4qb04zMzMatgcSR/6qVJJx5J9CWBmZmZleCh+9Yxlxb2u09P6w2l9TkS8DCDpaWBmKp8PjE7L+wLDJBXqW1/Semn55oh4p0Sb+5Ib7RERb6TFIyVNIHs9DCK7paMwvPWG9O9DwGFl+vIpSY8Ay4HJwAtkSYpZafuVwK9z+19TqpI0KuWTwK9z/Vozt8uvI2JZieMmABMA+q2/aZkQzczMasK3gBsljWNFwqIJWAM4tFpBmZmZ1QMnMKogjVT4NLCDpAD6ASHp1LTLu7ndl+fWl7PiOVsN2KM4UZE++L9Vrmkgivbfimykw64R8YakqXxweGuh7WWUf73cGxEH5ersaPxpufhWA/4WESO7clxETCEbucGag7aJUvuYmZnVgoh4BfikpNHADqn41oi4q53DzMzMDCcwquUIYFpEfL1QkOaE2LMLdcwETgDOS8ePjIi5nTzmW+mYDYH1yRIDbZIGAgcALV2I40Miok3SG5I+FRH3kt0GM6vM7n8H1kvHvSnpWUmfj4hfK8vGjIiIR1clHjMzs1oTEXcDd1c7jr6o8bRby25bNPnAHozEzMy6ynNgVMdY4MaisuuB4jkr2jMRaEqTZD4GHN+JY84FNpS0QNKjwOiUHHiEbN6KK4D7uxBDe44hm5xzHjAS+G6Z/aYDp6SfYR0CjAOOTfEtBA6uUDxmZmZmZmZWxzwCowoiorlE2YW51ZZS+0ZES2FbRCwGjipRz6Si9fwxS8gSC8XHjC8TZ2NuuRUoFff79ReVzyWb0LO4vLlo/X4+/DOq+3c2RjMzMzMzM+sbPALDzMzMrI+TNEbSlLa2tmqHYmZmVpYTGGZmZmZ9XETMiIgJDQ0dzcNtZmZWPb6FxHqV4YMbaPUEXGZmZmZmZr2OR2CYmZmZmZmZWc1zAsPMzMzMzMzMap5vITEzMzMzAxpPu/X95ZOGL2V8bh1gkW9TNTOrKo/AMDMzMzMzM7Oa5wSGmZmZmZmZmdU830JiZmZmZtYJjUW3lOT59hIzs+7nERhmZmZmZmZmVvOcwDAzMzMzMzOzmucEhpmZmZmZmZnVPCcwzMzMzHopSYdI+pmkmyTtV+14zMzMVoUTGGZmZmZ1RNIVkl6VtKCofH9JT0h6StJpABHxm4g4DhgPHFWFcM3MzCrGCQwzMzOz+jIV2D9fIKkfcAlwADAMGCtpWG6XM9N2MzOzuqWIqHYMZhXT1NQUra2t1Q7DzMz6EEkPRURTD7fZCNwSETuk9T2ASRHxmbR+etp1cnr8LiJ+X6auCcAEgIEDB+4yffr0isT46uttvPJORaqqioFr06X4hw9u6L5gVtKSJUsYMGBAtcNYafUeP9R/Hxx/9dV7HzoT/+jRozt9He1fkajMzMzMrJoGA8/n1l8AdgdOBPYFGiQNjYjLig+MiCnAFMi+CGhubq5IQBdddRM/mV+/bzVPGr60S/EvGtfcfcGspJaWFir1fFZDvccP9d8Hx1999d6HSsdfv1cVsxLmv9hG42m3VjsM66MWTT6w2iGYWd+lEmURERcCF3Z4sDQGGDN06NCKB9ZXdPT+w9cIM7NV5zkwzMzMzOrfC8DmufXNgJc6e3BEzIiICQ0NtXcbhJmZWYETGGZmZmb1bw6wjaStJK0BHA3cXOWYzMzMKsq3kJiZmZnVEUlXA83AJpJeAL4TET+XdAJwB9APuCIiFnahTt9C0s3au8XEt5eYmXVOxUdgSDpUUkjavtJ159poktTh/ZyrUH+zpDZJj6TfU79H0kGrWN8tZbYtkrRJF+sbK+mMzrbRXTrzPJSLK18uabyk1yTNlfSYpONy+3X768nMzKyeRMTYiBgUEatHxGYR8fNUfltEbBsRQyLi+12s07eQmJlZzeuOW0jGAveRDV2sOEn9I6I1IiZ2R/0590bEThGxHTARuFjSPt3cZmftD9xezQC64Xm4JiJGkn2j9ANJA1N5t76ezMzMzMzMrD5UNIEhaQAwCjiW3AfO9G37LEnXSnpS0mRJ4yTNljRf0pC036aSrpc0Jz1GpfJJkqZImglMK/r2foCkX6R65kk6PJVfKqlV0kJJ5+RiWSTpHEkPp2M6/GY/IuYC3wVOSHVsKenO1N6dkrZI5VMlHZFra0mumvUl3ZhGGFwm6UPnXtIX0zmZK+m/JfUrsY+AkcDD5eJN5+tKSTNTfw+T9OPU39slrZ47Fz9Kbc6WNHQVnofdJP0hjVr5g6TtOjqvpUTEq8DTwJblXk9mZmZWWZLGSJrS1tZW7VDMzMzKqvQIjEOA2yPiSeB1STvntu0IfBMYDnwJ2DYidgMuJ/uNcoALgPMjYlfg8LStYBfg4Ij4QlGbZwFtETE8IkYAd6XyMyKiCRgB7C1pRO6YxRGxM3ApcHIn+/YwUEh2XAxMS+1dRSd+ngzYDTiJrP9DgMPyGyV9DDgKGJVGIiwDxpWoZyfg0YiIDtobAhwIHAz8D3B3RAwH3knlBW+m5+Fi4KepbGWehz8Be0XETsDZwA86iK8kSVsDWwNP0f7rKX/MhJSsal32tt94mZmZdZVvITEzs3pQ6Uk8x7LiQ/D0tF4YKTAnIl4GkPQ0MDOVzwdGp+V9gWHZIAMgG7WwXlq+OSLeKdHmvuS+nY+IN9LikZImkPVxEDAMmJe23ZD+fYiiREI78r+vvkfuuF8CP+7E8bMj4hl4f/KtPYHrctv3IUsOzEn9Xxt4tUQ9+wO/7UR7v42I9yTNJ5vMq3DLyXygMbff1bl/z0/LK/M8NABXStoGCGD1TsSYd5SkPYF3ga9HxOuS2ns9vS8ipgBTANYctE1HiR0zMzMzMzOrQxVLYEjaGPg0sIOkIPvQHJJOTbu8m9t9eW59eS6O1YA9ij8gpw/Sb5VrmuwDc37/rchGVuwaEW9Imgqsldul0PYyOn8OdgIeL7Ot0P5S0qiWdKvHGiX2Kbcu4MqIOL2DOPYjGxXRkXcBImK5pPdyIzby57s4jsLyyjwP3yMb5XGopEagpRMx5l0TESfk2ir7eurE6BMzMzPrAvlXSGpae79gAv4VEzPrOyp5C8kRZLdVbBkRjRGxOfAs2UiDzppJmmcCQNLIlThmQ2B9sg/abcomgzygCzF8SLr95CzgklT0B1aM+hhHNskkwCKyURSQ3bqRH4Wwm7LfZl+N7FaR+/igO4EjJH0ktbmRpC2L4mgA+kfEX1elP0WOyv37QFpemeehAXgxLY+vQFyVeD2ZmZlZJ/gWEjMzqweVvIVkLDC5qOx64AvANZ2sYyJwiaR5KbZ7gOM7OObcdMwCshEV50TEDZIeARYCzwD3d7L9vE+lOtYhu5VjYkTcmYvzCkmnAK8BX0nlPwNukjSbLCGRH63wANn5GZ76dWO+sYh4TNKZwMyU5HgP+Bfgudxu/wT8fiX60p41JT1Ilswam8pW5nn4MdktJP/GinlIVkV7r6d7K1C/mZmZWU3oaISFmZllKpbAiIjmEmX5yS1bSu0bES2FbRGxmBUjAvL1TCpazx+zBDimxDHjy8TZmFtuJfvZzuJ9WshGFJQUEYvIbm8oLn8F+ESu6PTieDuI5xraT/bszwcn1CyOuSUtTyraNiC3/IFtwCURcU7R/ivzPDwAbJvbfFbxPu0cOxWYWrS9ucQxnZks1czMzMzMzHqhSk/iad0oIr5W7RjMzMys9/EcGGZmVg+cwOjD8qM/eovhgxto9URWZmZmXRIRM4AZTU1Nx1U7FjMzs3IqOYmnmZmZmZmZmVm38AgMMzMzM7M6Vm4S0JOGL/3wZG9mZnXMIzDMzMzMzMzMrOY5gWFmZmbWx0kaI2lKW1tbtUMxMzMrywkMMzMzsz4uImZExISGhrK/Im9mZlZ1TmCYmZmZmZmZWc1zAsPMzMzMzMzMap5/hcTMzMzMrI8q9wsmAIsmH9iDkZiZdcwjMMzMzMzMzMys5nkEhpmZmVkfJ2kMMGbo0KHVDsUqrL0RFmZm9cYjMMzMzMz6OP8KiZmZ1QMnMMzMzMzMzMys5vkWEjMzMzMz+5CObj/xJJ9m1tOcwDAzMzMzs4py8sPMuoMTGNarzH+xzZNVWa/jN3lmZmZmZp4Dw8zMzMzMzMzqgBMYZmZmZmZmZlbznMAwMzMz6+MkjZE0pa2trdqhmJmZldVnEhiSzpC0UNI8SXMl7d7B/t+VtG83x/TfkkYVlU2S9GKKca6kyd3Q7pJK17kyJPWXtFjSD4vKWyQ1VSsuMzOzviYiZkTEhIaGhmqHYmZmVlafmMRT0h7AQcDOEfGupE2ANdo7JiLO7oHQdge+UaL8/Ij4j65UJKl/RCytTFg9Zj/gCeBISf8eEVHtgMzMzMzMzKw29ZURGIOAxRHxLkBELI6IlwAknS1pjqQFkqZIUiqfKumItDxZ0mNp9MZ/pLItJd2Zyu6UtEXuuAsl/UHSM4U6ikn6GPBkRCzrKHhJx6UYH5V0vaR1cm39p6S7gR+l9Usl3Z3a3lvSFZIelzS1qM7vp/r+KGlgJ/p0RO7YJenfQZLuSSNFFkj6VCrfT9IDkh6W9GtJA8p0bSxwAfC/wCfK9L2zdZmZmZmZmVkv1idGYAAzgbMlPQn8HrgmImalbRdHxHcBJP2SbKTGjMKBkjYCDgW2j4iQtEHhOGBaRFwp6avAhcAhadsgYE9ge+Bm4LoSMR0A3F4m3n+V9MW0/G3ghoj4WYrnXOBY4KK0fVtg34hYlpIUGwKfBj6X+jEK+BowR9LIiJgLrAv8MSLOkPRj4Djg3A76VMoXgDsi4vuS+gHrpNEtZ6aY3pL0beDfgO/mD5S0NrAP8HVgA7JkxgNF+3S2rgnABIB+62/aTrhmZmZm1ps1nnZru9v90+Rm9a1PjMCIiCXALmQfcl8DrpE0Pm0eLelBSfPJPvh/vOjwN4H/Ay6XdBjwdirfA/hVWv4lWcKi4DcRsTwiHgMGlgnrM5RPYJwfESPT4w5gB0n3phjHFcX466JRHDPSrRjzgVciYn5ELAcWAo1pn38At6Tlh3Ll7fWplDnAVyRNAoZHxN/JRlIMA+6XNBc4BtiyxLEHAXdHxNvA9cChKQmS16m6ImJKRDRFRFO/dXzvrpmZmZmZWW/UV0ZgkD7ktwAtKRFwjKTpwH8BTRHxfPogvlbRcUsl7UY2WuBo4ASyRMeHmsgtv5tbVvGO6RaQDQq3sXTCVOCQiHg0JV6ac9veKtq30PbyojiWs+L5fi8338Qyyr8OCvssJSW70i02awBExD2S9gIOBH4p6TzgDeB3ETG2gz6NBUZJWpTWNwZGk42QKVAn6zIzMzOzXqIwiuKk4UsZX2JEhUdRmPVdfWIEhqTtJG2TKxoJPMeKZMXiNLfCh+arSOUNEXEb8K10LMAfyBIakI2KuK8LIY0G7u7C/usBL0taPbXVXcr1aRHZCBaAg4HVIZszA3g13d7yc2Bn4I9kiYmhaZ91JG2bb0TS+mSjO7aIiMaIaAT+hSypkddhXWZmZmZmZtY39JURGAOAi9L8FUuBp4AJEfE3ST8ju91iEdktEcXWA26StBbZiIB/TeUTgSsknUJ2W8pXuhDPAZSeF6Ocs4AHyZIu81NM3aFcn35Gdg5mA3eyYtRHM3CKpPeAJcCXI+K1NErkaklrpv3OBJ7MtXMYcFdhUtXkJuDHuWPoZF1mZmZmVgUdzTfRXceaWd/VJxIYEfEQ8Mky284k+1BcXD4+t7pbie2LKHErSdFxRESpX834JCsSIcXHTypRdilwaSfaGp9bXgTsUGbbgNzydaRkSjt9eoUP/krI6an8SuDKEvvfBexaXJ7bPpXstph82etAYQbO5s7WZWZmZmZmZn1Dn0hg1JqI2LnaMZiZmZmZmZnVEycwrFcZPriBVk/sZGZmZtZr+fYTs76rT0ziaWZmZtbXSNpa0s8ldWXeLTMzs5rlERhmZmZmdULSFcBBZL8CtkOufH/gAqAfcHlETI6IZ4BjncAwW6Gj0Rvt/UTrqhxrZpXhERhmZmZm9WMqsH++QFI/4BKyXzkbBoyVNKznQzMzM+teiohqx2BWMU1NTdHa2lrtMMzMrA+R9FBENPVge43ALYURGJL2ACZFxGfSeuHXwn6Y1q+LiCPaqW8CMAFg4MCBu0yfPr0icb76ehuvvFORqqpi4NrUdfxQ/32oRvzDBzeU3Tb/xbYuH7tkyRIGDCj1o4T1wfFXX733oTPxjx49utPXUd9CYmZmZlbfBgPP59ZfAHaXtDHwfWAnSacXEhrFImIKMAWyLwKam5srEtRFV93ET+bX71vNk4Yvrev4of77UI34F41rLrttfEe3kJQ4tqWlhUr9n6oGx1999d6HSsdfv3/RzMzMzAxAJcoiIv4KHN+pCqQxwJihQ4dWNDCzeuNfODGrbZ4Dw8zMzKy+vQBsnlvfDHipKxVExIyImNDQUH74vJmZWbU5gWFmZmZW3+YA20jaStIawNHAzVWOyczMrOKcwDAzMzOrE5KuBh4AtpP0gqRjI2IpcAJwB/A4cG1ELOxivWMkTWlra3+SQjMzs2ryHBhmZmZmdSIixpYpvw24bRXqnQHMaGpqOm5l6zAzM+tuTmCYmZmZ9XGexNNs1ZWaAPSk4Us7/PWSjiyafOAqHW/Wm/gWEjMzM7M+zpN4mplZPXACw8zMzMzMzMxqnhMYZmZmZmZmZlbzPAeG9SrzX2wref+hmfUs369rVl88B4aZmdUDj8AwMzMz6+M8B4aZmdUDJzDMzMzMzMzMrOY5gWFmZmZmZmZmNa9Xz4Eh6VDgBuBjEfGnbmqjCfhyREzspvqbgZuAZ4C1gOkRcU47+08FbomI67rYzqPAYxExdlXqkvQt4PWImJbW+wN/AX4WEafn9msBBgH/BywBvhoRT6RtNwEfiYg9cvufALwVEb/oSr/MzMysY54Dw6x36mhuOM9ZZfWmt4/AGAvcBxzdHZVL6h8Rrd2VvMi5NyJ2ApqAL0rapZKVS/oY2WthL0nrrkI9/YGvAr/KFe8HPAEcKUlFh4yLiB2BK4HzUh0bADsDG0jaKrfvFUB3n2czM7M+yXNgmJlZPei1CQxJA4BRwLHkEhiSmiXNknStpCclTZY0TtJsSfMlDUn7bSrpeklz0mNUKp8kaYqkmcC0VN8thTYl/SLVM0/S4an8UkmtkhZKOicXyyJJ50h6OB2zfXt9ioi3gIeAIZLOTnEtSPEUJweQtEvq60OS7pA0qEzVXwB+CcwEPlfmfHamrk8DD0fE0lzZWOAC4H+BT5Rp/x6g8JXP4cAMYDq55y0i3gYWSdqtTB1mZmZmZmbWi/XaBAZwCHB7RDwJvC5p59y2HYFvAsOBLwHbRsRuwOXAiWmfC4DzI2JXsg/Vl+eO3wU4OCK+UNTmWUBbRAyPiBHAXan8jIhoAkYAe0sakTtmcUTsDFwKnNxehyRtTJYEWAhcHBG7RsQOwNrAQUX7rg5cBBwREbuQjWD4fpmqjwKuAa4mSzgUt9vZukaRJVgKx60N7APcUq7uZAwwPy2PTfuW2r8V+FSJ+CakBFHrsrfbyjRhZmZmZmZm9aw3z4ExFvhpWp6e1h9O63Mi4mUASU+TjTyA7EP06LS8LzAsN7BhfUnrpeWbI+KdEm3uywdHDbyRFo+UNIHsfA8ChgHz0rYb0r8PAYeV6cunJD0CLAcmR8RCSYdLOhVYB9iILKkxI3fMdsAOwO9SH/oBLxdXLGlX4LWIeE7SC8AVkjbMxd7pulLfHs+tHwTcHRFvS7oeOEvSv0bEsrT9KknvAIuAEyUNJBuJcV9EhKSlknaIiAVp/1eBD41SiYgpwBSANQdtEyXiMjMzs3Z4DgwzqyXtzd3heTv6tl6ZwEgjFT4N7CApyD5wR/rAD/BubvflufXlrDgnqwF7FCcq0gf4t8o1DXzgA3Sax+FkYNeIeCNNjLlWbpdC28so/3zcGxHvj7CQtBbwX0BTRDwvaVJRnYVYFuYnwixjLLC9pEVpfX0+POKks3W9UxTHWGBUru6NyRJEv0/r4yKiNdevicCGwLPpPK9PlhA6M+2yVmrDzMzMKigiZgAzmpqajqt2LGZmZuX01ltIjgCmRcSWEdEYEZsDzwJ7dqGOmcAJhRVJI1fimA3JPoS/BbSlEQYHdCGGcgpJgsVpro8jSuzzBLCppD1SLKtL+nh+B0mrAZ8HRqTz1AgczIdv3eiwruRx0lwWktYnO99b5Or+lxJ1540F9s/tvwsfnIB1W2BBqQPNzMzMzMysd+utCYyxwI1FZdeTTVbZWROBpjQZ52PA8Z045lxgwzSx5qPA6Ih4FHiE7BaPK4D7uxBDSRHxN+BnZLe8/AaYU2Kff5AlNn6UYpkLfLJot72AFyPixVzZPWS3zrw/SWcn6wL4baoTstth7oqI/GiXm4DPSVqz+EBJjcAWwB9z7T4LvClp91Q0ihWjN8zMzMzMzKwP6ZW3kEREc4myC3OrLaX2jYiWwraIWEw2uWVxPZOK1vPHLAGOKXHM+DJxNuaWW4FScb9ff1H5may4taJkWxExlxUJhVLtt1D0yyBpfopC8qLTdaV9npP0V0nbRMRUYGrR9teBTdNqc9G2RcDgEnXuDCBpJ7LbWBa3F4OZmZmZmZn1Tr11BIZVz2msSIBU0iZkv/JiZmZmZmZmfVCvHIFh1RMRT5DNmVHpen/Xmf2GD26g1TMTm5mZdYl/hcSsfrX3ix2rWu9Jw5cyvkz9tfprIPnz0V78pdRqn2wFj8AwMzMz6+MiYkZETGhoaKh2KGZmZmU5gWFmZmZmZmZmNc8JDDMzMzMzMzOreU5gmJmZmZmZmVnNcwLDzMzMzMzMzGqeExhmZmZmZmZmVvOcwDAzMzMzMzOzmucEhpmZmZmZmZnVvP7VDsDMzMzMqkvSGGDM0KFDqx2KmfWgxtNu7bZjF00+sCrt9kbt9bm987yqx9Yij8AwMzMz6+MiYkZETGhoaKh2KGZmZmU5gWFmZmZmZmZmNc8JDDMzMzMzMzOreU5gmJmZmZmZmVnNcwLDzMzMzMzMzGqef4XEepX5L7b1yZmJzcysa+px5nUzM7O+ziMwzMzMzMzMzKzmOYFhZmZmZmZmZjXPCQwzMzMzMzMzq3lOYNQhSYdKCknbd2MbTZIu7Mb6myXdkpbHS3pN0lxJj0k6Lrdft/fVzMzMzMzMap8TGPVpLHAfcHR3VC6pf0S0RsTE7qi/jGsiYiTQDPxA0sBU3q19NTMz660krSvpSkk/kzSu2vGYmZmtKicw6oykAcAo4FhyH+rTiIZZkq6V9KSkyZLGSZotab6kIWm/TSVdL2lOeoxK5ZMkTZE0E5hWNEJigKRfpHrmSTo8lV8qqVXSQknn5GJZJOkcSQ+nYzo9eiIiXgWeBrYs11czM7O+StIVkl6VtKCofH9JT0h6StJpqfgw4LqIOA74XI8Ha2ZmVmFOYNSfQ4DbI+JJ4HVJO+e27Qh8ExgOfAnYNiJ2Ay4HTkz7XACcHxG7AoenbQW7AAdHxBeK2jwLaIuI4RExArgrlZ8REU3ACGBvSSNyxyyOiJ2BS4GTO9s5SVsDWwNPddDX/DETUiKlddnbbZ1tyszMrB5NBfbPF0jqB1wCHAAMA8ZKGgZsBjyfdlvWgzGamZl1Cycw6s9YYHpanp7WC+ZExMsR8S7ZKIaZqXw+0JiW9wUuljQXuBlYX9J6advNEfFOiTb3JXtjBEBEvJEWj5T0MPAI8HGyN00FN6R/H8q13Z6jUkxXA1+PiNc76Ov7ImJKRDRFRFO/dRo60ZSZmVl9ioh7gNeLincDnoqIZyLiH2TXzIOBF8iSGOD3fGZm1gv0r3YA1nmSNgY+DewgKYB+QEg6Ne3ybm735bn15ax4rlcD9ihOVEgCeKtc00AU7b8V2ciKXSPiDUlTgbVyuxTaXkbnXmfXRMQJufrL9jUiolwlZmZmfdBgVoy0gCxxsTtwIdmXFgcCM8odLGkCMAFg4MCBtLS0VCSogWvDScOXVqSuaqj3+KH++1Dv8UNl+nDRVTe1u/2k4atUfbtWJf724u7OmPO6Gn97f//mv9j+SO/hg1f+i9T26s76UP7Yjv5mt9f/jl5b7elsf5csWVKx6wo4gVFvjgCmRcTXCwWSZgF7dqGOmcAJwHnp+JERMbeTx3wrHbMhsD5ZwqMtTbh5ANDShTg60l5f761gO2ZmZvVOJcoiIt4CvtLRwRExBZgC0NTUFM3NzRUJ6qKrbuIn8+v3reZJw5fWdfxQ/32o9/ih/vvQ1+JfNK657Lbxp9260sd2pL26O+pDR+12FPfK6mx/W1paqNR1BTycsN6MBW4sKrseKJ6zoj0TgaY0GedjwPGdOOZcYENJCyQ9CoyOiEfJbh1ZCFwB3N+FGDqjEn01MzPrC14ANs+tbwa81JUKJI2RNKWtzXNJmZlZ7arfdFofFBHNJcouzK22lNo3IloK2yJiMXBUiXomFa3nj1kCHFPimPFl4mzMLbeS/TRq8T75+qeSTUqW317qmAuLy8zMzIw5wDbp9s4XyX65q0sJ/4iYAcxoamo6rhviMzMzqwiPwDAzMzOrE5KuBh4AtpP0gqRjI2Ip2a2edwCPA9dGxMIu1usRGGZmVvM8AsPMzMysTkREuV/kug24bRXq9QgMMzOreU5gWK8yfHADrZMPrHYYZmZmZmZmVmG+hcTMzMysj/MtJGZmVg+cwDAzMzPr4yJiRkRMaGhoqHYoZmZmZTmBYWZmZmZmZmY1zwkMMzMzsz7Ot5CYmVk9cALDzMzMrI/zLSRmZlYPnMAwMzMzMzMzs5qniKh2DGYVI+nvwBPVjqPKNgEWVzuIKvM58DkAnwPwOYCeOQdbRsSm3dxGj5D0GvBchaqr99dfvccP9d+Heo8f6r8Pjr/66r0PnYm/09dRJzCsV5HUGhFN1Y6jmnwOfA7A5wB8DsDnAHwOqqnez329xw/134d6jx/qvw+Ov/rqvQ+Vjt+3kJiZmZmZmZlZzXMCw8zMzMzMzMxqnhMY1ttMqXYANcDnwOcAfA7A5wB8DsDnoJrq/dzXe/xQ/32o9/ih/vvg+Kuv3vtQ0fg9B4aZmZmZmZmZ1TyPwDAzMzMzMzOzmucEhpmZmZmZmZnVPCcwrNeQtL+kJyQ9Jem0asdTSZIWSZovaa6k1lS2kaTfSfpz+nfD3P6np/PwhKTP5Mp3SfU8JelCSapGfzpD0hWSXpW0IFdWsT5LWlPSNan8QUmNPdrBTihzDiZJejG9FuZK+mxuW288B5tLulvS45IWSvpmKu8zr4V2zkGfeS1IWkvSbEmPpnNwTirvM6+DeqI6uh6rQtfXHoy3W6+NVexDxf6e9UD83X5dqlL8dfEc9MT1oIp9qIvnINd2P0mPSLolrffMcxARfvhR9w+gH/A0sDWwBvAoMKzacVWwf4uATYrKfgyclpZPA36Uloel/q8JbJXOS7+0bTawByDgt8AB1e5bO33eC9gZWNAdfQa+AVyWlo8Grql2nzt5DiYBJ5fYt7eeg0HAzml5PeDJ1Nc+81po5xz0mddCindAWl4deBD4RF96HdTLgzq7HlOh62sPxtut18Yq9qFif896IP5uvy5VKf66eA7ogetBFftQF89BLq5/A34F3JLWe+Q58AgM6y12A56KiGci4h/AdODgKsfU3Q4GrkzLVwKH5MqnR8S7EfEs8BSwm6RBwPoR8UBkfzGm5Y6pORFxD/B6UXEl+5yv6zpgn57MWndGmXNQTm89By9HxMNp+e/A48Bg+tBroZ1zUE5vPAcREUvS6urpEfSh10Ed6Q3X4y69rnoysB64Nna7Hri2daseui5VI/5yai3+nrgeVKsP5dRcHyRtBhwIXF4UZ7c/B05gWG8xGHg+t/4C7f8xrjcBzJT0kKQJqWxgRLwM2cUI+EgqL3cuBqfl4vJ6Usk+v39MRCwF2oCNuy3yyjpB0jxlw3ALw/N6/TlQNqR/J7JvKvrka6HoHEAfei2koapzgVeB30VEn30d1Lh6ux5X4vpabb3l/UCl/p71mG68LvWIbrymdKseuB50uzJ9gDp5DoCfAqcCy3NlPfIcOIFhvUWpb8nay2TWm1ERsTNwAPAvkvZqZ99y56I3n6OV6XO9no9LgSHASOBl4CepvFefA0kDgOuBb0XEm+3tWqKsV5yHEuegT70WImJZRIwENiP75maHdnbvleegTtTbeazE9bVW1dP7gUr+PesR3Xxd6nbdfE3pVj1wPeh2ZfpQF8+BpIOAVyPioc4eUqJspeN3AsN6ixeAzXPrmwEvVSmWiouIl9K/rwI3kg1ZfSUNvSL9+2ravdy5eCEtF5fXk0r2+f1jJPUHGuj8kNaqiYhX0kVvOfAzVgxf7rXnQNLqZG+yroqIG1Jxn3otlDoHffG1ABARfwNagP3pY6+DOlFX1+MKXV+rre7fD1T471m364HrUrfqgWtKj+jG60GPyfehjp6DUcDnJC0iu03w05L+hx56DpzAsN5iDrCNpK0krUE2AdvNVY6pIiStK2m9wjKwH7CArH/HpN2OAW5KyzcDRyubUX8rYBtgdhrK9XdJn0j3dX85d0y9qGSf83UdAdyV7r+raYULQ3Io2WsBeuk5SDH/HHg8Iv4zt6nPvBbKnYO+9FqQtKmkDdLy2sC+wJ/oQ6+DOlI31+NKXV97NuqS6v79QIX/nnV3rD1xXerx+OvlOeih60FV+lAvz0FEnB4Rm0VEI9nf+Lsi4ov01HMQPTRLqR9+dPcD+CzZTMpPA2dUO54K9mtrspl7HwUWFvpGdm/2ncCf078b5Y45I52HJ8jN5gs0kf0xfBq4GFC1+9dOv68mGz73HlmG9thK9hlYC/g12URCs4Gtq93nTp6DXwLzgXnpgjCol5+DPcmGE84D5qbHZ/vSa6Gdc9BnXgvACOCR1NcFwNmpvM+8DurpQZ1cj6ng9bUHY+7Wa2MV+1Cxv2c9EH+3X5eqFH9dPAf0wPWgin2oi+egqC/NrPgVkh55DgoXbTMzMzMzMzOzmuVbSMzMzMzMzMys5jmBYWZmZmZmZmY1zwkMMzMzMzMzM6t5TmCYmZmZmZmZWc1zAsPMzMzMzMzMap4TGGZmPUBSSPpJbv1kSZMqVPdUSUdUoq4O2vm8pMcl3V1U3izplu5u38zM+obefM2sQL1Nki6sZJ1m9cQJDDOznvEucJikTaodSJ6kfl3Y/VjgGxExurviyZPUvyfaMTOzmtMnrpldrA+AiGiNiIldPc6st3ACw8ysZywFpgD/Wryh+NsgSUvSv82SZkm6VtKTkiZLGidptqT5kobkqtlX0r1pv4PS8f0knSdpjqR5kr6eq/duSb8C5peIZ2yqf4GkH6Wys4E9gcsknVeif+tLulHSY5Iuk7RaOm4/SQ9IeljSryUNSOW7pL49JOkOSYNSeYukH0iaBXwzfYO1QNKjku7p+mk3M7M61GuvmcX1tdPuNZI+W9Tvw/OjHiWtK+mKdOwjkg5O5bdJGpGWH0nxIOl7kr4maZCkeyTNTXF/qovPj1nV+NstM7OecwkwT9KPu3DMjsDHgNeBZ4DLI2I3Sd8ETgS+lfZrBPYGhgB3SxoKfBloi4hdJa0J3C9pZtp/N2CHiHg235ikjwI/AnYB3gBmSjokIr4r6dPAyRHRWiLO3YBhwHPA7WTfnLUAZwL7RsRbkr4N/JukHwIXAQdHxGuSjgK+D3w11bVBROyd4pkPfCYiXpS0QRfOm5mZ1bfefs3cISKelTShTLvTgaOA2yStAewD/DOwe66eM4C7IuKr6Ro5W9LvgXuAT0laRJYMGpX23xP4H+ALwB0R8X1lo0DW6dzpNas+JzDMzHpIRLwpaRowEXink4fNiYiXASQ9DRTeTM0H8sNSr42I5cCfJT0DbA/sB4zIfVPVAGwD/AOYXfxGLNkVaImI11KbVwF7Ab/pIM7ZEfFMOuZqsjdJ/0eW1LhfEsAawAPAdsAOwO9SeT/g5Vxd1+SW7wemSroWuKGDGMzMrJfoA9fMQn3l2v0tcGFKauwP3BMR76TrJrljPyfp5LS+FrAFcC/ZeXsWuBX4J0nrAI0R8YSkgcAVklYHfhMRczuI16xmOIFhZtazfgo8DPwiV7aUdEufsncma+S2vZtbXp5bX84H/4ZHUTsBCDgxIu7Ib5DUDLxVJj6VKe9IufZ/FxFji9ofDiyMiD3K1PV+bBFxvKTdgQOBuZJGRsRfVzJGMzOrLz+ld14z8/WVbDe13QJ8hmwkxtVl2j88Ip4oOm4NoIlsFMrvgE2A44CHACLiHkl7kV1bfynpvIiYtpJ9MetRngPDzKwHRcTrwLVkk3sVLCIbfgpwMLD6SlT9eUmrpXt8twaeAO4A/jl9w4KkbSWt20E9DwJ7S9okDSsdC8zqRPu7SdpK2dwXRwH3AX8ERqWhuUhaR9K2KbZNJe2RyleX9PFSlUoaEhEPRsTZwGJg807EYmZmvUAvvmbmtdfudOArwKfSfqWOPTElcpC0E0BE/AN4HjiS7Fp8L3By+hdJWwKvRsTPgJ8DO3cxZrOq8QgMM7Oe9xPghNz6z4CbJM0G7qT8Nz3teYLsTdNA4PiI+D9Jl5Pd5/twenPzGnBIe5VExMuSTgfuJvtm57aIuKkT7T8ATAaGk917e2NELJc0Hrg6DYEFODMinkxDZS+U1EB2LfopsLBEvedJ2ibFcifwaCdiMTOz3qM3XjPz2mt3JjANuDklJYp9j+z6OS8duwg4KG27F9gnIt6WdC+wWSoDaAZOkfQesIRs/g+zuqCI4hFUZmZmZmZmZma1xbeQmJmZmZmZmVnNcwLDzMzMzMzMzGqeExhmZmZmZmZmVvOcwDAzMzMzMzOzmucEhpmZmZmZmZnVPCcwzMzMzMzMzKzmOYFhZmZmZmZmZjXv/wP2f8eggpWHqAAAAABJRU5ErkJggg==\n",
      "text/plain": [
       "<Figure size 1080x360 with 2 Axes>"
      ]
     },
     "metadata": {
      "needs_background": "light"
     },
     "output_type": "display_data"
    }
   ],
   "source": [
    "plt.figure(figsize=(15, 5))\n",
    "plt.subplot(1, 2, 1)\n",
    "beers_filtered['style'].value_counts(normalize=False).head(10).plot(kind='barh', title='10 most common beer styles')\n",
    "plt.xlabel('Number of beers')\n",
    "plt.subplot(1, 2, 2)\n",
    "beers_filtered['beer_nbr_reviews'].hist(bins=50,log=True)\n",
    "plt.title('Number of reviews per beer')\n",
    "plt.ylabel('Count')\n",
    "plt.xlabel('Number of reviews')\n",
    "plt.tight_layout()\n",
    "plt.show()"
   ]
  },
  {
   "cell_type": "code",
   "execution_count": null,
   "metadata": {},
   "outputs": [],
   "source": [
    "# Some beers have no reviews and no ratings, resulting in NaN avg value, we remove them\n",
    "# beers_filtered = beers_filtered[beers_filtered['avg'].notna()].copy(deep=True)\n",
    "\n",
    "# We also remove the few beers that have 0 reviews and 0 ratings but a non NaN avg value (not sure why there are such beers)\n",
    "# beers_filtered = beers_filtered[(beers_filtered['beer_nbr_reviews'] != 0) & (beers_filtered['beer_nbr_ratings'] != 0)].copy(deep=True)\n",
    "\n",
    "#not usefull, will be removed anyway with the merge"
   ]
  },
  {
   "cell_type": "code",
   "execution_count": 12,
   "metadata": {},
   "outputs": [
    {
     "data": {
      "text/html": [
       "<div>\n",
       "<style scoped>\n",
       "    .dataframe tbody tr th:only-of-type {\n",
       "        vertical-align: middle;\n",
       "    }\n",
       "\n",
       "    .dataframe tbody tr th {\n",
       "        vertical-align: top;\n",
       "    }\n",
       "\n",
       "    .dataframe thead th {\n",
       "        text-align: right;\n",
       "    }\n",
       "</style>\n",
       "<table border=\"1\" class=\"dataframe\">\n",
       "  <thead>\n",
       "    <tr style=\"text-align: right;\">\n",
       "      <th></th>\n",
       "      <th>beer_id</th>\n",
       "      <th>brewery_id</th>\n",
       "      <th>beer_nbr_ratings</th>\n",
       "      <th>beer_nbr_reviews</th>\n",
       "      <th>avg</th>\n",
       "      <th>abv</th>\n",
       "    </tr>\n",
       "  </thead>\n",
       "  <tbody>\n",
       "    <tr>\n",
       "      <th>count</th>\n",
       "      <td>280823.000000</td>\n",
       "      <td>280823.000000</td>\n",
       "      <td>280823.000000</td>\n",
       "      <td>280823.000000</td>\n",
       "      <td>247994.000000</td>\n",
       "      <td>244799.000000</td>\n",
       "    </tr>\n",
       "    <tr>\n",
       "      <th>mean</th>\n",
       "      <td>148556.817141</td>\n",
       "      <td>21335.895860</td>\n",
       "      <td>29.887267</td>\n",
       "      <td>9.221417</td>\n",
       "      <td>3.721034</td>\n",
       "      <td>6.491370</td>\n",
       "    </tr>\n",
       "    <tr>\n",
       "      <th>std</th>\n",
       "      <td>84307.593397</td>\n",
       "      <td>15385.715656</td>\n",
       "      <td>231.010063</td>\n",
       "      <td>68.866445</td>\n",
       "      <td>0.476003</td>\n",
       "      <td>2.054071</td>\n",
       "    </tr>\n",
       "    <tr>\n",
       "      <th>min</th>\n",
       "      <td>3.000000</td>\n",
       "      <td>1.000000</td>\n",
       "      <td>0.000000</td>\n",
       "      <td>0.000000</td>\n",
       "      <td>0.000000</td>\n",
       "      <td>0.010000</td>\n",
       "    </tr>\n",
       "    <tr>\n",
       "      <th>25%</th>\n",
       "      <td>76513.500000</td>\n",
       "      <td>3835.000000</td>\n",
       "      <td>1.000000</td>\n",
       "      <td>0.000000</td>\n",
       "      <td>3.500000</td>\n",
       "      <td>5.000000</td>\n",
       "    </tr>\n",
       "    <tr>\n",
       "      <th>50%</th>\n",
       "      <td>148867.000000</td>\n",
       "      <td>24075.000000</td>\n",
       "      <td>2.000000</td>\n",
       "      <td>1.000000</td>\n",
       "      <td>3.780000</td>\n",
       "      <td>6.000000</td>\n",
       "    </tr>\n",
       "    <tr>\n",
       "      <th>75%</th>\n",
       "      <td>221817.500000</td>\n",
       "      <td>33960.000000</td>\n",
       "      <td>8.000000</td>\n",
       "      <td>2.000000</td>\n",
       "      <td>4.010000</td>\n",
       "      <td>7.500000</td>\n",
       "    </tr>\n",
       "    <tr>\n",
       "      <th>max</th>\n",
       "      <td>293296.000000</td>\n",
       "      <td>49817.000000</td>\n",
       "      <td>16509.000000</td>\n",
       "      <td>3899.000000</td>\n",
       "      <td>5.000000</td>\n",
       "      <td>67.500000</td>\n",
       "    </tr>\n",
       "  </tbody>\n",
       "</table>\n",
       "</div>"
      ],
      "text/plain": [
       "             beer_id     brewery_id  beer_nbr_ratings  beer_nbr_reviews  \\\n",
       "count  280823.000000  280823.000000     280823.000000     280823.000000   \n",
       "mean   148556.817141   21335.895860         29.887267          9.221417   \n",
       "std     84307.593397   15385.715656        231.010063         68.866445   \n",
       "min         3.000000       1.000000          0.000000          0.000000   \n",
       "25%     76513.500000    3835.000000          1.000000          0.000000   \n",
       "50%    148867.000000   24075.000000          2.000000          1.000000   \n",
       "75%    221817.500000   33960.000000          8.000000          2.000000   \n",
       "max    293296.000000   49817.000000      16509.000000       3899.000000   \n",
       "\n",
       "                 avg            abv  \n",
       "count  247994.000000  244799.000000  \n",
       "mean        3.721034       6.491370  \n",
       "std         0.476003       2.054071  \n",
       "min         0.000000       0.010000  \n",
       "25%         3.500000       5.000000  \n",
       "50%         3.780000       6.000000  \n",
       "75%         4.010000       7.500000  \n",
       "max         5.000000      67.500000  "
      ]
     },
     "execution_count": 12,
     "metadata": {},
     "output_type": "execute_result"
    }
   ],
   "source": [
    "beers_filtered.describe()"
   ]
  },
  {
   "cell_type": "markdown",
   "metadata": {},
   "source": [
    "<blockquote>\n",
    "\n",
    "We are left with a clean dataset containing n (could still vary depending on what we decide to do) beers. Some beers do not have a alcohol percentage value.\n",
    "\n",
    "</blockquote>"
   ]
  },
  {
   "cell_type": "markdown",
   "metadata": {},
   "source": [
    "Can we find a way to fill in the missing abv values ? mean on the style ? on the brewery ? "
   ]
  },
  {
   "cell_type": "markdown",
   "metadata": {},
   "source": [
    "#### Breweries dataset 🏭"
   ]
  },
  {
   "cell_type": "code",
   "execution_count": 13,
   "metadata": {},
   "outputs": [
    {
     "data": {
      "text/html": [
       "<div>\n",
       "<style scoped>\n",
       "    .dataframe tbody tr th:only-of-type {\n",
       "        vertical-align: middle;\n",
       "    }\n",
       "\n",
       "    .dataframe tbody tr th {\n",
       "        vertical-align: top;\n",
       "    }\n",
       "\n",
       "    .dataframe thead th {\n",
       "        text-align: right;\n",
       "    }\n",
       "</style>\n",
       "<table border=\"1\" class=\"dataframe\">\n",
       "  <thead>\n",
       "    <tr style=\"text-align: right;\">\n",
       "      <th></th>\n",
       "      <th>id</th>\n",
       "      <th>location</th>\n",
       "      <th>name</th>\n",
       "      <th>nbr_beers</th>\n",
       "    </tr>\n",
       "  </thead>\n",
       "  <tbody>\n",
       "    <tr>\n",
<<<<<<< HEAD
       "      <th>7830</th>\n",
       "      <td>35495</td>\n",
       "      <td>Ireland</td>\n",
       "      <td>Four Provinces Brewing Company</td>\n",
       "      <td>2</td>\n",
       "    </tr>\n",
       "    <tr>\n",
       "      <th>11734</th>\n",
       "      <td>27942</td>\n",
       "      <td>United States, Minnesota</td>\n",
       "      <td>Boom Island Brewing Company</td>\n",
       "      <td>31</td>\n",
       "    </tr>\n",
       "    <tr>\n",
       "      <th>8512</th>\n",
       "      <td>140</td>\n",
       "      <td>United States, California</td>\n",
       "      <td>Sierra Nevada Brewing Co.</td>\n",
       "      <td>574</td>\n",
=======
       "      <th>11306</th>\n",
       "      <td>30815</td>\n",
       "      <td>United States, Virginia</td>\n",
       "      <td>Parkway Brewing Co.</td>\n",
       "      <td>35</td>\n",
       "    </tr>\n",
       "    <tr>\n",
       "      <th>6257</th>\n",
       "      <td>28291</td>\n",
       "      <td>Belarus</td>\n",
       "      <td>Molodechnenskiy Pivovarennyi Zavod (OAO Molode...</td>\n",
       "      <td>0</td>\n",
       "    </tr>\n",
       "    <tr>\n",
       "      <th>5654</th>\n",
       "      <td>2562</td>\n",
       "      <td>Australia</td>\n",
       "      <td>Gunn Island BrewBar</td>\n",
       "      <td>5</td>\n",
>>>>>>> bfef783d08199443687fe6e8f4e76ec5e2a4e156
       "    </tr>\n",
       "  </tbody>\n",
       "</table>\n",
       "</div>"
      ],
      "text/plain": [
<<<<<<< HEAD
       "          id                   location                            name  \\\n",
       "7830   35495                    Ireland  Four Provinces Brewing Company   \n",
       "11734  27942   United States, Minnesota     Boom Island Brewing Company   \n",
       "8512     140  United States, California       Sierra Nevada Brewing Co.   \n",
       "\n",
       "       nbr_beers  \n",
       "7830           2  \n",
       "11734         31  \n",
       "8512         574  "
=======
       "          id                 location  \\\n",
       "11306  30815  United States, Virginia   \n",
       "6257   28291                  Belarus   \n",
       "5654    2562                Australia   \n",
       "\n",
       "                                                    name  nbr_beers  \n",
       "11306                                Parkway Brewing Co.         35  \n",
       "6257   Molodechnenskiy Pivovarennyi Zavod (OAO Molode...          0  \n",
       "5654                                 Gunn Island BrewBar          5  "
>>>>>>> bfef783d08199443687fe6e8f4e76ec5e2a4e156
      ]
     },
     "metadata": {},
     "output_type": "display_data"
    },
    {
     "name": "stdout",
     "output_type": "stream",
     "text": [
      "Shape of breweries :  (16758, 4)\n"
     ]
    }
   ],
   "source": [
    "display(breweries.sample(3))\n",
    "print('Shape of breweries : ', breweries.shape)"
   ]
  },
  {
   "cell_type": "code",
   "execution_count": 14,
   "metadata": {},
   "outputs": [
    {
     "data": {
      "image/png": "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\n",
      "text/plain": [
       "<Figure size 432x288 with 1 Axes>"
      ]
     },
     "metadata": {
      "needs_background": "light"
     },
     "output_type": "display_data"
    }
   ],
   "source": [
    "# show the percentage of missing values per columm\n",
    "plt.figure()\n",
    "(breweries.isna().sum() / len(breweries) * 100).plot(kind='barh', title='Percentage of missing values per column')\n",
    "plt.xlabel('Percentage of missing values')\n",
    "plt.show()"
   ]
  },
  {
   "cell_type": "markdown",
   "metadata": {},
   "source": [
    "<blockquote>\n",
    "\n",
    "This dataset has no missing values, we will simply rename the columns and drop the brewery name.\n",
    "\n",
    "</blockquote>"
   ]
  },
  {
   "cell_type": "code",
   "execution_count": 15,
   "metadata": {},
   "outputs": [],
   "source": [
    "breweries_filtered = breweries.drop(columns=['name']).copy(deep=True)\n",
    "breweries_filtered.rename(columns={'id':'brewery_id',\n",
    "                                   'location':'brewery_location',\n",
    "                                   'nbr_beers':'brewery_nbr_beers'}, inplace=True)"
   ]
  },
  {
   "cell_type": "code",
   "execution_count": 16,
   "metadata": {},
   "outputs": [
    {
     "data": {
      "text/html": [
       "<div>\n",
       "<style scoped>\n",
       "    .dataframe tbody tr th:only-of-type {\n",
       "        vertical-align: middle;\n",
       "    }\n",
       "\n",
       "    .dataframe tbody tr th {\n",
       "        vertical-align: top;\n",
       "    }\n",
       "\n",
       "    .dataframe thead th {\n",
       "        text-align: right;\n",
       "    }\n",
       "</style>\n",
       "<table border=\"1\" class=\"dataframe\">\n",
       "  <thead>\n",
       "    <tr style=\"text-align: right;\">\n",
       "      <th></th>\n",
       "      <th>brewery_id</th>\n",
       "      <th>brewery_location</th>\n",
       "      <th>brewery_nbr_beers</th>\n",
       "    </tr>\n",
       "  </thead>\n",
       "  <tbody>\n",
       "    <tr>\n",
<<<<<<< HEAD
       "      <th>12589</th>\n",
       "      <td>4552</td>\n",
       "      <td>United States, Florida</td>\n",
       "      <td>17</td>\n",
       "    </tr>\n",
       "    <tr>\n",
       "      <th>10492</th>\n",
       "      <td>33770</td>\n",
       "      <td>United States, Arizona</td>\n",
       "      <td>15</td>\n",
       "    </tr>\n",
       "    <tr>\n",
       "      <th>14314</th>\n",
       "      <td>39945</td>\n",
       "      <td>North Korea</td>\n",
       "      <td>1</td>\n",
=======
       "      <th>12756</th>\n",
       "      <td>44114</td>\n",
       "      <td>United States, Maine</td>\n",
       "      <td>6</td>\n",
       "    </tr>\n",
       "    <tr>\n",
       "      <th>2381</th>\n",
       "      <td>455</td>\n",
       "      <td>Canada</td>\n",
       "      <td>16</td>\n",
       "    </tr>\n",
       "    <tr>\n",
       "      <th>14707</th>\n",
       "      <td>26614</td>\n",
       "      <td>Belgium</td>\n",
       "      <td>4</td>\n",
>>>>>>> bfef783d08199443687fe6e8f4e76ec5e2a4e156
       "    </tr>\n",
       "  </tbody>\n",
       "</table>\n",
       "</div>"
      ],
      "text/plain": [
<<<<<<< HEAD
       "       brewery_id        brewery_location  brewery_nbr_beers\n",
       "12589        4552  United States, Florida                 17\n",
       "10492       33770  United States, Arizona                 15\n",
       "14314       39945             North Korea                  1"
=======
       "       brewery_id      brewery_location  brewery_nbr_beers\n",
       "12756       44114  United States, Maine                  6\n",
       "2381          455                Canada                 16\n",
       "14707       26614               Belgium                  4"
>>>>>>> bfef783d08199443687fe6e8f4e76ec5e2a4e156
      ]
     },
     "execution_count": 16,
     "metadata": {},
     "output_type": "execute_result"
    }
   ],
   "source": [
    "breweries_filtered.sample(3)"
   ]
  },
  {
   "cell_type": "code",
   "execution_count": 17,
   "metadata": {},
   "outputs": [
    {
     "name": "stdout",
     "output_type": "stream",
     "text": [
      "Number of breweries with a weird location value: 35\n",
      "United States</a> | <a href=\"http://maps.google.com/maps?oi=map&q=%2C+US\" target=\"_blank\">map</a><br><a href=\"http://bluecorncafe.com\" target=\"_blank\">bluecorncafe.com\n",
      "United States</a> | <a href=\"http://maps.google.com/maps?oi=map&q=%2C+US\" target=\"_blank\">map</a><br><a href=\"http://leinie.com\" target=\"_blank\">leinie.com\n",
      "United States</a> | <a href=\"http://maps.google.com/maps?oi=map&q=%2C+US\" target=\"_blank\">map</a><br><a href=\"http://gordonbiersch.com\" target=\"_blank\">gordonbiersch.com\n",
      "United States</a> | <a href=\"http://maps.google.com/maps?oi=map&q=%2C+US\" target=\"_blank\">map</a><br><a href=\"http://bigbuck.com\" target=\"_blank\">bigbuck.com\n",
      "United States</a> | <a href=\"http://maps.google.com/maps?oi=map&q=%2C+US\" target=\"_blank\">map</a><br><a href=\"http://bjsrestaurants.com\" target=\"_blank\">bjsrestaurants.com\n"
     ]
    }
   ],
   "source": [
    "# Some breweries have weird location values, should find a way to clean them\n",
    "print('Number of breweries with a weird location value:', len(breweries_filtered[breweries_filtered['brewery_location'].str.contains('<', na=False)]))\n",
    "\n",
    "# remove the breweries with a weird location value\n",
    "# breweries_filtered = breweries_filtered[~breweries_filtered['brewery_location'].str.contains('<', na=False)].copy(deep=True)\n",
    "\n",
    "# should manully add the us state of the 35 breweries because it corresponds to to 15'319 reviews.\n",
    "\n",
    "for loc in breweries_filtered[breweries_filtered['brewery_location'].str.contains('<', na=False)]['brewery_location'].unique()[0:5]:\n",
    "    print(loc) # print the first 5 strange values"
   ]
  },
  {
   "cell_type": "code",
   "execution_count": 18,
   "metadata": {},
   "outputs": [
    {
     "data": {
<<<<<<< HEAD
      "image/png": "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\n",
=======
      "image/png": "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",
>>>>>>> bfef783d08199443687fe6e8f4e76ec5e2a4e156
      "text/plain": [
       "<Figure size 1080x360 with 2 Axes>"
      ]
     },
     "metadata": {
      "needs_background": "light"
     },
     "output_type": "display_data"
    }
   ],
   "source": [
    "plt.figure(figsize=(15, 5))\n",
    "plt.subplot(1, 2, 1)\n",
    "breweries_filtered['brewery_nbr_beers'].hist(bins=50, log=True)\n",
    "plt.title('Number of beers per brewery')\n",
    "plt.ylabel('Count')\n",
    "plt.xlabel('Number of beers')\n",
    "plt.subplot(1, 2, 2)\n",
    "breweries_filtered['brewery_location'].value_counts(normalize=False).head(10).plot(kind='barh', title='10 most common brewery locations')\n",
    "plt.xlabel('Number of breweries')\n",
    "plt.tight_layout()\n",
    "plt.show()"
   ]
  },
  {
   "cell_type": "markdown",
   "metadata": {},
   "source": [
    "#### Users dataset 👤"
   ]
  },
  {
   "cell_type": "code",
   "execution_count": 19,
   "metadata": {},
   "outputs": [
    {
     "data": {
      "text/html": [
       "<div>\n",
       "<style scoped>\n",
       "    .dataframe tbody tr th:only-of-type {\n",
       "        vertical-align: middle;\n",
       "    }\n",
       "\n",
       "    .dataframe tbody tr th {\n",
       "        vertical-align: top;\n",
       "    }\n",
       "\n",
       "    .dataframe thead th {\n",
       "        text-align: right;\n",
       "    }\n",
       "</style>\n",
       "<table border=\"1\" class=\"dataframe\">\n",
       "  <thead>\n",
       "    <tr style=\"text-align: right;\">\n",
       "      <th></th>\n",
       "      <th>nbr_ratings</th>\n",
       "      <th>nbr_reviews</th>\n",
       "      <th>user_id</th>\n",
       "      <th>user_name</th>\n",
       "      <th>joined</th>\n",
       "      <th>location</th>\n",
       "    </tr>\n",
       "  </thead>\n",
       "  <tbody>\n",
       "    <tr>\n",
<<<<<<< HEAD
       "      <th>142453</th>\n",
       "      <td>1</td>\n",
       "      <td>0</td>\n",
       "      <td>stestand84.1011187</td>\n",
       "      <td>Stestand84</td>\n",
       "      <td>1.436350e+09</td>\n",
       "      <td>United States, Michigan</td>\n",
       "    </tr>\n",
       "    <tr>\n",
       "      <th>132444</th>\n",
       "      <td>1</td>\n",
       "      <td>0</td>\n",
       "      <td>jaimenk4.862038</td>\n",
       "      <td>Jaimenk4</td>\n",
       "      <td>1.410516e+09</td>\n",
       "      <td>NaN</td>\n",
=======
       "      <th>101697</th>\n",
       "      <td>2</td>\n",
       "      <td>0</td>\n",
       "      <td>johnny99.663685</td>\n",
       "      <td>Johnny99</td>\n",
       "      <td>1.331291e+09</td>\n",
       "      <td>NaN</td>\n",
       "    </tr>\n",
       "    <tr>\n",
       "      <th>121380</th>\n",
       "      <td>1</td>\n",
       "      <td>0</td>\n",
       "      <td>kokabetical.1206764</td>\n",
       "      <td>Kokabetical</td>\n",
       "      <td>1.500631e+09</td>\n",
       "      <td>United States, Pennsylvania</td>\n",
       "    </tr>\n",
       "    <tr>\n",
       "      <th>19918</th>\n",
       "      <td>10</td>\n",
       "      <td>10</td>\n",
       "      <td>monkeydunk.809912</td>\n",
       "      <td>MonkeyDunk</td>\n",
       "      <td>1.403345e+09</td>\n",
       "      <td>United States, California</td>\n",
>>>>>>> bfef783d08199443687fe6e8f4e76ec5e2a4e156
       "    </tr>\n",
       "    <tr>\n",
       "      <th>2863</th>\n",
       "      <td>474</td>\n",
       "      <td>468</td>\n",
       "      <td>seand.289492</td>\n",
       "      <td>seand</td>\n",
       "      <td>1.232363e+09</td>\n",
       "      <td>United States, California</td>\n",
       "    </tr>\n",
       "  </tbody>\n",
       "</table>\n",
       "</div>"
      ],
      "text/plain": [
<<<<<<< HEAD
       "        nbr_ratings  nbr_reviews             user_id   user_name  \\\n",
       "142453            1            0  stestand84.1011187  Stestand84   \n",
       "132444            1            0     jaimenk4.862038    Jaimenk4   \n",
       "2863            474          468        seand.289492       seand   \n",
       "\n",
       "              joined                   location  \n",
       "142453  1.436350e+09    United States, Michigan  \n",
       "132444  1.410516e+09                        NaN  \n",
       "2863    1.232363e+09  United States, California  "
=======
       "        nbr_ratings  nbr_reviews              user_id    user_name  \\\n",
       "101697            2            0      johnny99.663685     Johnny99   \n",
       "121380            1            0  kokabetical.1206764  Kokabetical   \n",
       "19918            10           10    monkeydunk.809912   MonkeyDunk   \n",
       "\n",
       "              joined                     location  \n",
       "101697  1.331291e+09                          NaN  \n",
       "121380  1.500631e+09  United States, Pennsylvania  \n",
       "19918   1.403345e+09    United States, California  "
>>>>>>> bfef783d08199443687fe6e8f4e76ec5e2a4e156
      ]
     },
     "metadata": {},
     "output_type": "display_data"
    },
    {
     "name": "stdout",
     "output_type": "stream",
     "text": [
      "Shape of users :  (153704, 6)\n"
     ]
    }
   ],
   "source": [
    "display(users.sample(3))\n",
    "print('Shape of users : ', users.shape)"
   ]
  },
  {
   "cell_type": "code",
   "execution_count": 20,
   "metadata": {},
   "outputs": [
    {
     "data": {
      "image/png": "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\n",
      "text/plain": [
       "<Figure size 432x288 with 1 Axes>"
      ]
     },
     "metadata": {
      "needs_background": "light"
     },
     "output_type": "display_data"
    }
   ],
   "source": [
    "plt.figure()\n",
    "(users.isna().sum() / len(users) * 100).plot(kind='barh', title='Percentage of missing values per column')\n",
    "plt.xlabel('Percentage of missing values')\n",
    "plt.show()"
   ]
  },
  {
   "cell_type": "markdown",
   "metadata": {},
   "source": [
    "<blockquote>\n",
    "\n",
    "We are only missing information about when the user joined the website and locations. (and 1 username, which we drop anyway)\n",
    "\n",
    "</blockquote>"
   ]
  },
  {
   "cell_type": "code",
   "execution_count": 21,
   "metadata": {},
   "outputs": [
    {
     "data": {
      "text/html": [
       "<div>\n",
       "<style scoped>\n",
       "    .dataframe tbody tr th:only-of-type {\n",
       "        vertical-align: middle;\n",
       "    }\n",
       "\n",
       "    .dataframe tbody tr th {\n",
       "        vertical-align: top;\n",
       "    }\n",
       "\n",
       "    .dataframe thead th {\n",
       "        text-align: right;\n",
       "    }\n",
       "</style>\n",
       "<table border=\"1\" class=\"dataframe\">\n",
       "  <thead>\n",
       "    <tr style=\"text-align: right;\">\n",
       "      <th></th>\n",
       "      <th>user_nbr_ratings</th>\n",
       "      <th>user_nbr_reviews</th>\n",
       "      <th>user_id</th>\n",
       "      <th>user_joined</th>\n",
       "      <th>user_location</th>\n",
       "    </tr>\n",
       "  </thead>\n",
       "  <tbody>\n",
       "    <tr>\n",
<<<<<<< HEAD
       "      <th>43075</th>\n",
       "      <td>104</td>\n",
       "      <td>0</td>\n",
       "      <td>ajpowell5.770072</td>\n",
       "      <td>1.387278e+09</td>\n",
       "      <td>United States, New Jersey</td>\n",
       "    </tr>\n",
       "    <tr>\n",
       "      <th>36764</th>\n",
       "      <td>7</td>\n",
       "      <td>0</td>\n",
       "      <td>jwnyc.729006</td>\n",
       "      <td>1.366193e+09</td>\n",
       "      <td>United States, New Jersey</td>\n",
       "    </tr>\n",
       "    <tr>\n",
       "      <th>39405</th>\n",
       "      <td>6</td>\n",
       "      <td>0</td>\n",
       "      <td>maxhoel.824224</td>\n",
       "      <td>1.405159e+09</td>\n",
=======
       "      <th>33817</th>\n",
       "      <td>2</td>\n",
       "      <td>0</td>\n",
       "      <td>davou.854344</td>\n",
       "      <td>1.409306e+09</td>\n",
       "      <td>Canada</td>\n",
       "    </tr>\n",
       "    <tr>\n",
       "      <th>102299</th>\n",
       "      <td>7</td>\n",
       "      <td>7</td>\n",
       "      <td>brandtr3.114129</td>\n",
       "      <td>1.167390e+09</td>\n",
       "      <td>United States, Illinois</td>\n",
       "    </tr>\n",
       "    <tr>\n",
       "      <th>149466</th>\n",
       "      <td>1</td>\n",
       "      <td>0</td>\n",
       "      <td>jmacgolf.938781</td>\n",
       "      <td>1.422961e+09</td>\n",
>>>>>>> bfef783d08199443687fe6e8f4e76ec5e2a4e156
       "      <td>NaN</td>\n",
       "    </tr>\n",
       "  </tbody>\n",
       "</table>\n",
       "</div>"
      ],
      "text/plain": [
<<<<<<< HEAD
       "       user_nbr_ratings  user_nbr_reviews           user_id   user_joined  \\\n",
       "43075               104                 0  ajpowell5.770072  1.387278e+09   \n",
       "36764                 7                 0      jwnyc.729006  1.366193e+09   \n",
       "39405                 6                 0    maxhoel.824224  1.405159e+09   \n",
       "\n",
       "                   user_location  \n",
       "43075  United States, New Jersey  \n",
       "36764  United States, New Jersey  \n",
       "39405                        NaN  "
=======
       "        user_nbr_ratings  user_nbr_reviews          user_id   user_joined  \\\n",
       "33817                  2                 0     davou.854344  1.409306e+09   \n",
       "102299                 7                 7  brandtr3.114129  1.167390e+09   \n",
       "149466                 1                 0  jmacgolf.938781  1.422961e+09   \n",
       "\n",
       "                  user_location  \n",
       "33817                    Canada  \n",
       "102299  United States, Illinois  \n",
       "149466                      NaN  "
>>>>>>> bfef783d08199443687fe6e8f4e76ec5e2a4e156
      ]
     },
     "execution_count": 21,
     "metadata": {},
     "output_type": "execute_result"
    }
   ],
   "source": [
    "users_filtered = users.drop(columns=['user_name']).copy(deep=True)\n",
    "\n",
    "users_filtered.rename(columns={'nbr_ratings':'user_nbr_ratings',\n",
    "                               'nbr_reviews':'user_nbr_reviews',\n",
    "                               'joined':'user_joined',\n",
    "                               'location':'user_location'}, inplace=True)\n",
    "\n",
    "users_filtered.sample(3)"
   ]
  },
  {
   "cell_type": "code",
   "execution_count": 22,
   "metadata": {},
   "outputs": [
    {
     "data": {
      "image/png": "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\n",
      "text/plain": [
       "<Figure size 1080x360 with 2 Axes>"
      ]
     },
     "metadata": {
      "needs_background": "light"
     },
     "output_type": "display_data"
    }
   ],
   "source": [
    "plt.figure(figsize=(15, 5))\n",
    "plt.subplot(1, 2, 1)\n",
    "users_filtered['user_nbr_reviews'].hist(bins=50, log=True)\n",
    "plt.title('Number of reviews per users')\n",
    "plt.ylabel('Count')\n",
    "plt.xlabel('Number of reviews')\n",
    "plt.subplot(1, 2, 2)\n",
    "users_filtered['user_location'].value_counts(normalize=False).head(10).plot(kind='barh', title='10 most common user locations')\n",
    "plt.xlabel('Number of users')\n",
    "plt.tight_layout()\n",
    "plt.show()"
   ]
  },
  {
   "cell_type": "markdown",
   "metadata": {},
   "source": [
    "<blockquote>\n",
    "\n",
    "We observe that many users have no reviews at all, they will be removed from the dataset when merging. Also, the 10 most common user location are all in the US.\n",
    "\n",
    "</blockquote>"
   ]
  },
  {
   "cell_type": "markdown",
   "metadata": {},
   "source": [
    "#### Reviews dataset 📝"
   ]
  },
  {
   "cell_type": "code",
   "execution_count": 23,
   "metadata": {},
   "outputs": [
    {
     "data": {
      "text/html": [
       "<div>\n",
       "<style scoped>\n",
       "    .dataframe tbody tr th:only-of-type {\n",
       "        vertical-align: middle;\n",
       "    }\n",
       "\n",
       "    .dataframe tbody tr th {\n",
       "        vertical-align: top;\n",
       "    }\n",
       "\n",
       "    .dataframe thead th {\n",
       "        text-align: right;\n",
       "    }\n",
       "</style>\n",
       "<table border=\"1\" class=\"dataframe\">\n",
       "  <thead>\n",
       "    <tr style=\"text-align: right;\">\n",
       "      <th></th>\n",
       "      <th>beer_name</th>\n",
       "      <th>beer_id</th>\n",
       "      <th>brewery_name</th>\n",
       "      <th>brewery_id</th>\n",
       "      <th>style</th>\n",
       "      <th>abv</th>\n",
       "      <th>date</th>\n",
       "      <th>user_name</th>\n",
       "      <th>user_id</th>\n",
       "      <th>appearance</th>\n",
       "      <th>aroma</th>\n",
       "      <th>palate</th>\n",
       "      <th>taste</th>\n",
       "      <th>overall</th>\n",
       "      <th>rating</th>\n",
       "      <th>text</th>\n",
       "    </tr>\n",
       "  </thead>\n",
       "  <tbody>\n",
       "    <tr>\n",
<<<<<<< HEAD
       "      <th>2245177</th>\n",
       "      <td>Artista Zynergia: Morpheus &amp; Phantasus</td>\n",
       "      <td>233837</td>\n",
       "      <td>OEC Brewing (Ordinem Ecentrici Coctores)</td>\n",
       "      <td>34667</td>\n",
       "      <td>Gueuze</td>\n",
       "      <td>6.3</td>\n",
       "      <td>1467021600</td>\n",
       "      <td>TrilliumFan</td>\n",
       "      <td>trilliumfan.902094</td>\n",
       "      <td>4.5</td>\n",
       "      <td>4.25</td>\n",
       "      <td>4.5</td>\n",
       "      <td>4.5</td>\n",
       "      <td>4.5</td>\n",
       "      <td>4.44</td>\n",
       "      <td>On draft at pizzeria paradiso, poured into a t...</td>\n",
       "    </tr>\n",
       "    <tr>\n",
       "      <th>901643</th>\n",
       "      <td>Black Orchard</td>\n",
       "      <td>42587</td>\n",
       "      <td>The Bruery</td>\n",
       "      <td>16866</td>\n",
       "      <td>Belgian Dark Ale</td>\n",
       "      <td>5.7</td>\n",
       "      <td>1282903200</td>\n",
       "      <td>unclejimbay</td>\n",
       "      <td>unclejimbay.244896</td>\n",
       "      <td>3.5</td>\n",
       "      <td>4.00</td>\n",
       "      <td>4.5</td>\n",
       "      <td>4.5</td>\n",
       "      <td>4.5</td>\n",
       "      <td>4.32</td>\n",
       "      <td>Bruery Review, we performed a comprehensive sa...</td>\n",
       "    </tr>\n",
       "    <tr>\n",
       "      <th>1071172</th>\n",
       "      <td>UFO Raspberry Hefeweizen</td>\n",
       "      <td>28672</td>\n",
       "      <td>Harpoon Brewery &amp; Beer Hall</td>\n",
       "      <td>98</td>\n",
       "      <td>Fruit / Vegetable Beer</td>\n",
       "      <td>4.8</td>\n",
       "      <td>1220436000</td>\n",
       "      <td>mtstatebeer</td>\n",
       "      <td>mtstatebeer.212042</td>\n",
       "      <td>3.0</td>\n",
       "      <td>3.00</td>\n",
       "      <td>2.5</td>\n",
       "      <td>2.5</td>\n",
       "      <td>3.0</td>\n",
       "      <td>2.75</td>\n",
       "      <td>12 oz. bottle. Pours a orangeish-red color wit...</td>\n",
=======
       "      <th>816976</th>\n",
       "      <td>Racer 5 India Pale Ale</td>\n",
       "      <td>2751</td>\n",
       "      <td>Bear Republic Brewery</td>\n",
       "      <td>610</td>\n",
       "      <td>American IPA</td>\n",
       "      <td>7.5</td>\n",
       "      <td>1244541600</td>\n",
       "      <td>marvin213</td>\n",
       "      <td>marvin213.265474</td>\n",
       "      <td>3.5</td>\n",
       "      <td>3.5</td>\n",
       "      <td>3.5</td>\n",
       "      <td>3.5</td>\n",
       "      <td>3.5</td>\n",
       "      <td>3.50</td>\n",
       "      <td>It looks like your average IPA: the browner si...</td>\n",
       "    </tr>\n",
       "    <tr>\n",
       "      <th>789846</th>\n",
       "      <td>Buffalo Bill's Pumpkin Ale</td>\n",
       "      <td>643</td>\n",
       "      <td>Buffalo Bill's Brewery</td>\n",
       "      <td>205</td>\n",
       "      <td>Pumpkin Ale</td>\n",
       "      <td>6.0</td>\n",
       "      <td>1313056800</td>\n",
       "      <td>Chico1985</td>\n",
       "      <td>chico1985.349304</td>\n",
       "      <td>2.0</td>\n",
       "      <td>3.0</td>\n",
       "      <td>2.5</td>\n",
       "      <td>3.5</td>\n",
       "      <td>3.5</td>\n",
       "      <td>3.19</td>\n",
       "      <td>Pumpkin beer in August? Eh, it was free.Pours ...</td>\n",
       "    </tr>\n",
       "    <tr>\n",
       "      <th>747537</th>\n",
       "      <td>Jack Russell Jack's Olde Ale A Winter Warmer</td>\n",
       "      <td>8800</td>\n",
       "      <td>Jack Russell Brewing Company</td>\n",
       "      <td>2547</td>\n",
       "      <td>English Brown Ale</td>\n",
       "      <td>5.9</td>\n",
       "      <td>1105095600</td>\n",
       "      <td>rkhaze</td>\n",
       "      <td>rkhaze.2969</td>\n",
       "      <td>4.0</td>\n",
       "      <td>3.5</td>\n",
       "      <td>4.5</td>\n",
       "      <td>4.0</td>\n",
       "      <td>4.0</td>\n",
       "      <td>3.93</td>\n",
       "      <td>Pours a clear ruby/amber color with a medium s...</td>\n",
>>>>>>> bfef783d08199443687fe6e8f4e76ec5e2a4e156
       "    </tr>\n",
       "  </tbody>\n",
       "</table>\n",
       "</div>"
      ],
      "text/plain": [
<<<<<<< HEAD
       "                                      beer_name  beer_id  \\\n",
       "2245177  Artista Zynergia: Morpheus & Phantasus   233837   \n",
       "901643                            Black Orchard    42587   \n",
       "1071172                UFO Raspberry Hefeweizen    28672   \n",
       "\n",
       "                                     brewery_name  brewery_id  \\\n",
       "2245177  OEC Brewing (Ordinem Ecentrici Coctores)       34667   \n",
       "901643                                 The Bruery       16866   \n",
       "1071172               Harpoon Brewery & Beer Hall          98   \n",
       "\n",
       "                          style  abv        date    user_name  \\\n",
       "2245177                  Gueuze  6.3  1467021600  TrilliumFan   \n",
       "901643         Belgian Dark Ale  5.7  1282903200  unclejimbay   \n",
       "1071172  Fruit / Vegetable Beer  4.8  1220436000  mtstatebeer   \n",
       "\n",
       "                    user_id  appearance  aroma  palate  taste  overall  \\\n",
       "2245177  trilliumfan.902094         4.5   4.25     4.5    4.5      4.5   \n",
       "901643   unclejimbay.244896         3.5   4.00     4.5    4.5      4.5   \n",
       "1071172  mtstatebeer.212042         3.0   3.00     2.5    2.5      3.0   \n",
       "\n",
       "         rating                                               text  \n",
       "2245177    4.44  On draft at pizzeria paradiso, poured into a t...  \n",
       "901643     4.32  Bruery Review, we performed a comprehensive sa...  \n",
       "1071172    2.75  12 oz. bottle. Pours a orangeish-red color wit...  "
=======
       "                                           beer_name  beer_id  \\\n",
       "816976                        Racer 5 India Pale Ale     2751   \n",
       "789846                    Buffalo Bill's Pumpkin Ale      643   \n",
       "747537  Jack Russell Jack's Olde Ale A Winter Warmer     8800   \n",
       "\n",
       "                        brewery_name  brewery_id              style  abv  \\\n",
       "816976         Bear Republic Brewery         610       American IPA  7.5   \n",
       "789846        Buffalo Bill's Brewery         205        Pumpkin Ale  6.0   \n",
       "747537  Jack Russell Brewing Company        2547  English Brown Ale  5.9   \n",
       "\n",
       "              date  user_name           user_id  appearance  aroma  palate  \\\n",
       "816976  1244541600  marvin213  marvin213.265474         3.5    3.5     3.5   \n",
       "789846  1313056800  Chico1985  chico1985.349304         2.0    3.0     2.5   \n",
       "747537  1105095600     rkhaze       rkhaze.2969         4.0    3.5     4.5   \n",
       "\n",
       "        taste  overall  rating  \\\n",
       "816976    3.5      3.5    3.50   \n",
       "789846    3.5      3.5    3.19   \n",
       "747537    4.0      4.0    3.93   \n",
       "\n",
       "                                                     text  \n",
       "816976  It looks like your average IPA: the browner si...  \n",
       "789846  Pumpkin beer in August? Eh, it was free.Pours ...  \n",
       "747537  Pours a clear ruby/amber color with a medium s...  "
>>>>>>> bfef783d08199443687fe6e8f4e76ec5e2a4e156
      ]
     },
     "metadata": {},
     "output_type": "display_data"
    },
    {
     "name": "stdout",
     "output_type": "stream",
     "text": [
      "Shape of reviews :  (2589586, 16)\n"
     ]
    }
   ],
   "source": [
    "display(reviews.sample(3))\n",
    "print('Shape of reviews : ', reviews.shape)"
   ]
  },
  {
   "cell_type": "code",
   "execution_count": 24,
   "metadata": {},
   "outputs": [
    {
     "data": {
      "image/png": "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\n",
      "text/plain": [
       "<Figure size 432x288 with 1 Axes>"
      ]
     },
     "metadata": {
      "needs_background": "light"
     },
     "output_type": "display_data"
    }
   ],
   "source": [
    "plt.figure()\n",
    "(reviews.isna().sum() / len(reviews) * 100).plot(kind='barh', title='Percentage of missing values per column')\n",
    "plt.xlabel('Percentage of missing values')\n",
    "plt.show()"
   ]
  },
  {
   "cell_type": "code",
   "execution_count": 25,
   "metadata": {},
   "outputs": [
    {
     "name": "stdout",
     "output_type": "stream",
     "text": [
      "Number of rows with NaN values for each column :\n",
      "overall : 32009\n",
      "taste : 32009\n",
      "palate : 32009\n",
      "aroma : 32009\n",
      "appearance : 32009\n",
      "False    2557577\n",
      "True       32009\n",
      "Name: all_missing, dtype: int64\n"
     ]
    }
   ],
   "source": [
    "# making sure that all the NaN are in the same rows\n",
    "\n",
    "# print the number of rows that contains a NaN value for each column ['overall', 'taste', 'palate', 'aroma', 'appearance']\n",
    "print('Number of rows with NaN values for each column :')\n",
    "for col in ['overall', 'taste', 'palate', 'aroma', 'appearance']:\n",
    "    print(col, ':', len(reviews[reviews[col].isna()]))\n",
    "    \n",
    "missing_values = reviews[['overall', 'taste', 'palate', 'aroma', 'appearance']].isna()\n",
    "missing_values['all_missing'] = missing_values.all(axis=1)\n",
    "print(missing_values['all_missing'].value_counts())"
   ]
  },
  {
   "cell_type": "markdown",
   "metadata": {},
   "source": [
    "<blockquote>\n",
    "\n",
    "All the missing values are in the same rows, and they represent less than 1.5% of the dataset. We can then drop them.\n",
    "\n",
    "</blockquote>"
   ]
  },
  {
   "cell_type": "code",
   "execution_count": 26,
   "metadata": {},
   "outputs": [
    {
     "data": {
      "text/html": [
       "<div>\n",
       "<style scoped>\n",
       "    .dataframe tbody tr th:only-of-type {\n",
       "        vertical-align: middle;\n",
       "    }\n",
       "\n",
       "    .dataframe tbody tr th {\n",
       "        vertical-align: top;\n",
       "    }\n",
       "\n",
       "    .dataframe thead th {\n",
       "        text-align: right;\n",
       "    }\n",
       "</style>\n",
       "<table border=\"1\" class=\"dataframe\">\n",
       "  <thead>\n",
       "    <tr style=\"text-align: right;\">\n",
       "      <th></th>\n",
       "      <th>beer_id</th>\n",
       "      <th>brewery_id</th>\n",
       "      <th>style</th>\n",
       "      <th>abv</th>\n",
       "      <th>date</th>\n",
       "      <th>user_id</th>\n",
       "      <th>appearance</th>\n",
       "      <th>aroma</th>\n",
       "      <th>palate</th>\n",
       "      <th>taste</th>\n",
       "      <th>overall</th>\n",
       "      <th>rating</th>\n",
       "      <th>text</th>\n",
       "    </tr>\n",
       "  </thead>\n",
       "  <tbody>\n",
       "    <tr>\n",
<<<<<<< HEAD
       "      <th>576110</th>\n",
       "      <td>57912</td>\n",
       "      <td>220</td>\n",
       "      <td>Belgian IPA</td>\n",
       "      <td>8.8</td>\n",
       "      <td>1286618400</td>\n",
       "      <td>lovindahops.442008</td>\n",
       "      <td>4.0</td>\n",
       "      <td>4.0</td>\n",
       "      <td>4.0</td>\n",
       "      <td>4.0</td>\n",
       "      <td>4.0</td>\n",
       "      <td>4.00</td>\n",
       "      <td>A- complete golden body with a master head of ...</td>\n",
       "    </tr>\n",
       "    <tr>\n",
       "      <th>813367</th>\n",
       "      <td>3158</td>\n",
       "      <td>610</td>\n",
       "      <td>American IPA</td>\n",
       "      <td>8.0</td>\n",
       "      <td>1289818800</td>\n",
       "      <td>anaz.407226</td>\n",
       "      <td>4.0</td>\n",
       "      <td>3.5</td>\n",
       "      <td>4.0</td>\n",
       "      <td>4.5</td>\n",
       "      <td>3.5</td>\n",
       "      <td>3.98</td>\n",
       "      <td>A- Dark red brown, with a full creamy head tha...</td>\n",
       "    </tr>\n",
       "    <tr>\n",
       "      <th>1171029</th>\n",
       "      <td>906</td>\n",
       "      <td>99</td>\n",
       "      <td>Black &amp; Tan</td>\n",
       "      <td>5.4</td>\n",
       "      <td>1284804000</td>\n",
       "      <td>drabmuh.4791</td>\n",
       "      <td>4.0</td>\n",
       "      <td>3.5</td>\n",
       "      <td>3.5</td>\n",
       "      <td>3.0</td>\n",
       "      <td>3.5</td>\n",
       "      <td>3.33</td>\n",
       "      <td>Poured into a shaker pint. Beer is black to br...</td>\n",
=======
       "      <th>1089222</th>\n",
       "      <td>108008</td>\n",
       "      <td>26817</td>\n",
       "      <td>Cream Ale</td>\n",
       "      <td>12.0</td>\n",
       "      <td>1422183600</td>\n",
       "      <td>act25.523243</td>\n",
       "      <td>4.0</td>\n",
       "      <td>4.0</td>\n",
       "      <td>4.5</td>\n",
       "      <td>4.5</td>\n",
       "      <td>4.25</td>\n",
       "      <td>4.30</td>\n",
       "      <td>Place: Carton Brewing, a great, busy hang in J...</td>\n",
       "    </tr>\n",
       "    <tr>\n",
       "      <th>501558</th>\n",
       "      <td>35201</td>\n",
       "      <td>784</td>\n",
       "      <td>American Porter</td>\n",
       "      <td>7.5</td>\n",
       "      <td>1307440800</td>\n",
       "      <td>baconsausage.474410</td>\n",
       "      <td>4.5</td>\n",
       "      <td>3.0</td>\n",
       "      <td>3.5</td>\n",
       "      <td>4.0</td>\n",
       "      <td>3.50</td>\n",
       "      <td>3.64</td>\n",
       "      <td>So it is 11am, I have nothing better to do and...</td>\n",
       "    </tr>\n",
       "    <tr>\n",
       "      <th>1794532</th>\n",
       "      <td>68086</td>\n",
       "      <td>9792</td>\n",
       "      <td>American IPA</td>\n",
       "      <td>6.4</td>\n",
       "      <td>1332327600</td>\n",
       "      <td>chaney.75452</td>\n",
       "      <td>4.0</td>\n",
       "      <td>3.5</td>\n",
       "      <td>4.0</td>\n",
       "      <td>4.5</td>\n",
       "      <td>4.00</td>\n",
       "      <td>4.08</td>\n",
       "      <td>I had this on tap at the brewpub in Greensboro...</td>\n",
>>>>>>> bfef783d08199443687fe6e8f4e76ec5e2a4e156
       "    </tr>\n",
       "  </tbody>\n",
       "</table>\n",
       "</div>"
      ],
      "text/plain": [
<<<<<<< HEAD
       "         beer_id  brewery_id         style  abv        date  \\\n",
       "576110     57912         220   Belgian IPA  8.8  1286618400   \n",
       "813367      3158         610  American IPA  8.0  1289818800   \n",
       "1171029      906          99   Black & Tan  5.4  1284804000   \n",
       "\n",
       "                    user_id  appearance  aroma  palate  taste  overall  \\\n",
       "576110   lovindahops.442008         4.0    4.0     4.0    4.0      4.0   \n",
       "813367          anaz.407226         4.0    3.5     4.0    4.5      3.5   \n",
       "1171029        drabmuh.4791         4.0    3.5     3.5    3.0      3.5   \n",
       "\n",
       "         rating                                               text  \n",
       "576110     4.00  A- complete golden body with a master head of ...  \n",
       "813367     3.98  A- Dark red brown, with a full creamy head tha...  \n",
       "1171029    3.33  Poured into a shaker pint. Beer is black to br...  "
=======
       "         beer_id  brewery_id            style   abv        date  \\\n",
       "1089222   108008       26817        Cream Ale  12.0  1422183600   \n",
       "501558     35201         784  American Porter   7.5  1307440800   \n",
       "1794532    68086        9792     American IPA   6.4  1332327600   \n",
       "\n",
       "                     user_id  appearance  aroma  palate  taste  overall  \\\n",
       "1089222         act25.523243         4.0    4.0     4.5    4.5     4.25   \n",
       "501558   baconsausage.474410         4.5    3.0     3.5    4.0     3.50   \n",
       "1794532         chaney.75452         4.0    3.5     4.0    4.5     4.00   \n",
       "\n",
       "         rating                                               text  \n",
       "1089222    4.30  Place: Carton Brewing, a great, busy hang in J...  \n",
       "501558     3.64  So it is 11am, I have nothing better to do and...  \n",
       "1794532    4.08  I had this on tap at the brewpub in Greensboro...  "
>>>>>>> bfef783d08199443687fe6e8f4e76ec5e2a4e156
      ]
     },
     "metadata": {},
     "output_type": "display_data"
    },
    {
     "name": "stdout",
     "output_type": "stream",
     "text": [
      "Shape of reviews_filtered :  (2557577, 13)\n"
     ]
    }
   ],
   "source": [
    "# remove the columns that are not useful for our analysis\n",
    "reviews_filtered = reviews.drop(columns=['user_name', 'beer_name', 'brewery_name']).copy(deep=True)\n",
    "\n",
    "#remove rows in reviews_filtered that have all_missing True in missing_values\n",
    "reviews_filtered = reviews_filtered[~missing_values['all_missing']].copy(deep=True)\n",
    "\n",
    "display(reviews_filtered.sample(3))\n",
    "print('Shape of reviews_filtered : ', reviews_filtered.shape)"
   ]
  },
  {
   "cell_type": "code",
   "execution_count": 27,
   "metadata": {},
   "outputs": [
    {
     "name": "stdout",
     "output_type": "stream",
     "text": [
      "Number of NaN values for each column :\n",
      "overall : 0\n",
      "taste : 0\n",
      "palate : 0\n",
      "aroma : 0\n",
      "appearance : 0\n"
     ]
    }
   ],
   "source": [
    "# count the number of NaN in columns ['overall', 'taste', 'palate', 'aroma', 'appearance']\n",
    "print('Number of NaN values for each column :')\n",
    "for col in ['overall', 'taste', 'palate', 'aroma', 'appearance']:\n",
    "    print(col, ':', len(reviews_filtered[reviews_filtered[col].isna()]))\n"
   ]
  },
  {
   "cell_type": "code",
   "execution_count": null,
   "metadata": {},
<<<<<<< HEAD
   "outputs": [
    {
     "data": {
      "image/png": "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\n",
      "text/plain": [
       "<Figure size 576x360 with 1 Axes>"
      ]
     },
     "metadata": {
      "needs_background": "light"
     },
     "output_type": "display_data"
    }
   ],
=======
   "outputs": [],
>>>>>>> bfef783d08199443687fe6e8f4e76ec5e2a4e156
   "source": [
    "# show boxplot for each rating column, appearance, aroma, palate, taste and overall\n",
    "\n",
    "plt.figure(figsize=(8, 5))\n",
    "sns.boxplot(data=reviews_filtered[['appearance', 'aroma', 'palate', 'taste', 'overall']])\n",
    "plt.title('Beer Ratings by Aspect')\n",
    "plt.xlabel('Aspect')\n",
    "plt.ylabel('Rating')\n",
    "plt.show()"
   ]
  },
  {
   "cell_type": "markdown",
   "metadata": {},
   "source": [
    "### Merge datasets 🔗"
   ]
  },
  {
   "cell_type": "code",
   "execution_count": 28,
   "metadata": {},
   "outputs": [
    {
     "data": {
      "text/html": [
       "<div>\n",
       "<style scoped>\n",
       "    .dataframe tbody tr th:only-of-type {\n",
       "        vertical-align: middle;\n",
       "    }\n",
       "\n",
       "    .dataframe tbody tr th {\n",
       "        vertical-align: top;\n",
       "    }\n",
       "\n",
       "    .dataframe thead th {\n",
       "        text-align: right;\n",
       "    }\n",
       "</style>\n",
       "<table border=\"1\" class=\"dataframe\">\n",
       "  <thead>\n",
       "    <tr style=\"text-align: right;\">\n",
       "      <th></th>\n",
       "      <th>beer_id</th>\n",
       "      <th>brewery_id</th>\n",
       "      <th>style</th>\n",
       "      <th>abv</th>\n",
       "      <th>date</th>\n",
       "      <th>user_id</th>\n",
       "      <th>appearance</th>\n",
       "      <th>aroma</th>\n",
       "      <th>palate</th>\n",
       "      <th>taste</th>\n",
       "      <th>overall</th>\n",
       "      <th>rating</th>\n",
       "      <th>text</th>\n",
       "      <th>beer_nbr_ratings</th>\n",
       "      <th>beer_nbr_reviews</th>\n",
       "      <th>avg</th>\n",
       "      <th>user_nbr_ratings</th>\n",
       "      <th>user_nbr_reviews</th>\n",
       "      <th>user_joined</th>\n",
       "      <th>user_location</th>\n",
       "      <th>brewery_location</th>\n",
       "      <th>brewery_nbr_beers</th>\n",
       "    </tr>\n",
       "  </thead>\n",
       "  <tbody>\n",
       "    <tr>\n",
<<<<<<< HEAD
       "      <th>126222</th>\n",
       "      <td>14732</td>\n",
       "      <td>22</td>\n",
       "      <td>Belgian Strong Pale Ale</td>\n",
       "      <td>10.5</td>\n",
       "      <td>1156327200</td>\n",
       "      <td>phisig137.27541</td>\n",
       "      <td>3.0</td>\n",
=======
       "      <th>1019898</th>\n",
       "      <td>31703</td>\n",
       "      <td>14</td>\n",
       "      <td>English Barleywine</td>\n",
       "      <td>10.75</td>\n",
       "      <td>1345975200</td>\n",
       "      <td>mdfb79.414386</td>\n",
>>>>>>> bfef783d08199443687fe6e8f4e76ec5e2a4e156
       "      <td>4.0</td>\n",
       "      <td>3.5</td>\n",
       "      <td>4.0</td>\n",
       "      <td>4.5</td>\n",
<<<<<<< HEAD
       "      <td>3.99</td>\n",
       "      <td>Cork pops out of this 2 3/4 year old bottle wi...</td>\n",
       "      <td>267</td>\n",
       "      <td>245</td>\n",
       "      <td>4.08</td>\n",
       "      <td>465</td>\n",
       "      <td>465</td>\n",
       "      <td>1.120471e+09</td>\n",
       "      <td>United States, Virginia</td>\n",
       "      <td>Canada</td>\n",
       "      <td>58.0</td>\n",
=======
       "      <td>4.0</td>\n",
       "      <td>4.5</td>\n",
       "      <td>4.15</td>\n",
       "      <td>From 08/18/12 notes. Had this one on tap at th...</td>\n",
       "      <td>126</td>\n",
       "      <td>43</td>\n",
       "      <td>4.24</td>\n",
       "      <td>4508</td>\n",
       "      <td>3779</td>\n",
       "      <td>1.263208e+09</td>\n",
       "      <td>United States, New York</td>\n",
       "      <td>United States, Massachusetts</td>\n",
       "      <td>317</td>\n",
>>>>>>> bfef783d08199443687fe6e8f4e76ec5e2a4e156
       "    </tr>\n",
       "  </tbody>\n",
       "</table>\n",
       "</div>"
      ],
      "text/plain": [
<<<<<<< HEAD
       "        beer_id  brewery_id                    style   abv        date  \\\n",
       "126222    14732          22  Belgian Strong Pale Ale  10.5  1156327200   \n",
       "\n",
       "                user_id  appearance  aroma  palate  taste  overall  rating  \\\n",
       "126222  phisig137.27541         3.0    4.0     3.5    4.0      4.5    3.99   \n",
       "\n",
       "                                                     text  beer_nbr_ratings  \\\n",
       "126222  Cork pops out of this 2 3/4 year old bottle wi...               267   \n",
       "\n",
       "        beer_nbr_reviews   avg  user_nbr_ratings  user_nbr_reviews  \\\n",
       "126222               245  4.08               465               465   \n",
       "\n",
       "         user_joined            user_location brewery_location  \\\n",
       "126222  1.120471e+09  United States, Virginia           Canada   \n",
       "\n",
       "        brewery_nbr_beers  \n",
       "126222               58.0  "
=======
       "         beer_id  brewery_id               style    abv        date  \\\n",
       "1019898    31703          14  English Barleywine  10.75  1345975200   \n",
       "\n",
       "               user_id  appearance  aroma  palate  taste  overall  rating  \\\n",
       "1019898  mdfb79.414386         4.0    4.0     4.5    4.0      4.5    4.15   \n",
       "\n",
       "                                                      text  beer_nbr_ratings  \\\n",
       "1019898  From 08/18/12 notes. Had this one on tap at th...               126   \n",
       "\n",
       "         beer_nbr_reviews   avg  user_nbr_ratings  user_nbr_reviews  \\\n",
       "1019898                43  4.24              4508              3779   \n",
       "\n",
       "          user_joined            user_location              brewery_location  \\\n",
       "1019898  1.263208e+09  United States, New York  United States, Massachusetts   \n",
       "\n",
       "         brewery_nbr_beers  \n",
       "1019898                317  "
>>>>>>> bfef783d08199443687fe6e8f4e76ec5e2a4e156
      ]
     },
     "metadata": {},
     "output_type": "display_data"
    },
    {
     "name": "stdout",
     "output_type": "stream",
     "text": [
      "Shape of df_merged :  (2557577, 22)\n"
     ]
    }
   ],
   "source": [
    "# Merge reviews with users and beers and breweries\n",
    "df_merged = reviews_filtered.merge(beers_filtered, how='left', on=['beer_id', 'brewery_id', 'style', 'abv'])\n",
    "df_merged = df_merged.merge(users_filtered, how='left', on='user_id')\n",
    "df_merged = df_merged.merge(breweries_filtered, how='left', on='brewery_id')\n",
    "\n",
    "display(df_merged.sample(1))\n",
    "print('Shape of df_merged : ', df_merged.shape)"
   ]
  },
  {
   "cell_type": "markdown",
   "metadata": {},
   "source": [
    "### Filter datasets ✂️\n",
    "\n",
    "<div class=\"alert alert-block alert-danger\">\n",
    "<b>Danger:</b> Comment EVERY filtering\n",
    "</div>"
   ]
  },
  {
   "cell_type": "code",
   "execution_count": 29,
   "metadata": {},
   "outputs": [
    {
     "data": {
<<<<<<< HEAD
      "image/png": "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\n",
=======
      "image/png": "iVBORw0KGgoAAAANSUhEUgAAApIAAAHHCAYAAAAMI7i/AAAAOXRFWHRTb2Z0d2FyZQBNYXRwbG90bGliIHZlcnNpb24zLjguMCwgaHR0cHM6Ly9tYXRwbG90bGliLm9yZy81sbWrAAAACXBIWXMAAA9hAAAPYQGoP6dpAACknElEQVR4nOzdeVhVVfvw8e8B4TCDDA4og7M4IDhPiKmFFZRaTpFTpvYkKSmmPKbiFJpzllpaYKVZ5pBpaWpCSmmOiIqIBOJTFo4gDqCc9f7hz/12BBRxYPD+XNe+Yu+99lr32hw8d2vtQaeUUgghhBBCCHGfTEo6ACGEEEIIUTZJIimEEEIIIYpFEkkhhBBCCFEskkgKIYQQQohikURSCCGEEEIUiySSQgghhBCiWCSRFEIIIYQQxSKJpBBCCCGEKBZJJIUQQgghRLFIIimEEA/J5s2b8fHxwcLCAp1Ox6VLlx5JO2lpaeh0OqKjox963TqdjoiIiIde7+P2KM+RyG/gwIF4enqWdBiiBEgiKUQpFB0djU6n0xYLCwvq1q1LSEgI//zzT0mH98COHTtGREQEaWlpJR3KQ3P+/Hl69eqFpaUlH330EV988QXW1tYlHZYQQjxSFUo6ACFE4aZMmUKNGjW4fv06u3btYvHixfzwww8cOXIEKyurkg6v2I4dO8bkyZPp2LFjuRnF2Lt3L5cvX2bq1Kl06dLlkbbl4eHBtWvXMDMze+h1X7t2jQoV5KtBCFE08q+FEKXYs88+S/PmzQF4/fXXcXJyYu7cuXz33Xf07dv3geq+evVqmU5GS5uMjAwAHBwcHnlbt0epH4VHVa94/G7evInBYMDc3LykQxHlmExtC1GGdOrUCYDU1FRt25dffkmzZs2wtLTE0dGRPn36cPr0aaPjOnbsSKNGjdi/fz8dOnTAysqK//73vwBcv36diIgI6tati4WFBVWrVqVHjx6kpKRoxxsMBubPn0/Dhg2xsLCgcuXKDBs2jIsXLxq14+npSWBgILt27aJly5ZYWFhQs2ZNPv/8c61MdHQ0PXv2BOCpp57Spu9jYmIA+O6773j++edxdXVFr9dTq1Ytpk6dSl5eXr7z8dFHH1GzZk0sLS1p2bIlO3fupGPHjnTs2NGoXE5ODpMmTaJ27dro9Xrc3Nx45513yMnJKdJ5X716tXaOnZ2defXVV/nzzz+Nzu+AAQMAaNGiBTqdjoEDBxZaX0REBDqdjhMnTvDqq69ib2+Pi4sLEyZMQCnF6dOnefHFF7Gzs6NKlSrMmTPH6PiCrv/7+++/GTRoENWrV0ev11O1alVefPFFo8sH9u3bR0BAAM7OzlhaWlKjRg1ee+01o7rvvEbydqwnT55k4MCBODg4YG9vz6BBg7h69arRsdeuXWPEiBE4Oztja2vLCy+8wJ9//nnP6y7/+ecfKlSowOTJk/PtS0pKQqfT8eGHHwJw4cIFwsLCaNy4MTY2NtjZ2fHss88SHx9faP23FfTZgIKv7yvqZ74o57Qgt/9WfvrpJ+262gYNGrB27dp8ZS9dukRoaChubm7o9Xpq167NzJkzMRgMWpnbn4nZs2czf/58atWqhV6v59ixY3eN48svv6Rly5ZYWVlRsWJFOnTowE8//WRUZtGiRTRs2BC9Xo+rqyvDhw+/5/W/MTExRn/Xd8b578/uwIEDsbGxIT09ncDAQGxsbKhWrRofffQRAAkJCXTq1Alra2s8PDxYuXKlUZ23LwWKi4tj1KhRuLi4YG1tTffu3Tl79uxd4xQPTkYkhShDbid3Tk5OAEyfPp0JEybQq1cvXn/9dc6ePcvChQvp0KEDBw8eNBodO3/+PM8++yx9+vTh1VdfpXLlyuTl5REYGMj27dvp06cPI0eO5PLly2zdupUjR45Qq1YtAIYNG0Z0dDSDBg1ixIgRpKam8uGHH3Lw4EHi4uKMplhPnjzJyy+/zODBgxkwYACfffYZAwcOpFmzZjRs2JAOHTowYsQIPvjgA/773//i5eUFoP03OjoaGxsbRo0ahY2NDT///DMTJ04kKyuLWbNmae0sXryYkJAQ/Pz8ePvtt0lLS6Nbt25UrFiR6tWra+UMBgMvvPACu3btYujQoXh5eZGQkMC8efM4ceIE69evv+s5v93vFi1aEBkZyT///MOCBQuIi4vTzvH48eOpV68en3zyiXY5wu1zdze9e/fGy8uLGTNmsGnTJqZNm4ajoyMff/wxnTp1YubMmaxYsYKwsDBatGhBhw4dCq3rpZde4ujRo7z11lt4enqSkZHB1q1bSU9P19afeeYZXFxcGDduHA4ODqSlpRWYuBSkV69e1KhRg8jISA4cOMCyZcuoVKkSM2fO1MoMHDiQb775hn79+tG6dWtiY2N5/vnn71l35cqV8ff355tvvmHSpElG+77++mtMTU21//n4448/WL9+PT179qRGjRr8888/fPzxx/j7+3Ps2DFcXV2L1J97Kcpn/kHPaXJyMr179+aNN95gwIABREVF0bNnTzZv3szTTz8N3Jo58Pf3588//2TYsGG4u7vz66+/Eh4ezpkzZ5g/f75RnVFRUVy/fp2hQ4ei1+txdHQstP3JkycTERFB27ZtmTJlCubm5uzZs4eff/6ZZ555Brj1PxKTJ0+mS5cu/Oc//yEpKYnFixezd+/efH/7DyIvL49nn32WDh068P7777NixQpCQkKwtrZm/PjxBAcH06NHD5YsWUL//v1p06YNNWrUMKrjrbfeomLFikyaNIm0tDTmz59PSEgIX3/99UOJURRCCSFKnaioKAWobdu2qbNnz6rTp0+rVatWKScnJ2Vpaan+97//qbS0NGVqaqqmT59udGxCQoKqUKGC0XZ/f38FqCVLlhiV/eyzzxSg5s6dmy8Gg8GglFJq586dClArVqww2r958+Z82z08PBSgfvnlF21bRkaG0uv1avTo0dq21atXK0Dt2LEjX7tXr17Nt23YsGHKyspKXb9+XSmlVE5OjnJyclItWrRQN27c0MpFR0crQPn7+2vbvvjiC2ViYqJ27txpVOeSJUsUoOLi4vK1d1tubq6qVKmSatSokbp27Zq2fePGjQpQEydO1Lbd/p3t3bu30PpumzRpkgLU0KFDtW03b95U1atXVzqdTs2YMUPbfvHiRWVpaakGDBigbUtNTVWAioqK0soAatasWYW2uW7duiLFB6hJkybli/W1114zKte9e3fl5OSkre/fv18BKjQ01KjcwIED89VZkI8//lgBKiEhwWh7gwYNVKdOnbT169evq7y8PKMyqampSq/XqylTphht+/c5UurW38G/Pxu3DRgwQHl4eGjrRf3MF/WcFuT238qaNWu0bZmZmapq1arK19dX2zZ16lRlbW2tTpw4YXT8uHHjlKmpqUpPTzfqr52dncrIyLhn+8nJycrExER179493/m8/befkZGhzM3N1TPPPGNU5sMPP1SA+uyzz7Rtd57DHTt2FPg3XtDvZcCAAQpQ7733nrbt9udep9OpVatWaduPHz+e7/N0+2+vS5cuWuxKKfX2228rU1NTdenSpXueD1F8MrUtRCnWpUsXXFxccHNzo0+fPtjY2LBu3TqqVavG2rVrMRgM9OrVi3PnzmlLlSpVqFOnDjt27DCqS6/XM2jQIKNta9aswdnZmbfeeitf2zqdDrg1rWtvb8/TTz9t1E6zZs2wsbHJ106DBg3w8/PT1l1cXKhXrx5//PFHkfpsaWmp/Xz58mXOnTuHn58fV69e5fjx48Ct6cTz588zZMgQoxtDgoODqVixolF9q1evxsvLi/r16xvFf/sygTvj/7d9+/aRkZHBm2++aXTt4PPPP0/9+vXZtGlTkfpUmNdff1372dTUlObNm6OUYvDgwdp2BweHe54/S0tLzM3NiYmJyTf1+u96ADZu3MiNGzfuO9Y33njDaN3Pz4/z58+TlZUF3Hr0EcCbb75pVK6gz1ZBevToQYUKFYxGj44cOcKxY8fo3bu3tk2v12NicuurKy8vj/Pnz2NjY0O9evU4cODAfferIEX9zD/oOXV1daV79+7aup2dHf379+fgwYP8/fffWix+fn5UrFjRKJYuXbqQl5fHL7/8YlTnSy+9hIuLyz3bXr9+PQaDgYkTJ2rn87bbf/vbtm0jNzeX0NBQozJDhgzBzs7ugT//d/r338Ptz721tTW9evXStterVw8HB4cC/x6GDh2qxQ63PqN5eXmcOnXqocYpjMnUthCl2EcffUTdunWpUKEClStXpl69eto/6MnJySilqFOnToHH3jnlVK1atXwX3aekpFCvXr273qWbnJxMZmYmlSpVKnD/7ZtMbnN3d89XpmLFioUmOHc6evQo7777Lj///LOWpNyWmZkJoH0x1K5d22h/hQoV8l3rlpycTGJiYqFfrnfG/2+326lXr16+ffXr12fXrl1378w93Hmu7O3tsbCwwNnZOd/28+fPF1qPXq9n5syZjB49msqVK9O6dWsCAwPp378/VapUAcDf35+XXnqJyZMnM2/ePDp27Ei3bt145ZVX0Ov19x3r7YT94sWL2NnZcerUKUxMTPJNN975OyqMs7MznTt35ptvvmHq1KnArWntChUq0KNHD62cwWBgwYIFLFq0iNTUVKNrZ29f8vGgivqZf9BzWrt2baPEB6Bu3brArWsJq1SpQnJyMocPHy7y5/fO81+YlJQUTExMaNCgQaFlCvv8m5ubU7NmzYeaoFlYWOTro729PdWrV893juzt7Qv89+Run1Hx6EgiKUQp1rJlS+2u7TsZDAZ0Oh0//vgjpqam+fbb2NgYrf97pO9+GAwGKlWqxIoVKwrcf+c//gXFAqCUumdbly5dwt/fHzs7O6ZMmUKtWrWwsLDgwIEDjB071ujmgvuJv3HjxsydO7fA/W5ubvdd58NS0Lkq7vkLDQ0lKCiI9evXs2XLFiZMmEBkZCQ///wzvr6+6HQ6vv32W3bv3s3333/Pli1beO2115gzZw67d+/O93l5WHHdjz59+jBo0CAOHTqEj48P33zzDZ07dzZKrN977z0mTJjAa6+9xtSpU3F0dMTExITQ0NB7fj50Ol2B8d55I1dRP/MPek6LwmAw8PTTT/POO+8UuP924nlbcf/OH7Y7k7/bCrppDgr/fN3P5+5xfEZFfpJIClFG1apVC6UUNWrUyPdlcj917Nmzhxs3bhR60XytWrXYtm0b7dq1e2hfUoV9ycTExHD+/HnWrl1rdGPJv+9Sh1vPUYRbN/Y89dRT2vabN2+SlpaGt7e3Ufzx8fF07ty50HYLc7udpKQkbSr8tqSkJG1/aVGrVi1Gjx7N6NGjSU5OxsfHhzlz5vDll19qZVq3bk3r1q2ZPn06K1euJDg4mFWrVhlNKxaHh4cHBoOB1NRUo1HykydPFrmObt26MWzYMG16+8SJE4SHhxuV+fbbb3nqqaf49NNPjbZfunQp30junSpWrFjglOidI2v3+5kv7jk9efIkSimjz+WJEycAtJH1WrVqkZ2d/dCfTVqrVi0MBgPHjh3Dx8enwDL//vzXrFlT256bm0tqaupdY7o9Gnjn3d0yzVz+yDWSQpRRPXr0wNTUlMmTJ+f7P26l1F2nQm976aWXOHfunPZolTvrgFt36+bl5WnTjf928+bNYr0G8PYbX+489vaIwr/7k5uby6JFi4zKNW/eHCcnJ5YuXcrNmze17StWrMg3jdWrVy/+/PNPli5dmi+Oa9euceXKlULjbN68OZUqVWLJkiVGjwr68ccfSUxMLNIdyY/D1atXuX79utG2WrVqYWtrq8V98eLFfJ+T2wlEUR+DdDcBAQEA+X5XCxcuLHIdDg4OBAQE8M0337Bq1SrMzc3p1q2bURlTU9N8/Vi9erXR45gKU6tWLY4fP270SJj4+Hji4uKMyhX1M/+g5/Svv/5i3bp12npWVhaff/45Pj4+2iUJvXr14rfffmPLli35jr906ZLR5/9+dOvWDRMTE6ZMmZJvJPd2n7p06YK5uTkffPCBUT8//fRTMjMz7/r59/DwwNTUNN81nHd+PkTZJyOSQpRRtWrVYtq0aYSHh2uPvrG1tSU1NZV169YxdOhQwsLC7lpH//79+fzzzxk1ahS///47fn5+XLlyhW3btvHmm2/y4osv4u/vz7Bhw4iMjOTQoUM888wzmJmZkZyczOrVq1mwYAEvv/zyfcXu4+ODqakpM2fOJDMzE71eT6dOnWjbti0VK1ZkwIABjBgxAp1OxxdffJHvy9rc3JyIiAjeeustOnXqRK9evUhLSyM6OppatWoZjfD069ePb775hjfeeIMdO3bQrl078vLyOH78ON988w1btmwp9PIBMzMzZs6cyaBBg/D396dv377a4388PT15++2376vfj8qJEyfo3LkzvXr1okGDBlSoUIF169bxzz//0KdPHwCWL1/OokWL6N69O7Vq1eLy5cssXboUOzs7nnvuuQeOoVmzZrz00kvMnz+f8+fPa4//uT3CVtTR4N69e/Pqq6+yaNEiAgIC8j3gPTAwkClTpjBo0CDatm1LQkICK1asMBoxK8xrr73G3LlzCQgIYPDgwWRkZLBkyRIaNmxodD1uUT/zD3pO69aty+DBg9m7dy+VK1fms88+459//iEqKkorM2bMGDZs2EBgYKD2GK0rV66QkJDAt99+S1pa2j1HYgtSu3Ztxo8fz9SpU/Hz86NHjx7o9Xr27t2Lq6srkZGRuLi4EB4ezuTJk+natSsvvPACSUlJLFq0iBYtWvDqq68WWr+9vT09e/Zk4cKF6HQ6atWqxcaNG+96TbIoox7vTeJCiKK4n0fJrFmzRrVv315ZW1sra2trVb9+fTV8+HCVlJSklfH391cNGzYs8PirV6+q8ePHqxo1aigzMzNVpUoV9fLLL6uUlBSjcp988olq1qyZsrS0VLa2tqpx48bqnXfeUX/99ZdWxsPDQz3//PP52ijosStLly5VNWvWVKampkaPCYmLi1OtW7dWlpaWytXVVb3zzjtqy5YtBT5K5IMPPlAeHh5Kr9erli1bqri4ONWsWTPVtWtXo3K5ublq5syZqmHDhkqv16uKFSuqZs2aqcmTJ6vMzMx7nWL19ddfK19fX6XX65Wjo6MKDg5W//vf/4zKFOfxP2fPnjXaPmDAAGVtbZ2v/J2/vzsfoXLu3Dk1fPhwVb9+fWVtba3s7e1Vq1at1DfffKMdc+DAAdW3b1/l7u6u9Hq9qlSpkgoMDFT79u0zaotCHv9zZ6y3+5uamqptu3Lliho+fLhydHRUNjY2qlu3biopKUkBRo80upusrCxlaWmpAPXll1/m23/9+nU1evRoVbVqVWVpaanatWunfvvtt3yfsYIeM6OUUl9++aWqWbOmMjc3Vz4+PmrLli35Hl1z270+80U9pwW5/beyZcsW5e3trfR6vapfv75avXp1vrKXL19W4eHhqnbt2src3Fw5Ozurtm3bqtmzZ6vc3Fyj/t7tEVAF+eyzz7TPdsWKFZW/v7/aunWrUZkPP/xQ1a9fX5mZmanKlSur//znP+rixYtGZQo6h2fPnlUvvfSSsrKyUhUrVlTDhg1TR44cKfDxP0X53N92578zhf3tFfYIIvFw6ZSSq1CFEOWDwWDAxcWFHj16FDiVLR6/Q4cO4evry5dffklwcHBJh1NqeHp60qhRIzZu3FjSoQjxQOQaSSFEmXT9+vV8U96ff/45Fy5cKPA1eOLRu3btWr5t8+fPx8TE5K5v5RFClF1yjaQQokzavXs3b7/9Nj179sTJyYkDBw7w6aef0qhRI+11euLxev/999m/fz9PPfUUFSpU4Mcff+THH39k6NChJfqYJSHEoyOJpBCiTPL09MTNzY0PPviACxcu4OjoSP/+/ZkxY0a+B6+Lx6Nt27Zs3bqVqVOnkp2djbu7OxEREYwfP76kQxNCPCJyjaQQQgghhCgWuUZSCCGEEEIUiySSQgghhBCiWOQaSfFIGQwG/vrrL2xtbe/79XRCCCGEKBlKKS5fvoyrqysmJoWPO0oiKR6pv/76S+7WFEIIIcqo06dPU7169UL3SyIpHilbW1vg1gfRzs6uhKMRQgghRFFkZWXh5uamfY8XRhJJ8Ujdns62s7OTRFIIIYQoY+51Wdp93WzTsWNHQkNDHySecismJgadTselS5cear0DBw6kW7duD7VOIYQQQoiHQe7aFkIIIYQQxfJIE8nc3NxHWX2R3bhxo6RDKFBeXh4Gg6GkwyhQafndCSGEEKL0uu9E8ubNm4SEhGBvb4+zszMTJkzg9stxPD09mTp1Kv3798fOzo6hQ4cCsGvXLvz8/LC0tMTNzY0RI0Zw5coVAD788EMaNWqk1b9+/Xp0Oh1LlizRtnXp0oV3331XW//uu+9o2rQpFhYW1KxZk8mTJ3Pz5k1tv06nY/HixbzwwgtYW1szbdo0ateuzezZs436cujQIXQ6HSdPnrxnv3U6HcuWLaN79+5YWVlRp04dNmzYkK9cXFwc3t7eWFhY0Lp1a44cOaLti46OxsHBgQ0bNtCgQQP0ej3p6en3bBtg8uTJuLi4YGdnxxtvvGGU6BkMBiIjI6lRowaWlpY0adKEb7/91uj4I0eO8Oyzz2JjY0PlypXp168f586d0/Z37NiRkJAQQkNDcXZ2JiAgAKUUERERuLu7o9frcXV1ZcSIEUWKVwghhBBPAHUf/P39lY2NjRo5cqQ6fvy4+vLLL5WVlZX65JNPlFJKeXh4KDs7OzV79mx18uRJbbG2tlbz5s1TJ06cUHFxccrX11cNHDhQKaXU4cOHlU6nUxkZGUoppUJDQ5Wzs7Pq3bu3Ukqp3NxcZWVlpbZu3aqUUuqXX35RdnZ2Kjo6WqWkpKiffvpJeXp6qoiICC1OQFWqVEl99tlnKiUlRZ06dUpNnz5dNWjQwKg/I0aMUB06dChS3wFVvXp1tXLlSpWcnKxGjBihbGxs1Pnz55VSSu3YsUMBysvLS/3000/q8OHDKjAwUHl6eqrc3FyllFJRUVHKzMxMtW3bVsXFxanjx4+rK1eu3LXdAQMGKBsbG9W7d2915MgRtXHjRuXi4qL++9//amWmTZum6tevrzZv3qxSUlJUVFSU0uv1KiYmRiml1MWLF5WLi4sKDw9XiYmJ6sCBA+rpp59WTz31VL7f7ZgxY9Tx48fV8ePH1erVq5WdnZ364Ycf1KlTp9SePXu033VRZWZmKkBlZmbe13FCCCGEKDlF/f6+70TSy8tLGQwGbdvYsWOVl5eXUupWItmtWzejYwYPHqyGDh1qtG3nzp3KxMREXbt2TRkMBuXk5KRWr16tlFLKx8dHRUZGqipVqiillNq1a5cyMzPTEq7OnTur9957z6i+L774QlWtWvX/dwpUaGioUZk///xTmZqaqj179iilbiWozs7OKjo6ukh9B9S7776rrWdnZytA/fjjj0qp/59Irlq1Sitz/vx5ZWlpqb7++mul1K1EElCHDh0qUptK3UokHR0djRLOxYsXKxsbG5WXl6euX7+urKys1K+//mp03ODBg1Xfvn2VUkpNnTpVPfPMM0b7T58+rQCVlJSklLr1u/X19TUqM2fOHFW3bl0tES6K69evq8zMTG253Y4kkkIIIUTZUdRE8r6ntlu3bm10K3ibNm1ITk4mLy8PgObNmxuVj4+PJzo6GhsbG20JCAjAYDCQmpqKTqejQ4cOxMTEcOnSJY4dO8abb75JTk4Ox48fJzY2lhYtWmBlZaXVN2XKFKP6hgwZwpkzZ7h69arW7p1xuLq68vzzz/PZZ58B8P3335OTk0PPnj2L3Hdvb2/tZ2tra+zs7MjIyDAq06ZNG+1nR0dH6tWrR2JiorbN3NzcqJ6iaNKkidb/221kZ2dz+vRpTp48ydWrV3n66aeNzsnnn39OSkoKcOuc7dixw2h//fr1AbQyAM2aNTNqt2fPnly7do2aNWsyZMgQ1q1bZ3QJQUEiIyOxt7fXFnkYuRBCCFF+PfTnSFpbWxutZ2dnM2zYsAKvrXN3dwduXZ/3ySefsHPnTnx9fbGzs9OSy9jYWPz9/Y3qmzx5Mj169MhXn4WFRaFxALz++uv069ePefPmERUVRe/evY0StHsxMzMzWtfpdPd9s4ylpeVDfVVgdnY2AJs2baJatWpG+/R6vVYmKCiImTNn5ju+atWq2s93njM3NzeSkpLYtm0bW7du5c0332TWrFnExsbmOxe3hYeHM2rUKG399gNNhRBCCFH+3HciuWfPHqP13bt3U6dOHUxNTQss37RpU44dO0bt2rULrdPf35/Q0FBWr15Nx44dgVvJ5bZt24iLi2P06NFG9SUlJd21vsI899xzWFtbs3jxYjZv3swvv/xy33Xcy+7du7UE+eLFi5w4cQIvL68HqjM+Pp5r165haWmptWFjY4ObmxuOjo7aTTv/Trj/rWnTpqxZswZPT08qVLi/X7mlpSVBQUEEBQUxfPhw6tevT0JCAk2bNi2wvF6v1xJYIYQQQpRv951IpqenM2rUKIYNG8aBAwdYuHAhc+bMKbT82LFjad26NSEhIbz++utYW1tz7Ngxtm7dyocffgjcmjKuWLEiK1euZOPGjcCtRDIsLAydTke7du20+iZOnEhgYCDu7u68/PLLmJiYEB8fz5EjR5g2bdpdYzc1NWXgwIGEh4dTp04do2noh2XKlCk4OTlRuXJlxo8fj7Oz8wM/UDw3N5fBgwfz7rvvkpaWxqRJkwgJCcHExARbW1vCwsJ4++23MRgMtG/fnszMTOLi4rCzs2PAgAEMHz6cpUuX0rdvX9555x0cHR05efIkq1atYtmyZYX+T0B0dDR5eXm0atUKKysrvvzySywtLfHw8Hig/gghhBCifLjvayT79+/PtWvXaNmyJcOHD2fkyJHaY34K4u3tTWxsLCdOnMDPzw9fX18mTpyIq6urVkan0+Hn54dOp6N9+/bacXZ2djRv3txoyjUgIICNGzfy008/0aJFC1q3bs28efOKnNwMHjyY3NxcBg0adL9dL5IZM2YwcuRImjVrxt9//83333+Pubn5A9XZuXNn6tSpQ4cOHejduzcvvPACERER2v6pU6cyYcIEIiMj8fLyomvXrmzatIkaNWoAt64PjYuLIy8vj2eeeYbGjRsTGhqKg4MDJiaFfwQcHBxYunQp7dq1w9vbm23btvH999/j5OT0QP0RQgghRPmgU+r/HgL5hNi5cyedO3fm9OnTVK5cuaTDKfeysrKwt7cnMzNT3rUthBBClBFF/f5+6DfblFY5OTmcPXuWiIgIevbsKUmkEEIIIcQDemLetf3VV1/h4eHBpUuXeP/99432rVixwujROP9eGjZs+EjjKqxdGxsbdu7c+UjbFkIIIYR4EE/c1HZBLl++zD///FPgPjMzs0d6c8ndXs9YrVo17U7tskqmtoUQQoiyR6a274OtrS22trYl0nZxHmMkhBBCCFEaPDFT20IIIYQQ4uF6LIlkx44dCQ0NfRxNlTo6nY7169eXdBh4enoyf/78kg5DCCGEEOWIjEiWM9HR0Tg4OOTbvnfv3rs+71MIIYQQ4n6VykQyNze3pEMA4MaNGyUdwkPj4uJyX+8VF0IIIYS4l8eWSN68eZOQkBDs7e1xdnZmwoQJ3L5h3NPTk6lTp9K/f3/s7Oy0kbNdu3bh5+eHpaUlbm5ujBgxgitXrgDw4Ycf0qhRI63+9evXo9PpWLJkibatS5cuvPvuu9r6d999R9OmTbGwsKBmzZpMnjyZmzdvavt1Oh2LFy/mhRdewNrammnTplG7dm1mz55t1JdDhw6h0+nuesd1YRISEujUqROWlpY4OTkxdOhQsrOzjcp89tlnNGzYEL1eT9WqVQkJCdH2zZ07l8aNG2NtbY2bmxtvvvmmdnxMTAyDBg0iMzMTnU6HTqfT3oBz59R2eno6L774IjY2NtjZ2dGrVy+jO9cjIiLw8fHhiy++wNPTE3t7e/r06cPly5fvu89CCCGEKJ8eWyK5fPlyKlSowO+//86CBQuYO3cuy5Yt0/bPnj2bJk2acPDgQSZMmEBKSgpdu3blpZde4vDhw3z99dfs2rVLS6r8/f05duwYZ8+eBSA2NhZnZ2diYmKAW6OJv/32Gx07dgRuvdGmf//+jBw5kmPHjvHxxx8THR3N9OnTjeKMiIige/fuJCQkMHjwYF577TWioqKMykRFRdGhQ4f7vuP6ypUrBAQEULFiRfbu3cvq1avZtm2bUaK4ePFihg8fztChQ0lISGDDhg1G7ZiYmPDBBx9w9OhRli9fzs8//8w777wDQNu2bZk/fz52dnacOXOGM2fOEBYWli8Og8HAiy++yIULF4iNjWXr1q388ccf9O7d26hcSkoK69evZ+PGjWzcuJHY2FhmzJhx1z7m5OSQlZVltAghhBCinFKPgb+/v/Ly8lIGg0HbNnbsWOXl5aWUUsrDw0N169bN6JjBgweroUOHGm3buXOnMjExUdeuXVMGg0E5OTmp1atXK6WU8vHxUZGRkapKlSpKKaV27dqlzMzM1JUrV5RSSnXu3Fm99957RvV98cUXqmrVqto6oEJDQ43K/Pnnn8rU1FTt2bNHKaVUbm6ucnZ2VtHR0UXqO6DWrVunlFLqk08+URUrVlTZ2dna/k2bNikTExP1999/K6WUcnV1VePHjy9S3UoptXr1auXk5KStR0VFKXt7+3zlPDw81Lx585RSSv3000/K1NRUpaena/uPHj2qAPX7778rpZSaNGmSsrKyUllZWVqZMWPGqFatWt01nkmTJikg35KZmVnkPgkhhBCiZGVmZhbp+/uxjUi2bt0anU6nrbdp04bk5GTy8vIAaN68uVH5+Ph4oqOjjd70EhAQgMFgIDU1FZ1OR4cOHYiJieHSpUscO3aMN998k5ycHI4fP05sbCwtWrTQrguMj49nypQpRvUNGTKEM2fOcPXqVa3dO+NwdXXl+eef57PPPgPg+++/Jycnh549e973OUhMTKRJkyZYW1tr29q1a4fBYCApKYmMjAz++usvOnfuXGgd27Zto3PnzlSrVg1bW1v69evH+fPnjfpQlDjc3Nxwc3PTtjVo0AAHBwcSExO1bZ6enkbP16xatSoZGRl3rTs8PJzMzExtOX36dJHjEkIIIUTZUmoeSP7v5AogOzubYcOGMWLEiHxl3d3dgVuPFfrkk0/YuXMnvr6+2NnZacllbGws/v7+RvVNnjyZHj165KvPwsKi0DgAXn/9dfr168e8efOIioqid+/ej+TGlXu9xSYtLY3AwED+85//MH36dBwdHdm1axeDBw8mNzf3ocdkZmZmtK7T6TAYDHc9Rq/Xo9frH2ocQgghhCidHlsiuWfPHqP13bt3U6dOHUxNTQss37RpU44dO3bX6xD9/f0JDQ1l9erV2rWQHTt2ZNu2bcTFxTF69Gij+pKSkor1JpnnnnsOa2trFi9ezObNm/nll1/uuw4ALy8voqOjuXLlipawxsXFYWJiQr169bC1tcXT05Pt27fz1FNP5Tt+//79GAwG5syZg4nJrcHkb775xqiMubm5Nsp7tzhOnz7N6dOntVHJY8eOcenSJRo0aFCsvgkhhBDiyfPYprbT09MZNWoUSUlJfPXVVyxcuJCRI0cWWn7s2LH8+uuvhISEcOjQIZKTk/nuu++Mbkzx9vamYsWKrFy50iiRXL9+PTk5ObRr104rO3HiRD7//HMmT57M0aNHSUxMZNWqVUZ3dRfG1NSUgQMHEh4eTp06dWjTpk2xzkFwcDAWFhYMGDCAI0eOsGPHDt566y369etH5cqVgVs3+8yZM4cPPviA5ORkDhw4wMKFC4Fbr1O8ceMGCxcu5I8//uCLL74wuksdbk1HZ2dns337ds6dO1fglHeXLl1o3LgxwcHBHDhwgN9//53+/fvj7++fb2pfCCGEEKIwjy2R7N+/P9euXaNly5YMHz6ckSNH3vUB2d7e3sTGxnLixAn8/Pzw9fVl4sSJuLq6amV0Oh1+fn7odDrat2+vHWdnZ0fz5s2NpqkDAgLYuHEjP/30Ey1atKB169bMmzcPDw+PIsV/e/p40KBBxTwDYGVlxZYtW7hw4QItWrTg5ZdfpnPnznz44YdamQEDBjB//nwWLVpEw4YNCQwMJDk5GYAmTZowd+5cZs6cSaNGjVixYgWRkZFGbbRt25Y33niD3r174+Liwvvvv58vDp1Ox3fffUfFihXp0KEDXbp0oWbNmnz99dfF7psQQgghnjw6pf7vYY7irnbu3Ennzp05ffq0Nnoo7i0rKwt7e3syMzOxs7Mr6XCEEEIIUQRF/f4uNTfblFY5OTmcPXuWiIgIevbsKUmkEEIIIcT/KZWvSCxNvvrqKzw8PLh06VK+aeIVK1YYPU7o30vDhg1LKGIhhBBCiMdDprYfwOXLl41eK/hvZmZmRb7+sjyTqW0hhBCi7JGp7cfA1tbW6IHdQgghhBBPEpnaFkIIIYQQxSKJ5CM2cOBAunXrVtJhEBERgY+PT0mHIYQQQohyRKa2yyGdTse6deuMEtiwsDDeeuutEoup0aQtmOgf/mslhRBCiCdV2oznSzoESSQfRF5eHjqdTntdYWl2+25yIYQQQoiHpfRnQPfJ09OT+fPnG23z8fEhIiICpRQRERG4u7uj1+txdXVlxIgRWrmcnBzCwsKoVq0a1tbWtGrVipiYGG1/dHQ0Dg4ObNiwgQYNGqDX60lPT7+v+HJychgxYgSVKlXCwsKC9u3bs3fvXqMyR48eJTAwEDs7O2xtbfHz8yMlJQWAvXv38vTTT+Ps7Iy9vT3+/v4cOHDAqP8A3bt3R6fTaet3Tm0bDAamTJlC9erV0ev1+Pj4sHnzZm1/WloaOp2OtWvX8tRTT2FlZUWTJk347bff7qu/QgghhCi/yl0ieTdr1qxh3rx5fPzxxyQnJ7N+/XoaN26s7Q8JCeG3335j1apVHD58mJ49e9K1a1ftFYUAV69eZebMmSxbtoyjR49SqVKl+4rhnXfeYc2aNSxfvpwDBw5Qu3ZtAgICuHDhAgB//vknHTp0QK/X8/PPP7N//35ee+01bt68Cdx65NCAAQPYtWsXu3fvpk6dOjz33HNcvnwZQEtKo6KiOHPmTL4k9bYFCxYwZ84cZs+ezeHDhwkICOCFF14w6ivA+PHjCQsL49ChQ9StW5e+fftqsRQkJyeHrKwso0UIIYQQ5dMTNbWdnp5OlSpV6NKlC2ZmZri7u9OyZUttX1RUFOnp6dr7vMPCwti8eTNRUVG89957ANy4cYNFixbRpEmT+27/ypUrLF68mOjoaJ599lkAli5dytatW/n0008ZM2YMH330Efb29qxatQozMzMA6tatq9XRqVMnozo/+eQTHBwciI2NJTAwEBcXFwAcHByoUqVKobHMnj2bsWPH0qdPHwBmzpzJjh07mD9/Ph999JFWLiwsjOefv3UNxuTJk2nYsCEnT56kfv36BdYbGRnJ5MmT7/fUCCGEEKIMeqJGJHv27Mm1a9eoWbMmQ4YMYd26ddroWkJCAnl5edStW9foDTWxsbHatDKAubk53t7exWo/JSWFGzdu0K5dO22bmZkZLVu2JDExEYBDhw7h5+enJZF3+ueffxgyZAh16tTB3t4eOzs7srOz72uKPSsri7/++ssoDoB27dppcdz2775WrVoVgIyMjELrDg8PJzMzU1tOnz5d5LiEEEIIUbaUuxFJExMT7nxZz40bNwBwc3MjKSmJbdu2sXXrVt58801mzZpFbGws2dnZmJqasn//fkxNTY2O//dNKpaWluh0ukcWv6Wl5V33DxgwgPPnz7NgwQI8PDzQ6/W0adOG3NzcRxLPvxPa2/02GAyFltfr9ej1+kcSixBCCCFKl3I3Iuni4sKZM2e09aysLFJTU7V1S0tLgoKC+OCDD4iJieG3334jISEBX19f8vLyyMjIoHbt2kbL3aaI70etWrUwNzcnLi5O23bjxg327t1LgwYNgFsjgDt37tSS3zvFxcUxYsQInnvuORo2bIher+fcuXNGZczMzMjLyys0Djs7O1xdXY3iuF337TiEEEIIIe6l3I1IdurUiejoaIKCgnBwcGDixInaCGN0dDR5eXm0atUKKysrvvzySywtLfHw8MDJyYng4GD69+/PnDlz8PX15ezZs2zfvh1vb2/tOsEHYW1tzX/+8x/GjBmDo6Mj7u7uvP/++1y9epXBgwcDt274WbhwIX369CE8PBx7e3t2795Ny5YtqVevHnXq1OGLL76gefPmZGVlMWbMmHyjmJ6enmzfvp127dqh1+upWLFivljGjBnDpEmTqFWrFj4+PkRFRXHo0CFWrFjxwP0syJHJAfKubSGEEKKcKXcjkuHh4fj7+xMYGMjzzz9Pt27dqFWrFnDrBpSlS5fSrl07vL292bZtG99//z1OTk7ArTud+/fvz+jRo6lXrx7dunVj7969uLu7P7T4ZsyYwUsvvUS/fv1o2rQpJ0+eZMuWLVqy5+TkxM8//0x2djb+/v40a9aMpUuXalPMn376KRcvXqRp06b069dPe5TQv82ZM4etW7fi5uaGr69vgXGMGDGCUaNGMXr0aBo3bszmzZvZsGEDderUeWh9FUIIIUT5plN3XlAoxEOUlZWFvb09mZmZMiIphBBClBFF/f4udyOSQgghhBDi8ZBE8gH9+1FBdy47d+4s6fCEEEIIIR6ZcnezzeN26NChQvdVq1bt8QUihBBCCPGYSSL5gGrXrl3SIQghhBBClAiZ2hZCCCGEEMUiiWQpExERgY+PT5HLp6WlodPp7jrF/rDodDrWr1//yNsRQgghRNkgU9ulTFhYGG+99VaRy7u5uXHmzBmcnZ0fYVQPrtGkLZjorUo6DCGEEOKhSJvx4C8qKQ8kkXyM8vLy0Ol0mJgUPhB8+47vojI1NX1or3AUQgghhLgfT/zUtqenJ/Pnzzfa5uPjQ0REBEopIiIicHd3R6/X4+rqyogRI7RyOTk5hIWFUa1aNaytrWnVqhUxMTHa/ujoaBwcHNiwYQMNGjRAr9eTnp5+13junNo2GAxMmTKF6tWro9fr8fHxYfPmzdr+O6e2Y2Ji0Ol0bN++nebNm2NlZUXbtm1JSkoyaue7776jadOmWFhYULNmTSZPnszNmze1/cnJyXTo0AELCwsaNGjA1q1bi3hGhRBCCPGkkBHJu1izZg3z5s1j1apVNGzYkL///pv4+Hhtf0hICMeOHWPVqlW4urqybt06unbtSkJCgvaqwatXrzJz5kyWLVuGk5NTvtcZ3suCBQuYM2cOH3/8Mb6+vnz22We88MILHD169K6vMxw/fjxz5szBxcWFN954g9dee424uDgAdu7cSf/+/fnggw/w8/MjJSWFoUOHAjBp0iQMBgM9evSgcuXK7Nmzh8zMTEJDQ4sUb05ODjk5Odp6VlbWffVXCCGEEGXHEz8ieTfp6elUqVKFLl264O7uTsuWLRkyZIi2LyoqitWrV+Pn50etWrUICwujffv2REVFaXXcuHGDRYsW0bZtW+rVq4eV1f1dJzh79mzGjh1Lnz59qFevHjNnzsTHxyffKOqdpk+fjr+/Pw0aNGDcuHH8+uuvXL9+HYDJkyczbtw4BgwYQM2aNXn66aeZOnUqH3/8MQDbtm3j+PHjfP755zRp0oQOHTrw3nvvFSneyMhI7O3ttcXNze2++iuEEEKIskMSybvo2bMn165do2bNmgwZMoR169Zp078JCQnk5eVRt25do7fZxMbGkpKSotVhbm6Ot7d3sdrPysrir7/+ol27dkbb27VrR2Ji4l2P/XebVatWBSAjIwOA+Ph4pkyZYhT3kCFDOHPmDFevXiUxMRE3NzdcXV21Otq0aVOkmMPDw8nMzNSW06dPF+k4IYQQQpQ9T/zUtomJCUopo203btwAbt0RnZSUxLZt29i6dStvvvkms2bNIjY2luzsbExNTdm/fz+mpqZGx//7ZhlLS0t0Ot2j78gdzMzMtJ9vt28wGADIzs5m8uTJ9OjRI99xFhYWD9SuXq9Hr9c/UB1CCCGEKBue+ETSxcWFM2fOaOtZWVmkpqZq65aWlgQFBREUFMTw4cOpX78+CQkJ+Pr6kpeXR0ZGBn5+fo8kNjs7O1xdXYmLi8Pf31/bHhcXR8uWLYtdb9OmTUlKSir0rTxeXl6cPn2aM2fOaKOZu3fvLnZ7QgghhCifnvhEslOnTkRHRxMUFISDgwMTJ07URhijo6PJy8ujVatWWFlZ8eWXX2JpaYmHhwdOTk4EBwfTv39/5syZg6+vL2fPnmX79u14e3vz/PMP5/lSY8aMYdKkSdSqVQsfHx+ioqI4dOgQK1asKHadEydOJDAwEHd3d15++WVMTEyIj4/nyJEjTJs2jS5dulC3bl0GDBjArFmzyMrKYvz48Q/UjyOTA7Czs3ugOoQQQghRujzxiWR4eDipqakEBgZib2/P1KlTtRFJBwcHZsyYwahRo8jLy6Nx48Z8//33ODk5ARAVFcW0adMYPXo0f/75J87OzrRu3ZrAwMCHFt+IESPIzMxk9OjRZGRk0KBBAzZs2HDXO7bvJSAggI0bNzJlyhRmzpyJmZkZ9evX5/XXXwduTfevW7eOwYMH07JlSzw9Pfnggw/o2rXrw+qWEEIIIcoBnbrzAkFRosLDw9m5cye7du0q6VAeiqysLOzt7cnMzJQRSSGEEKKMKOr3t9y1XUoopUhJSWH79u00bNiwpMMRQgghhLinJ35q+3G72+sPr127Rps2bfjvf//7GCMSQgghhCgeSSQfs9uvMixItWrVsLS0fHzBCCGEEEI8AEkkH7PCHrkjhBBCCFHWyDWSQgghhBCiWCSRvIOnp+c932Ndmuh0OtavX1/SYQghhBDiCSRT22XcmTNnqFixYkmHIYQQQognULkZkczLy9PeJf243X43d1Eppbh58+ZDabtKlSrybmshhBBClIhHmkgWNE3s4+NDREQESikiIiJwd3dHr9fj6urKiBEjtHI5OTmEhYVRrVo1rK2tadWqFTExMdr+6OhoHBwc2LBhAw0aNECv15Oenn7XeAYOHEi3bt2YPXs2VatWxcnJieHDh+dLBC9fvkzfvn2xtramWrVqfPTRR0b7dTodixcv5oUXXsDa2prp06fftd2YmBh0Oh0//vgjzZo1Q6/Xs2vXLgwGA5GRkdSoUQNLS0uaNGnCt99+C4DBYKB69eosXrzYqK6DBw9iYmLCqVOntFj+PbV9+vRpevXqhYODA46Ojrz44oukpaUBcOTIEUxMTDh79iwAFy5cwMTEhD59+mjHT5s2jfbt2wNw8eJFgoODcXFxwdLSkjp16hAVFXXXvgohhBDiyVFiI5Jr1qxh3rx5fPzxxyQnJ7N+/XoaN26s7Q8JCeG3335j1apVHD58mJ49e9K1a1eSk5O1MlevXmXmzJksW7aMo0ePUqlSpXu2u2PHDlJSUtixYwfLly8nOjqa6OhoozKzZs2iSZMmHDx4kHHjxjFy5Ei2bt1qVCYiIoLu3buTkJDAa6+9VqQ+jxs3jhkzZpCYmIi3tzeRkZF8/vnnLFmyhKNHj/L222/z6quvEhsbi4mJCX379mXlypVGdaxYsYJ27drh4eGRr/4bN24QEBCAra0tO3fuJC4uDhsbG7p27Upubi4NGzbEycmJ2NhYAHbu3Gm0DhAbG0vHjh0BmDBhAseOHePHH38kMTGRxYsX4+zsfNc+5uTkkJWVZbQIIYQQopxSj5CHh4eaN2+e0bYmTZqoSZMmqTlz5qi6deuq3NzcfMedOnVKmZqaqj///NNoe+fOnVV4eLhSSqmoqCgFqEOHDhU5ngEDBigPDw918+ZNbVvPnj1V7969jWLu2rWr0XG9e/dWzz77rLYOqNDQ0CK3u2PHDgWo9evXa9uuX7+urKys1K+//mpUdvDgwapv375KKaUOHjyodDqdOnXqlFJKqby8PFWtWjW1ePFio1jWrVunlFLqiy++UPXq1VMGg0Hbn5OToywtLdWWLVuUUkr16NFDDR8+XCmlVGhoqBozZoyqWLGiSkxMVLm5ucrKykr99NNPSimlgoKC1KBBg4rcT6WUmjRpkgLyLZmZmfdVjxBCCCFKTmZmZpG+v0tsRLJnz55cu3aNmjVrMmTIENatW6ddN5iQkEBeXh5169bFxsZGW2JjY0lJSdHqMDc3x9vb+77abdiwIaamptp61apVycjIMCrTpk2bfOuJiYlG25o3b35f7d55zMmTJ7l69SpPP/20UR8///xzrY8+Pj54eXlpo5KxsbFkZGTQs2fPAuuPj4/n5MmT2NraavU5Ojpy/fp1rU5/f3/tEoHY2Fg6depEhw4diImJYe/evdy4cYN27doB8J///IdVq1bh4+PDO++8w6+//nrPPoaHh5OZmaktp0+fvu/zJIQQQoiy4ZHetW1iYoJSymjb7esR3dzcSEpKYtu2bWzdupU333yTWbNmERsbS3Z2Nqampuzfv98o6QPjVwxaWlqi0+nuKyYzMzOjdZ1OV6ybdKytrR/omOzsbAA2bdpEtWrVjMr9++aZ4OBgVq5cybhx41i5ciVdu3bFycmpwPqzs7Np1qwZK1asyLfPxcUFgI4dOxIaGkpycjLHjh2jffv2HD9+nJiYGC5evEjz5s2xsrIC4Nlnn+XUqVP88MMPbN26lc6dOzN8+HBmz55daB/1er3c/COEEEI8IR5pIuni4sKZM2e09aysLFJTU7V1S0tLgoKCCAoKYvjw4dSvX5+EhAR8fX3Jy8sjIyMDPz+/RxligXbv3p1v3cvL66G28e8bhPz9/Qst98orr/Duu++yf/9+vv32W5YsWVJo2aZNm/L1119TqVIl7OzsCizTuHFjKlasyLRp0/Dx8cHGxoaOHTsyc+ZMLl68qF0feZuLiwsDBgxgwIAB+Pn5MWbMmLsmkkIIIYR4cjzSRLJTp05ER0cTFBSEg4MDEydO1EYYo6OjycvLo1WrVlhZWfHll19iaWmJh4cHTk5OBAcH079/f+bMmYOvry9nz55l+/bteHt78/zzzz/KsImLi+P999+nW7dubN26ldWrV7Np06aH2oatrS1hYWG8/fbbGAwG2rdvT2ZmJnFxcdjZ2TFgwADg1p3vbdu2ZfDgweTl5fHCCy8UWmdwcDCzZs3ixRdfZMqUKVSvXp1Tp06xdu1a3nnnHapXr45Op6NDhw6sWLGCsLAwALy9vcnJyWH79u2MGjVKq2/ixIk0a9aMhg0bkpOTw8aNGx96Qi2EEEKIsuuRXiMZHh6Ov78/gYGBPP/883Tr1o1atWoB4ODgwNKlS2nXrh3e3t5s27aN77//Xpu2jYqKon///owePZp69erRrVs39u7di7u7+6MMGYDRo0ezb98+fH19mTZtGnPnziUgIOChtzN16lQmTJhAZGQkXl5edO3alU2bNlGjRg2jcsHBwcTHx9O9e3csLS0Lrc/KyopffvkFd3d3evTogZeXF4MHD+b69etGI5T+/v7k5eVpo48mJiZ06NABnU6nXR8Jt65BDQ8Px9vbmw4dOmBqasqqVase7kkQQgghRJmlU3dexCjEQ5SVlYW9vT2ZmZmFTrcLIYQQonQp6vd3uXmzjRBCCCGEeLzKVSL578fo3Lns3LnzkbX7xhtvFNruG2+88cjaFUIIIYQoSeVqavvkyZOF7qtWrdpdry98EBkZGYW+wcXOzq5Ib9wpr2RqWwghhCh7ivr9/Ujv2n7cateuXSLtVqpU6YlOFoUQQgjxZCpXU9uPiqenJ/Pnzy/pMO4qOjoaBweHkg5DCCGEEE8QSSTLoIIS2969e3PixImSCUgIIYQQT6RyNbV9p7y8PHQ6HSYmjz9fvnHjRr7XMd6NUoq8vDwqVCjer8TS0vKRXQMqhBBCCFGQx55hFTSa5uPjQ0REBEopIiIicHd3R6/X4+rqyogRI7RyOTk5hIWFUa1aNaytrWnVqhUxMTHa/tvTuxs2bDB6BeHdDBw4kG7dujF79myqVq2Kk5MTw4cP194Jftvly5fp27cv1tbWVKtWjY8++shov06nY/HixbzwwgtYW1szffr0u7YbExODTqfjxx9/pFmzZuj1enbt2kVKSgovvvgilStXxsbGhhYtWrBt2zbtuI4dO3Lq1CnefvttdDqd9q7xO6e2IyIi8PHx4YsvvsDT0xN7e3v69OnD5cuXjfoUHByMtbU1VatWZd68edq7uG9btGgRderUwcLCgsqVK/Pyyy/ftV9CCCGEeHKUqqntNWvWMG/ePD7++GOSk5NZv349jRs31vaHhITw22+/sWrVKg4fPkzPnj3p2rUrycnJWpmrV68yc+ZMli1bxtGjR4t0E8yOHTtISUlhx44dLF++nOjoaKKjo43KzJo1iyZNmnDw4EHGjRvHyJEj2bp1q1GZiIgIunfvTkJCAq+99lqR+jxu3DhmzJhBYmIi3t7eZGdn89xzz7F9+3YOHjxI165dCQoK0hLitWvXUr16daZMmcKZM2eM3mV+p5SUFNavX8/GjRvZuHEjsbGxzJgxQ9s/atQo4uLi2LBhA1u3bmXnzp0cOHBA279v3z5GjBjBlClTSEpKYvPmzXTo0KFI/RJCCCHEE0A9Zh4eHmrevHlG25o0aaImTZqk5syZo+rWratyc3PzHXfq1Cllamqq/vzzT6PtnTt3VuHh4UoppaKiohSgDh06VOR4BgwYoDw8PNTNmze1bT179lS9e/c2irlr165Gx/Xu3Vs9++yz2jqgQkNDi9zujh07FKDWr19/z7INGzZUCxcuNIrnznMYFRWl7O3ttfVJkyYpKysrlZWVpW0bM2aMatWqlVJKqaysLGVmZqZWr16t7b906ZKysrJSI0eOVEoptWbNGmVnZ2dUx71cv35dZWZmasvp06cVoDIzM4tchxBCCCFKVmZmZpG+v0vViGTPnj25du0aNWvWZMiQIaxbt46bN28CkJCQQF5eHnXr1jV64HdsbCwpKSlaHebm5nh7e99Xuw0bNsTU1FRbr1q1KhkZGUZl2rRpk289MTHRaFvz5s3vq92CjsnOziYsLAwvLy8cHBywsbEhMTHxnlP0BfH09MTW1lZb/3e//vjjD27cuEHLli21/fb29tSrV09bf/rpp/Hw8KBmzZr069ePFStWcPXq1bu2GRkZib29vba4ubndd9xCCCGEKBseeyJpYmKCuuMZ6LevR3RzcyMpKYlFixZhaWnJm2++SYcOHbhx4wbZ2dmYmpqyf/9+Dh06pC2JiYksWLBAq8vS0lK7brCo7rwpRqfTYTAY7rtv1tbWD3xMWFgY69at47333mPnzp0cOnSIxo0bk5ube991P2i/bG1tOXDgAF999RVVq1Zl4sSJNGnShEuXLhV6THh4OJmZmdpy+vTp+45bCCGEEGXDY79r28XFxei6vqysLFJTU7V1S0tLgoKCCAoKYvjw4dSvX5+EhAR8fX3Jy8sjIyMDPz+/xx02u3fvzrfu5eX10NuJi4tj4MCBdO/eHbg1QpmWlmZUxtzcnLy8vAdqp2bNmpiZmbF3717c3d0ByMzM5MSJE0bXQVaoUIEuXbrQpUsXJk2ahIODAz///DM9evQosF69Xo9er3+g2IQQQghRNjz2RLJTp05ER0cTFBSEg4MDEydO1KaVo6OjycvLo1WrVlhZWfHll19iaWmJh4cHTk5OBAcH079/f+bMmYOvry9nz55l+/bteHt78/zzzz/SuOPi4nj//ffp1q0bW7duZfXq1WzatOmht1OnTh3Wrl1LUFAQOp2OCRMm5BtF9PT05JdffqFPnz7o9XqcnZ3vux1bW1sGDBjAmDFjcHR0pFKlSkyaNAkTExNtRHfjxo388ccfdOjQgYoVK/LDDz9gMBiMpr+FEEII8eR67FPb4eHh+Pv7ExgYyPPPP0+3bt2oVasWAA4ODixdupR27drh7e3Ntm3b+P7773FycgIgKiqK/v37M3r0aOrVq0e3bt2MRtQepdGjR7Nv3z58fX2ZNm0ac+fOJSAg4KG3M3fuXCpWrEjbtm0JCgoiICCApk2bGpWZMmUKaWlp1KpVCxcXlwdqq02bNgQGBtKlSxfatWuHl5cXFhYWwK3fx9q1a+nUqRNeXl4sWbKEr776ioYNGz5QH4UQQghRPujUnRcsiifWlStXqFatGnPmzGHw4MEPpc6ivvRdCCGEEKVHUb+/y/WbbcTdHTx4kOPHj9OyZUsyMzOZMmUKAC+++GIJRyaEEEKIsqBUPf7nUfj3o4LuXHbu3PnI2n3jjTcKbfeNN954ZO3er9mzZ9OkSRO6dOnClStX2LlzZ7GuuRRCCCHEk6fcT22fPHmy0H3VqlV7ZO+nzsjIICsrq8B9dnZ2RXrjTnkgU9tCCCFE2SNT2/+ndu3aJdJupUqVnphkUQghhBBPpnI/tS2EEEIIIR4NSSSFEEIIIUSxSCIphBBCCCGKRRJJIYQQQghRLJJIlmObN2+mffv2ODg44OTkRGBgICkpKQC0bduWsWPHGpU/e/YsZmZm/PLLLwCcOXOG559/HktLS2rUqMHKlSvx9PRk/vz5j7srQgghhCiFJJEsx65cucKoUaPYt28f27dvx8TEhO7du2MwGAgODmbVqlX8++lPX3/9Na6urvj5+QHQv39//vrrL2JiYlizZg2ffPIJGRkZd20zJyeHrKwso0UIIYQQ5VO5f46k+P/OnTuHi4sLCQkJVK5cGVdXV37++WctcWzbti0dOnRgxowZHD9+HC8vL/bu3Uvz5s2BW8/krFOnDvPmzSM0NLTANiIiIpg8eXK+7fIcSSGEEKLsKOpzJGVEshxLTk6mb9++1KxZEzs7Ozw9PQFIT0/HxcWFZ555hhUrVgCQmprKb7/9RnBwMABJSUlUqFCBpk2bavXVrl2bihUr3rXN8PBwMjMzteX06dOPpnNCCCGEKHGSSJZjQUFBXLhwgaVLl7Jnzx727NkDQG5uLgDBwcF8++233Lhxg5UrV9K4cWMaN278QG3q9Xrs7OyMFiGEEEKUT5JIllPnz58nKSmJd999l86dO+Pl5cXFixeNyrz44otcv36dzZs3s3LlSm00EqBevXrcvHmTgwcPattOnjyZrw4hhBBCPLnK/SsSn1QVK1bEycmJTz75hKpVq5Kens64ceOMylhbW9OtWzcmTJhAYmIiffv21fbVr1+fLl26MHToUBYvXoyZmRmjR4/G0tISnU73uLsjhBBCiFJIRiTLKRMTE1atWsX+/ftp1KgRb7/9NrNmzcpXLjg4mPj4ePz8/HB3dzfa9/nnn1O5cmU6dOhA9+7dGTJkCLa2tlhYWDyubgghhBCiFJO7tkWR/e9//8PNzY1t27bRuXPnIh1T1Lu+hBBCCFF6FPX7W6a2RaF+/vlnsrOzady4MWfOnOGdd97B09OTDh06lHRoQgghhCgFJJEUhbpx4wb//e9/+eOPP7C1taVt27asWLECMzOzkg5NCCGEEKWATG2LR0qmtoUQQoiyRx5ILoQQQgghHilJJIUQQgghRLE8skSyY8eOhb6PuTSLjo7GwcGhpMMosoiICHx8fEo6DCGEEEI8gWREsowLCwtj+/btJR2GEEIIIZ5A5SqRvP0O6bLQ7sOK1cbGBicnp4dSlxBCCCHE/XikieTNmzcJCQnB3t4eZ2dnJkyYwO2bxHNycggLC6NatWpYW1vTqlUrYmJijI7ftWsXfn5+WFpa4ubmxogRI7hy5Yq239PTk6lTp9K/f3/s7OwYOnToXeNJS0tDp9Oxdu1annrqKaysrGjSpAm//fZbvrLr16+nTp06WFhYEBAQwOnTp7V9t6eTly1bRo0aNYr0ppeOHTsSEhJCaGgozs7OBAQEAHDkyBGeffZZbGxsqFy5Mv369ePcuXMAfPLJJ7i6umIwGIzqevHFF3nttdeMYvm3ZcuW4eXlhYWFBfXr12fRokXavpdffpmQkBBtPTQ0FJ1Ox/Hjx4FbCa61tTXbtm0D4Ntvv6Vx48ZYWlri5OREly5djH4HQgghhHhyPdJEcvny5VSoUIHff/+dBQsWMHfuXJYtWwZASEgIv/32G6tWreLw4cP07NmTrl27kpycDEBKSgpdu3blpZde4vDhw3z99dfs2rXLKAkCmD17Nk2aNOHgwYNMmDChSHGNHz+esLAwDh06RN26denbty83b97U9l+9epXp06fz+eefExcXx6VLl+jTp49RHSdPnmTNmjWsXbuWQ4cOFfl8mJubExcXx5IlS7h06RKdOnXC19eXffv2sXnzZv755x969eoFQM+ePTl//jw7duzQ6rhw4QKbN28mODi4wDZWrFjBxIkTmT59OomJibz33ntMmDCB5cuXA+Dv72+UsMfGxuLs7Kxt27t3Lzdu3KBt27acOXOGvn378tprr5GYmEhMTAw9evTgbk+MysnJISsry2gRQgghRDmlHhF/f3/l5eWlDAaDtm3s2LHKy8tLnTp1Spmamqo///zT6JjOnTur8PBwpZRSgwcPVkOHDjXav3PnTmViYqKuXbumlFLKw8NDdevWrcgxpaamKkAtW7ZM23b06FEFqMTERKWUUlFRUQpQu3fv1sokJiYqQO3Zs0cppdSkSZOUmZmZysjIKHLb/v7+ytfX12jb1KlT1TPPPGO07fTp0wpQSUlJSimlXnzxRfXaa69p+z/++GPl6uqq8vLytFiaNGmi7a9Vq5ZauXJlvnbatGmjlFLq8OHDSqfTqYyMDHXhwgVlbm6upk6dqnr37q2UUmratGmqbdu2Siml9u/frwCVlpZW5H5OmjRJAfmWzMzMItchhBBCiJKVmZlZpO/vRzoi2bp1a3Q6nbbepk0bkpOTSUhIIC8vj7p162JjY6MtsbGxpKSkABAfH090dLTR/oCAAAwGA6mpqVqdzZs3v++4vL29tZ+rVq0KQEZGhratQoUKtGjRQluvX78+Dg4OJCYmats8PDxwcXG5r3abNWtmtB4fH8+OHTuM+li/fn0A7TwEBwezZs0acnJygFsjjn369MHEJP+v7sqVK6SkpDB48GCjOqdNm6bV16hRIxwdHYmNjWXnzp34+voSGBhIbGwscGuEsmPHjgA0adKEzp0707hxY3r27MnSpUu5ePHiXfsYHh5OZmamtvz7kgAhhBBClC8l8orE7OxsTE1N2b9/P6ampkb7bGxstDLDhg1jxIgR+Y53d3fXfra2tr7v9v/9ir/bie6d1yHeS3HavfOY7OxsgoKCmDlzZr6ytxPcoKAglFJs2rSJFi1asHPnTubNm1dg/dnZ2QAsXbqUVq1aGe27fZ51Oh0dOnQgJiYGvV5Px44d8fb2JicnhyNHjvDrr78SFhamHbN161Z+/fVXfvrpJxYuXMj48ePZs2cPNWrUKDAGvV6PXq+/j7MihBBCiLLqkSaSe/bsMVrfvXs3derUwdfXl7y8PDIyMvDz8yvw2KZNm3Ls2DFq1679KEMs0M2bN9m3bx8tW7YEICkpiUuXLuHl5fVQ22natClr1qzB09OTChUK/lVYWFjQo0cPVqxYwcmTJ6lXrx5NmzYtsGzlypVxdXXljz/+KPQaSrh1neTSpUvR6/VMnz4dExMTOnTowKxZs8jJyaFdu3ZaWZ1OR7t27WjXrh0TJ07Ew8ODdevWMWrUqAfrvBBCCCHKvEc6tZ2ens6oUaNISkriq6++YuHChYwcOZK6desSHBxM//79Wbt2Lampqfz+++9ERkayadMmAMaOHcuvv/5KSEgIhw4dIjk5me+++y7fzTaPgpmZGW+99RZ79uxh//79DBw4kNatW2uJ5cMyfPhwLly4QN++fdm7dy8pKSls2bKFQYMGkZeXp5ULDg5m06ZNfPbZZ3dNEAEmT55MZGQkH3zwASdOnCAhIYGoqCjmzp2rlenYsSPHjh3j6NGjtG/fXtu2YsUKmjdvro2c7tmzh/fee499+/aRnp7O2rVrOXv27ENPqIUQQghRNj3SEcn+/ftz7do1WrZsiampKSNHjtQe0RMVFcW0adMYPXo0f/75J87OzrRu3ZrAwEDg1nWMsbGxjB8/Hj8/P5RS1KpVi969ez/KkAGwsrJi7NixvPLKK/z555/4+fnx6aefPvR2XF1diYuLY+zYsTzzzDPk5OTg4eFB165dja6B7NSpE46OjiQlJfHKK6/ctc7XX38dKysrZs2axZgxY7C2tqZx48ZGbxlq3LgxDg4O2jWqcCuRzMvL066PBLCzs+OXX35h/vz5ZGVl4eHhwZw5c3j22Wcf6nkQQgghRNmkU+ouz3IR4gFlZWVhb29PZmYmdnZ2JR2OEEIIIYqgqN/f5erNNkIIIYQQ4vEpV4nke++9Z/TYm38vj3I6Nj09vdB2bWxsSE9Pf2RtCyGEEEKUlHI1tX3hwgUuXLhQ4D5LS0uqVav2SNq9efMmaWlphe6/213Z5Z1MbQshhBBlT1G/v8tVduPo6Iijo+Njb7dChQol8pgiIYQQQoiSVK6mtoUQQgghxOPzWBPJjh07Gj2GpqyIjo7GwcGhpMO4J09PT+bPn1/SYQghhBDiCSEjkmVQYYnt3r17ted0CiGEEEI8auU+kczNzS0z7T5orC4uLlhZWT1QHUIIIYQQRfXYE8mbN28SEhKCvb09zs7OTJgwgds3jufk5BAWFka1atWwtramVatWxMTEGB2/a9cu/Pz8sLS0xM3NjREjRnDlyhVtv6enJ1OnTqV///7Y2dndc4QuLS0NnU7H2rVreeqpp7CysqJJkyb89ttv+cquX7+eOnXqYGFhQUBAAKdPn9b2RURE4OPjw7Jly6hRowYWFhb3PBcdO3YkJCSE0NBQnJ2dCQgIAGDu3Lk0btwYa2tr3NzcePPNN8nOzgYgJiaGQYMGkZmZiU6nQ6fTERERofX931PbOp2OZcuW0b17d6ysrKhTpw4bNmwwimHDhg1an5566imWL1+OTqfj0qVLAJw6dYqgoCAqVqyItbU1DRs25Icffrhn34QQQghR/j32RHL58uVUqFCB33//nQULFjB37lyWLVsGQEhICL/99hurVq3i8OHD9OzZk65du5KcnAxASkoKXbt25aWXXuLw4cN8/fXX7Nq1K9/7t2fPnk2TJk04ePAgEyZMKFJc48ePJywsjEOHDlG3bl369u3LzZs3tf1Xr15l+vTpfP7558TFxXHp0iX69OljVMfJkydZs2YNa9eu5dChQ0U+H+bm5sTFxbFkyRIATExM+OCDDzh69CjLly/n559/5p133gGgbdu2zJ8/Hzs7O86cOcOZM2cICwsrtP7JkyfTq1cvDh8+zHPPPUdwcLD2iKTU1FRefvllunXrRnx8PMOGDWP8+PFGxw8fPpycnBx++eUXEhISmDlzpvZaxYLk5OSQlZVltAghhBCinFKPkb+/v/Ly8lIGg0HbNnbsWOXl5aVOnTqlTE1N1Z9//ml0TOfOnVV4eLhSSqnBgweroUOHGu3fuXOnMjExUdeuXVNKKeXh4aG6detW5JhSU1MVoJYtW6ZtO3r0qAJUYmKiUkqpqKgoBajdu3drZRITExWg9uzZo5RSatKkScrMzExlZGQUuW1/f3/l6+t7z3KrV69WTk5O2npUVJSyt7fPV87Dw0PNmzdPWwfUu+++q61nZ2crQP34449KqVvnvlGjRkZ1jB8/XgHq4sWLSimlGjdurCIiIorcp0mTJikg35KZmVnkOoQQQghRsjIzM4v0/f3YRyRbt26NTqfT1tu0aUNycjIJCQnk5eVRt25do7fCxMbGkpKSAkB8fDzR0dFG+wMCAjAYDKSmpmp1Nm/e/L7j8vb21n6uWrUqABkZGdq2ChUq0KJFC229fv36ODg4kJiYqG3z8PDAxcXlvtpt1qxZvm3btm2jc+fOVKtWDVtbW/r168f58+e5evXqfdUNxv2ytrbGzs5O61dSUpJRnwBatmxptD5ixAimTZtGu3btmDRpEocPH75re+Hh4WRmZmrLv6f/hRBCCFG+lJoHkmdnZ2Nqasr+/fsxNTU12nd7KjU7O5thw4YxYsSIfMe7u7trP1tbW993+2ZmZtrPtxNdg8FwX3UUp907j0lLSyMwMJD//Oc/TJ8+HUdHR3bt2sXgwYPJzc2975tp/t0vuNW3++nX66+/TkBAAJs2beKnn34iMjKSOXPm8NZbbxVYXq/Xo9fr7ytGIYQQQpRNjz2R3LNnj9H67t27qVOnDr6+vuTl5ZGRkYGfn1+BxzZt2pRjx46VyFtkbt68yb59+7QRu6SkJC5duoSXl9dDbWf//v0YDAbmzJmDicmtAeNvvvnGqIy5uTl5eXkP3Fa9evXy3Tizd+/efOXc3Nx44403eOONNwgPD2fp0qWFJpJCCCGEeHI89qnt9PR0Ro0aRVJSEl999RULFy5k5MiR1K1bl+DgYPr378/atWtJTU3l999/JzIykk2bNgEwduxYfv31V0JCQjh06BDJycl89913+W62eRTMzMx466232LNnD/v372fgwIG0bt0631Twg6pduzY3btxg4cKF/PHHH3zxxRfaTTi3eXp6kp2dzfbt2zl37lyxprwBhg0bxvHjxxk7diwnTpzgm2++ITo6Gvj/o7KhoaFs2bKF1NRUDhw4wI4dOx568iyEEEKIsumxJ5L9+/fn2rVrtGzZkuHDhzNy5EjtET1RUVH079+f0aNHU69ePbp168bevXu1aWtvb29iY2M5ceIEfn5++Pr6MnHiRFxdXR953FZWVowdO5ZXXnmFdu3aYWNjw9dff/3Q22nSpAlz585l5syZNGrUiBUrVhAZGWlUpm3btrzxxhv07t0bFxcX3n///WK1VaNGDb799lvWrl2Lt7c3ixcv1u7avj09nZeXx/Dhw/Hy8qJr167UrVuXRYsWPVgnhRBCCFEu6JT6v4c4CgFMnz6dJUuWPLSbZLKysrC3tyczMxM7O7uHUqcQQgghHq2ifn+XmpttRMlYtGgRLVq0wMnJibi4OGbNmvVYLhUQQgghRNlX7l+R+N577xk9Lujfy7PPPvvI2k1PTy+0XRsbG9LT0x9Z2/cjOTmZF198kQYNGjB16lRGjx6tvSlHCCGEEOJuyv3U9oULF7Q3udzJ0tKSatWqPZJ2b968SVpaWqH7PT09qVCh/A8Iy9S2EEIIUfbI1Pb/cXR0xNHR8bG3W6FChRJ5TJEQQgghxONS7qe2hRBCCCHEoyGJZDnUsWNHQkNDS32dQgghhCjbJJEUQgghhBDFIolkOTNw4EBiY2NZsGABOp0OnU5HWloaR44c4dlnn8XGxobKlSvTr18/zp07B0BMTAzm5ubs3LlTq+f999+nUqVK/PPPP4XWKYQQQognW7m/a/tJk5mZybPPPkujRo2YMmUKcOv1jl5eXrz++uvam4XGjh3LzZs3+fnnnwF45513+Oabb4iPj+ePP/6gdevWrF69mhdeeKHAOl1cXDA1Nb1nPHLXthBCCFH2yF3bTyh7e3vMzc2xsrKiSpUqAEybNg1fX1/ee+89rdxnn32Gm5sbJ06coG7dukybNo2tW7cydOhQjhw5woABA3jhhRcKrbMwOTk55OTkaOtZWVmPoJdCCCGEKA1kavsJEB8fz44dO4weiF6/fn0AUlJSADA3N2fFihWsWbOG69evM2/evGK1FRkZib29vba4ubk9tH4IIYQQonSREcknQHZ2NkFBQcycOTPfvqpVq2o///rrr8D/f4i7tbX1fbcVHh7OqFGjtPWsrCxJJoUQQohyShLJcsjc3Jy8vDxtvWnTpqxZs+aub9NJSUnh7bffZunSpXz99dcMGDCAbdu2YWJiUmCdhdHr9ej1+ofTESGEEEKUajK1XQ55enqyZ88e0tLSOHfuHMOHD+fChQv07duXvXv3kpKSwpYtWxg0aBB5eXnk5eXx6quvEhAQwKBBg4iKiuLw4cPMmTOn0DoNBkMJ9lAIIYQQpYEkkuVQWFgYpqamNGjQABcXF3Jzc4mLiyMvL49nnnmGxo0bExoaioODAyYmJkyfPp1Tp07x8ccfA7emuz/55BPeffdd4uPjC6wzPT29JLsohBBCiFJAHv8jHil5/I8QQghR9hT1+1tGJIUQQgghRLFIIimEEEIIIYpFEkkhhBBCCFEskkgKIYQQQohikURSCCGEEEIUiySSTwhPT0/mz59f0mEIIYQQohyRRLKciY6OxsHBId/2vXv3MnTo0McfkBBCCCHKLXlFYhmSm5uLubl5sY51cXF5yNEIIYQQ4kknI5KlWMeOHQkJCSE0NBRnZ2cCAgKYO3cujRs3xtraGjc3N958802ys7MBiImJYdCgQWRmZqLT6dDpdERERAD5p7Z1Oh3Lli2je/fuWFlZUadOHTZs2GDU/oYNG6hTpw4WFhY89dRTLF++HJ1Ox6VLlx7TGRBCCCFEaSaJZCm3fPlyzM3NiYuLY8mSJZiYmPDBBx9w9OhRli9fzs8//8w777wDQNu2bZk/fz52dnacOXOGM2fOEBYWVmjdkydPplevXhw+fJjnnnuO4OBgLly4AEBqaiovv/wy3bp1Iz4+nmHDhjF+/PjH0mchhBBClA0ytV3K1alTh/fff19br1evnvazp6cn06ZN44033mDRokWYm5tjb2+PTqejSpUq96x74MCB9O3bF4D33nuPDz74gN9//52uXbvy8ccfU69ePWbNmqW1e+TIEaZPn37XOnNycsjJydHWs7Ky7qu/QgghhCg7ZESylGvWrJnR+rZt2+jcuTPVqlXD1taWfv36cf78ea5evXrfdXt7e2s/W1tbY2dnR0ZGBgBJSUm0aNHCqHzLli3vWWdkZCT29vba4ubmdt9xCSGEEKJskESylLO2ttZ+TktLIzAwEG9vb9asWcP+/fv56KOPgFs34twvMzMzo3WdTofBYHigeMPDw8nMzNSW06dPP1B9QgghhCi9ZGq7DNm/fz8Gg4E5c+ZgYnLr/wG++eYbozLm5ubk5eU9cFv16tXjhx9+MNq2d+/eex6n1+vR6/UP3L4QQgghSj8ZkSxDateuzY0bN1i4cCF//PEHX3zxBUuWLDEq4+npSXZ2Ntu3b+fcuXPFmvIGGDZsGMePH2fs2LGcOHGCb775hujoaODWyKUQQgghhCSSZUiTJk2YO3cuM2fOpFGjRqxYsYLIyEijMm3btuWNN96gd+/euLi4GN2ocz9q1KjBt99+y9q1a/H29mbx4sXaXdsy4iiEEEIIAJ1SSpV0EKJsmD59OkuWLLmv6x6zsrKwt7cnMzMTOzu7RxidEEIIIR6Won5/yzWSolCLFi2iRYsWODk5ERcXx6xZswgJCSnpsIQQQghRSkgiKQqVnJzMtGnTuHDhAu7u7owePZrw8PCSDksIIYQQpYRMbYtHSqa2hRBCiLKnqN/fcrONEEIIIYQoFkkkhRBCCCFEsUgiKQqVlpaGTqfj0KFDAMTExKDT6bh06VKJxiWEEEKI0kESSSGEEEIIUSySSD6BivNebiGEEEKIO0kiWQrk5OQwYsQIKlWqhIWFBe3bt2fv3r0YDAaqV6/O4sWLjcofPHgQExMTTp06BcClS5d4/fXXcXFxwc7Ojk6dOhEfH6+Vj4iIwMfHh2XLllGjRg0sLCwA2Lx5M+3bt8fBwQEnJycCAwNJSUl5fB0XQgghRJkmiWQp8M4777BmzRqWL1/OgQMHqF27NgEBAVy6dIm+ffuycuVKo/IrVqygXbt2eHh4ANCzZ08yMjL48ccf2b9/P02bNqVz585cuHBBO+bkyZOsWbOGtWvXatc8XrlyhVGjRrFv3z62b9+OiYkJ3bt3x2AwFLsvOTk5ZGVlGS1CCCGEKKeUKFHZ2dnKzMxMrVixQtuWm5urXF1d1fvvv68OHjyodDqdOnXqlFJKqby8PFWtWjW1ePFipZRSO3fuVHZ2dur69etG9daqVUt9/PHHSimlJk2apMzMzFRGRsZdYzl79qwCVEJCglJKqdTUVAWogwcPKqWU2rFjhwLUxYsXC61j0qRJCsi3ZGZm3td5EUIIIUTJyczMLNL3t4xIlrCUlBRu3LhBu3bttG1mZma0bNmSxMREfHx88PLy0kYlY2NjycjIoGfPngDEx8eTnZ2Nk5MTNjY22pKammo0Te3h4YGLi4tR28nJyfTt25eaNWtiZ2eHp6cnAOnp6cXuT3h4OJmZmdpyP+/lFkIIIUTZIq9ILAOCg4NZuXIl48aNY+XKlXTt2hUnJycAsrOzqVq1KjExMfmOc3Bw0H62trbOtz8oKAgPDw+WLl2Kq6srBoOBRo0aPdDNOHq9Hr1eX+zjhRBCCFF2yIhkCatVqxbm5ubExcVp227cuMHevXtp0KABAK+88gpHjhxh//79fPvttwQHB2tlmzZtyt9//02FChWoXbu20eLs7Fxou+fPnycpKYl3332Xzp074+XlxcWLFx9dR4UQQghR7siIZAmztrbmP//5D2PGjMHR0RF3d3fef/99rl69yuDBgwHw9PSkbdu2DB48mLy8PF544QXt+C5dutCmTRu6devG+++/T926dfnrr7/YtGkT3bt3p3nz5gW2W7FiRZycnPjkk0+oWrUq6enpjBs37rH0WQghhBDlg4xIlgIzZszgpZdeol+/fjRt2pSTJ0+yZcsWKlasqJUJDg4mPj6e7t27Y2lpqW3X6XT88MMPdOjQgUGDBlG3bl369OnDqVOnqFy5cqFtmpiYsGrVKvbv30+jRo14++23mTVr1iPtpxBCCCHKF51SSpV0EKL8ysrKwt7enszMTOzs7Eo6HCGEEEIUQVG/v2VEUgghhBBCFIskkkIIIYQQolgkkRRCCCGEEMUiiaQQQgghhCgWSSSFEEIIIUSxSCIphBBCCCGKRRLJMqhjx46EhoY+tPoiIiLw8fF5aPUJIYQQ4skgiaQQQgghhCgWSSTLmIEDBxIbG8uCBQvQ6XTodDpSUlIYPHgwNWrUwNLSknr16rFgwQKj42JiYmjZsiXW1tY4ODjQrl07Tp06RXR0NJMnTyY+Pl6rLzo6GoBLly7x+uuv4+Ligp2dHZ06dSI+Pr4Eei2EEEKI0kjetV3GLFiwgBMnTtCoUSOmTJkC3HpvdvXq1Vm9ejVOTk78+uuvDB06lKpVq9KrVy9u3rxJt27dGDJkCF999RW5ubn8/vvv6HQ6evfuzZEjR9i8eTPbtm0DwN7eHoCePXtiaWnJjz/+iL29PR9//DGdO3fmxIkTODo6FhhfTk4OOTk52npWVtYjPiNCCCGEKCmSSJYx9vb2mJubY2VlRZUqVbTtkydP1n6uUaMGv/32G9988w29evUiKyuLzMxMAgMDqVWrFgBeXl5aeRsbGypUqGBU365du/j999/JyMhAr9cDMHv2bNavX8+3337L0KFDC4wvMjLSKBYhhBBClF8ytV1OfPTRRzRr1gwXFxdsbGz45JNPSE9PB8DR0ZGBAwcSEBBAUFAQCxYs4MyZM3etLz4+nuzsbJycnLCxsdGW1NRUUlJSCj0uPDyczMxMbTl9+vRD7acQQgghSg8ZkSwHVq1aRVhYGHPmzKFNmzbY2toya9Ys9uzZo5WJiopixIgRbN68ma+//pp3332XrVu30rp16wLrzM7OpmrVqsTExOTb5+DgUGgser1eG8EUQgghRPkmiWQZZG5uTl5enrYeFxdH27ZtefPNN7VtBY0a+vr64uvrS3h4OG3atGHlypW0bt06X30ATZs25e+//6ZChQp4eno+sr4IIYQQouySqe0yyNPTkz179pCWlsa5c+eoU6cO+/btY8uWLZw4cYIJEyawd+9erXxqairh4eH89ttvnDp1ip9++onk5GTtOklPT09SU1M5dOgQ586dIycnhy5dutCmTRu6devGTz/9RFpaGr/++ivjx49n3759JdV1IYQQQpQikkiWQWFhYZiamtKgQQNcXFwICAigR48e9O7dm1atWnH+/Hmj0UkrKyuOHz/OSy+9RN26dRk6dCjDhw9n2LBhALz00kt07dqVp556ChcXF7766it0Oh0//PADHTp0YNCgQdStW5c+ffpw6tQpKleuXFJdF0IIIUQpolNKqZIOQpRfWVlZ2Nvbk5mZiZ2dXUmHI4QQQogiKOr3t4xICiGEEEKIYpFEUgghhBBCFIskkkIIIYQQolgkkRRCCCGEEMUiiaQQQgghhCgWSSTLmZiYGHQ6HZcuXSrpUIQQQghRzkkiKejYsSOhoaElHYYQQgghyhhJJIUQQgghRLFIIlnKdOzYkZCQEEJCQrC3t8fZ2ZkJEyZw+7nxX3zxBc2bN8fW1pYqVarwyiuvkJGRUWh958+fp2/fvlSrVg0rKysaN27MV199pe0fOHAgsbGxLFiwAJ1Oh06nIy0tDYAjR47w7LPPYmNjQ+XKlenXrx/nzp17pP0XQgghRNkhiWQptHz5cipUqMDvv//OggULmDt3LsuWLQPgxo0bTJ06lfj4eNavX09aWhoDBw4stK7r16/TrFkzNm3axJEjRxg6dCj9+vXj999/B2DBggW0adOGIUOGcObMGc6cOYObmxuXLl2iU6dO+Pr6sm/fPjZv3sw///xDr1697hp7Tk4OWVlZRosQQgghyid5RWIp07FjRzIyMjh69Cg6nQ6AcePGsWHDBo4dO5av/L59+2jRogWXL1/GxsaGmJgYnnrqKS5evIiDg0OBbQQGBlK/fn1mz56ttenj48P8+fO1MtOmTWPnzp1s2bJF2/a///0PNzc3kpKSqFu3boF1R0REMHny5Hzb5RWJQgghRNkhr0gsw1q3bq0lkQBt2rQhOTmZvLw89u/fT1BQEO7u7tja2uLv7w9Aenp6gXXl5eUxdepUGjdujKOjIzY2NmzZsqXQ8rfFx8ezY8cObGxstKV+/foApKSkFHpceHg4mZmZ2nL69On77b4QQgghyogKJR2AKLrr168TEBBAQEAAK1aswMXFhfT0dAICAsjNzS3wmFmzZrFgwQLmz59P48aNsba2JjQ0tNDyt2VnZxMUFMTMmTPz7atatWqhx+n1evR6/f11TAghhBBlkiSSpdCePXuM1nfv3k2dOnU4fvw458+fZ8aMGbi5uQG3prbvJi4ujhdffJFXX30VAIPBwIkTJ2jQoIFWxtzcnLy8PKPjmjZtypo1a/D09KRCBfmYCCGEECI/mdouhdLT0xk1ahRJSUl89dVXLFy4kJEjR+Lu7o65uTkLFy7kjz/+YMOGDUydOvWuddWpU4etW7fy66+/kpiYyLBhw/jnn3+Mynh6erJnzx7S0tI4d+4cBoOB4cOHc+HCBfr27cvevXtJSUlhy5YtDBo0KF/SKYQQQognkySSpVD//v25du0aLVu2ZPjw4YwcOZKhQ4fi4uJCdHQ0q1evpkGDBsyYMUO7YaYw7777Lk2bNiUgIICOHTtSpUoVunXrZlQmLCwMU1NTGjRooE2Xu7q6EhcXR15eHs888wyNGzcmNDQUBwcHTEzkYyOEEEIIuWu71CnoDuqyrKh3fQkhhBCi9JC7toUQQgghxCMliaQQQgghhCgWuR23lImJiSnpEIQQQgghikRGJIUQQgghRLFIIimEEEIIIYpFEkkhhBBCCFEskkiWcTdu3CjpEIQQQgjxhJJEspTZvHkz7du3x8HBAScnJwIDA0lJSQEgLS0NnU7H119/jb+/PxYWFqxYsQKDwcCUKVOoXr06er0eHx8fNm/erNV5+7hvvvkGPz8/LC0tadGiBSdOnGDv3r00b94cGxsbnn32Wc6ePasdt3fvXp5++mmcnZ2xt7fH39+fAwcOPPZzIoQQQojSSRLJUubKlSuMGjWKffv2sX37dkxMTOjevTsGg0ErM27cOEaOHEliYiIBAQEsWLCAOXPmMHv2bA4fPkxAQAAvvPACycnJRnVPmjSJd999lwMHDlChQgVeeeUV3nnnHRYsWMDOnTs5efIkEydO1MpfvnyZAQMGsGvXLu1938899xyXL19+bOdDCCGEEKWXvNmmlDt37hwuLi4kJCRgY2NDjRo1mD9/PiNHjtTKVKtWjeHDh/Pf//5X29ayZUtatGjBRx99RFpaGjVq1GDZsmUMHjwYgFWrVtG3b1+2b99Op06dAJgxYwbR0dEcP368wFgMBgMODg6sXLmSwMDAAsvk5OSQk5OjrWdlZeHm5iZvthFCCCHKEHmzTRmVnJxM3759qVmzJnZ2dnh6egKQnp6ulWnevLn2c1ZWFn/99Rft2rUzqqddu3YkJiYabfP29tZ+rly5MgCNGzc22paRkaGt//PPPwwZMoQ6depgb2+PnZ0d2dnZRrHcKTIyEnt7e21xc3O7j94LIYQQoiyRB5KXMkFBQXh4eLB06VJcXV0xGAw0atSI3NxcrYy1tXWx6jYzM9N+1ul0BW779xT6gAEDOH/+PAsWLMDDwwO9Xk+bNm2MYrlTeHg4o0aN0tZvj0gKIYQQovyRRLIUOX/+PElJSSxduhQ/Pz8Adu3adddj7OzscHV1JS4uDn9/f217XFwcLVu2fKB44uLiWLRoEc899xwAp0+f5ty5c3c9Rq/Xo9frH6hdIYQQQpQNkkiWIhUrVsTJyYlPPvmEqlWrkp6ezrhx4+553JgxY5g0aRK1atXCx8eHqKgoDh06xIoVKx4onjp16vDFF1/QvHlzsrKyGDNmDJaWlg9UpxBCCCHKD7lGshQxMTFh1apV7N+/n0aNGvH2228za9asex43YsQIRo0axejRo2ncuDGbN29mw4YN1KlT54Hi+fTTT7l48SJNmzalX79+jBgxgkqVKj1QnUIIIYQoP+SubfFIFfWuLyGEEEKUHnLXthBCCCGEeKQkkRRCCCGEEMUiiaQQQgghhCgWSSSFEEIIIUSxSCIphBBCCCGKRRJJIYQQQghRLJJICiGEEEKIYpFEsoxRSnHz5s2SDkMIIYQQ4slNJDdv3kz79u1xcHDAycmJwMBAUlJSAEhLS0On07Fq1Sratm2LhYUFjRo1IjY2Vjs+JiYGnU7Hpk2b8Pb2xsLCgtatW3PkyBGjdnbt2oWfnx+Wlpa4ubkxYsQIrly5ou2//QpCW1tbqlSpwiuvvEJGRka+dn788UeaNWuGXq9n165dpKSk8OKLL1K5cmVsbGxo0aIF27ZtM2rb09OT9957j9deew1bW1vc3d355JNPjMr873//o2/fvjg6OmJtbU3z5s3Zs2ePtv+7776jadOmWFhYULNmTSZPniyJrBBCCCGAJziRvHLlCqNGjWLfvn1s374dExMTunfvjsFg0MqMGTOG0aNHc/DgQdq0aUNQUBDnz583qmfMmDHMmTOHvXv34uLiQlBQEDdu3AAgJSWFrl278tJLL3H48GG+/vprdu3aRUhIiHb8jRs3mDp1KvHx8axfv560tDQGDhyYL95x48YxY8YMEhMT8fb2Jjs7m+eee47t27dz8OBBunbtSlBQEOnp6UbHzZkzh+bNm3Pw4EHefPNN/vOf/5CUlARAdnY2/v7+/Pnnn2zYsIH4+Hjeeecd7Rzs3LmT/v37M3LkSI4dO8bHH39MdHQ006dPfyi/AyGEEEKUcUoopZQ6e/asAlRCQoJKTU1VgJoxY4a2/8aNG6p69epq5syZSimlduzYoQC1atUqrcz58+eVpaWl+vrrr5VSSg0ePFgNHTrUqJ2dO3cqExMTde3atQLj2Lt3rwLU5cuXjdpZv379PfvQsGFDtXDhQm3dw8NDvfrqq9q6wWBQlSpVUosXL1ZKKfXxxx8rW1tbdf78+QLr69y5s3rvvfeMtn3xxReqatWqhcZw/fp1lZmZqS2nT59WgMrMzLxn/EIIIYQoHTIzM4v0/f3EjkgmJyfTt29fatasiZ2dHZ6engBGI3pt2rTRfq5QoQLNmzcnMTHRqJ5/l3F0dKRevXpamfj4eKKjo7GxsdGWgIAADAYDqampAOzfv5+goCDc3d2xtbXF398/XxwAzZs3N1rPzs4mLCwMLy8vHBwcsLGxITExMd9x3t7e2s86nY4qVapoU+eHDh3C19cXR0fHAs9RfHw8U6ZMMYp/yJAhnDlzhqtXrxZ4TGRkJPb29tri5uZWYDkhhBBClH0VSjqAkhIUFISHhwdLly7F1dUVg8FAo0aNyM3NfWhtZGdnM2zYMEaMGJFvn7u7O1euXCEgIICAgABWrFiBi4sL6enpBAQE5IvD2traaD0sLIytW7cye/ZsateujaWlJS+//HK+48zMzIzWdTqdNnVtaWl5z/gnT55Mjx498u2zsLAo8Jjw8HBGjRqlrWdlZUkyKYQQQpRTT2Qief78eZKSkli6dCl+fn7ArZti7rR79246dOgAwM2bN9m/f7/R9Y23y7i7uwNw8eJFTpw4gZeXFwBNmzbl2LFj1K5du8A4EhISOH/+PDNmzNCSrX379hWpD3FxcQwcOJDu3bsDt5K+tLS0Ih17m7e3N8uWLePChQsFjko2bdqUpKSkQuMviF6vR6/X31ccQgghhCibnsip7YoVK+Lk5MQnn3zCyZMn+fnnn41G0W776KOPWLduHcePH2f48OFcvHiR1157zajMlClT2L59O0eOHGHgwIE4OzvTrVs3AMaOHcuvv/5KSEgIhw4dIjk5me+++05LRt3d3TE3N2fhwoX88ccfbNiwgalTpxapD3Xq1GHt2rUcOnSI+Ph4XnnlFaMbhYqib9++VKlShW7duhEXF8cff/zBmjVr+O233wCYOHEin3/+OZMnT+bo0aMkJiayatUq3n333ftqRwghhBDl0xOZSJqYmLBq1Sr2799Po0aNePvtt5k1a1a+cjNmzGDGjBk0adKEXbt2sWHDBpydnfOVGTlyJM2aNePvv//m+++/x9zcHLg14hcbG8uJEyfw8/PD19eXiRMn4urqCoCLiwvR0dGsXr2aBg0aMGPGDGbPnl2kPsydO5eKFSvStm1bgoKCCAgIoGnTpvd1HszNzfnpp5+oVKkSzz33HI0bN2bGjBmYmpoCEBAQwMaNG/npp59o0aIFrVu3Zt68eXh4eNxXO0IIIYQon3RKKVXSQZQ2aWlp1KhRg4MHD+Lj41NgmZiYGJ566ikuXryIg4PDY42vLMnKysLe3p7MzEzs7OxKOhwhhBBCFEFRv7+fyBFJIYQQQgjx4CSRFEIIIYQQxfJE3rV9L56entxrxr9jx473LCOEEEIIUZ7JiKQQQgghhCgWSSSFEEIIIUSxSCIpABg4cKD2/MvCdOzYkdDQ0McSjxBCCCFKP7lGUgCwYMECueZTCCGEEPdFEsknQF5eHjqdDhOTwgeg7e3tH2NEQgghhCgPZGq7hHh6ejJ//nyjbT4+PkRERKCUIiIiAnd3d/R6Pa6urowYMUIrl5OTQ1hYGNWqVcPa2ppWrVoRExOj7Y+OjsbBwYENGzbQoEED9Ho96enpd43nzqntK1eu0L9/f2xsbKhatSpz5sx5GN0WQgghRDkiI5Kl0Jo1a5g3bx6rVq2iYcOG/P3338THx2v7Q0JCOHbsGKtWrcLV1ZV169bRtWtXEhISqFOnDgBXr15l5syZLFu2DCcnJypVqnRfMYwZM4bY2Fi+++47KlWqxH//+18OHDhQ6Jt+bsvJySEnJ0dbz8rKuq92hRBCCFF2SCJZCqWnp1OlShW6dOmCmZkZ7u7utGzZUtsXFRVFenq69s7usLAwNm/eTFRUFO+99x4AN27cYNGiRTRp0uS+28/OzubTTz/lyy+/pHPnzgAsX76c6tWr3/PYyMhIJk+efN9tCiGEEKLskantUqhnz55cu3aNmjVrMmTIENatW8fNmzcBSEhIIC8vj7p162JjY6MtsbGxpKSkaHWYm5vj7e1drPZTUlLIzc2lVatW2jZHR0fq1at3z2PDw8PJzMzUltOnTxcrBiGEEEKUfjIiWUJMTEzy3SV948YNANzc3EhKSmLbtm1s3bqVN998k1mzZhEbG0t2djampqbs378fU1NTo+NtbGy0ny0tLdHpdI++I3fQ6/Xo9frH3q4QQgghHj9JJEuIi4sLZ86c0dazsrJITU3V1i0tLQkKCiIoKIjhw4dTv359EhIS8PX1JS8vj4yMDPz8/B5JbLVq1cLMzIw9e/bg7u4OwMWLFzlx4gT+/v6PpE0hhBBClD2SSJaQTp06ER0dTVBQEA4ODkycOFEbYYyOjiYvL49WrVphZWXFl19+iaWlJR4eHjg5OREcHEz//v2ZM2cOvr6+nD17lu3bt+Pt7c3zzz//wLHZ2NgwePBgxowZo92oM378+Ls+PkgIIYQQTx5JJEtIeHg4qampBAYGYm9vz9SpU7URSQcHB2bMmMGoUaPIy8ujcePGfP/99zg5OQEQFRXFtGnTGD16NH/++SfOzs60bt2awMDAhxbfrFmzyM7OJigoCFtbW0aPHk1mZuZDq18IIYQQZZ9OyetMxCOUlZWFvb09mZmZ2NnZlXQ4QgghhCiCon5/y1ylEEIIIYQoFkkknxD/flTQncvOnTtLOjwhhBBClEFyjeQT4tChQ4Xuq1at2uMLRAghhBDlhiSST4jatWuXdAhCCCGEKGdkalsIIYQQQhSLJJLlVMeOHQkNDS3pMIQQQghRjkkiKYiJiUGn03Hp0qWSDkUIIYQQZYgkkkIIIYQQolgkkSwHrly5Qv/+/bGxsaFq1arMmTPHaP8XX3xB8+bNsbW1pUqVKrzyyitkZGQAkJaWxlNPPQVAxYoV0el0DBw4EACDwUBkZCQ1atTA0tKSJk2a8O233z7WvgkhhBCi9JJEshwYM2YMsbGxfPfdd/z000/ExMRw4MABbf+NGzeYOnUq8fHxrF+/nrS0NC1ZdHNzY82aNQAkJSVx5swZFixYAEBkZCSff/45S5Ys4ejRo7z99tu8+uqrxMbGFhpLTk4OWVlZRosQQgghyid5RWIZl52djZOTE19++SU9e/YE4MKFC1SvXp2hQ4cyf/78fMfs27ePFi1acPnyZWxsbIiJieGpp57i4sWLODg4ALcSQkdHR7Zt20abNm20Y19//XWuXr3KypUrC4wnIiKCyZMn59sur0gUQgghyg55ReITIiUlhdzcXFq1aqVtc3R0pF69etr6/v37CQoKwt3dHVtbW/z9/QFIT08vtN6TJ09y9epVnn76aaO34Hz++eekpKQUelx4eDiZmZnacvr06YfQSyGEEEKURvJA8nLuypUrBAQEEBAQwIoVK3BxcSE9PZ2AgAByc3MLPS47OxuATZs25XvzjV6vL/Q4vV5/1/1CCCGEKD8kkSzjatWqhZmZGXv27MHd3R2AixcvcuLECfz9/Tl+/Djnz59nxowZuLm5Abemtv/N3NwcgLy8PG1bgwYN0Ov1pKenayOYQgghhBD/JolkGWdjY8PgwYMZM2YMTk5OVKpUifHjx2NicuuqBXd3d8zNzVm4cCFvvPEGR44cYerUqUZ1eHh4oNPp2LhxI8899xyWlpbY2toSFhbG22+/jcFgoH379mRmZhIXF4ednR0DBgwoie4KIYQQohSRayTLgVmzZuHn50dQUBBdunShffv2NGvWDAAXFxeio6NZvXo1DRo0YMaMGcyePdvo+GrVqjF58mTGjRtH5cqVCQkJAWDq1KlMmDCByMhIvLy86Nq1K5s2baJGjRqPvY9CCCGEKH3krm3xSBX1ri8hhBBClB5y17YQQgghhHikJJEUQgghhBDFIomkEEIIIYQoFkkkhRBCCCFEsUgiKYQQQgghikUSySdUWloaOp2OQ4cOlXQoQgghhCij5IHk4rFoNGkLJnqrkg5DCCFKpbQZz5d0CEIUi4xICiGEEEKIYpFEshzbvHkz7du3x8HBAScnJwIDA0lJSTEqc/z4cdq2bYuFhQWNGjUiNjYWAIPBQPXq1Vm8eLFR+YMHD2JiYsKpU6ceWz+EEEIIUTpJIlmOXblyhVGjRrFv3z62b9+OiYkJ3bt3x2AwaGXGjBnD6NGjOXjwIG3atCEoKIjz589jYmJC3759WblypVGdK1asoF27dnh4eBTYZk5ODllZWUaLEEIIIconSSTLsZdeeokePXpQu3ZtfHx8+Oyzz0hISODYsWNamZCQEF566SW8vLxYvHgx9vb2fPrppwAEBwcTFxdHeno6cGuUctWqVQQHBxfaZmRkJPb29tri5ub2aDspxP9r787Dqqr2/4G/N+NB8ACiMhhCihAaIogDThBQOFwTTczhESfUSq5yzVLTFLOr2bWs1OvUFawcygE0ZxxAQUVEQFQiJBAqFEsFQUWF9f3Dn/vnERA4AkeO79fznOdx77322p+11mnzaa+99yEiIo1hIqnFMjMzMWLECLRp0wZKpRL29vYAICeGAODp6Sn/W09PDx4eHkhPTwcAdOrUCc7OzvJVydjYWBQUFCAwMLDKY86ePRuFhYXyJy8vrx5aRkRERM8DJpJabODAgbh+/TrWrVuHhIQEJCQkAADu3btX4zpGjRolJ5KbNm1C3759YWFhUWV5Q0NDKJVKlQ8RERFpJyaSWurvv/9GRkYG5s6dC19fXzg7O+PGjRsVyp06dUr+94MHD5CUlARnZ2d53ciRI3H+/HkkJSVh27ZtT53WJiIiohcL3yOppczNzWFhYYG1a9fC2toaubm5mDVrVoVyK1euRLt27eDs7Ixly5bhxo0bGD9+vLzd3t4ePXr0wIQJE1BWVoY333xTrXjOL/Dn1UkiIiItwyuSWkpHRwdbtmxBUlISXn31VfzrX//Cf/7znwrlPvvsM3z22WdwdXVFXFwcdu3ahebNm6uUGTVqFFJTUzF48GAYGRk1VBOIiIjoOScJIYSmgyDtVVRUBFNTUxQWFvKKJBERUSNR07/fvCJJRERERGphIklEREREamEiSURERERqYSJJRERERGphIkkye3t7fPXVV5oOg4iIiBoJJpJaaOzYsQgICNB0GERERKTlmEgSERERkVqYSDZi27Ztg4uLC4yMjGBhYQE/Pz988MEH2LBhA3bu3AlJkiBJEmJiYuDj44OQkBCV/a9duwYDAwMcPny40vpv3ryJ4OBgtGjRAkqlEj4+PkhNTW2IphEREVEjwESykcrPz8eIESMwfvx4pKenIyYmBkOGDMH8+fMxbNgw9O3bF/n5+cjPz0ePHj0QHByMTZs2obS0VK7jhx9+QKtWreDj41PpMQIDA1FQUIB9+/YhKSkJ7u7u8PX1xfXr1xuqmURERPQcYyLZSOXn5+PBgwcYMmQI7O3t4eLigvfeew8mJiYwMjKCoaEhrKysYGVlBQMDAwwZMgQAsHPnTrmOiIgIjB07FpIkVag/Li4Op0+fxtatW+Hh4YF27dph6dKlMDMzw7Zt26qMq7S0FEVFRSofIiIi0k5MJBspV1dX+Pr6wsXFBYGBgVi3bh1u3LhRZXmFQoHRo0dj/fr1AICzZ8/i/PnzGDt2bKXlU1NTUVxcDAsLC5iYmMif7OxsZGVlVXmcxYsXw9TUVP7Y2to+UzuJiIjo+aWn6QBIPbq6uoiOjsaJEydw8OBBLF++HHPmzEFCQkKV+wQHB6NTp074/fffER4eDh8fH9jZ2VVatri4GNbW1oiJiamwzczMrMpjzJ49G9OnT5eXi4qKmEwSERFpKSaSjZgkSejZsyd69uyJefPmwc7ODpGRkTAwMEBZWVmF8i4uLvDw8MC6deuwadMmrFixosq63d3dceXKFejp6cHe3r7GMRkaGsLQ0FCd5hAREVEjw0SykUpISMDhw4fxxhtvoGXLlkhISMC1a9fg7OyMu3fv4sCBA8jIyICFhQVMTU2hr68P4OFVyZCQEBgbG2Pw4MFV1u/n5wdPT08EBATg888/h6OjI/7880/s2bMHgwcPhoeHR0M1lYiIiJ5TvEeykVIqlTh27Bj69+8PR0dHzJ07F1988QX69euHiRMnwsnJCR4eHmjRogXi4+Pl/UaMGAE9PT2MGDECCoWiyvolScLevXvRp08fjBs3Do6Ojhg+fDguX74MS0vLhmgiERERPeckIYTQdBDUcHJyctC2bVskJibC3d293o9XVFQEU1NTFBYWQqlU1vvxiIiI6NnV9O83p7ZfEPfv38fff/+NuXPnonv37g2SRBIREZF249T2CyI+Ph7W1tZITEzE6tWrNR0OERERaQFekXxBeHt7g3cxEBERUV3iFUkiIiIiUgsTSSIiIiJSCxPJJ3h7eyM0NFTTYWiEJEmIioqqcntOTg4kSUJKSkqDxURERETPL94jSbL8/HyYm5trOgwiIiJqJHhF8hndu3dP0yEAePh6n2dlZWXFnzckIiKiGmMiWYkHDx4gJCQEpqamaN68OT7++GP5iWd7e3ssXLgQQUFBUCqVmDRpEgAgLi4OvXv3hpGREWxtbTF16lSUlJQAAFasWIFXX31Vrj8qKgqSJKm8hsfPzw9z586Vl3fu3Al3d3coFAq0adMGCxYswIMHD+TtkiRh1apVePPNN2FsbIxPP/0UDg4OWLp0qUpbUlJSIEkSLl26VG27n5zaPn36NNzc3KBQKODh4YHk5ORa9CIRERFpOyaSldiwYQP09PRw+vRpfP311/jyyy/x7bffytuXLl0KV1dXJCcn4+OPP0ZWVhb69u2Lt956C+fOncOPP/6IuLg4hISEAAC8vLxw8eJFXLt2DQAQGxuL5s2bIyYmBsDDq4knT56Et7c3AOD48eMICgrCtGnTcPHiRaxZswYRERH497//rRJnWFgYBg8ejLS0NEyYMAHjx49HeHi4Spnw8HD06dMHDg4OteqD4uJi/OMf/0D79u2RlJSEsLAwzJgxo1Z1EBERkZYTpMLLy0s4OzuL8vJyed3MmTOFs7OzEEIIOzs7ERAQoLLPhAkTxKRJk1TWHT9+XOjo6Ig7d+6I8vJyYWFhIbZu3SqEEKJTp05i8eLFwsrKSgghRFxcnNDX1xclJSVCCCF8fX3FokWLVOr7/vvvhbW1tbwMQISGhqqU+eOPP4Surq5ISEgQQghx79490bx5cxEREVGjtgMQkZGRQggh1qxZIywsLMSdO3fk7atWrRIARHJycpV13L17VxQWFsqfvLw8AUAUFhbWKAYiIiLSvMLCwhr9/eYVyUp0794dkiTJy56ensjMzERZWRkAwMPDQ6V8amoqIiIiYGJiIn/8/f1RXl6O7OxsSJKEPn36ICYmBjdv3sTFixfx3nvvobS0FL/88gtiY2PRpUsXNGnSRK7vk08+Ualv4sSJyM/Px+3bt+XjPhmHjY0NBgwYgPXr1wMAfv75Z5SWliIwMLDWfZCeno6OHTtCoVCo9EN1Fi9eDFNTU/lja2tb62MTERFR48CnttVgbGysslxcXIzJkydj6tSpFcq2bt0awMPXCq1duxbHjx+Hm5sblEqlnFzGxsbCy8tLpb4FCxZgyJAhFep7PLF7Mg4ACA4OxujRo7Fs2TKEh4fj7bfflhPUhjB79mxMnz5dXi4qKmIySUREpKWYSFYiISFBZfnUqVNo164ddHV1Ky3v7u6OixcvPvU+RC8vL4SGhmLr1q3yvZDe3t44dOgQ4uPj8f7776vUl5GRUev7GgGgf//+MDY2xqpVq7B//34cO3as1nUAgLOzM77//nvcvXtXTl5PnTpV7X6GhoZ88puIiOgFwantSuTm5mL69OnIyMjA5s2bsXz5ckybNq3K8jNnzsSJEycQEhKClJQUZGZmYufOnfLDNgDQsWNHmJubY9OmTSqJZFRUFEpLS9GzZ0+57Lx58/Ddd99hwYIFuHDhAtLT07FlyxaVp7qroquri7Fjx2L27Nlo165djaajKzNy5EhIkoSJEyfi4sWL2Lt3b4UnwomIiOjFxkSyEkFBQbhz5w66du2KKVOmYNq0afJrfirTsWNHxMbG4tdff0Xv3r3h5uaGefPmwcbGRi4jSRJ69+4NSZLQq1cveT+lUgkPDw+VaWp/f3/s3r0bBw8eRJcuXdC9e3csW7YMdnZ2NYp/woQJuHfvHsaNG6dmDwAmJib4+eefkZaWBjc3N8yZMwdLlixRuz4iIiLSPpIQ/+8FiaQ1jh8/Dl9fX+Tl5cHS0lKjsRQVFcHU1BSFhYVQKpUajYWIiIhqpqZ/v3mPpBYpLS3FtWvXEBYWhsDAQI0nkURERKTdOLWtRTZv3gw7OzvcvHkTn3/+ucq2jRs3qrxO6PFPhw4dNBQxERERNWac2n5B3Lp1C1evXq10m76+fo3vv6wtTm0TERE1PpzaJhVNmzZF06ZNNR0GERERaRFObRMRERGRWphIaoC3tzdCQ0M1HYaKnJwcSJKElJSUKsvExMRAkiTcvHmzweIiIiKi5xentgkAYGtri/z8fDRv3lzToRAREVEjwSuSL4h79+49dbuuri6srKygp8f/tyAiIqKaYSKpIQ8ePEBISAhMTU3RvHlzfPzxx3j0AH1paSlmzJiBVq1awdjYGN26dUNMTIzK/nFxcejduzeMjIxga2uLqVOnoqSkRN5ub2+PhQsXIigoCEql8qm/zANUPrW9d+9eODo6wsjICK+99hpycnLqqvlERESkBZhIasiGDRugp6eH06dP4+uvv8aXX36Jb7/9FgAQEhKCkydPYsuWLTh37hwCAwPRt29fZGZmAgCysrLQt29fvPXWWzh37hx+/PFHxMXFqfy2NwAsXboUrq6uSE5Oxscff1yr+PLy8jBkyBAMHDgQKSkpCA4OxqxZs6rdr7S0FEVFRSofIiIi0k58j6QGeHt7o6CgABcuXIAkSQCAWbNmYdeuXdi/fz/atGmD3Nxcld/q9vPzQ9euXbFo0SIEBwdDV1cXa9askbfHxcXBy8sLJSUlUCgUsLe3h5ubGyIjI2sUU05ODl5++WUkJyejU6dO+Oijj7Bz505cuHBBLjNr1iwsWbIEN27cgJmZWaX1hIWFYcGCBRXW8z2SREREjUdN3yPJK5Ia0r17dzmJBABPT09kZmYiLS0NZWVlcHR0VPn1mdjYWGRlZQEAUlNTERERobLd398f5eXlyM7Oluv08PBQO7709HR069ZNZZ2np2e1+82ePRuFhYXyJy8vT+0YiIiI6PnGJyueM8XFxdDV1UVSUhJ0dXVVtpmYmMhlJk+ejKlTp1bYv3Xr1vK/jY2N6zfYShgaGsLQ0LDBj0tEREQNj4mkhiQkJKgsnzp1Cu3atYObmxvKyspQUFCA3r17V7qvu7s7Ll68CAcHh3qLz9nZGbt27aoQIxEREdEjnNrWkNzcXEyfPh0ZGRnYvHkzli9fjmnTpsHR0RGjRo1CUFAQduzYgezsbJw+fRqLFy/Gnj17AAAzZ87EiRMnEBISgpSUFGRmZmLnzp0VHrZ5Fu+88w4yMzPxwQcfICMjA5s2bUJERESd1U9ERESNHxNJDQkKCsKdO3fQtWtXTJkyBdOmTZNf0RMeHo6goCC8//77cHJyQkBAABITE+Vp644dOyI2Nha//vorevfuDTc3N8ybN0/l4Zxn1bp1a2zfvh1RUVFwdXXF6tWrsWjRojqrn4iIiBo/PrVN9aqmT30RERHR84NPbRMRERFRveLDNi+IRYsWVTk13bt3b+zbt69ejvvogjdfTE5ERNR4PPq7Xd3ENae2XxDXr1/H9evXK91mZGSEVq1a1ctxf/vtN7Rt27Ze6iYiIqL6lZeXh5deeqnK7UwkqV7dvHkT5ubmyM3NhampqabDaXBFRUWwtbVFXl7eC3uP6IveBy96+wH2wYvefoB90BjbL4TArVu3YGNjAx2dqu+E5NQ21atHXz5TU9NG8x9PfVAqlS90+wH2wYvefoB98KK3H2AfNLb21+QCEB+2ISIiIiK1MJEkIiIiIrUwkaR6ZWhoiPnz57+wv7/9orcfYB+86O0H2AcvevsB9oE2t58P2xARERGRWnhFkoiIiIjUwkSSiIiIiNTCRJKIiIiI1MJEkoiIiIjUwkSSntnKlSthb28PhUKBbt264fTp008tv3XrVrzyyitQKBRwcXHB3r17GyjS+lGb9kdERECSJJWPQqFowGjr1rFjxzBw4EDY2NhAkiRERUVVu09MTAzc3d1haGgIBwcHRERE1Huc9am2fRATE1PhOyBJEq5cudIwAdexxYsXo0uXLmjatClatmyJgIAAZGRkVLuftpwH1Gm/tp0HVq1ahY4dO8ov2/b09MS+ffueuo+2jD9Q+/Zr2/gzkaRn8uOPP2L69OmYP38+zp49C1dXV/j7+6OgoKDS8idOnMCIESMwYcIEJCcnIyAgAAEBATh//nwDR143att+4OEvG+Tn58ufy5cvN2DEdaukpASurq5YuXJljcpnZ2djwIABeO2115CSkoLQ0FAEBwfjwIED9Rxp/altHzySkZGh8j1o2bJlPUVYv2JjYzFlyhScOnUK0dHRuH//Pt544w2UlJRUuY82nQfUaT+gXeeBl156CZ999hmSkpJw5swZ+Pj4YNCgQbhw4UKl5bVp/IHatx/QrvGHIHoGXbt2FVOmTJGXy8rKhI2NjVi8eHGl5YcNGyYGDBigsq5bt25i8uTJ9Rpnfalt+8PDw4WpqWkDRdewAIjIyMinlvnwww9Fhw4dVNa9/fbbwt/fvx4jazg16YOjR48KAOLGjRsNElNDKygoEABEbGxslWW07TzwuJq0X5vPA4+Ym5uLb7/9ttJt2jz+jzyt/do2/rwiSWq7d+8ekpKS4OfnJ6/T0dGBn58fTp48Wek+J0+eVCkPAP7+/lWWf56p034AKC4uhp2dHWxtbav9v1Zto03j/6w6deoEa2trvP7664iPj9d0OHWmsLAQANCsWbMqy2jz96Am7Qe09zxQVlaGLVu2oKSkBJ6enpWW0ebxr0n7Ae0afyaSpLa//voLZWVlsLS0VFlvaWlZ5f1eV65cqVX555k67XdycsL69euxc+dO/PDDDygvL0ePHj3w+++/N0TIGlfV+BcVFeHOnTsaiqphWVtbY/Xq1di+fTu2b98OW1tbeHt74+zZs5oO7ZmVl5cjNDQUPXv2xKuvvlplOW06Dzyupu3XxvNAWloaTExMYGhoiHfeeQeRkZFo3759pWW1cfxr035tG389TQdA9CLx9PRU+b/UHj16wNnZGWvWrMHChQs1GBk1FCcnJzg5OcnLPXr0QFZWFpYtW4bvv/9eg5E9uylTpuD8+fOIi4vTdCgaUdP2a+N5wMnJCSkpKSgsLMS2bdswZswYxMbGVplMaZvatF/bxp+JJKmtefPm0NXVxdWrV1XWX716FVZWVpXuY2VlVavyzzN12v8kfX19uLm54dKlS/UR4nOnqvFXKpUwMjLSUFSa17Vr10affIWEhGD37t04duwYXnrppaeW1abzwCO1af+TtOE8YGBgAAcHBwBA586dkZiYiK+//hpr1qypUFYbx7827X9SYx9/Tm2T2gwMDNC5c2ccPnxYXldeXo7Dhw9XeW+Ip6enSnkAiI6Ofuq9JM8rddr/pLKyMqSlpcHa2rq+wnyuaNP416WUlJRG+x0QQiAkJASRkZE4cuQIXn755Wr30abvgTrtf5I2ngfKy8tRWlpa6TZtGv+qPK39T2r046/pp32ocduyZYswNDQUERER4uLFi2LSpEnCzMxMXLlyRQghxOjRo8WsWbPk8vHx8UJPT08sXbpUpKeni/nz5wt9fX2RlpamqSY8k9q2f8GCBeLAgQMiKytLJCUlieHDhwuFQiEuXLigqSY8k1u3bonk5GSRnJwsAIgvv/xSJCcni8uXLwshhJg1a5YYPXq0XP63334TTZo0ER988IFIT08XK1euFLq6umL//v2aasIzq20fLFu2TERFRYnMzEyRlpYmpk2bJnR0dMShQ4c01YRn8u677wpTU1MRExMj8vPz5c/t27flMtp8HlCn/dp2Hpg1a5aIjY0V2dnZ4ty5c2LWrFlCkiRx8OBBIYR2j78QtW+/to0/E0l6ZsuXLxetW7cWBgYGomvXruLUqVPyNi8vLzFmzBiV8j/99JNwdHQUBgYGokOHDmLPnj0NHHHdqk37Q0ND5bKWlpaif//+4uzZsxqIum48epXNk59HbR4zZozw8vKqsE+nTp2EgYGBaNOmjQgPD2/wuOtSbftgyZIlom3btkKhUIhmzZoJb29vceTIEc0EXwcqazsAlXHV5vOAOu3XtvPA+PHjhZ2dnTAwMBAtWrQQvr6+chIlhHaPvxC1b7+2jb8khBANd/2TiIiIiLQF75EkIiIiIrUwkSQiIiIitTCRJCIiIiK1MJEkIiIiIrUwkSQiIiIitTCRJCIiIiK1MJEkIiIiIrUwkSQiokqFhYXB0tISkiQhKiqqzur19vZGaGjoM9czduxYBAQEPHM9DcHe3h5fffWVpsMgqnN6mg6AiKimxo4diw0bNgAA9PX10bp1awQFBeGjjz6Cnt7zfTqTJAmRkZGNJvFJT0/HggULEBkZie7du8Pc3LzO6t6xYwf09fWfuZ6vv/4a/E0NIs16vs+8RERP6Nu3L8LDw1FaWoq9e/diypQp0NfXx+zZs2tdV1lZGSRJgo4OJ2eelJWVBQAYNGgQJEmq07qbNWtWJ/WYmprWST1EpD6ePYmoUTE0NISVlRXs7Ozw7rvvws/PD7t27QIAlJaWYsaMGWjVqhWMjY3RrVs3xMTEyPtGRETAzMwMu3btQvv27WFoaIjc3FyUlpZi5syZsLW1haGhIRwcHPC///1P3u/8+fPo168fTExMYGlpidGjR+Ovv/6St3t7e2Pq1Kn48MMP0axZM1hZWSEsLEzebm9vDwAYPHgwJEmSl7OysjBo0CBYWlrCxMQEXbp0waFDh1Tam5+fjwEDBsDIyAgvv/wyNm3aVGGa9ObNmwgODkaLFi2gVCrh4+OD1NTUp/ZjWloafHx8YGRkBAsLC0yaNAnFxcUAHk5pDxw4EACgo6NTZSIZExMDSZJw4MABuLm5wcjICD4+PigoKMC+ffvg7OwMpVKJkSNH4vbt2yr99fjU9n//+1+0a9cOCoUClpaWGDp0qLxt27ZtcHFxkeP08/NDSUkJgIpT29WNAwD88ssv6NWrFxQKBdq3b49Dhw49dep+7dq1sLGxQXl5ucr6QYMGYfz48QBqNo6Py8nJgSRJSElJkdfdvHkTkiSpfF+r+949rW+IGgoTSSJq1IyMjHDv3j0AQEhICE6ePIktW7bg3LlzCAwMRN++fZGZmSmXv337NpYsWYJvv/0WFy5cQMuWLREUFITNmzfjm2++QXp6OtasWQMTExMAD//A+/j4wM3NDWfOnMH+/ftx9epVDBs2TCWODRs2wNjYGAkJCfj888/xySefIDo6GgCQmJgIAAgPD0d+fr68XFxcjP79++Pw4cNITk5G3759MXDgQOTm5sr1BgUF4c8//0RMTAy2b9+OtWvXoqCgQOXYgYGBcvKWlJQEd3d3+Pr64vr165X2WUlJCfz9/WFubo7ExERs3boVhw4dQkhICABgxowZCA8PB/Awkc3Pz3/qGISFhWHFihU4ceIE8vLyMGzYMHz11VfYtGkT9uzZg4MHD2L58uWV7nvmzBlMnToVn3zyCTIyMrB//3706dNHPvaIESMwfvx4pKenIyYmBkOGDHnqdPbTxqGsrAwBAQFo0qQJEhISsHbtWsyZM+epbQsMDMTff/+No0ePyuuuX7+O/fv3Y9SoUQBqNo61Vd33Tp2+IaoXgoiokRgzZowYNGiQEEKI8vJyER0dLQwNDcWMGTPE5cuXha6urvjjjz9U9vH19RWzZ88WQggRHh4uAIiUlBR5e0ZGhgAgoqOjKz3mwoULxRtvvKGyLi8vTwAQGRkZQgghvLy8RK9evVTKdOnSRcycOVNeBiAiIyOrbWOHDh3E8uXLhRBCpKenCwAiMTFR3p6ZmSkAiGXLlgkhhDh+/LhQKpXi7t27KvW0bdtWrFmzptJjrF27Vpibm4vi4mJ53Z49e4SOjo64cuWKEEKIyMhIUd2fiKNHjwoA4tChQ/K6xYsXCwAiKytLXjd58mTh7+8vL3t5eYlp06YJIYTYvn27UCqVoqioqEL9SUlJAoDIycmp9PiPfx8e1fu0cdi3b5/Q09MT+fn58vbo6Ohqx2bQoEFi/Pjx8vKaNWuEjY2NKCsrq3Kfx8dRCCHs7OzkMcvOzhYARHJysrz9xo0bAoA4evSoEKL67111fUPUUHhFkogald27d8PExAQKhQL9+vXD22+/jbCwMKSlpaGsrAyOjo4wMTGRP7GxsfL9fgBgYGCAjh07ysspKSnQ1dWFl5dXpcdLTU3F0aNHVep85ZVXAECl3sfrBABra+sKVw6fVFxcjBkzZsDZ2RlmZmYwMTFBenq6fCUrIyMDenp6cHd3l/dxcHBQefAlNTUVxcXFsLCwUIkxOztbJb7Hpaenw9XVFcbGxvK6nj17ory8HBkZGU+NuTKPt93S0hJNmjRBmzZtVNZV1Revv/467Ozs0KZNG4wePRobN26Up8FdXV3h6+sLFxcXBAYGYt26dbhx40aNYwFUxyEjIwO2trawsrKSt3ft2rXa9o0aNQrbt29HaWkpAGDjxo0YPny4fG9tdeOojuq+d+r0DVF94MM2RNSovPbaa1i1ahUMDAxgY2MjP61dXFwMXV1dJCUlQVdXV2WfR9PUwMOp8Mfv+TMyMnrq8YqLizFw4EAsWbKkwjZra2v5308+hSxJUoX76p40Y8YMREdHY+nSpXBwcICRkRGGDh0qT9XXRHFxMaytrVXurXvEzMysxvU8i8fbLklSrfqiadOmOHv2LGJiYnDw4EHMmzcPYWFhSExMhJmZGaKjo3HixAl5enzOnDlISEjAyy+/XG0s1R27pgYOHAghBPbs2YMuXbrg+PHjWLZsmby9tuP4KAEVj01D379/X6VMdd87XV3dWvcNUX1gIklEjYqxsTEcHBwqrHdzc0NZWRkKCgrQu3fvGtfn4uKC8vJyxMbGws/Pr8J2d3d3bN++Hfb29s/0iiF9fX2UlZWprIuPj8fYsWMxePBgAA+Th5ycHHm7k5MTHjx4gOTkZHTu3BkAcOnSJZUrT+7u7rhy5Qr09PTkh3iq4+zsjIiICJSUlMhXJePj46GjowMnJye126guPT09+Pn5wc/PD/Pnz4eZmRmOHDmCIUOGQJIk9OzZEz179sS8efNgZ2eHyMhITJ8+vdbHcXJyQl5eHq5evQpLS0sA///+1adRKBQYMmQINm7ciEuXLsHJyUnlKnF14/ikFi1aAHh4n6ObmxsAqDx4A9Tse1eXfUOkLk5tE5FWcHR0xKhRoxAUFIQdO3YgOzsbp0+fxuLFi7Fnz54q97O3t8eYMWMwfvx4REVFITs7GzExMfjpp58AAFOmTMH169cxYsQIJCYmIisrCwcOHMC4ceMqJIZPY29vj8OHD+PKlStyItiuXTvs2LEDKSkpSE1NxciRI1Wunr3yyivw8/PDpEmTcPr0aSQnJ2PSpEkqV1X9/Pzg6emJgIAAHDx4EDk5OThx4gTmzJmDM2fOVBrLqFGjoFAoMGbMGJw/fx5Hjx7FP//5T4wePVpOsBrK7t278c033yAlJQWXL1/Gd999h/Lycjg5OSEhIQGLFi3CmTNnkJubix07duDatWtwdnZW61ivv/462rZtizFjxuDcuXOIj4/H3LlzAaDaVxyNGjUKe/bswfr16+WHbB6pbhyfZGRkhO7du+Ozzz5Deno6YmNj5Tgeqe57V9d9Q6QuJpJEpDXCw8MRFBSE999/H05OTggICEBiYiJat2791P1WrVqFoUOH4r333sMrr7yCiRMnyq9RsbGxQXx8PMrKyvDGG2/AxcUFoaGhMDMzq9X7J7/44gtER0fD1tZWvgr15ZdfwtzcHD169MDAgQPh7++vcqULAL777jtYWlqiT58+GDx4MCZOnIimTZtCoVAAeJgA7d27F3369MG4cePg6OiI4cOH4/Lly1UmhU2aNMGBAwdw/fp1dOnSBUOHDoWvry9WrFhR4/bUFTMzM+zYsQM+Pj5wdnbG6tWrsXnzZnTo0AFKpRLHjh1D//794ejoiLlz5+KLL75Av3791DqWrq4uoqKiUFxcjC5duiA4OFh+avtRf1bFx8cHzZo1Q0ZGBkaOHKmyrSbj+KT169fjwYMH6Ny5M0JDQ/Hpp5+qbK/ue1fXfUOkLkkIviuAiKix+P3332Fra4tDhw7B19dX0+E0evHx8ejVqxcuXbqEtm3bajocokaHiSQR0XPsyJEjKC4uhouLC/Lz8/Hhhx/ijz/+wK+//lonPzP4oomMjISJiQnatWuHS5cuYdq0aTA3N0dcXJymQyNqlPiwDRHRc+z+/fv46KOP8Ntvv6Fp06bo0aMHNm7cyCRSTbdu3cLMmTORm5uL5s2bw8/PD1988YWmwyJqtHhFkoiIiIjUwodtiIiIiEgtTCSJiIiISC1MJImIiIhILUwkiYiIiEgtTCSJiIiISC1MJImIiIhILUwkiYiIiEgtTCSJiIiISC1MJImIiIhILf8HlxiHClbq7zUAAAAASUVORK5CYII=",
>>>>>>> bfef783d08199443687fe6e8f4e76ec5e2a4e156
      "text/plain": [
       "<Figure size 432x288 with 1 Axes>"
      ]
     },
     "metadata": {
      "needs_background": "light"
     },
     "output_type": "display_data"
    }
   ],
   "source": [
    "# show the percentage of missing values per columm\n",
    "plt.figure()\n",
    "(df_merged.isna().sum() / len(df_merged) * 100).plot(kind='barh', title='Percentage of missing values per column')\n",
    "plt.xlabel('Percentage of missing values')\n",
    "plt.show()"
   ]
  },
  {
   "cell_type": "code",
<<<<<<< HEAD
=======
   "execution_count": 31,
   "metadata": {},
   "outputs": [
    {
     "name": "stdout",
     "output_type": "stream",
     "text": [
      "Number of reviews with a weird location value: 15319\n"
     ]
    }
   ],
   "source": [
    "# how many reviews have strange brewery location ?\n",
    "print('Number of reviews with a weird location value:', len(df_merged[df_merged['brewery_location'].str.contains('<', na=False)]))"
   ]
  },
  {
   "cell_type": "code",
>>>>>>> bfef783d08199443687fe6e8f4e76ec5e2a4e156
   "execution_count": 32,
   "metadata": {},
   "outputs": [
    {
     "name": "stdout",
     "output_type": "stream",
     "text": [
      "Number of reviews with no abv value: 65453\n"
     ]
    }
   ],
   "source": [
    "# how many reviews have no abv value ?\n",
    "print('Number of reviews with no abv value:', len(df_merged[df_merged['abv'].isna()]))"
   ]
  },
  {
   "cell_type": "markdown",
   "metadata": {},
   "source": [
    "15'319 reviews have a weird brewery location, it makes sense to manually change the location of the 35 breweries concerned."
   ]
  },
  {
   "cell_type": "code",
   "execution_count": null,
   "metadata": {},
   "outputs": [],
   "source": [
    "df_nonan = df_merged.dropna().copy(deep=True)\n",
    "print('Shape of df_nonan : ', df_nonan.shape)\n",
    "print('Percentage of rows removed : ', round((1 - len(df_nonan) / len(df_merged)) * 100, 2), '%')"
   ]
  },
  {
   "cell_type": "code",
<<<<<<< HEAD
   "execution_count": 33,
=======
   "execution_count": null,
>>>>>>> bfef783d08199443687fe6e8f4e76ec5e2a4e156
   "metadata": {},
   "outputs": [],
   "source": [
    "# Save to csv\n",
    "df_nonan.to_csv(dataset_path + 'BeerAdvocateMerged.csv', index=False)"
   ]
  },
  {
   "cell_type": "code",
<<<<<<< HEAD
   "execution_count": 34,
=======
   "execution_count": null,
>>>>>>> bfef783d08199443687fe6e8f4e76ec5e2a4e156
   "metadata": {},
   "outputs": [],
   "source": [
    "df = pd.read_csv(dataset_path + 'BeerAdvocateMerged.csv')"
   ]
  },
  {
   "cell_type": "code",
<<<<<<< HEAD
   "execution_count": 35,
   "metadata": {},
   "outputs": [
    {
     "data": {
      "text/html": [
       "<div>\n",
       "<style scoped>\n",
       "    .dataframe tbody tr th:only-of-type {\n",
       "        vertical-align: middle;\n",
       "    }\n",
       "\n",
       "    .dataframe tbody tr th {\n",
       "        vertical-align: top;\n",
       "    }\n",
       "\n",
       "    .dataframe thead th {\n",
       "        text-align: right;\n",
       "    }\n",
       "</style>\n",
       "<table border=\"1\" class=\"dataframe\">\n",
       "  <thead>\n",
       "    <tr style=\"text-align: right;\">\n",
       "      <th></th>\n",
       "      <th>beer_id</th>\n",
       "      <th>brewery_id</th>\n",
       "      <th>style</th>\n",
       "      <th>abv</th>\n",
       "      <th>date</th>\n",
       "      <th>user_id</th>\n",
       "      <th>appearance</th>\n",
       "      <th>aroma</th>\n",
       "      <th>palate</th>\n",
       "      <th>taste</th>\n",
       "      <th>overall</th>\n",
       "      <th>rating</th>\n",
       "      <th>text</th>\n",
       "      <th>beer_nbr_ratings</th>\n",
       "      <th>beer_nbr_reviews</th>\n",
       "      <th>avg</th>\n",
       "      <th>user_nbr_ratings</th>\n",
       "      <th>user_nbr_reviews</th>\n",
       "      <th>user_joined</th>\n",
       "      <th>user_location</th>\n",
       "      <th>brewery_location</th>\n",
       "      <th>brewery_nbr_beers</th>\n",
       "    </tr>\n",
       "  </thead>\n",
       "  <tbody>\n",
       "    <tr>\n",
       "      <th>1564634</th>\n",
       "      <td>2093</td>\n",
       "      <td>64</td>\n",
       "      <td>American Double / Imperial IPA</td>\n",
       "      <td>9.0</td>\n",
       "      <td>1176717600</td>\n",
       "      <td>mobud.2158</td>\n",
       "      <td>3.5</td>\n",
       "      <td>4.0</td>\n",
       "      <td>4.0</td>\n",
       "      <td>3.5</td>\n",
       "      <td>4.0</td>\n",
       "      <td>3.77</td>\n",
       "      <td>Poured from bottle into pint glass.A- Dark gol...</td>\n",
       "      <td>15548</td>\n",
       "      <td>3899</td>\n",
       "      <td>4.24</td>\n",
       "      <td>132</td>\n",
       "      <td>129</td>\n",
       "      <td>1.054116e+09</td>\n",
       "      <td>United States, Delaware</td>\n",
       "      <td>United States, Delaware</td>\n",
       "      <td>378.0</td>\n",
       "    </tr>\n",
       "    <tr>\n",
       "      <th>2291306</th>\n",
       "      <td>46850</td>\n",
       "      <td>15237</td>\n",
       "      <td>Belgian Strong Pale Ale</td>\n",
       "      <td>10.0</td>\n",
       "      <td>1294657200</td>\n",
       "      <td>corby112.268461</td>\n",
       "      <td>4.0</td>\n",
       "      <td>3.5</td>\n",
       "      <td>4.0</td>\n",
       "      <td>4.0</td>\n",
       "      <td>3.5</td>\n",
       "      <td>3.78</td>\n",
       "      <td>Pours a deep, dark copper orange with golden b...</td>\n",
       "      <td>191</td>\n",
       "      <td>100</td>\n",
       "      <td>4.15</td>\n",
       "      <td>2855</td>\n",
       "      <td>2853</td>\n",
       "      <td>1.227092e+09</td>\n",
       "      <td>United States, Pennsylvania</td>\n",
       "      <td>Belgium</td>\n",
       "      <td>145.0</td>\n",
       "    </tr>\n",
       "    <tr>\n",
       "      <th>1417428</th>\n",
       "      <td>38870</td>\n",
       "      <td>694</td>\n",
       "      <td>American Barleywine</td>\n",
       "      <td>9.4</td>\n",
       "      <td>1262948400</td>\n",
       "      <td>wisrarebeer.239007</td>\n",
       "      <td>4.0</td>\n",
       "      <td>4.5</td>\n",
       "      <td>4.5</td>\n",
       "      <td>4.5</td>\n",
       "      <td>5.0</td>\n",
       "      <td>4.57</td>\n",
       "      <td>A: deep copper color, decent headS: smell was ...</td>\n",
       "      <td>75</td>\n",
       "      <td>68</td>\n",
       "      <td>4.24</td>\n",
       "      <td>1302</td>\n",
       "      <td>682</td>\n",
       "      <td>1.217498e+09</td>\n",
       "      <td>United States, Wisconsin</td>\n",
       "      <td>United States, Pennsylvania</td>\n",
       "      <td>372.0</td>\n",
       "    </tr>\n",
       "  </tbody>\n",
       "</table>\n",
       "</div>"
      ],
      "text/plain": [
       "         beer_id  brewery_id                           style   abv  \\\n",
       "1564634     2093          64  American Double / Imperial IPA   9.0   \n",
       "2291306    46850       15237         Belgian Strong Pale Ale  10.0   \n",
       "1417428    38870         694             American Barleywine   9.4   \n",
       "\n",
       "               date             user_id  appearance  aroma  palate  taste  \\\n",
       "1564634  1176717600          mobud.2158         3.5    4.0     4.0    3.5   \n",
       "2291306  1294657200     corby112.268461         4.0    3.5     4.0    4.0   \n",
       "1417428  1262948400  wisrarebeer.239007         4.0    4.5     4.5    4.5   \n",
       "\n",
       "         overall  rating                                               text  \\\n",
       "1564634      4.0    3.77  Poured from bottle into pint glass.A- Dark gol...   \n",
       "2291306      3.5    3.78  Pours a deep, dark copper orange with golden b...   \n",
       "1417428      5.0    4.57  A: deep copper color, decent headS: smell was ...   \n",
       "\n",
       "         beer_nbr_ratings  beer_nbr_reviews   avg  user_nbr_ratings  \\\n",
       "1564634             15548              3899  4.24               132   \n",
       "2291306               191               100  4.15              2855   \n",
       "1417428                75                68  4.24              1302   \n",
       "\n",
       "         user_nbr_reviews   user_joined                user_location  \\\n",
       "1564634               129  1.054116e+09      United States, Delaware   \n",
       "2291306              2853  1.227092e+09  United States, Pennsylvania   \n",
       "1417428               682  1.217498e+09     United States, Wisconsin   \n",
       "\n",
       "                    brewery_location  brewery_nbr_beers  \n",
       "1564634      United States, Delaware              378.0  \n",
       "2291306                      Belgium              145.0  \n",
       "1417428  United States, Pennsylvania              372.0  "
      ]
     },
     "metadata": {},
     "output_type": "display_data"
    },
    {
     "name": "stdout",
     "output_type": "stream",
     "text": [
      "Shape of df :  (2387578, 22)\n"
     ]
    }
   ],
=======
   "execution_count": null,
   "metadata": {},
   "outputs": [],
>>>>>>> bfef783d08199443687fe6e8f4e76ec5e2a4e156
   "source": [
    "display(df.sample(3))\n",
    "print('Shape of df : ', df.shape)"
   ]
  },
  {
   "cell_type": "markdown",
   "metadata": {},
   "source": [
    "## Data enrichment 🍺\n",
    "### Serving type 🍾🥤🚰\n",
    "\n",
    ">Since our goal is to look at the influence of the serving style, we need to know how each beer was served. \n",
    "For now, we use a naive approach. We only look at whether a word specific to as service style has been used. \n"
   ]
  },
  {
   "cell_type": "code",
<<<<<<< HEAD
   "execution_count": 36,
=======
   "execution_count": null,
>>>>>>> bfef783d08199443687fe6e8f4e76ec5e2a4e156
   "metadata": {},
   "outputs": [],
   "source": [
    "# Create 3 different columns according to the text review, \"bottle\", \"can\", \"draft\"\n",
    "\n",
    "bottle = ['bottle', 'bottled', 'bottles']\n",
    "can = [' can ', 'canned', ' cans ']\n",
    "draft = ['draft', 'draught', 'tap', 'taps']\n",
    "# Create different columns if review text contains the word\n",
    "df['bottle'] = df['text'].apply(lambda x: any(ele in x.lower() for ele in bottle))\n",
    "df['can'] = df['text'].apply(lambda x: any(ele in x.lower() for ele in can))\n",
    "df['draft'] = df['text'].apply(lambda x: any(ele in x.lower() for ele in draft))"
   ]
  },
  {
   "cell_type": "code",
<<<<<<< HEAD
   "execution_count": 37,
   "metadata": {},
   "outputs": [
    {
     "data": {
      "text/html": [
       "<div>\n",
       "<style scoped>\n",
       "    .dataframe tbody tr th:only-of-type {\n",
       "        vertical-align: middle;\n",
       "    }\n",
       "\n",
       "    .dataframe tbody tr th {\n",
       "        vertical-align: top;\n",
       "    }\n",
       "\n",
       "    .dataframe thead th {\n",
       "        text-align: right;\n",
       "    }\n",
       "</style>\n",
       "<table border=\"1\" class=\"dataframe\">\n",
       "  <thead>\n",
       "    <tr style=\"text-align: right;\">\n",
       "      <th></th>\n",
       "      <th>beer_id</th>\n",
       "      <th>brewery_id</th>\n",
       "      <th>style</th>\n",
       "      <th>abv</th>\n",
       "      <th>date</th>\n",
       "      <th>user_id</th>\n",
       "      <th>appearance</th>\n",
       "      <th>aroma</th>\n",
       "      <th>palate</th>\n",
       "      <th>taste</th>\n",
       "      <th>overall</th>\n",
       "      <th>rating</th>\n",
       "      <th>text</th>\n",
       "      <th>beer_nbr_ratings</th>\n",
       "      <th>beer_nbr_reviews</th>\n",
       "      <th>avg</th>\n",
       "      <th>user_nbr_ratings</th>\n",
       "      <th>user_nbr_reviews</th>\n",
       "      <th>user_joined</th>\n",
       "      <th>user_location</th>\n",
       "      <th>brewery_location</th>\n",
       "      <th>brewery_nbr_beers</th>\n",
       "      <th>serving_type</th>\n",
       "    </tr>\n",
       "  </thead>\n",
       "  <tbody>\n",
       "    <tr>\n",
       "      <th>226674</th>\n",
       "      <td>55580</td>\n",
       "      <td>13307</td>\n",
       "      <td>American IPA</td>\n",
       "      <td>6.9</td>\n",
       "      <td>1272016800</td>\n",
       "      <td>john_m.3421</td>\n",
       "      <td>4.0</td>\n",
       "      <td>4.5</td>\n",
       "      <td>4.0</td>\n",
       "      <td>4.5</td>\n",
       "      <td>4.0</td>\n",
       "      <td>4.32</td>\n",
       "      <td>On tap at Max's today.This and the simcoe from...</td>\n",
       "      <td>157</td>\n",
       "      <td>89</td>\n",
       "      <td>4.03</td>\n",
       "      <td>3119</td>\n",
       "      <td>3053</td>\n",
       "      <td>1.067076e+09</td>\n",
       "      <td>United States, Oregon</td>\n",
       "      <td>Denmark</td>\n",
       "      <td>795.0</td>\n",
       "      <td>draft</td>\n",
       "    </tr>\n",
       "    <tr>\n",
       "      <th>1424961</th>\n",
       "      <td>15881</td>\n",
       "      <td>694</td>\n",
       "      <td>American Amber / Red Ale</td>\n",
       "      <td>7.5</td>\n",
       "      <td>1235041200</td>\n",
       "      <td>rdub.157496</td>\n",
       "      <td>4.0</td>\n",
       "      <td>4.0</td>\n",
       "      <td>4.0</td>\n",
       "      <td>4.0</td>\n",
       "      <td>4.0</td>\n",
       "      <td>4.00</td>\n",
       "      <td>Holy moley. Hop-o-rama. Poured a beautiful cop...</td>\n",
       "      <td>8553</td>\n",
       "      <td>2550</td>\n",
       "      <td>4.32</td>\n",
       "      <td>365</td>\n",
       "      <td>156</td>\n",
       "      <td>1.189246e+09</td>\n",
       "      <td>United States, Pennsylvania</td>\n",
       "      <td>United States, Pennsylvania</td>\n",
       "      <td>372.0</td>\n",
       "      <td>draft</td>\n",
       "    </tr>\n",
       "    <tr>\n",
       "      <th>1756646</th>\n",
       "      <td>47022</td>\n",
       "      <td>17981</td>\n",
       "      <td>American Double / Imperial Stout</td>\n",
       "      <td>11.0</td>\n",
       "      <td>1337335200</td>\n",
       "      <td>skibum22.383232</td>\n",
       "      <td>4.5</td>\n",
       "      <td>4.5</td>\n",
       "      <td>5.0</td>\n",
       "      <td>5.0</td>\n",
       "      <td>5.0</td>\n",
       "      <td>4.85</td>\n",
       "      <td>A - Pours black with a finger of dark tan head...</td>\n",
       "      <td>4144</td>\n",
       "      <td>803</td>\n",
       "      <td>4.51</td>\n",
       "      <td>1535</td>\n",
       "      <td>86</td>\n",
       "      <td>1.255860e+09</td>\n",
       "      <td>United States, New York</td>\n",
       "      <td>United States, Florida</td>\n",
       "      <td>981.0</td>\n",
       "      <td>bottle</td>\n",
       "    </tr>\n",
       "  </tbody>\n",
       "</table>\n",
       "</div>"
      ],
      "text/plain": [
       "         beer_id  brewery_id                             style   abv  \\\n",
       "226674     55580       13307                      American IPA   6.9   \n",
       "1424961    15881         694          American Amber / Red Ale   7.5   \n",
       "1756646    47022       17981  American Double / Imperial Stout  11.0   \n",
       "\n",
       "               date          user_id  appearance  aroma  palate  taste  \\\n",
       "226674   1272016800      john_m.3421         4.0    4.5     4.0    4.5   \n",
       "1424961  1235041200      rdub.157496         4.0    4.0     4.0    4.0   \n",
       "1756646  1337335200  skibum22.383232         4.5    4.5     5.0    5.0   \n",
       "\n",
       "         overall  rating                                               text  \\\n",
       "226674       4.0    4.32  On tap at Max's today.This and the simcoe from...   \n",
       "1424961      4.0    4.00  Holy moley. Hop-o-rama. Poured a beautiful cop...   \n",
       "1756646      5.0    4.85  A - Pours black with a finger of dark tan head...   \n",
       "\n",
       "         beer_nbr_ratings  beer_nbr_reviews   avg  user_nbr_ratings  \\\n",
       "226674                157                89  4.03              3119   \n",
       "1424961              8553              2550  4.32               365   \n",
       "1756646              4144               803  4.51              1535   \n",
       "\n",
       "         user_nbr_reviews   user_joined                user_location  \\\n",
       "226674               3053  1.067076e+09        United States, Oregon   \n",
       "1424961               156  1.189246e+09  United States, Pennsylvania   \n",
       "1756646                86  1.255860e+09      United States, New York   \n",
       "\n",
       "                    brewery_location  brewery_nbr_beers serving_type  \n",
       "226674                       Denmark              795.0        draft  \n",
       "1424961  United States, Pennsylvania              372.0        draft  \n",
       "1756646       United States, Florida              981.0       bottle  "
      ]
     },
     "metadata": {},
     "output_type": "display_data"
    },
    {
     "data": {
      "text/plain": [
       "bottle    619246\n",
       "can       187137\n",
       "draft     165750\n",
       "Name: serving_type, dtype: int64"
      ]
     },
     "execution_count": 37,
     "metadata": {},
     "output_type": "execute_result"
    }
   ],
=======
   "execution_count": null,
   "metadata": {},
   "outputs": [],
>>>>>>> bfef783d08199443687fe6e8f4e76ec5e2a4e156
   "source": [
    "# remove every row where columns bottle, can and draft are all False\n",
    "df = df[df[['bottle', 'can', 'draft']].any(axis=1)]\n",
    "# display(df.sample(3))\n",
    "# print('We have {} valid reviews'.format(df.shape[0]))\n",
    "\n",
    "# remove every row with more than 1 true\n",
    "df = df[df[['bottle', 'can', 'draft']].sum(axis=1) == 1]\n",
    "# display(df.sample(3))\n",
    "# print('We have {} valid reviews'.format(df.shape[0]))\n",
    "\n",
    "#create a new column with the serving type\n",
    "df['serving_type'] = df[['bottle', 'can', 'draft']].idxmax(axis=1)\n",
    "\n",
    "# drop the columns bottle, can and draft\n",
    "df.drop(['bottle', 'can', 'draft'], axis=1, inplace=True)\n",
    "\n",
    "display(df.sample(3))\n",
    "\n",
    "# print the number of reviews for each serving type\n",
    "df['serving_type'].value_counts(normalize=False)"
   ]
  },
  {
   "cell_type": "markdown",
   "metadata": {},
   "source": [
    "## Data filtering 🧹\n",
    "Number of valid reviews per beer and users & average rating per beer"
   ]
  },
  {
   "cell_type": "markdown",
   "metadata": {},
   "source": [
    "### Filtering on amount of reviews"
   ]
  },
  {
   "cell_type": "code",
   "execution_count": 38,
   "metadata": {},
   "outputs": [
    {
     "data": {
      "text/html": [
       "<div>\n",
       "<style scoped>\n",
       "    .dataframe tbody tr th:only-of-type {\n",
       "        vertical-align: middle;\n",
       "    }\n",
       "\n",
       "    .dataframe tbody tr th {\n",
       "        vertical-align: top;\n",
       "    }\n",
       "\n",
       "    .dataframe thead th {\n",
       "        text-align: right;\n",
       "    }\n",
       "</style>\n",
       "<table border=\"1\" class=\"dataframe\">\n",
       "  <thead>\n",
       "    <tr style=\"text-align: right;\">\n",
       "      <th></th>\n",
       "      <th>beer_id</th>\n",
       "      <th>brewery_id</th>\n",
       "      <th>style</th>\n",
       "      <th>abv</th>\n",
       "      <th>date</th>\n",
       "      <th>user_id</th>\n",
       "      <th>appearance</th>\n",
       "      <th>aroma</th>\n",
       "      <th>palate</th>\n",
       "      <th>taste</th>\n",
       "      <th>overall</th>\n",
       "      <th>rating</th>\n",
       "      <th>text</th>\n",
       "      <th>beer_nbr_ratings</th>\n",
       "      <th>beer_nbr_reviews</th>\n",
       "      <th>avg</th>\n",
       "      <th>user_nbr_ratings</th>\n",
       "      <th>user_nbr_reviews</th>\n",
       "      <th>user_joined</th>\n",
       "      <th>user_location</th>\n",
       "      <th>brewery_location</th>\n",
       "      <th>brewery_nbr_beers</th>\n",
       "      <th>serving_type</th>\n",
       "      <th>user_nbr_reviews_computed</th>\n",
       "      <th>beer_nbr_reviews_computed</th>\n",
       "      <th>beer_avg_computed</th>\n",
       "    </tr>\n",
       "  </thead>\n",
       "  <tbody>\n",
       "    <tr>\n",
       "      <th>935606</th>\n",
       "      <td>37860</td>\n",
       "      <td>35</td>\n",
       "      <td>American Pale Ale (APA)</td>\n",
       "      <td>6.0</td>\n",
       "      <td>1367920800</td>\n",
       "      <td>jadjunk.401113</td>\n",
       "      <td>3.75</td>\n",
       "      <td>3.25</td>\n",
       "      <td>2.75</td>\n",
       "      <td>3.25</td>\n",
       "      <td>3.25</td>\n",
       "      <td>3.23</td>\n",
       "      <td>&amp;quot;Jack McAuliffe's pioneering spirit paved...</td>\n",
       "      <td>625</td>\n",
       "      <td>178</td>\n",
       "      <td>3.40</td>\n",
       "      <td>1175</td>\n",
       "      <td>1175</td>\n",
       "      <td>1.260097e+09</td>\n",
       "      <td>United States, Georgia</td>\n",
       "      <td>United States, Massachusetts</td>\n",
       "      <td>285.0</td>\n",
       "      <td>bottle</td>\n",
       "      <td>347</td>\n",
       "      <td>65</td>\n",
       "      <td>3.328308</td>\n",
       "    </tr>\n",
       "    <tr>\n",
       "      <th>1145616</th>\n",
       "      <td>65223</td>\n",
       "      <td>2137</td>\n",
       "      <td>Milk / Sweet Stout</td>\n",
       "      <td>7.2</td>\n",
       "      <td>1366452000</td>\n",
       "      <td>stouthunter.445745</td>\n",
       "      <td>4.00</td>\n",
       "      <td>3.75</td>\n",
       "      <td>3.50</td>\n",
       "      <td>3.75</td>\n",
       "      <td>3.75</td>\n",
       "      <td>3.74</td>\n",
       "      <td>I picked up a bottle of Breckenridge's 72 Impe...</td>\n",
       "      <td>756</td>\n",
       "      <td>158</td>\n",
       "      <td>3.87</td>\n",
       "      <td>2309</td>\n",
       "      <td>1946</td>\n",
       "      <td>1.270548e+09</td>\n",
       "      <td>United States, Michigan</td>\n",
       "      <td>United States, Colorado</td>\n",
       "      <td>140.0</td>\n",
       "      <td>bottle</td>\n",
       "      <td>1329</td>\n",
       "      <td>62</td>\n",
       "      <td>3.870484</td>\n",
       "    </tr>\n",
       "    <tr>\n",
       "      <th>1570004</th>\n",
       "      <td>18862</td>\n",
       "      <td>64</td>\n",
       "      <td>American Double / Imperial IPA</td>\n",
       "      <td>10.0</td>\n",
       "      <td>1314698400</td>\n",
       "      <td>cavery.553824</td>\n",
       "      <td>3.50</td>\n",
       "      <td>4.00</td>\n",
       "      <td>3.00</td>\n",
       "      <td>3.50</td>\n",
       "      <td>3.50</td>\n",
       "      <td>3.57</td>\n",
       "      <td>Review from notes, bottle courtesy of GoGators...</td>\n",
       "      <td>6565</td>\n",
       "      <td>1872</td>\n",
       "      <td>4.18</td>\n",
       "      <td>217</td>\n",
       "      <td>207</td>\n",
       "      <td>1.295176e+09</td>\n",
       "      <td>United States, California</td>\n",
       "      <td>United States, Delaware</td>\n",
       "      <td>378.0</td>\n",
       "      <td>bottle</td>\n",
       "      <td>103</td>\n",
       "      <td>860</td>\n",
       "      <td>4.148012</td>\n",
       "    </tr>\n",
       "  </tbody>\n",
       "</table>\n",
       "</div>"
      ],
      "text/plain": [
       "         beer_id  brewery_id                           style   abv  \\\n",
       "935606     37860          35         American Pale Ale (APA)   6.0   \n",
       "1145616    65223        2137              Milk / Sweet Stout   7.2   \n",
       "1570004    18862          64  American Double / Imperial IPA  10.0   \n",
       "\n",
       "               date             user_id  appearance  aroma  palate  taste  \\\n",
       "935606   1367920800      jadjunk.401113        3.75   3.25    2.75   3.25   \n",
       "1145616  1366452000  stouthunter.445745        4.00   3.75    3.50   3.75   \n",
       "1570004  1314698400       cavery.553824        3.50   4.00    3.00   3.50   \n",
       "\n",
       "         overall  rating                                               text  \\\n",
       "935606      3.25    3.23  &quot;Jack McAuliffe's pioneering spirit paved...   \n",
       "1145616     3.75    3.74  I picked up a bottle of Breckenridge's 72 Impe...   \n",
       "1570004     3.50    3.57  Review from notes, bottle courtesy of GoGators...   \n",
       "\n",
       "         beer_nbr_ratings  beer_nbr_reviews   avg  user_nbr_ratings  \\\n",
       "935606                625               178  3.40              1175   \n",
       "1145616               756               158  3.87              2309   \n",
       "1570004              6565              1872  4.18               217   \n",
       "\n",
       "         user_nbr_reviews   user_joined              user_location  \\\n",
       "935606               1175  1.260097e+09     United States, Georgia   \n",
       "1145616              1946  1.270548e+09    United States, Michigan   \n",
       "1570004               207  1.295176e+09  United States, California   \n",
       "\n",
       "                     brewery_location  brewery_nbr_beers serving_type  \\\n",
       "935606   United States, Massachusetts              285.0       bottle   \n",
       "1145616       United States, Colorado              140.0       bottle   \n",
       "1570004       United States, Delaware              378.0       bottle   \n",
       "\n",
       "         user_nbr_reviews_computed  beer_nbr_reviews_computed  \\\n",
       "935606                         347                         65   \n",
       "1145616                       1329                         62   \n",
       "1570004                        103                        860   \n",
       "\n",
       "         beer_avg_computed  \n",
       "935606            3.328308  \n",
       "1145616           3.870484  \n",
       "1570004           4.148012  "
      ]
     },
     "execution_count": 38,
     "metadata": {},
     "output_type": "execute_result"
    }
   ],
   "source": [
    "# compute the number of valid reviews per user\n",
    "df['user_nbr_reviews_computed'] = df.groupby('user_id')['user_id'].transform('count')\n",
    "\n",
    "# compute the number of valid reviews per beer\n",
    "df['beer_nbr_reviews_computed'] = df.groupby('beer_id')['beer_id'].transform('count')\n",
    "\n",
    "# compute the avg rating per beer\n",
    "df['beer_avg_computed'] = df.groupby('beer_id')['rating'].transform('mean')\n",
    "\n",
    "df.sample(3)"
   ]
  },
  {
   "cell_type": "code",
   "execution_count": 39,
   "metadata": {},
   "outputs": [
    {
     "data": {
      "image/png": "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\n",
      "text/plain": [
       "<Figure size 1080x360 with 2 Axes>"
      ]
     },
     "metadata": {
      "needs_background": "light"
     },
     "output_type": "display_data"
    }
   ],
   "source": [
    "plt.figure(figsize=(15, 5))\n",
    "\n",
    "# group the reviews by beer_id and show a histogram of the number of reviews computed\n",
    "plt.subplot(1, 2, 1)\n",
    "df.groupby('beer_id')['beer_nbr_reviews_computed'].mean().hist(bins=100, log=True)\n",
    "plt.xlabel('Number of reviews per beer')\n",
    "plt.ylabel('Count')\n",
    "\n",
    "# group the reviews by user_id and show a histogram of the number of reviews computed\n",
    "plt.subplot(1, 2, 2)\n",
    "df.groupby('user_id')['user_nbr_reviews_computed'].mean().hist(bins=100, log=True)\n",
    "plt.xlabel('Number of reviews per user')\n",
    "plt.ylabel('Count')\n",
    "\n",
    "plt.tight_layout()\n",
    "plt.show()"
   ]
  },
  {
   "cell_type": "code",
   "execution_count": 40,
   "metadata": {},
   "outputs": [
    {
     "name": "stdout",
     "output_type": "stream",
     "text": [
      "We removed 255775 rows, leaving us with 73.69 %% of the original dataset\n",
      "We have 716358 valid reviews\n"
     ]
    },
    {
     "data": {
      "text/plain": [
       "bottle    489917\n",
       "can       140341\n",
       "draft      86100\n",
       "Name: serving_type, dtype: int64"
      ]
     },
     "execution_count": 40,
     "metadata": {},
     "output_type": "execute_result"
    }
   ],
   "source": [
    "#Filtering to remove users and beers with less reviews\n",
    "\n",
    "min_nbr_reviews_per_user = 0\n",
    "min_nbr_reviews_per_beer = 20\n",
    "\n",
    "len0 = df.shape[0]\n",
    "\n",
    "# remove every row where the number of reviews per user is less than min_nbr_reviews_per_user\n",
    "df_filter = df[df['user_nbr_reviews_computed'] >= min_nbr_reviews_per_user].copy(deep=True)\n",
    "\n",
    "# remove every row where the number of reviews per beer is less than min_nbr_reviews_per_beer\n",
    "df_filter_full = df_filter[df_filter['beer_nbr_reviews_computed'] >= min_nbr_reviews_per_beer].copy(deep=True)\n",
    "\n",
    "print('We removed {} rows, leaving us with {} %% of the original dataset'.format(len0 - df_filter_full.shape[0], round(df_filter_full.shape[0] / len0 * 100, 2)))\n",
    "print('We have {} valid reviews'.format(df_filter_full.shape[0]))\n",
    "\n",
    "# print the number of reviews for each serving type\n",
    "df_filter_full['serving_type'].value_counts(normalize=False)"
   ]
  },
  {
   "cell_type": "markdown",
   "metadata": {},
   "source": [
    "### Filter on readability score of the reviews 📝"
   ]
  },
  {
   "cell_type": "code",
   "execution_count": 41,
   "metadata": {},
   "outputs": [],
   "source": [
    "df_sample = df_filter_full.sample(n=1000, random_state=46)"
   ]
  },
  {
   "cell_type": "code",
   "execution_count": 42,
   "metadata": {},
   "outputs": [
    {
     "data": {
      "text/plain": [
       "<AxesSubplot:>"
      ]
     },
     "execution_count": 42,
     "metadata": {},
     "output_type": "execute_result"
    },
    {
     "data": {
      "image/png": "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\n",
      "text/plain": [
       "<Figure size 1080x360 with 1 Axes>"
      ]
     },
     "metadata": {
      "needs_background": "light"
     },
     "output_type": "display_data"
    }
   ],
   "source": [
    "df_sample['readability_score'] = df_sample['text'].apply(lambda x: flesch_reading_ease(x) if isinstance(x, str) else None)\n",
    "df_sample['readability_score'].hist(bins=100, figsize=(15, 5), log=True)"
   ]
  },
  {
   "cell_type": "code",
   "execution_count": 43,
   "metadata": {},
   "outputs": [
    {
     "data": {
      "text/plain": [
       "9"
      ]
     },
     "execution_count": 43,
     "metadata": {},
     "output_type": "execute_result"
    }
   ],
   "source": [
    "# printing some reviews based on readability score\n",
    "\n",
    "df_sample[df_sample['readability_score'] < 20]['text'].count()\n",
    "\n",
    "# for row in df_sample[df_sample['readability_score'] > 96]['text']:\n",
    "#     print(row)\n",
    "#     print('----------------------')"
   ]
  },
  {
   "cell_type": "code",
   "execution_count": 44,
   "metadata": {},
   "outputs": [],
   "source": [
    "# remove reviews with bad readability score\n",
    "\n"
   ]
  },
  {
   "cell_type": "markdown",
   "metadata": {},
   "source": [
    "### Extracting the serving mode with NLP"
   ]
  },
  {
   "cell_type": "code",
   "execution_count": 45,
   "metadata": {},
   "outputs": [],
   "source": [
    "import nltk\n",
    "import spacy"
   ]
  },
  {
   "cell_type": "code",
   "execution_count": 46,
   "metadata": {},
   "outputs": [],
   "source": [
    "df_test_nlp = df_sample.copy(deep=True)\n",
    "nlp = spacy.load(\"en_core_web_sm\")"
   ]
  },
  {
   "cell_type": "code",
   "execution_count": 47,
   "metadata": {},
   "outputs": [],
   "source": [
    "def extract_serving_style(text):\n",
    "    # Process the text using spaCy\n",
    "    doc = nlp(text)\n",
    "    \n",
    "    # Initialize the serving style variable\n",
    "    serving_style = None\n",
    "    \n",
    "    # Analyze the dependency tree and part-of-speech tags\n",
    "    # Find the serving styles\n",
    "    for token in doc:\n",
    "        if \"can\" == token.lemma and token.dep_ == \"nsubj\":\n",
    "            serving_style = \"can\"\n",
    "            break\n",
    "        elif \"bottle\" == token.lemma and token.dep_ == \"nsubj\" and \"VB\" in token.head.pos_:\n",
    "            serving_style = \"bottle\"\n",
    "            break\n",
    "        elif \"tap\" == token.lemma and token.dep_ == \"nsubj\" and \"VB\" in token.head.pos_:\n",
    "            serving_style = \"tap\"\n",
    "            break\n",
    "    \n",
    "    return serving_style"
   ]
  },
  {
   "cell_type": "code",
   "execution_count": 48,
   "metadata": {},
   "outputs": [],
   "source": [
    "ex_review = str(\"Can. I would love to try it on tap\")"
   ]
  },
  {
   "cell_type": "code",
   "execution_count": 49,
   "metadata": {},
   "outputs": [
    {
     "name": "stdout",
     "output_type": "stream",
     "text": [
      "Can can AUX ROOT\n",
      ". . PUNCT punct\n",
      "I I PRON nsubj\n",
      "would would AUX aux\n",
      "love love VERB ROOT\n",
      "to to PART aux\n",
      "try try VERB xcomp\n",
      "it it PRON dobj\n",
      "on on ADP prep\n",
      "tap tap NOUN pobj\n"
     ]
    }
   ],
   "source": [
    "doc = nlp(ex_review)\n",
    "for token in doc:\n",
    "    print(token.text, token.lemma_, token.pos_, token.dep_)"
   ]
  },
  {
   "cell_type": "code",
   "execution_count": 50,
   "metadata": {},
   "outputs": [
    {
     "name": "stdout",
     "output_type": "stream",
     "text": [
      "None\n"
     ]
    }
   ],
   "source": [
    "print(extract_serving_style(ex_review))"
   ]
  },
  {
   "cell_type": "code",
   "execution_count": 51,
   "metadata": {},
   "outputs": [
    {
     "data": {
      "text/plain": [
       "50798    Reviewed 6/21/2006 (16.9 oz bottle):Pours a bl...\n",
       "Name: text, dtype: object"
      ]
     },
     "execution_count": 51,
     "metadata": {},
     "output_type": "execute_result"
    }
   ],
   "source": [
    "df_test_nlp['text'].sample(1)"
   ]
  },
  {
   "cell_type": "code",
   "execution_count": 52,
   "metadata": {},
   "outputs": [
    {
     "name": "stdout",
     "output_type": "stream",
     "text": [
      "CPU times: user 25.7 s, sys: 2.23 s, total: 27.9 s\n",
      "Wall time: 32.5 s\n"
     ]
    }
   ],
   "source": [
    "%%time\n",
    "df_test_nlp['serving_style'] = df_test_nlp['text'].apply(extract_serving_style)"
   ]
  },
  {
   "cell_type": "code",
   "execution_count": 63,
   "metadata": {},
   "outputs": [
    {
     "data": {
      "text/plain": [
       "True"
      ]
     },
     "execution_count": 63,
     "metadata": {},
     "output_type": "execute_result"
    }
   ],
   "source": [
    "# Look if all serving_style values are still None (True or False)\n",
    "df_test_nlp['serving_style'].isna().all()"
   ]
  },
  {
   "cell_type": "code",
   "execution_count": null,
   "metadata": {},
   "outputs": [],
   "source": [
    "#General fonction that will say if the word \"can\" is a verb or a noun  \n",
    "import spacy\n",
    "nlp = spacy.load(\"en_core_web_sm\")\n",
    "\n",
    "def differentiate_can(sentence):\n",
    "    doc = nlp(sentence)\n",
    "    verbes_nom=[]\n",
    "    for token in doc:\n",
    "        if token.text.lower() == \"can\":\n",
    "            if any(t.dep_ == \"aux\" for t in token.head.children):\n",
    "                verbes_nom .append(\"verb\")\n",
    "            else:\n",
    "                verbes_nom .append(\"noun\") \n",
    "    \n",
    "    return verbes_nom\n",
    "\n",
    "ex_review = str(\"Can I go to the bathroom I had a beer in a can even if I would have prefered it served by draft because I can\")\n",
    "test = str(\"Plase can you stop eating from the can\")\n",
    "print(differentiate_can(ex_review))\n",
    "print(differentiate_can(test))"
   ]
  },
  {
   "cell_type": "markdown",
   "metadata": {},
   "source": [
    "### Countries grouping 🌍"
   ]
  },
  {
   "cell_type": "code",
   "execution_count": 54,
   "metadata": {},
   "outputs": [
    {
     "data": {
      "text/html": [
       "<div>\n",
       "<style scoped>\n",
       "    .dataframe tbody tr th:only-of-type {\n",
       "        vertical-align: middle;\n",
       "    }\n",
       "\n",
       "    .dataframe tbody tr th {\n",
       "        vertical-align: top;\n",
       "    }\n",
       "\n",
       "    .dataframe thead th {\n",
       "        text-align: right;\n",
       "    }\n",
       "</style>\n",
       "<table border=\"1\" class=\"dataframe\">\n",
       "  <thead>\n",
       "    <tr style=\"text-align: right;\">\n",
       "      <th></th>\n",
       "      <th>name</th>\n",
       "      <th>region</th>\n",
       "      <th>sub-region</th>\n",
       "    </tr>\n",
       "  </thead>\n",
       "  <tbody>\n",
       "    <tr>\n",
       "      <th>100</th>\n",
       "      <td>Hong Kong</td>\n",
       "      <td>Asia</td>\n",
       "      <td>Eastern Asia</td>\n",
       "    </tr>\n",
       "  </tbody>\n",
       "</table>\n",
       "</div>"
      ],
      "text/plain": [
       "          name region    sub-region\n",
       "100  Hong Kong   Asia  Eastern Asia"
      ]
     },
     "execution_count": 54,
     "metadata": {},
     "output_type": "execute_result"
    }
   ],
   "source": [
    "countries = pd.read_csv('data/countries.csv', usecols=['name', 'region', 'sub-region'])\n",
    "countries.sample(1)"
   ]
  },
  {
   "cell_type": "markdown",
   "metadata": {},
   "source": [
    "### Visualization 📊"
   ]
  },
  {
   "cell_type": "code",
   "execution_count": 55,
   "metadata": {},
   "outputs": [
    {
     "name": "stdout",
     "output_type": "stream",
     "text": [
      "Reviews with bottle:\n",
      "\n",
      "500ml bottle poured into a pint glass.A - Poured a deep gold with a slight haze. Minimal head but a lasting thin layer of bubbles. Minimal lacing.S - Various herbal notes with some grass &amp; flowers. Smells quite pleasing.T - Sweet at first followed by the bitterness with tobacco notes.M - Watery at first but goes down smooth. Also feels a bit sticky.D - It's pretty drinkable but nothing spectacular.\n",
      "----------------------\n",
      "Reviews with can:\n",
      "\n",
      "World Wide Stout is a pleasure to the senses. It pours like a coca-cola, dark, but not in the least bit transparent. The thin dark brown head rounds out an inviting appearance. The aroma is a bit more than I expected. Strong and sharp, its as if you held the roasted malts right up in your nose. Definitely a bit more aromatic than most stouts I have encountered. Strong on the palate, coffee notes abound, the slightly chalky feel compliments the overall smoothness of this brew. I can taste the fine roasted malts as I drink it, and the flavor hits every part of the palate. Truly a full bodied, exciting stout. Its 15%, so a few glasses would likely over do it. But I found a great solution is a single glass with a large egg and bacon breakfast to start a nice, long day off.\n",
      "----------------------\n",
      "Reviews with draft:\n",
      "\n",
      "This brew was served on tap at ButaPub in Rochester, New York.  It arrived in a Three Heads pint glass showing a deep and dirty soy sauce coloring.  It held a half finger tall head of chicory colored foam.  This retained decently well before dissipating into wet islands of lacing left clinging around our glass.  No haze or sediment was appreciated, and carbonation appeared to be moderate.  The aroma was dominated by wet roastiness of brown, caramel, and burnt black grain, subtle hints of synthetic coffee creamer, vinyl plastics, almond mild, toffee bread and brown sugar cloy, mild citric and piney hoppiness, faint buttery diacetyls, dried molasses, mineral water, and flakey chocolate cereal graininess.  The taste to follow was a bit more zippy, but not as hoppy as one would hope.  Notes here included syrupy dark cherry, Tootsie Roll sugariness, plastic phenols, roasted but watered caramel, coffee, black, and chocolate graininess, yeasty aluminum, vegetal cauliflower sugars, chocolate flavored whey protein powder, wet cardboard, bleachy wash, and distant hiccups of  floral, citric, and lightly piney hops.  The aftertaste showed a fullness and deeper bittering of grainy roast, along with allowing some hotter stings of clean alcohol to stark poking through.  The body was just about medium, and the carbonation was soft and modest.  Each sip gave decent slurp, smack, cream, froth, and pop.  A light sticky and saucy coating was left filmed across the mouth, interrupted by dashes of astringent dryness here and there.  The abv was appropriate and, for the most part, masked well.  Drinkability was fine, as you could easily put away more than one of these if you weren’t thinking about it.Overall, we’re glad we finally found time to try this guy.  It has been hard for us to get over to the Genesee Brew House itself lately, and we’ve been lazy and neglected to buy their new offerings (this beer included) once they started rolling some new labels off the bottling line.  While we’ve generally enjoyed the initial products coming out of the revamped Brew House, this one didn’t really live up to that expectation for us.  Admittedly we’ve become spoiled with the array and availability of some phenomenal black ales in the market right now, but if you’re going to call something an “IPA”, albeit a variant of an IPA, you’re priority has got to be making the hops shine.  That just isn’t the case here.  Honestly, this beer comes across much more like a blend between a brown ale and a bock, with high residual sweetness, cloy, and a reasonable amount of roasted graininess.  The hops most certainly get lost in all of this, making the beer seem all but incomplete and dull.  The final product would have been more agreeable to its description, and actually rather unique, if they could have found a way to marry these two components together.\n",
      "----------------------\n"
     ]
    }
   ],
   "source": [
    "# print some reviews for each serving type\n",
    "print('Reviews with bottle:\\n')\n",
    "for text in df[df['serving_type'] == 'bottle']['text'].sample(1):\n",
    "    print(text)\n",
    "    print('----------------------')\n",
    "print('Reviews with can:\\n')\n",
    "for text in df[df['serving_type'] == 'can']['text'].sample(1):\n",
    "    print(text)\n",
    "    print('----------------------')\n",
    "print('Reviews with draft:\\n')\n",
    "for text in df[df['serving_type'] == 'draft']['text'].sample(1):\n",
    "    print(text)\n",
    "    print('----------------------')"
   ]
  },
  {
   "cell_type": "code",
   "execution_count": 56,
   "metadata": {},
   "outputs": [
    {
     "name": "stdout",
     "output_type": "stream",
     "text": [
      "Average rating for bottle:  3.832\n",
      "Average rating for can:  3.816\n",
      "Average rating for draft:  3.865\n"
     ]
    }
   ],
   "source": [
    "# print the average value of the rating for each serving type\n",
    "comp_str = 'rating'\n",
    "print('Average ' + comp_str + ' for bottle: ', round(df[df['serving_type'] == 'bottle'][comp_str].mean(), 3))\n",
    "print('Average ' + comp_str + ' for can: ', round(df[df['serving_type'] == 'can'][comp_str].mean(), 3))\n",
    "print('Average ' + comp_str + ' for draft: ', round(df[df['serving_type'] == 'draft'][comp_str].mean(), 3))"
   ]
  },
  {
   "cell_type": "code",
   "execution_count": 57,
   "metadata": {},
   "outputs": [
    {
     "data": {
      "image/png": "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\n",
      "text/plain": [
       "<Figure size 720x432 with 2 Axes>"
      ]
     },
     "metadata": {
      "needs_background": "light"
     },
     "output_type": "display_data"
    }
   ],
   "source": [
    "# show boxplot and histograms of ratings for bottle, can and draft\n",
    "plt.figure(figsize=(10, 6))\n",
    "plt.subplot(121)\n",
    "sns.boxplot(data=df, hue='serving_type', y='rating')\n",
    "plt.subplot(122)\n",
    "sns.histplot(data=df, hue='serving_type', x='rating', kde=True, bins=20)\n",
    "plt.tight_layout()\n",
    "plt.show()"
   ]
  },
  {
   "cell_type": "markdown",
   "metadata": {},
   "source": [
    "# Statistical Analysis 📈"
   ]
  },
  {
   "cell_type": "markdown",
   "metadata": {},
   "source": [
    "### Measure the impact of each aspect on rating 📏"
   ]
  },
  {
   "cell_type": "code",
   "execution_count": 58,
   "metadata": {},
   "outputs": [
    {
     "data": {
      "image/png": "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\n",
      "text/plain": [
       "<Figure size 1440x360 with 5 Axes>"
      ]
     },
     "metadata": {
      "needs_background": "light"
     },
     "output_type": "display_data"
    }
   ],
   "source": [
    "# fit a linear regression line to the data for all 5 aspects\n",
    "reg1 = LinearRegression().fit(df[['appearance']], df['rating'])\n",
    "reg2 = LinearRegression().fit(df[['aroma']], df['rating'])\n",
    "reg3 = LinearRegression().fit(df[['palate']], df['rating'])\n",
    "reg4 = LinearRegression().fit(df[['taste']], df['rating'])\n",
    "reg5 = LinearRegression().fit(df[['overall']], df['rating'])\n",
    "\n",
    "# create subplots for all 5 aspects\n",
    "fig, axs = plt.subplots(1, 5, figsize=(20, 5))\n",
    "\n",
    "# plot the data and regression line for each aspect\n",
    "sns.scatterplot(data=df, x='appearance', y='rating', s=0.5, ax=axs[0])\n",
    "axs[0].plot(df[['appearance']], reg1.predict(df[['appearance']]), color='red')\n",
    "axs[0].set_title('Appearance\\nSlope = ' + str(round(reg1.coef_[0], 3)) + '\\nR2 = ' + str(round(reg1.score(df[['appearance']], df['rating']), 3)))\n",
    "\n",
    "sns.scatterplot(data=df, x='aroma', y='rating', s=0.5, ax=axs[1])\n",
    "axs[1].plot(df[['aroma']], reg2.predict(df[['aroma']]), color='red')\n",
    "axs[1].set_title('Aroma\\nSlope = ' + str(round(reg2.coef_[0], 3)) + '\\nR2 = ' + str(round(reg2.score(df[['aroma']], df['rating']), 3)))\n",
    "\n",
    "sns.scatterplot(data=df, x='palate', y='rating', s=0.5, ax=axs[2])\n",
    "axs[2].plot(df[['palate']], reg3.predict(df[['palate']]), color='red')\n",
    "axs[2].set_title('Palate\\nSlope = ' + str(round(reg3.coef_[0], 3)) + '\\nR2 = ' + str(round(reg3.score(df[['palate']], df['rating']), 3)))\n",
    "\n",
    "sns.scatterplot(data=df, x='taste', y='rating', s=0.5, ax=axs[3])\n",
    "axs[3].plot(df[['taste']], reg4.predict(df[['taste']]), color='red')\n",
    "axs[3].set_title('Taste\\nSlope = ' + str(round(reg4.coef_[0], 3)) + '\\nR2 = ' + str(round(reg4.score(df[['taste']], df['rating']), 3)))\n",
    "\n",
    "sns.scatterplot(data=df, x='overall', y='rating', s=0.5, ax=axs[4])\n",
    "axs[4].plot(df[['overall']], reg5.predict(df[['overall']]), color='red')\n",
    "axs[4].set_title('Overall\\nSlope = ' + str(round(reg5.coef_[0], 3)) + '\\nR2 = ' + str(round(reg5.score(df[['overall']], df['rating']), 3)))\n",
    "\n",
    "plt.tight_layout()\n",
    "plt.show()\n",
    "\n",
    "# should still add confidence intervals"
   ]
  },
  {
   "cell_type": "markdown",
   "metadata": {},
   "source": [
    "It seems like Taste as the biggest impact on the rating while appearance has the least impact."
   ]
  },
  {
   "cell_type": "markdown",
   "metadata": {},
   "source": [
    "### Hypothesis testing on the new labels"
   ]
  },
  {
   "cell_type": "code",
   "execution_count": 59,
   "metadata": {},
   "outputs": [],
   "source": [
    "def do_ttest(type1, type2, category):\n",
    "    ttest = ttest_ind(df[df['serving_type'] == type1][category],df[df['serving_type'] == type2][category])\n",
    "    if ttest[1] > 0.05:\n",
    "        print('The p-value is high (' + str(ttest[1]) + '), so we cannot reject the null hypothesis that the two samples have the same average')\n",
    "    else:\n",
    "        print('The p-value is very low (' + str(ttest[1]) + '), so we can reject the null hypothesis that the two samples have the same average')"
   ]
  },
  {
   "cell_type": "code",
   "execution_count": 60,
   "metadata": {},
   "outputs": [
    {
     "data": {
      "image/png": "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\n",
      "text/plain": [
       "<Figure size 720x432 with 1 Axes>"
      ]
     },
     "metadata": {
      "needs_background": "light"
     },
     "output_type": "display_data"
    }
   ],
   "source": [
    "# define the columns to compare\n",
    "columns = ['appearance', 'aroma', 'palate', 'taste', 'overall', 'rating']\n",
    "\n",
    "# create an empty matrix to store the p-values\n",
    "p_values = np.zeros((len(columns), 3))\n",
    "\n",
    "# perform the t-test and store the p-values in the matrix\n",
    "for i in range(len(columns)):\n",
    "    ttest1 = ttest_ind(df[df['serving_type'] == 'bottle'][columns[i]], df[df['serving_type'] == 'can'][columns[i]])\n",
    "    ttest2 = ttest_ind(df[df['serving_type'] == 'can'][columns[i]], df[df['serving_type'] == 'draft'][columns[i]])\n",
    "    ttest3 = ttest_ind(df[df['serving_type'] == 'draft'][columns[i]], df[df['serving_type'] == 'bottle'][columns[i]])\n",
    "    p_values[i][0] = ttest1[1]\n",
    "    p_values[i][1] = ttest2[1]\n",
    "    p_values[i][2] = ttest3[1]\n",
    "\n",
    "# create the grouped bar chart\n",
    "fig, ax = plt.subplots(figsize=(10, 6))\n",
    "x = np.arange(len(columns))\n",
    "width = 0.25\n",
    "rects1 = ax.bar(x - width, p_values[:,0], width, label='Bottle vs Can')\n",
    "rects2 = ax.bar(x, p_values[:,1], width, label='Can vs Draft')\n",
    "rects3 = ax.bar(x + width, p_values[:,2], width, label='Draft vs Bottle')\n",
    "ax.set_xticks(x)\n",
    "# ax.set_yscale('log')\n",
    "ax.set_xticklabels(columns)\n",
    "ax.set_ylabel('p-value')\n",
    "ax.set_title('Comparison of Aspects between Service Types')\n",
    "ax.legend()\n",
    "plt.show()"
   ]
  },
  {
   "cell_type": "markdown",
   "metadata": {},
   "source": [
    "All the p-values are below 0.05 (expect 1), so we can reject the null hypothesis and conclude that there is a significant difference between the groups."
   ]
  },
  {
   "cell_type": "code",
   "execution_count": 61,
   "metadata": {},
   "outputs": [
    {
     "name": "stdout",
     "output_type": "stream",
     "text": [
      "The p-value is high (0.9744195668254092), so we cannot reject the null hypothesis that the two samples have the same average\n"
     ]
    }
   ],
   "source": [
    "# t-test for aroma betwwen draft and bottle\n",
    "do_ttest('draft', 'bottle', 'aroma')"
   ]
  },
  {
   "cell_type": "code",
   "execution_count": 62,
   "metadata": {},
   "outputs": [
    {
     "data": {
      "image/png": "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\n",
      "text/plain": [
       "<Figure size 720x432 with 1 Axes>"
      ]
     },
     "metadata": {
      "needs_background": "light"
     },
     "output_type": "display_data"
    }
   ],
   "source": [
    "# show a boxplot of aroma for draft and bottle\n",
    "plt.figure(figsize=(10, 6))\n",
    "sns.boxplot(data=df[df['serving_type'].isin(['draft', 'bottle'])], x='serving_type', y='aroma')\n",
    "plt.show()"
   ]
  },
  {
   "cell_type": "markdown",
   "metadata": {},
   "source": []
  }
 ],
 "metadata": {
  "kernelspec": {
   "display_name": "Python 3",
   "language": "python",
   "name": "python3"
  },
  "language_info": {
   "codemirror_mode": {
    "name": "ipython",
    "version": 3
   },
   "file_extension": ".py",
   "mimetype": "text/x-python",
   "name": "python",
   "nbconvert_exporter": "python",
   "pygments_lexer": "ipython3",
   "version": "3.8.5"
  }
 },
 "nbformat": 4,
 "nbformat_minor": 4
}
