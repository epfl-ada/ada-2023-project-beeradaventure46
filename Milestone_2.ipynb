{
 "cells": [
  {
   "cell_type": "markdown",
   "metadata": {},
   "source": [
    "# Milestone 2 : Project proposal and initial analyses 🍻\n",
    "\n",
    "<hr style=\"clear:both\">\n",
    "This notebook was made for the ADA course at EPFL. \n",
    "\n",
    "Group : BeerADAventure46\n",
    "\n",
    "**Authors:** \\\n",
    "[Agatha Hunter](https://people.epfl.ch/agatha.hunter)\\\n",
    "[Anne-Valérie Preto](https://people.epfl.ch/anne-valerie.preto)\\\n",
    "[Tristan Carruzzo](https://people.epfl.ch/tristan.carruzzo)\\\n",
    "[Thamin Maurer](https://people.epfl.ch/thamin.maurer)\\\n",
    "[Victor Dubien](https://people.epfl.ch/victor.dubien)\n",
    "\n",
    "\n",
    "**Supervisor:**\\\n",
    "[Beatriz Borges](https://people.epfl.ch/beatriz.borges)\n",
    "<hr style=\"clear:both\">\n",
    "\n"
   ]
  },
  {
   "cell_type": "markdown",
   "metadata": {},
   "source": [
    "<blockquote>\n",
    "\n",
    "## Project proposal  📌\n",
    "\n",
    "**Influence of the serving style on the tasting profile**:\n",
    "\n",
    "Goal of the project: Use the textual reviews to find for each beer how it was served (either bottle, can or draft) and find how it influences the tasting profile.\n",
    "\n",
    "Different serving styles may be adopted in different regions or for different types of beer.  The influence of the serving style could influence not only the appearance, but also the aroma, the palate or the taste.\n",
    "</blockquote>"
   ]
  },
  {
   "cell_type": "markdown",
   "metadata": {},
   "source": [
    "### TODO LIST FOR THE GROUP:\n",
    "\n",
    "<input type=\"checkbox\" checked > New architecture of file\n",
    "\n",
    "<input type=\"checkbox\"> Create functions to import and convert initial files\n",
    "\n",
    "<input type=\"checkbox\"> More comments on the dataset -> distribution, viz\n",
    "\n",
    "<input type=\"checkbox\"> For any filtering: how, why ?\n",
    "\n",
    "<input type=\"checkbox\"> Choose a NLP method -> comment as much as possible, some trials \n",
    "\n",
    "<input type=\"checkbox\"> E-mail the proposition to Beatriz"
   ]
  },
  {
   "cell_type": "markdown",
   "metadata": {},
   "source": [
    "## Datasets 📂\n",
    "### Import dataset and libraries 📥"
   ]
  },
  {
   "cell_type": "code",
   "execution_count": 1,
   "metadata": {},
   "outputs": [],
   "source": [
    "import io\n",
    "import pandas as pd\n",
    "import numpy as np\n",
    "import seaborn as sns\n",
    "from tqdm import tqdm\n",
    "import matplotlib.pyplot as plt\n",
    "from langdetect import detect\n",
    "from scipy.stats import ttest_ind\n",
    "from sklearn.linear_model import LinearRegression\n",
    "\n",
    "from textstat import flesch_reading_ease, flesch_kincaid_grade, gunning_fog, smog_index, automated_readability_index, coleman_liau_index, linsear_write_formula, dale_chall_readability_score, text_standard\n",
    "from utils import *\n",
    "pd.set_option('display.max_columns', None)"
   ]
  },
  {
   "cell_type": "code",
   "execution_count": 2,
   "metadata": {},
   "outputs": [],
   "source": [
    "dataset_path = './data/BeerAdvocate/'"
   ]
  },
  {
   "cell_type": "code",
   "execution_count": 3,
   "metadata": {},
   "outputs": [],
   "source": [
    "#ratings_2 = convert_txt_to_csv(input_file='ratings.txt', export=True, file_name='trial_ratings')\n",
    "#can take a while to run"
   ]
  },
  {
   "cell_type": "code",
   "execution_count": 4,
   "metadata": {},
   "outputs": [],
   "source": [
    "# Firt time imports : \n",
    "# Convert txt to csv (function in the utils.py file)\n",
    "\n",
    "#ratings = convert_txt_to_csv(input_file='ratings.txt', export=True, file_name='ratings')\n",
    "#reviews = convert_txt_to_csv(input_file='reviews.txt', export=True, file_name='reviews')"
   ]
  },
  {
   "cell_type": "code",
   "execution_count": 5,
   "metadata": {},
   "outputs": [],
   "source": [
    "# Files already converted, so we can load them directly\n",
    "\n",
    "#ratings = pd.read_csv(dataset_path + 'ratings.csv')\n",
    "reviews = pd.read_csv(dataset_path + 'reviews.csv')\n",
    "beers = pd.read_csv(dataset_path + 'beers.csv')\n",
    "breweries = pd.read_csv(dataset_path + 'breweries.csv')\n",
    "users = pd.read_csv(dataset_path + 'users.csv')"
   ]
  },
  {
   "cell_type": "markdown",
   "metadata": {},
   "source": [
    "### Initial datasets analysis 🔎"
   ]
  },
  {
   "cell_type": "markdown",
   "metadata": {},
   "source": [
    "#### Beers dataset 🍺"
   ]
  },
  {
   "cell_type": "code",
   "execution_count": 6,
   "metadata": {},
   "outputs": [
    {
     "data": {
      "text/html": [
       "<div>\n",
       "<style scoped>\n",
       "    .dataframe tbody tr th:only-of-type {\n",
       "        vertical-align: middle;\n",
       "    }\n",
       "\n",
       "    .dataframe tbody tr th {\n",
       "        vertical-align: top;\n",
       "    }\n",
       "\n",
       "    .dataframe thead th {\n",
       "        text-align: right;\n",
       "    }\n",
       "</style>\n",
       "<table border=\"1\" class=\"dataframe\">\n",
       "  <thead>\n",
       "    <tr style=\"text-align: right;\">\n",
       "      <th></th>\n",
       "      <th>beer_id</th>\n",
       "      <th>beer_name</th>\n",
       "      <th>brewery_id</th>\n",
       "      <th>brewery_name</th>\n",
       "      <th>style</th>\n",
       "      <th>nbr_ratings</th>\n",
       "      <th>nbr_reviews</th>\n",
       "      <th>avg</th>\n",
       "      <th>ba_score</th>\n",
       "      <th>bros_score</th>\n",
       "      <th>abv</th>\n",
       "      <th>avg_computed</th>\n",
       "      <th>zscore</th>\n",
       "      <th>nbr_matched_valid_ratings</th>\n",
       "      <th>avg_matched_valid_ratings</th>\n",
       "    </tr>\n",
       "  </thead>\n",
       "  <tbody>\n",
       "    <tr>\n",
       "      <th>117147</th>\n",
       "      <td>143231</td>\n",
       "      <td>Hop Lab - Amarillo Hops</td>\n",
       "      <td>26676</td>\n",
       "      <td>Kane Brewing Company</td>\n",
       "      <td>American Pale Ale (APA)</td>\n",
       "      <td>6</td>\n",
       "      <td>0</td>\n",
       "      <td>3.83</td>\n",
       "      <td>NaN</td>\n",
       "      <td>NaN</td>\n",
       "      <td>5.40</td>\n",
       "      <td>3.835000</td>\n",
       "      <td>NaN</td>\n",
       "      <td>0</td>\n",
       "      <td>NaN</td>\n",
       "    </tr>\n",
       "    <tr>\n",
       "      <th>246152</th>\n",
       "      <td>167066</td>\n",
       "      <td>Cat Fight IPA</td>\n",
       "      <td>40007</td>\n",
       "      <td>Bitter Sisters Brewing Company</td>\n",
       "      <td>American IPA</td>\n",
       "      <td>23</td>\n",
       "      <td>3</td>\n",
       "      <td>3.66</td>\n",
       "      <td>83.0</td>\n",
       "      <td>NaN</td>\n",
       "      <td>6.66</td>\n",
       "      <td>3.695217</td>\n",
       "      <td>-0.557574</td>\n",
       "      <td>4</td>\n",
       "      <td>3.9475</td>\n",
       "    </tr>\n",
       "    <tr>\n",
       "      <th>171737</th>\n",
       "      <td>287867</td>\n",
       "      <td>Cameron's British Pub Ale</td>\n",
       "      <td>37452</td>\n",
       "      <td>Pleasure House Brewing</td>\n",
       "      <td>Extra Special / Strong Bitter (ESB)</td>\n",
       "      <td>2</td>\n",
       "      <td>1</td>\n",
       "      <td>3.92</td>\n",
       "      <td>NaN</td>\n",
       "      <td>NaN</td>\n",
       "      <td>6.20</td>\n",
       "      <td>4.045000</td>\n",
       "      <td>NaN</td>\n",
       "      <td>0</td>\n",
       "      <td>NaN</td>\n",
       "    </tr>\n",
       "  </tbody>\n",
       "</table>\n",
       "</div>"
      ],
      "text/plain": [
       "        beer_id                  beer_name  brewery_id  \\\n",
       "117147   143231    Hop Lab - Amarillo Hops       26676   \n",
       "246152   167066              Cat Fight IPA       40007   \n",
       "171737   287867  Cameron's British Pub Ale       37452   \n",
       "\n",
       "                          brewery_name                                style  \\\n",
       "117147            Kane Brewing Company              American Pale Ale (APA)   \n",
       "246152  Bitter Sisters Brewing Company                         American IPA   \n",
       "171737          Pleasure House Brewing  Extra Special / Strong Bitter (ESB)   \n",
       "\n",
       "        nbr_ratings  nbr_reviews   avg  ba_score  bros_score   abv  \\\n",
       "117147            6            0  3.83       NaN         NaN  5.40   \n",
       "246152           23            3  3.66      83.0         NaN  6.66   \n",
       "171737            2            1  3.92       NaN         NaN  6.20   \n",
       "\n",
       "        avg_computed    zscore  nbr_matched_valid_ratings  \\\n",
       "117147      3.835000       NaN                          0   \n",
       "246152      3.695217 -0.557574                          4   \n",
       "171737      4.045000       NaN                          0   \n",
       "\n",
       "        avg_matched_valid_ratings  \n",
       "117147                        NaN  \n",
       "246152                     3.9475  \n",
       "171737                        NaN  "
      ]
     },
     "metadata": {},
     "output_type": "display_data"
    },
    {
     "name": "stdout",
     "output_type": "stream",
     "text": [
      "Shape of beers :  (280823, 15)\n"
     ]
    }
   ],
   "source": [
    "display(beers.sample(3))\n",
    "print('Shape of beers : ', beers.shape)"
   ]
  },
  {
   "cell_type": "code",
   "execution_count": 7,
   "metadata": {},
   "outputs": [
    {
     "name": "stdout",
     "output_type": "stream",
     "text": [
      "Number of different beers id: 280823\n",
      "Number of different beers name: 236209\n"
     ]
    }
   ],
   "source": [
    "# print the number of beers id and beer name\n",
    "print('Number of different beers id:', len(beers.beer_id.unique()))\n",
    "print('Number of different beers name:', len(beers.beer_name.unique()))"
   ]
  },
  {
   "cell_type": "markdown",
   "metadata": {},
   "source": [
    "<blockquote>\n",
    "\n",
    "**Initial comments about the dataset**\n",
    "\n",
    "-Some beers have the same name! In order to avoid confusion, we will drop the column beer_name (and brewery_name) from the dataset.\n",
    "\n",
    "-As we will not use the RateBeer dataset, we can also drop the column nbr_matched_valid_ratings and avg_matched_valid_ratings.  \n",
    "\n",
    "-The column bros_score only reflect the ratings from the two creators of the website, so we can also drop it.  \n",
    "\n",
    "-ba_score reprensents the percentage (rounded to the tenth for depth) of raters who gave the beer a 3.75 or higher as long as the beers as at least 10 ratings.\n",
    "\n",
    "</blockquote>"
   ]
  },
  {
   "cell_type": "code",
   "execution_count": 8,
   "metadata": {},
   "outputs": [
    {
     "data": {
      "image/png": "[encoded data removed]",
      "text/plain": [
       "<Figure size 432x288 with 1 Axes>"
      ]
     },
     "metadata": {
      "needs_background": "light"
     },
     "output_type": "display_data"
    }
   ],
   "source": [
    "# show the percentage of missing values per columm\n",
    "plt.figure()\n",
    "(beers.isna().sum() / len(beers) * 100).plot(kind='barh', title='Percentage of missing values per column')\n",
    "plt.xlabel('Percentage of missing values')\n",
    "plt.show()"
   ]
  },
  {
   "cell_type": "markdown",
   "metadata": {},
   "source": [
    "<blockquote>\n",
    "\n",
    "**More comments about the dataset**\n",
    "\n",
    "We see that more than 80% of the beers do not have a z-score value. We can drop this column alongside avg_computed and compute them manually later if needed.\n",
    "\n",
    "80% of the beers have no ba_score value, so we can also drop it and compute it later if needed.\n",
    "\n",
    "</blockquote>"
   ]
  },
  {
   "cell_type": "code",
   "execution_count": 9,
   "metadata": {},
   "outputs": [],
   "source": [
    "beers_filtered = beers.drop(columns=['beer_name', \n",
    "                            'brewery_name',\n",
    "                            'bros_score',\n",
    "                            'ba_score',\n",
    "                            'nbr_matched_valid_ratings',\n",
    "                            'avg_matched_valid_ratings',\n",
    "                            'zscore',\n",
    "                            'avg_computed']).copy(deep=True)\n",
    "\n",
    "beers_filtered.rename(columns={'nbr_ratings': 'beer_nbr_ratings',\n",
    "                               'nbr_reviews': 'beer_nbr_reviews'}, inplace=True)"
   ]
  },
  {
   "cell_type": "code",
   "execution_count": 10,
   "metadata": {},
   "outputs": [
    {
     "data": {
      "text/html": [
       "<div>\n",
       "<style scoped>\n",
       "    .dataframe tbody tr th:only-of-type {\n",
       "        vertical-align: middle;\n",
       "    }\n",
       "\n",
       "    .dataframe tbody tr th {\n",
       "        vertical-align: top;\n",
       "    }\n",
       "\n",
       "    .dataframe thead th {\n",
       "        text-align: right;\n",
       "    }\n",
       "</style>\n",
       "<table border=\"1\" class=\"dataframe\">\n",
       "  <thead>\n",
       "    <tr style=\"text-align: right;\">\n",
       "      <th></th>\n",
       "      <th>beer_id</th>\n",
       "      <th>brewery_id</th>\n",
       "      <th>style</th>\n",
       "      <th>beer_nbr_ratings</th>\n",
       "      <th>beer_nbr_reviews</th>\n",
       "      <th>avg</th>\n",
       "      <th>abv</th>\n",
       "    </tr>\n",
       "  </thead>\n",
       "  <tbody>\n",
       "    <tr>\n",
       "      <th>252666</th>\n",
       "      <td>88990</td>\n",
       "      <td>24445</td>\n",
       "      <td>Saison / Farmhouse Ale</td>\n",
       "      <td>10</td>\n",
       "      <td>3</td>\n",
       "      <td>3.97</td>\n",
       "      <td>6.0</td>\n",
       "    </tr>\n",
       "    <tr>\n",
       "      <th>166941</th>\n",
       "      <td>267904</td>\n",
       "      <td>43575</td>\n",
       "      <td>American Malt Liquor</td>\n",
       "      <td>0</td>\n",
       "      <td>0</td>\n",
       "      <td>NaN</td>\n",
       "      <td>4.5</td>\n",
       "    </tr>\n",
       "    <tr>\n",
       "      <th>190230</th>\n",
       "      <td>164332</td>\n",
       "      <td>11599</td>\n",
       "      <td>Berliner Weissbier</td>\n",
       "      <td>14</td>\n",
       "      <td>1</td>\n",
       "      <td>4.07</td>\n",
       "      <td>4.3</td>\n",
       "    </tr>\n",
       "  </tbody>\n",
       "</table>\n",
       "</div>"
      ],
      "text/plain": [
       "        beer_id  brewery_id                   style  beer_nbr_ratings  \\\n",
       "252666    88990       24445  Saison / Farmhouse Ale                10   \n",
       "166941   267904       43575    American Malt Liquor                 0   \n",
       "190230   164332       11599      Berliner Weissbier                14   \n",
       "\n",
       "        beer_nbr_reviews   avg  abv  \n",
       "252666                 3  3.97  6.0  \n",
       "166941                 0   NaN  4.5  \n",
       "190230                 1  4.07  4.3  "
      ]
     },
     "execution_count": 10,
     "metadata": {},
     "output_type": "execute_result"
    }
   ],
   "source": [
    "beers_filtered.sample(3)"
   ]
  },
  {
   "cell_type": "code",
   "execution_count": 11,
   "metadata": {},
   "outputs": [
    {
     "data": {
      "image/png": "[encoded data removed]",
      "text/plain": [
       "<Figure size 1080x360 with 2 Axes>"
      ]
     },
     "metadata": {
      "needs_background": "light"
     },
     "output_type": "display_data"
    }
   ],
   "source": [
    "plt.figure(figsize=(15, 5))\n",
    "plt.subplot(1, 2, 1)\n",
    "beers_filtered['style'].value_counts(normalize=False).head(10).plot(kind='barh', title='10 most common beer styles')\n",
    "plt.xlabel('Number of beers')\n",
    "plt.subplot(1, 2, 2)\n",
    "beers_filtered['beer_nbr_reviews'].hist(bins=50,log=True)\n",
    "plt.title('Number of reviews per beer')\n",
    "plt.ylabel('Count')\n",
    "plt.xlabel('Number of reviews')\n",
    "plt.tight_layout()\n",
    "plt.show()"
   ]
  },
  {
   "cell_type": "code",
   "execution_count": 12,
   "metadata": {},
   "outputs": [],
   "source": [
    "# Some beers have no reviews and no ratings, resulting in NaN avg value, we remove them\n",
    "beers_filtered = beers_filtered[beers_filtered['avg'].notna()].copy(deep=True)\n",
    "\n",
    "# We also remove the few beers that have 0 reviews and 0 ratings but a non NaN avg value (not sure why there are such beers)\n",
    "beers_filtered = beers_filtered[(beers_filtered['beer_nbr_reviews'] != 0) & (beers_filtered['beer_nbr_ratings'] != 0)].copy(deep=True)"
   ]
  },
  {
   "cell_type": "code",
   "execution_count": 13,
   "metadata": {},
   "outputs": [
    {
     "data": {
      "text/html": [
       "<div>\n",
       "<style scoped>\n",
       "    .dataframe tbody tr th:only-of-type {\n",
       "        vertical-align: middle;\n",
       "    }\n",
       "\n",
       "    .dataframe tbody tr th {\n",
       "        vertical-align: top;\n",
       "    }\n",
       "\n",
       "    .dataframe thead th {\n",
       "        text-align: right;\n",
       "    }\n",
       "</style>\n",
       "<table border=\"1\" class=\"dataframe\">\n",
       "  <thead>\n",
       "    <tr style=\"text-align: right;\">\n",
       "      <th></th>\n",
       "      <th>beer_id</th>\n",
       "      <th>brewery_id</th>\n",
       "      <th>beer_nbr_ratings</th>\n",
       "      <th>beer_nbr_reviews</th>\n",
       "      <th>avg</th>\n",
       "      <th>abv</th>\n",
       "    </tr>\n",
       "  </thead>\n",
       "  <tbody>\n",
       "    <tr>\n",
       "      <th>count</th>\n",
       "      <td>166649.000000</td>\n",
       "      <td>166649.000000</td>\n",
       "      <td>166649.000000</td>\n",
       "      <td>166649.000000</td>\n",
       "      <td>166649.000000</td>\n",
       "      <td>144879.000000</td>\n",
       "    </tr>\n",
       "    <tr>\n",
       "      <th>mean</th>\n",
       "      <td>118304.063271</td>\n",
       "      <td>17174.929871</td>\n",
       "      <td>49.216653</td>\n",
       "      <td>15.539163</td>\n",
       "      <td>3.709953</td>\n",
       "      <td>6.566462</td>\n",
       "    </tr>\n",
       "    <tr>\n",
       "      <th>std</th>\n",
       "      <td>82294.748008</td>\n",
       "      <td>14573.636775</td>\n",
       "      <td>298.336124</td>\n",
       "      <td>88.846266</td>\n",
       "      <td>0.489242</td>\n",
       "      <td>2.138165</td>\n",
       "    </tr>\n",
       "    <tr>\n",
       "      <th>min</th>\n",
       "      <td>3.000000</td>\n",
       "      <td>1.000000</td>\n",
       "      <td>1.000000</td>\n",
       "      <td>1.000000</td>\n",
       "      <td>1.000000</td>\n",
       "      <td>0.010000</td>\n",
       "    </tr>\n",
       "    <tr>\n",
       "      <th>25%</th>\n",
       "      <td>50831.000000</td>\n",
       "      <td>1853.000000</td>\n",
       "      <td>2.000000</td>\n",
       "      <td>1.000000</td>\n",
       "      <td>3.500000</td>\n",
       "      <td>5.000000</td>\n",
       "    </tr>\n",
       "    <tr>\n",
       "      <th>50%</th>\n",
       "      <td>95991.000000</td>\n",
       "      <td>16111.000000</td>\n",
       "      <td>5.000000</td>\n",
       "      <td>2.000000</td>\n",
       "      <td>3.780000</td>\n",
       "      <td>6.000000</td>\n",
       "    </tr>\n",
       "    <tr>\n",
       "      <th>75%</th>\n",
       "      <td>184603.000000</td>\n",
       "      <td>30176.000000</td>\n",
       "      <td>17.000000</td>\n",
       "      <td>5.000000</td>\n",
       "      <td>4.020000</td>\n",
       "      <td>7.600000</td>\n",
       "    </tr>\n",
       "    <tr>\n",
       "      <th>max</th>\n",
       "      <td>293285.000000</td>\n",
       "      <td>49815.000000</td>\n",
       "      <td>16509.000000</td>\n",
       "      <td>3899.000000</td>\n",
       "      <td>5.000000</td>\n",
       "      <td>67.500000</td>\n",
       "    </tr>\n",
       "  </tbody>\n",
       "</table>\n",
       "</div>"
      ],
      "text/plain": [
       "             beer_id     brewery_id  beer_nbr_ratings  beer_nbr_reviews  \\\n",
       "count  166649.000000  166649.000000     166649.000000     166649.000000   \n",
       "mean   118304.063271   17174.929871         49.216653         15.539163   \n",
       "std     82294.748008   14573.636775        298.336124         88.846266   \n",
       "min         3.000000       1.000000          1.000000          1.000000   \n",
       "25%     50831.000000    1853.000000          2.000000          1.000000   \n",
       "50%     95991.000000   16111.000000          5.000000          2.000000   \n",
       "75%    184603.000000   30176.000000         17.000000          5.000000   \n",
       "max    293285.000000   49815.000000      16509.000000       3899.000000   \n",
       "\n",
       "                 avg            abv  \n",
       "count  166649.000000  144879.000000  \n",
       "mean        3.709953       6.566462  \n",
       "std         0.489242       2.138165  \n",
       "min         1.000000       0.010000  \n",
       "25%         3.500000       5.000000  \n",
       "50%         3.780000       6.000000  \n",
       "75%         4.020000       7.600000  \n",
       "max         5.000000      67.500000  "
      ]
     },
     "execution_count": 13,
     "metadata": {},
     "output_type": "execute_result"
    }
   ],
   "source": [
    "beers_filtered.describe()"
   ]
  },
  {
   "cell_type": "markdown",
   "metadata": {},
   "source": [
    "<blockquote>\n",
    "\n",
    "We are left with a clean dataset containing 166'649 beers. Some beers do not have a alcohol percentage value.\n",
    "\n",
    "</blockquote>"
   ]
  },
  {
   "cell_type": "markdown",
   "metadata": {},
   "source": [
    "#### Breweries dataset 🏭"
   ]
  },
  {
   "cell_type": "code",
   "execution_count": 14,
   "metadata": {},
   "outputs": [
    {
     "data": {
      "text/html": [
       "<div>\n",
       "<style scoped>\n",
       "    .dataframe tbody tr th:only-of-type {\n",
       "        vertical-align: middle;\n",
       "    }\n",
       "\n",
       "    .dataframe tbody tr th {\n",
       "        vertical-align: top;\n",
       "    }\n",
       "\n",
       "    .dataframe thead th {\n",
       "        text-align: right;\n",
       "    }\n",
       "</style>\n",
       "<table border=\"1\" class=\"dataframe\">\n",
       "  <thead>\n",
       "    <tr style=\"text-align: right;\">\n",
       "      <th></th>\n",
       "      <th>id</th>\n",
       "      <th>location</th>\n",
       "      <th>name</th>\n",
       "      <th>nbr_beers</th>\n",
       "    </tr>\n",
       "  </thead>\n",
       "  <tbody>\n",
       "    <tr>\n",
       "      <th>7830</th>\n",
       "      <td>35495</td>\n",
       "      <td>Ireland</td>\n",
       "      <td>Four Provinces Brewing Company</td>\n",
       "      <td>2</td>\n",
       "    </tr>\n",
       "    <tr>\n",
       "      <th>11734</th>\n",
       "      <td>27942</td>\n",
       "      <td>United States, Minnesota</td>\n",
       "      <td>Boom Island Brewing Company</td>\n",
       "      <td>31</td>\n",
       "    </tr>\n",
       "    <tr>\n",
       "      <th>8512</th>\n",
       "      <td>140</td>\n",
       "      <td>United States, California</td>\n",
       "      <td>Sierra Nevada Brewing Co.</td>\n",
       "      <td>574</td>\n",
       "    </tr>\n",
       "  </tbody>\n",
       "</table>\n",
       "</div>"
      ],
      "text/plain": [
       "          id                   location                            name  \\\n",
       "7830   35495                    Ireland  Four Provinces Brewing Company   \n",
       "11734  27942   United States, Minnesota     Boom Island Brewing Company   \n",
       "8512     140  United States, California       Sierra Nevada Brewing Co.   \n",
       "\n",
       "       nbr_beers  \n",
       "7830           2  \n",
       "11734         31  \n",
       "8512         574  "
      ]
     },
     "metadata": {},
     "output_type": "display_data"
    },
    {
     "name": "stdout",
     "output_type": "stream",
     "text": [
      "Shape of breweries :  (16758, 4)\n"
     ]
    }
   ],
   "source": [
    "display(breweries.sample(3))\n",
    "print('Shape of breweries : ', breweries.shape)"
   ]
  },
  {
   "cell_type": "code",
   "execution_count": 15,
   "metadata": {},
   "outputs": [
    {
     "data": {
      "image/png": "[encoded data removed]",
      "text/plain": [
       "<Figure size 432x288 with 1 Axes>"
      ]
     },
     "metadata": {
      "needs_background": "light"
     },
     "output_type": "display_data"
    }
   ],
   "source": [
    "# show the percentage of missing values per columm\n",
    "plt.figure()\n",
    "(breweries.isna().sum() / len(breweries) * 100).plot(kind='barh', title='Percentage of missing values per column')\n",
    "plt.xlabel('Percentage of missing values')\n",
    "plt.show()"
   ]
  },
  {
   "cell_type": "markdown",
   "metadata": {},
   "source": [
    "<blockquote>\n",
    "\n",
    "This dataset has no missing values, we will simply rename the columns and drop the brewery name.\n",
    "\n",
    "</blockquote>"
   ]
  },
  {
   "cell_type": "code",
   "execution_count": 16,
   "metadata": {},
   "outputs": [],
   "source": [
    "breweries_filtered = breweries.drop(columns=['name']).copy(deep=True)\n",
    "breweries_filtered.rename(columns={'id':'brewery_id',\n",
    "                                   'location':'brewery_location',\n",
    "                                   'nbr_beers':'brewery_nbr_beers'}, inplace=True)"
   ]
  },
  {
   "cell_type": "code",
   "execution_count": 17,
   "metadata": {},
   "outputs": [
    {
     "data": {
      "text/html": [
       "<div>\n",
       "<style scoped>\n",
       "    .dataframe tbody tr th:only-of-type {\n",
       "        vertical-align: middle;\n",
       "    }\n",
       "\n",
       "    .dataframe tbody tr th {\n",
       "        vertical-align: top;\n",
       "    }\n",
       "\n",
       "    .dataframe thead th {\n",
       "        text-align: right;\n",
       "    }\n",
       "</style>\n",
       "<table border=\"1\" class=\"dataframe\">\n",
       "  <thead>\n",
       "    <tr style=\"text-align: right;\">\n",
       "      <th></th>\n",
       "      <th>brewery_id</th>\n",
       "      <th>brewery_location</th>\n",
       "      <th>brewery_nbr_beers</th>\n",
       "    </tr>\n",
       "  </thead>\n",
       "  <tbody>\n",
       "    <tr>\n",
       "      <th>12589</th>\n",
       "      <td>4552</td>\n",
       "      <td>United States, Florida</td>\n",
       "      <td>17</td>\n",
       "    </tr>\n",
       "    <tr>\n",
       "      <th>10492</th>\n",
       "      <td>33770</td>\n",
       "      <td>United States, Arizona</td>\n",
       "      <td>15</td>\n",
       "    </tr>\n",
       "    <tr>\n",
       "      <th>14314</th>\n",
       "      <td>39945</td>\n",
       "      <td>North Korea</td>\n",
       "      <td>1</td>\n",
       "    </tr>\n",
       "  </tbody>\n",
       "</table>\n",
       "</div>"
      ],
      "text/plain": [
       "       brewery_id        brewery_location  brewery_nbr_beers\n",
       "12589        4552  United States, Florida                 17\n",
       "10492       33770  United States, Arizona                 15\n",
       "14314       39945             North Korea                  1"
      ]
     },
     "execution_count": 17,
     "metadata": {},
     "output_type": "execute_result"
    }
   ],
   "source": [
    "breweries_filtered.sample(3)"
   ]
  },
  {
   "cell_type": "code",
   "execution_count": 18,
   "metadata": {},
   "outputs": [
    {
     "name": "stdout",
     "output_type": "stream",
     "text": [
      "Number of breweries with a weird location value: 35\n"
     ]
    }
   ],
   "source": [
    "# Some breweries have weird location values, should find a way to clean them or simply remove them\n",
    "\n",
    "print('Number of breweries with a weird location value:', len(breweries_filtered[breweries_filtered['brewery_location'].str.contains('<', na=False)]))\n",
    "\n",
    "# remove the breweries with a weird location value\n",
    "breweries_filtered = breweries_filtered[~breweries_filtered['brewery_location'].str.contains('<', na=False)].copy(deep=True)\n",
    "\n",
    "# for loc in breweries_filtered[breweries_filtered['brewery_location'].str.contains('<', na=False)]['brewery_location'].unique()[0:5]:\n",
    "#     print(loc) # print the first 5 strange values"
   ]
  },
  {
   "cell_type": "code",
   "execution_count": 19,
   "metadata": {},
   "outputs": [
    {
     "data": {
      "image/png": "[encoded data removed]",
      "text/plain": [
       "<Figure size 1080x360 with 2 Axes>"
      ]
     },
     "metadata": {
      "needs_background": "light"
     },
     "output_type": "display_data"
    }
   ],
   "source": [
    "plt.figure(figsize=(15, 5))\n",
    "plt.subplot(1, 2, 1)\n",
    "breweries_filtered['brewery_nbr_beers'].hist(bins=50, log=True)\n",
    "plt.title('Number of beers per brewery')\n",
    "plt.ylabel('Count')\n",
    "plt.xlabel('Number of beers')\n",
    "plt.subplot(1, 2, 2)\n",
    "breweries_filtered['brewery_location'].value_counts(normalize=False).head(10).plot(kind='barh', title='10 most common brewery locations')\n",
    "plt.xlabel('Number of breweries')\n",
    "plt.tight_layout()\n",
    "plt.show()"
   ]
  },
  {
   "cell_type": "markdown",
   "metadata": {},
   "source": [
    "#### Users dataset 👤"
   ]
  },
  {
   "cell_type": "code",
   "execution_count": 20,
   "metadata": {},
   "outputs": [
    {
     "data": {
      "text/html": [
       "<div>\n",
       "<style scoped>\n",
       "    .dataframe tbody tr th:only-of-type {\n",
       "        vertical-align: middle;\n",
       "    }\n",
       "\n",
       "    .dataframe tbody tr th {\n",
       "        vertical-align: top;\n",
       "    }\n",
       "\n",
       "    .dataframe thead th {\n",
       "        text-align: right;\n",
       "    }\n",
       "</style>\n",
       "<table border=\"1\" class=\"dataframe\">\n",
       "  <thead>\n",
       "    <tr style=\"text-align: right;\">\n",
       "      <th></th>\n",
       "      <th>nbr_ratings</th>\n",
       "      <th>nbr_reviews</th>\n",
       "      <th>user_id</th>\n",
       "      <th>user_name</th>\n",
       "      <th>joined</th>\n",
       "      <th>location</th>\n",
       "    </tr>\n",
       "  </thead>\n",
       "  <tbody>\n",
       "    <tr>\n",
       "      <th>142453</th>\n",
       "      <td>1</td>\n",
       "      <td>0</td>\n",
       "      <td>stestand84.1011187</td>\n",
       "      <td>Stestand84</td>\n",
       "      <td>1.436350e+09</td>\n",
       "      <td>United States, Michigan</td>\n",
       "    </tr>\n",
       "    <tr>\n",
       "      <th>132444</th>\n",
       "      <td>1</td>\n",
       "      <td>0</td>\n",
       "      <td>jaimenk4.862038</td>\n",
       "      <td>Jaimenk4</td>\n",
       "      <td>1.410516e+09</td>\n",
       "      <td>NaN</td>\n",
       "    </tr>\n",
       "    <tr>\n",
       "      <th>2863</th>\n",
       "      <td>474</td>\n",
       "      <td>468</td>\n",
       "      <td>seand.289492</td>\n",
       "      <td>seand</td>\n",
       "      <td>1.232363e+09</td>\n",
       "      <td>United States, California</td>\n",
       "    </tr>\n",
       "  </tbody>\n",
       "</table>\n",
       "</div>"
      ],
      "text/plain": [
       "        nbr_ratings  nbr_reviews             user_id   user_name  \\\n",
       "142453            1            0  stestand84.1011187  Stestand84   \n",
       "132444            1            0     jaimenk4.862038    Jaimenk4   \n",
       "2863            474          468        seand.289492       seand   \n",
       "\n",
       "              joined                   location  \n",
       "142453  1.436350e+09    United States, Michigan  \n",
       "132444  1.410516e+09                        NaN  \n",
       "2863    1.232363e+09  United States, California  "
      ]
     },
     "metadata": {},
     "output_type": "display_data"
    },
    {
     "name": "stdout",
     "output_type": "stream",
     "text": [
      "Shape of users :  (153704, 6)\n"
     ]
    }
   ],
   "source": [
    "display(users.sample(3))\n",
    "print('Shape of users : ', users.shape)"
   ]
  },
  {
   "cell_type": "code",
   "execution_count": 21,
   "metadata": {},
   "outputs": [
    {
     "data": {
      "image/png": "[encoded data removed]",
      "text/plain": [
       "<Figure size 432x288 with 1 Axes>"
      ]
     },
     "metadata": {
      "needs_background": "light"
     },
     "output_type": "display_data"
    }
   ],
   "source": [
    "plt.figure()\n",
    "(users.isna().sum() / len(users) * 100).plot(kind='barh', title='Percentage of missing values per column')\n",
    "plt.xlabel('Percentage of missing values')\n",
    "plt.show()"
   ]
  },
  {
   "cell_type": "markdown",
   "metadata": {},
   "source": [
    "<blockquote>\n",
    "\n",
    "We are only missing information about when the user joined the website and locations. (and 1 username, which we drop anyway)\n",
    "\n",
    "</blockquote>"
   ]
  },
  {
   "cell_type": "code",
   "execution_count": 22,
   "metadata": {},
   "outputs": [
    {
     "data": {
      "text/html": [
       "<div>\n",
       "<style scoped>\n",
       "    .dataframe tbody tr th:only-of-type {\n",
       "        vertical-align: middle;\n",
       "    }\n",
       "\n",
       "    .dataframe tbody tr th {\n",
       "        vertical-align: top;\n",
       "    }\n",
       "\n",
       "    .dataframe thead th {\n",
       "        text-align: right;\n",
       "    }\n",
       "</style>\n",
       "<table border=\"1\" class=\"dataframe\">\n",
       "  <thead>\n",
       "    <tr style=\"text-align: right;\">\n",
       "      <th></th>\n",
       "      <th>user_nbr_ratings</th>\n",
       "      <th>user_nbr_reviews</th>\n",
       "      <th>user_id</th>\n",
       "      <th>user_joined</th>\n",
       "      <th>user_location</th>\n",
       "    </tr>\n",
       "  </thead>\n",
       "  <tbody>\n",
       "    <tr>\n",
       "      <th>43075</th>\n",
       "      <td>104</td>\n",
       "      <td>0</td>\n",
       "      <td>ajpowell5.770072</td>\n",
       "      <td>1.387278e+09</td>\n",
       "      <td>United States, New Jersey</td>\n",
       "    </tr>\n",
       "    <tr>\n",
       "      <th>36764</th>\n",
       "      <td>7</td>\n",
       "      <td>0</td>\n",
       "      <td>jwnyc.729006</td>\n",
       "      <td>1.366193e+09</td>\n",
       "      <td>United States, New Jersey</td>\n",
       "    </tr>\n",
       "    <tr>\n",
       "      <th>39405</th>\n",
       "      <td>6</td>\n",
       "      <td>0</td>\n",
       "      <td>maxhoel.824224</td>\n",
       "      <td>1.405159e+09</td>\n",
       "      <td>NaN</td>\n",
       "    </tr>\n",
       "  </tbody>\n",
       "</table>\n",
       "</div>"
      ],
      "text/plain": [
       "       user_nbr_ratings  user_nbr_reviews           user_id   user_joined  \\\n",
       "43075               104                 0  ajpowell5.770072  1.387278e+09   \n",
       "36764                 7                 0      jwnyc.729006  1.366193e+09   \n",
       "39405                 6                 0    maxhoel.824224  1.405159e+09   \n",
       "\n",
       "                   user_location  \n",
       "43075  United States, New Jersey  \n",
       "36764  United States, New Jersey  \n",
       "39405                        NaN  "
      ]
     },
     "execution_count": 22,
     "metadata": {},
     "output_type": "execute_result"
    }
   ],
   "source": [
    "users_filtered = users.drop(columns=['user_name']).copy(deep=True)\n",
    "\n",
    "users_filtered.rename(columns={'nbr_ratings':'user_nbr_ratings',\n",
    "                               'nbr_reviews':'user_nbr_reviews',\n",
    "                               'joined':'user_joined',\n",
    "                               'location':'user_location'}, inplace=True)\n",
    "\n",
    "users_filtered.sample(3)"
   ]
  },
  {
   "cell_type": "code",
   "execution_count": 23,
   "metadata": {},
   "outputs": [
    {
     "data": {
      "image/png": "[encoded data removed]",
      "text/plain": [
       "<Figure size 1080x360 with 2 Axes>"
      ]
     },
     "metadata": {
      "needs_background": "light"
     },
     "output_type": "display_data"
    }
   ],
   "source": [
    "plt.figure(figsize=(15, 5))\n",
    "plt.subplot(1, 2, 1)\n",
    "users_filtered['user_nbr_reviews'].hist(bins=50, log=True)\n",
    "plt.title('Number of reviews per users')\n",
    "plt.ylabel('Count')\n",
    "plt.xlabel('Number of reviews')\n",
    "plt.subplot(1, 2, 2)\n",
    "users_filtered['user_location'].value_counts(normalize=False).head(10).plot(kind='barh', title='10 most common user locations')\n",
    "plt.xlabel('Number of users')\n",
    "plt.tight_layout()\n",
    "plt.show()"
   ]
  },
  {
   "cell_type": "markdown",
   "metadata": {},
   "source": [
    "<blockquote>\n",
    "\n",
    "We observe that many users have no reviews at all, they will be removed from the dataset when merging. Also, the 10 most common user location are all in the US.\n",
    "\n",
    "</blockquote>"
   ]
  },
  {
   "cell_type": "markdown",
   "metadata": {},
   "source": [
    "#### Reviews dataset 📝"
   ]
  },
  {
   "cell_type": "code",
   "execution_count": 24,
   "metadata": {},
   "outputs": [
    {
     "data": {
      "text/html": [
       "<div>\n",
       "<style scoped>\n",
       "    .dataframe tbody tr th:only-of-type {\n",
       "        vertical-align: middle;\n",
       "    }\n",
       "\n",
       "    .dataframe tbody tr th {\n",
       "        vertical-align: top;\n",
       "    }\n",
       "\n",
       "    .dataframe thead th {\n",
       "        text-align: right;\n",
       "    }\n",
       "</style>\n",
       "<table border=\"1\" class=\"dataframe\">\n",
       "  <thead>\n",
       "    <tr style=\"text-align: right;\">\n",
       "      <th></th>\n",
       "      <th>beer_name</th>\n",
       "      <th>beer_id</th>\n",
       "      <th>brewery_name</th>\n",
       "      <th>brewery_id</th>\n",
       "      <th>style</th>\n",
       "      <th>abv</th>\n",
       "      <th>date</th>\n",
       "      <th>user_name</th>\n",
       "      <th>user_id</th>\n",
       "      <th>appearance</th>\n",
       "      <th>aroma</th>\n",
       "      <th>palate</th>\n",
       "      <th>taste</th>\n",
       "      <th>overall</th>\n",
       "      <th>rating</th>\n",
       "      <th>text</th>\n",
       "    </tr>\n",
       "  </thead>\n",
       "  <tbody>\n",
       "    <tr>\n",
       "      <th>2245177</th>\n",
       "      <td>Artista Zynergia: Morpheus &amp; Phantasus</td>\n",
       "      <td>233837</td>\n",
       "      <td>OEC Brewing (Ordinem Ecentrici Coctores)</td>\n",
       "      <td>34667</td>\n",
       "      <td>Gueuze</td>\n",
       "      <td>6.3</td>\n",
       "      <td>1467021600</td>\n",
       "      <td>TrilliumFan</td>\n",
       "      <td>trilliumfan.902094</td>\n",
       "      <td>4.5</td>\n",
       "      <td>4.25</td>\n",
       "      <td>4.5</td>\n",
       "      <td>4.5</td>\n",
       "      <td>4.5</td>\n",
       "      <td>4.44</td>\n",
       "      <td>On draft at pizzeria paradiso, poured into a t...</td>\n",
       "    </tr>\n",
       "    <tr>\n",
       "      <th>901643</th>\n",
       "      <td>Black Orchard</td>\n",
       "      <td>42587</td>\n",
       "      <td>The Bruery</td>\n",
       "      <td>16866</td>\n",
       "      <td>Belgian Dark Ale</td>\n",
       "      <td>5.7</td>\n",
       "      <td>1282903200</td>\n",
       "      <td>unclejimbay</td>\n",
       "      <td>unclejimbay.244896</td>\n",
       "      <td>3.5</td>\n",
       "      <td>4.00</td>\n",
       "      <td>4.5</td>\n",
       "      <td>4.5</td>\n",
       "      <td>4.5</td>\n",
       "      <td>4.32</td>\n",
       "      <td>Bruery Review, we performed a comprehensive sa...</td>\n",
       "    </tr>\n",
       "    <tr>\n",
       "      <th>1071172</th>\n",
       "      <td>UFO Raspberry Hefeweizen</td>\n",
       "      <td>28672</td>\n",
       "      <td>Harpoon Brewery &amp; Beer Hall</td>\n",
       "      <td>98</td>\n",
       "      <td>Fruit / Vegetable Beer</td>\n",
       "      <td>4.8</td>\n",
       "      <td>1220436000</td>\n",
       "      <td>mtstatebeer</td>\n",
       "      <td>mtstatebeer.212042</td>\n",
       "      <td>3.0</td>\n",
       "      <td>3.00</td>\n",
       "      <td>2.5</td>\n",
       "      <td>2.5</td>\n",
       "      <td>3.0</td>\n",
       "      <td>2.75</td>\n",
       "      <td>12 oz. bottle. Pours a orangeish-red color wit...</td>\n",
       "    </tr>\n",
       "  </tbody>\n",
       "</table>\n",
       "</div>"
      ],
      "text/plain": [
       "                                      beer_name  beer_id  \\\n",
       "2245177  Artista Zynergia: Morpheus & Phantasus   233837   \n",
       "901643                            Black Orchard    42587   \n",
       "1071172                UFO Raspberry Hefeweizen    28672   \n",
       "\n",
       "                                     brewery_name  brewery_id  \\\n",
       "2245177  OEC Brewing (Ordinem Ecentrici Coctores)       34667   \n",
       "901643                                 The Bruery       16866   \n",
       "1071172               Harpoon Brewery & Beer Hall          98   \n",
       "\n",
       "                          style  abv        date    user_name  \\\n",
       "2245177                  Gueuze  6.3  1467021600  TrilliumFan   \n",
       "901643         Belgian Dark Ale  5.7  1282903200  unclejimbay   \n",
       "1071172  Fruit / Vegetable Beer  4.8  1220436000  mtstatebeer   \n",
       "\n",
       "                    user_id  appearance  aroma  palate  taste  overall  \\\n",
       "2245177  trilliumfan.902094         4.5   4.25     4.5    4.5      4.5   \n",
       "901643   unclejimbay.244896         3.5   4.00     4.5    4.5      4.5   \n",
       "1071172  mtstatebeer.212042         3.0   3.00     2.5    2.5      3.0   \n",
       "\n",
       "         rating                                               text  \n",
       "2245177    4.44  On draft at pizzeria paradiso, poured into a t...  \n",
       "901643     4.32  Bruery Review, we performed a comprehensive sa...  \n",
       "1071172    2.75  12 oz. bottle. Pours a orangeish-red color wit...  "
      ]
     },
     "metadata": {},
     "output_type": "display_data"
    },
    {
     "name": "stdout",
     "output_type": "stream",
     "text": [
      "Shape of reviews :  (2589586, 16)\n"
     ]
    }
   ],
   "source": [
    "display(reviews.sample(3))\n",
    "print('Shape of reviews : ', reviews.shape)"
   ]
  },
  {
   "cell_type": "code",
   "execution_count": 25,
   "metadata": {},
   "outputs": [
    {
     "data": {
      "image/png": "[encoded data removed]",
      "text/plain": [
       "<Figure size 432x288 with 1 Axes>"
      ]
     },
     "metadata": {
      "needs_background": "light"
     },
     "output_type": "display_data"
    }
   ],
   "source": [
    "plt.figure()\n",
    "(reviews.isna().sum() / len(reviews) * 100).plot(kind='barh', title='Percentage of missing values per column')\n",
    "plt.xlabel('Percentage of missing values')\n",
    "plt.show()"
   ]
  },
  {
   "cell_type": "code",
   "execution_count": 26,
   "metadata": {},
   "outputs": [
    {
     "name": "stdout",
     "output_type": "stream",
     "text": [
      "Number of rows with NaN values for each column :\n",
      "overall : 32009\n",
      "taste : 32009\n",
      "palate : 32009\n",
      "aroma : 32009\n",
      "appearance : 32009\n",
      "False    2557577\n",
      "True       32009\n",
      "Name: all_missing, dtype: int64\n"
     ]
    }
   ],
   "source": [
    "# making sure that all the NaN are in the same rows\n",
    "\n",
    "# print the number of rows that contains a NaN value for each column ['overall', 'taste', 'palate', 'aroma', 'appearance']\n",
    "print('Number of rows with NaN values for each column :')\n",
    "for col in ['overall', 'taste', 'palate', 'aroma', 'appearance']:\n",
    "    print(col, ':', len(reviews[reviews[col].isna()]))\n",
    "    \n",
    "missing_values = reviews[['overall', 'taste', 'palate', 'aroma', 'appearance']].isna()\n",
    "missing_values['all_missing'] = missing_values.all(axis=1)\n",
    "print(missing_values['all_missing'].value_counts())"
   ]
  },
  {
   "cell_type": "markdown",
   "metadata": {},
   "source": [
    "<blockquote>\n",
    "\n",
    "All the missing values are in the same rows, and they represent less than 1.5% of the dataset. We can then drop them.\n",
    "\n",
    "</blockquote>"
   ]
  },
  {
   "cell_type": "code",
   "execution_count": 27,
   "metadata": {},
   "outputs": [
    {
     "data": {
      "text/html": [
       "<div>\n",
       "<style scoped>\n",
       "    .dataframe tbody tr th:only-of-type {\n",
       "        vertical-align: middle;\n",
       "    }\n",
       "\n",
       "    .dataframe tbody tr th {\n",
       "        vertical-align: top;\n",
       "    }\n",
       "\n",
       "    .dataframe thead th {\n",
       "        text-align: right;\n",
       "    }\n",
       "</style>\n",
       "<table border=\"1\" class=\"dataframe\">\n",
       "  <thead>\n",
       "    <tr style=\"text-align: right;\">\n",
       "      <th></th>\n",
       "      <th>beer_id</th>\n",
       "      <th>brewery_id</th>\n",
       "      <th>style</th>\n",
       "      <th>abv</th>\n",
       "      <th>date</th>\n",
       "      <th>user_id</th>\n",
       "      <th>appearance</th>\n",
       "      <th>aroma</th>\n",
       "      <th>palate</th>\n",
       "      <th>taste</th>\n",
       "      <th>overall</th>\n",
       "      <th>rating</th>\n",
       "      <th>text</th>\n",
       "    </tr>\n",
       "  </thead>\n",
       "  <tbody>\n",
       "    <tr>\n",
       "      <th>576110</th>\n",
       "      <td>57912</td>\n",
       "      <td>220</td>\n",
       "      <td>Belgian IPA</td>\n",
       "      <td>8.8</td>\n",
       "      <td>1286618400</td>\n",
       "      <td>lovindahops.442008</td>\n",
       "      <td>4.0</td>\n",
       "      <td>4.0</td>\n",
       "      <td>4.0</td>\n",
       "      <td>4.0</td>\n",
       "      <td>4.0</td>\n",
       "      <td>4.00</td>\n",
       "      <td>A- complete golden body with a master head of ...</td>\n",
       "    </tr>\n",
       "    <tr>\n",
       "      <th>813367</th>\n",
       "      <td>3158</td>\n",
       "      <td>610</td>\n",
       "      <td>American IPA</td>\n",
       "      <td>8.0</td>\n",
       "      <td>1289818800</td>\n",
       "      <td>anaz.407226</td>\n",
       "      <td>4.0</td>\n",
       "      <td>3.5</td>\n",
       "      <td>4.0</td>\n",
       "      <td>4.5</td>\n",
       "      <td>3.5</td>\n",
       "      <td>3.98</td>\n",
       "      <td>A- Dark red brown, with a full creamy head tha...</td>\n",
       "    </tr>\n",
       "    <tr>\n",
       "      <th>1171029</th>\n",
       "      <td>906</td>\n",
       "      <td>99</td>\n",
       "      <td>Black &amp; Tan</td>\n",
       "      <td>5.4</td>\n",
       "      <td>1284804000</td>\n",
       "      <td>drabmuh.4791</td>\n",
       "      <td>4.0</td>\n",
       "      <td>3.5</td>\n",
       "      <td>3.5</td>\n",
       "      <td>3.0</td>\n",
       "      <td>3.5</td>\n",
       "      <td>3.33</td>\n",
       "      <td>Poured into a shaker pint. Beer is black to br...</td>\n",
       "    </tr>\n",
       "  </tbody>\n",
       "</table>\n",
       "</div>"
      ],
      "text/plain": [
       "         beer_id  brewery_id         style  abv        date  \\\n",
       "576110     57912         220   Belgian IPA  8.8  1286618400   \n",
       "813367      3158         610  American IPA  8.0  1289818800   \n",
       "1171029      906          99   Black & Tan  5.4  1284804000   \n",
       "\n",
       "                    user_id  appearance  aroma  palate  taste  overall  \\\n",
       "576110   lovindahops.442008         4.0    4.0     4.0    4.0      4.0   \n",
       "813367          anaz.407226         4.0    3.5     4.0    4.5      3.5   \n",
       "1171029        drabmuh.4791         4.0    3.5     3.5    3.0      3.5   \n",
       "\n",
       "         rating                                               text  \n",
       "576110     4.00  A- complete golden body with a master head of ...  \n",
       "813367     3.98  A- Dark red brown, with a full creamy head tha...  \n",
       "1171029    3.33  Poured into a shaker pint. Beer is black to br...  "
      ]
     },
     "metadata": {},
     "output_type": "display_data"
    },
    {
     "name": "stdout",
     "output_type": "stream",
     "text": [
      "Shape of reviews_filtered :  (2557577, 13)\n"
     ]
    }
   ],
   "source": [
    "# remove the columns that are not useful for our analysis\n",
    "\n",
    "reviews_filtered = reviews.drop(columns=['user_name', 'beer_name', 'brewery_name']).copy(deep=True)\n",
    "\n",
    "#remove rows in reviews_filtered that have all_missing True in missing_values\n",
    "reviews_filtered = reviews_filtered[~missing_values['all_missing']].copy(deep=True)\n",
    "\n",
    "display(reviews_filtered.sample(3))\n",
    "print('Shape of reviews_filtered : ', reviews_filtered.shape)"
   ]
  },
  {
   "cell_type": "code",
   "execution_count": 28,
   "metadata": {},
   "outputs": [
    {
     "name": "stdout",
     "output_type": "stream",
     "text": [
      "Number of NaN values for each column :\n",
      "overall : 0\n",
      "taste : 0\n",
      "palate : 0\n",
      "aroma : 0\n",
      "appearance : 0\n"
     ]
    }
   ],
   "source": [
    "# count the number of NaN in columns ['overall', 'taste', 'palate', 'aroma', 'appearance']\n",
    "print('Number of NaN values for each column :')\n",
    "for col in ['overall', 'taste', 'palate', 'aroma', 'appearance']:\n",
    "    print(col, ':', len(reviews_filtered[reviews_filtered[col].isna()]))\n"
   ]
  },
  {
   "cell_type": "code",
   "execution_count": 29,
   "metadata": {},
   "outputs": [
    {
     "data": {
      "image/png": "[encoded data removed]",
      "text/plain": [
       "<Figure size 576x360 with 1 Axes>"
      ]
     },
     "metadata": {
      "needs_background": "light"
     },
     "output_type": "display_data"
    }
   ],
   "source": [
    "# show boxplot for each rating column, appearance, aroma, palate, taste and overall\n",
    "\n",
    "plt.figure(figsize=(8, 5))\n",
    "sns.boxplot(data=reviews_filtered[['appearance', 'aroma', 'palate', 'taste', 'overall']])\n",
    "plt.title('Beer Ratings by Aspect')\n",
    "plt.xlabel('Aspect')\n",
    "plt.ylabel('Rating')\n",
    "plt.show()"
   ]
  },
  {
   "cell_type": "markdown",
   "metadata": {},
   "source": [
    "### Merge datasets 🔗"
   ]
  },
  {
   "cell_type": "code",
   "execution_count": 30,
   "metadata": {},
   "outputs": [
    {
     "data": {
      "text/html": [
       "<div>\n",
       "<style scoped>\n",
       "    .dataframe tbody tr th:only-of-type {\n",
       "        vertical-align: middle;\n",
       "    }\n",
       "\n",
       "    .dataframe tbody tr th {\n",
       "        vertical-align: top;\n",
       "    }\n",
       "\n",
       "    .dataframe thead th {\n",
       "        text-align: right;\n",
       "    }\n",
       "</style>\n",
       "<table border=\"1\" class=\"dataframe\">\n",
       "  <thead>\n",
       "    <tr style=\"text-align: right;\">\n",
       "      <th></th>\n",
       "      <th>beer_id</th>\n",
       "      <th>brewery_id</th>\n",
       "      <th>style</th>\n",
       "      <th>abv</th>\n",
       "      <th>date</th>\n",
       "      <th>user_id</th>\n",
       "      <th>appearance</th>\n",
       "      <th>aroma</th>\n",
       "      <th>palate</th>\n",
       "      <th>taste</th>\n",
       "      <th>overall</th>\n",
       "      <th>rating</th>\n",
       "      <th>text</th>\n",
       "      <th>beer_nbr_ratings</th>\n",
       "      <th>beer_nbr_reviews</th>\n",
       "      <th>avg</th>\n",
       "      <th>user_nbr_ratings</th>\n",
       "      <th>user_nbr_reviews</th>\n",
       "      <th>user_joined</th>\n",
       "      <th>user_location</th>\n",
       "      <th>brewery_location</th>\n",
       "      <th>brewery_nbr_beers</th>\n",
       "    </tr>\n",
       "  </thead>\n",
       "  <tbody>\n",
       "    <tr>\n",
       "      <th>126222</th>\n",
       "      <td>14732</td>\n",
       "      <td>22</td>\n",
       "      <td>Belgian Strong Pale Ale</td>\n",
       "      <td>10.5</td>\n",
       "      <td>1156327200</td>\n",
       "      <td>phisig137.27541</td>\n",
       "      <td>3.0</td>\n",
       "      <td>4.0</td>\n",
       "      <td>3.5</td>\n",
       "      <td>4.0</td>\n",
       "      <td>4.5</td>\n",
       "      <td>3.99</td>\n",
       "      <td>Cork pops out of this 2 3/4 year old bottle wi...</td>\n",
       "      <td>267</td>\n",
       "      <td>245</td>\n",
       "      <td>4.08</td>\n",
       "      <td>465</td>\n",
       "      <td>465</td>\n",
       "      <td>1.120471e+09</td>\n",
       "      <td>United States, Virginia</td>\n",
       "      <td>Canada</td>\n",
       "      <td>58.0</td>\n",
       "    </tr>\n",
       "  </tbody>\n",
       "</table>\n",
       "</div>"
      ],
      "text/plain": [
       "        beer_id  brewery_id                    style   abv        date  \\\n",
       "126222    14732          22  Belgian Strong Pale Ale  10.5  1156327200   \n",
       "\n",
       "                user_id  appearance  aroma  palate  taste  overall  rating  \\\n",
       "126222  phisig137.27541         3.0    4.0     3.5    4.0      4.5    3.99   \n",
       "\n",
       "                                                     text  beer_nbr_ratings  \\\n",
       "126222  Cork pops out of this 2 3/4 year old bottle wi...               267   \n",
       "\n",
       "        beer_nbr_reviews   avg  user_nbr_ratings  user_nbr_reviews  \\\n",
       "126222               245  4.08               465               465   \n",
       "\n",
       "         user_joined            user_location brewery_location  \\\n",
       "126222  1.120471e+09  United States, Virginia           Canada   \n",
       "\n",
       "        brewery_nbr_beers  \n",
       "126222               58.0  "
      ]
     },
     "metadata": {},
     "output_type": "display_data"
    },
    {
     "name": "stdout",
     "output_type": "stream",
     "text": [
      "Shape of df_merged :  (2557577, 22)\n"
     ]
    }
   ],
   "source": [
    "# Merge reviews with users and beers and breweries\n",
    "df_merged = reviews_filtered.merge(beers_filtered, how='left', on=['beer_id', 'brewery_id', 'style', 'abv'])\n",
    "df_merged = df_merged.merge(users_filtered, how='left', on='user_id')\n",
    "df_merged = df_merged.merge(breweries_filtered, how='left', on='brewery_id')\n",
    "\n",
    "display(df_merged.sample(1))\n",
    "print('Shape of df_merged : ', df_merged.shape)"
   ]
  },
  {
   "cell_type": "markdown",
   "metadata": {},
   "source": [
    "### Filter datasets ✂️\n",
    "\n",
    "<div class=\"alert alert-block alert-danger\">\n",
    "<b>Danger:</b> Comment EVERY filtering\n",
    "</div>"
   ]
  },
  {
   "cell_type": "code",
   "execution_count": 31,
   "metadata": {},
   "outputs": [
    {
     "data": {
      "image/png": "[encoded data removed]",
      "text/plain": [
       "<Figure size 432x288 with 1 Axes>"
      ]
     },
     "metadata": {
      "needs_background": "light"
     },
     "output_type": "display_data"
    }
   ],
   "source": [
    "# show the percentage of missing values per columm\n",
    "plt.figure()\n",
    "(df_merged.isna().sum() / len(df_merged) * 100).plot(kind='barh', title='Percentage of missing values per column')\n",
    "plt.xlabel('Percentage of missing values')\n",
    "plt.show()"
   ]
  },
  {
   "cell_type": "code",
   "execution_count": 32,
   "metadata": {},
   "outputs": [
    {
     "name": "stdout",
     "output_type": "stream",
     "text": [
      "Shape of df_nonan :  (2387578, 22)\n",
      "Percentage of rows removed :  6.65 %\n"
     ]
    }
   ],
   "source": [
    "df_nonan = df_merged.dropna().copy(deep=True)\n",
    "print('Shape of df_nonan : ', df_nonan.shape)\n",
    "print('Percentage of rows removed : ', round((1 - len(df_nonan) / len(df_merged)) * 100, 2), '%')"
   ]
  },
  {
   "cell_type": "code",
   "execution_count": 33,
   "metadata": {},
   "outputs": [],
   "source": [
    "# Save to csv\n",
    "df_nonan.to_csv(dataset_path + 'BeerAdvocateMerged.csv', index=False)"
   ]
  },
  {
   "cell_type": "code",
   "execution_count": 34,
   "metadata": {},
   "outputs": [],
   "source": [
    "df = pd.read_csv(dataset_path + 'BeerAdvocateMerged.csv')"
   ]
  },
  {
   "cell_type": "code",
   "execution_count": 35,
   "metadata": {},
   "outputs": [
    {
     "data": {
      "text/html": [
       "<div>\n",
       "<style scoped>\n",
       "    .dataframe tbody tr th:only-of-type {\n",
       "        vertical-align: middle;\n",
       "    }\n",
       "\n",
       "    .dataframe tbody tr th {\n",
       "        vertical-align: top;\n",
       "    }\n",
       "\n",
       "    .dataframe thead th {\n",
       "        text-align: right;\n",
       "    }\n",
       "</style>\n",
       "<table border=\"1\" class=\"dataframe\">\n",
       "  <thead>\n",
       "    <tr style=\"text-align: right;\">\n",
       "      <th></th>\n",
       "      <th>beer_id</th>\n",
       "      <th>brewery_id</th>\n",
       "      <th>style</th>\n",
       "      <th>abv</th>\n",
       "      <th>date</th>\n",
       "      <th>user_id</th>\n",
       "      <th>appearance</th>\n",
       "      <th>aroma</th>\n",
       "      <th>palate</th>\n",
       "      <th>taste</th>\n",
       "      <th>overall</th>\n",
       "      <th>rating</th>\n",
       "      <th>text</th>\n",
       "      <th>beer_nbr_ratings</th>\n",
       "      <th>beer_nbr_reviews</th>\n",
       "      <th>avg</th>\n",
       "      <th>user_nbr_ratings</th>\n",
       "      <th>user_nbr_reviews</th>\n",
       "      <th>user_joined</th>\n",
       "      <th>user_location</th>\n",
       "      <th>brewery_location</th>\n",
       "      <th>brewery_nbr_beers</th>\n",
       "    </tr>\n",
       "  </thead>\n",
       "  <tbody>\n",
       "    <tr>\n",
       "      <th>1564634</th>\n",
       "      <td>2093</td>\n",
       "      <td>64</td>\n",
       "      <td>American Double / Imperial IPA</td>\n",
       "      <td>9.0</td>\n",
       "      <td>1176717600</td>\n",
       "      <td>mobud.2158</td>\n",
       "      <td>3.5</td>\n",
       "      <td>4.0</td>\n",
       "      <td>4.0</td>\n",
       "      <td>3.5</td>\n",
       "      <td>4.0</td>\n",
       "      <td>3.77</td>\n",
       "      <td>Poured from bottle into pint glass.A- Dark gol...</td>\n",
       "      <td>15548</td>\n",
       "      <td>3899</td>\n",
       "      <td>4.24</td>\n",
       "      <td>132</td>\n",
       "      <td>129</td>\n",
       "      <td>1.054116e+09</td>\n",
       "      <td>United States, Delaware</td>\n",
       "      <td>United States, Delaware</td>\n",
       "      <td>378.0</td>\n",
       "    </tr>\n",
       "    <tr>\n",
       "      <th>2291306</th>\n",
       "      <td>46850</td>\n",
       "      <td>15237</td>\n",
       "      <td>Belgian Strong Pale Ale</td>\n",
       "      <td>10.0</td>\n",
       "      <td>1294657200</td>\n",
       "      <td>corby112.268461</td>\n",
       "      <td>4.0</td>\n",
       "      <td>3.5</td>\n",
       "      <td>4.0</td>\n",
       "      <td>4.0</td>\n",
       "      <td>3.5</td>\n",
       "      <td>3.78</td>\n",
       "      <td>Pours a deep, dark copper orange with golden b...</td>\n",
       "      <td>191</td>\n",
       "      <td>100</td>\n",
       "      <td>4.15</td>\n",
       "      <td>2855</td>\n",
       "      <td>2853</td>\n",
       "      <td>1.227092e+09</td>\n",
       "      <td>United States, Pennsylvania</td>\n",
       "      <td>Belgium</td>\n",
       "      <td>145.0</td>\n",
       "    </tr>\n",
       "    <tr>\n",
       "      <th>1417428</th>\n",
       "      <td>38870</td>\n",
       "      <td>694</td>\n",
       "      <td>American Barleywine</td>\n",
       "      <td>9.4</td>\n",
       "      <td>1262948400</td>\n",
       "      <td>wisrarebeer.239007</td>\n",
       "      <td>4.0</td>\n",
       "      <td>4.5</td>\n",
       "      <td>4.5</td>\n",
       "      <td>4.5</td>\n",
       "      <td>5.0</td>\n",
       "      <td>4.57</td>\n",
       "      <td>A: deep copper color, decent headS: smell was ...</td>\n",
       "      <td>75</td>\n",
       "      <td>68</td>\n",
       "      <td>4.24</td>\n",
       "      <td>1302</td>\n",
       "      <td>682</td>\n",
       "      <td>1.217498e+09</td>\n",
       "      <td>United States, Wisconsin</td>\n",
       "      <td>United States, Pennsylvania</td>\n",
       "      <td>372.0</td>\n",
       "    </tr>\n",
       "  </tbody>\n",
       "</table>\n",
       "</div>"
      ],
      "text/plain": [
       "         beer_id  brewery_id                           style   abv  \\\n",
       "1564634     2093          64  American Double / Imperial IPA   9.0   \n",
       "2291306    46850       15237         Belgian Strong Pale Ale  10.0   \n",
       "1417428    38870         694             American Barleywine   9.4   \n",
       "\n",
       "               date             user_id  appearance  aroma  palate  taste  \\\n",
       "1564634  1176717600          mobud.2158         3.5    4.0     4.0    3.5   \n",
       "2291306  1294657200     corby112.268461         4.0    3.5     4.0    4.0   \n",
       "1417428  1262948400  wisrarebeer.239007         4.0    4.5     4.5    4.5   \n",
       "\n",
       "         overall  rating                                               text  \\\n",
       "1564634      4.0    3.77  Poured from bottle into pint glass.A- Dark gol...   \n",
       "2291306      3.5    3.78  Pours a deep, dark copper orange with golden b...   \n",
       "1417428      5.0    4.57  A: deep copper color, decent headS: smell was ...   \n",
       "\n",
       "         beer_nbr_ratings  beer_nbr_reviews   avg  user_nbr_ratings  \\\n",
       "1564634             15548              3899  4.24               132   \n",
       "2291306               191               100  4.15              2855   \n",
       "1417428                75                68  4.24              1302   \n",
       "\n",
       "         user_nbr_reviews   user_joined                user_location  \\\n",
       "1564634               129  1.054116e+09      United States, Delaware   \n",
       "2291306              2853  1.227092e+09  United States, Pennsylvania   \n",
       "1417428               682  1.217498e+09     United States, Wisconsin   \n",
       "\n",
       "                    brewery_location  brewery_nbr_beers  \n",
       "1564634      United States, Delaware              378.0  \n",
       "2291306                      Belgium              145.0  \n",
       "1417428  United States, Pennsylvania              372.0  "
      ]
     },
     "metadata": {},
     "output_type": "display_data"
    },
    {
     "name": "stdout",
     "output_type": "stream",
     "text": [
      "Shape of df :  (2387578, 22)\n"
     ]
    }
   ],
   "source": [
    "display(df.sample(3))\n",
    "print('Shape of df : ', df.shape)"
   ]
  },
  {
   "cell_type": "markdown",
   "metadata": {},
   "source": [
    "## Data enrichment 🍺\n",
    "### Serving type 🍾🥤🚰\n",
    "\n",
    ">Since our goal is to look at the influence of the serving style, we need to know how each beer was served. \n",
    "For now, we use a naive approach. We only look at whether a word specific to as service style has been used. \n"
   ]
  },
  {
   "cell_type": "code",
   "execution_count": 36,
   "metadata": {},
   "outputs": [],
   "source": [
    "# Create 3 different columns according to the text review, \"bottle\", \"can\", \"draft\"\n",
    "\n",
    "bottle = ['bottle', 'bottled', 'bottles']\n",
    "can = [' can ', 'canned', ' cans ']\n",
    "draft = ['draft', 'draught', 'tap', 'taps']\n",
    "# Create different columns if review text contains the word\n",
    "df['bottle'] = df['text'].apply(lambda x: any(ele in x.lower() for ele in bottle))\n",
    "df['can'] = df['text'].apply(lambda x: any(ele in x.lower() for ele in can))\n",
    "df['draft'] = df['text'].apply(lambda x: any(ele in x.lower() for ele in draft))"
   ]
  },
  {
   "cell_type": "code",
   "execution_count": 37,
   "metadata": {},
   "outputs": [
    {
     "data": {
      "text/html": [
       "<div>\n",
       "<style scoped>\n",
       "    .dataframe tbody tr th:only-of-type {\n",
       "        vertical-align: middle;\n",
       "    }\n",
       "\n",
       "    .dataframe tbody tr th {\n",
       "        vertical-align: top;\n",
       "    }\n",
       "\n",
       "    .dataframe thead th {\n",
       "        text-align: right;\n",
       "    }\n",
       "</style>\n",
       "<table border=\"1\" class=\"dataframe\">\n",
       "  <thead>\n",
       "    <tr style=\"text-align: right;\">\n",
       "      <th></th>\n",
       "      <th>beer_id</th>\n",
       "      <th>brewery_id</th>\n",
       "      <th>style</th>\n",
       "      <th>abv</th>\n",
       "      <th>date</th>\n",
       "      <th>user_id</th>\n",
       "      <th>appearance</th>\n",
       "      <th>aroma</th>\n",
       "      <th>palate</th>\n",
       "      <th>taste</th>\n",
       "      <th>overall</th>\n",
       "      <th>rating</th>\n",
       "      <th>text</th>\n",
       "      <th>beer_nbr_ratings</th>\n",
       "      <th>beer_nbr_reviews</th>\n",
       "      <th>avg</th>\n",
       "      <th>user_nbr_ratings</th>\n",
       "      <th>user_nbr_reviews</th>\n",
       "      <th>user_joined</th>\n",
       "      <th>user_location</th>\n",
       "      <th>brewery_location</th>\n",
       "      <th>brewery_nbr_beers</th>\n",
       "      <th>serving_type</th>\n",
       "    </tr>\n",
       "  </thead>\n",
       "  <tbody>\n",
       "    <tr>\n",
       "      <th>226674</th>\n",
       "      <td>55580</td>\n",
       "      <td>13307</td>\n",
       "      <td>American IPA</td>\n",
       "      <td>6.9</td>\n",
       "      <td>1272016800</td>\n",
       "      <td>john_m.3421</td>\n",
       "      <td>4.0</td>\n",
       "      <td>4.5</td>\n",
       "      <td>4.0</td>\n",
       "      <td>4.5</td>\n",
       "      <td>4.0</td>\n",
       "      <td>4.32</td>\n",
       "      <td>On tap at Max's today.This and the simcoe from...</td>\n",
       "      <td>157</td>\n",
       "      <td>89</td>\n",
       "      <td>4.03</td>\n",
       "      <td>3119</td>\n",
       "      <td>3053</td>\n",
       "      <td>1.067076e+09</td>\n",
       "      <td>United States, Oregon</td>\n",
       "      <td>Denmark</td>\n",
       "      <td>795.0</td>\n",
       "      <td>draft</td>\n",
       "    </tr>\n",
       "    <tr>\n",
       "      <th>1424961</th>\n",
       "      <td>15881</td>\n",
       "      <td>694</td>\n",
       "      <td>American Amber / Red Ale</td>\n",
       "      <td>7.5</td>\n",
       "      <td>1235041200</td>\n",
       "      <td>rdub.157496</td>\n",
       "      <td>4.0</td>\n",
       "      <td>4.0</td>\n",
       "      <td>4.0</td>\n",
       "      <td>4.0</td>\n",
       "      <td>4.0</td>\n",
       "      <td>4.00</td>\n",
       "      <td>Holy moley. Hop-o-rama. Poured a beautiful cop...</td>\n",
       "      <td>8553</td>\n",
       "      <td>2550</td>\n",
       "      <td>4.32</td>\n",
       "      <td>365</td>\n",
       "      <td>156</td>\n",
       "      <td>1.189246e+09</td>\n",
       "      <td>United States, Pennsylvania</td>\n",
       "      <td>United States, Pennsylvania</td>\n",
       "      <td>372.0</td>\n",
       "      <td>draft</td>\n",
       "    </tr>\n",
       "    <tr>\n",
       "      <th>1756646</th>\n",
       "      <td>47022</td>\n",
       "      <td>17981</td>\n",
       "      <td>American Double / Imperial Stout</td>\n",
       "      <td>11.0</td>\n",
       "      <td>1337335200</td>\n",
       "      <td>skibum22.383232</td>\n",
       "      <td>4.5</td>\n",
       "      <td>4.5</td>\n",
       "      <td>5.0</td>\n",
       "      <td>5.0</td>\n",
       "      <td>5.0</td>\n",
       "      <td>4.85</td>\n",
       "      <td>A - Pours black with a finger of dark tan head...</td>\n",
       "      <td>4144</td>\n",
       "      <td>803</td>\n",
       "      <td>4.51</td>\n",
       "      <td>1535</td>\n",
       "      <td>86</td>\n",
       "      <td>1.255860e+09</td>\n",
       "      <td>United States, New York</td>\n",
       "      <td>United States, Florida</td>\n",
       "      <td>981.0</td>\n",
       "      <td>bottle</td>\n",
       "    </tr>\n",
       "  </tbody>\n",
       "</table>\n",
       "</div>"
      ],
      "text/plain": [
       "         beer_id  brewery_id                             style   abv  \\\n",
       "226674     55580       13307                      American IPA   6.9   \n",
       "1424961    15881         694          American Amber / Red Ale   7.5   \n",
       "1756646    47022       17981  American Double / Imperial Stout  11.0   \n",
       "\n",
       "               date          user_id  appearance  aroma  palate  taste  \\\n",
       "226674   1272016800      john_m.3421         4.0    4.5     4.0    4.5   \n",
       "1424961  1235041200      rdub.157496         4.0    4.0     4.0    4.0   \n",
       "1756646  1337335200  skibum22.383232         4.5    4.5     5.0    5.0   \n",
       "\n",
       "         overall  rating                                               text  \\\n",
       "226674       4.0    4.32  On tap at Max's today.This and the simcoe from...   \n",
       "1424961      4.0    4.00  Holy moley. Hop-o-rama. Poured a beautiful cop...   \n",
       "1756646      5.0    4.85  A - Pours black with a finger of dark tan head...   \n",
       "\n",
       "         beer_nbr_ratings  beer_nbr_reviews   avg  user_nbr_ratings  \\\n",
       "226674                157                89  4.03              3119   \n",
       "1424961              8553              2550  4.32               365   \n",
       "1756646              4144               803  4.51              1535   \n",
       "\n",
       "         user_nbr_reviews   user_joined                user_location  \\\n",
       "226674               3053  1.067076e+09        United States, Oregon   \n",
       "1424961               156  1.189246e+09  United States, Pennsylvania   \n",
       "1756646                86  1.255860e+09      United States, New York   \n",
       "\n",
       "                    brewery_location  brewery_nbr_beers serving_type  \n",
       "226674                       Denmark              795.0        draft  \n",
       "1424961  United States, Pennsylvania              372.0        draft  \n",
       "1756646       United States, Florida              981.0       bottle  "
      ]
     },
     "metadata": {},
     "output_type": "display_data"
    },
    {
     "data": {
      "text/plain": [
       "bottle    619246\n",
       "can       187137\n",
       "draft     165750\n",
       "Name: serving_type, dtype: int64"
      ]
     },
     "execution_count": 37,
     "metadata": {},
     "output_type": "execute_result"
    }
   ],
   "source": [
    "# remove every row where columns bottle, can and draft are all False\n",
    "df = df[df[['bottle', 'can', 'draft']].any(axis=1)]\n",
    "# display(df.sample(3))\n",
    "# print('We have {} valid reviews'.format(df.shape[0]))\n",
    "\n",
    "# remove every row with more than 1 true\n",
    "df = df[df[['bottle', 'can', 'draft']].sum(axis=1) == 1]\n",
    "# display(df.sample(3))\n",
    "# print('We have {} valid reviews'.format(df.shape[0]))\n",
    "\n",
    "#create a new column with the serving type\n",
    "df['serving_type'] = df[['bottle', 'can', 'draft']].idxmax(axis=1)\n",
    "\n",
    "# drop the columns bottle, can and draft\n",
    "df.drop(['bottle', 'can', 'draft'], axis=1, inplace=True)\n",
    "\n",
    "display(df.sample(3))\n",
    "\n",
    "# print the number of reviews for each serving type\n",
    "df['serving_type'].value_counts(normalize=False)"
   ]
  },
  {
   "cell_type": "markdown",
   "metadata": {},
   "source": [
    "## Data filtering 🧹\n",
    "Number of valid reviews per beer and users & average rating per beer"
   ]
  },
  {
   "cell_type": "markdown",
   "metadata": {},
   "source": [
    "### Filtering on amount of reviews"
   ]
  },
  {
   "cell_type": "code",
   "execution_count": 38,
   "metadata": {},
   "outputs": [
    {
     "data": {
      "text/html": [
       "<div>\n",
       "<style scoped>\n",
       "    .dataframe tbody tr th:only-of-type {\n",
       "        vertical-align: middle;\n",
       "    }\n",
       "\n",
       "    .dataframe tbody tr th {\n",
       "        vertical-align: top;\n",
       "    }\n",
       "\n",
       "    .dataframe thead th {\n",
       "        text-align: right;\n",
       "    }\n",
       "</style>\n",
       "<table border=\"1\" class=\"dataframe\">\n",
       "  <thead>\n",
       "    <tr style=\"text-align: right;\">\n",
       "      <th></th>\n",
       "      <th>beer_id</th>\n",
       "      <th>brewery_id</th>\n",
       "      <th>style</th>\n",
       "      <th>abv</th>\n",
       "      <th>date</th>\n",
       "      <th>user_id</th>\n",
       "      <th>appearance</th>\n",
       "      <th>aroma</th>\n",
       "      <th>palate</th>\n",
       "      <th>taste</th>\n",
       "      <th>overall</th>\n",
       "      <th>rating</th>\n",
       "      <th>text</th>\n",
       "      <th>beer_nbr_ratings</th>\n",
       "      <th>beer_nbr_reviews</th>\n",
       "      <th>avg</th>\n",
       "      <th>user_nbr_ratings</th>\n",
       "      <th>user_nbr_reviews</th>\n",
       "      <th>user_joined</th>\n",
       "      <th>user_location</th>\n",
       "      <th>brewery_location</th>\n",
       "      <th>brewery_nbr_beers</th>\n",
       "      <th>serving_type</th>\n",
       "      <th>user_nbr_reviews_computed</th>\n",
       "      <th>beer_nbr_reviews_computed</th>\n",
       "      <th>beer_avg_computed</th>\n",
       "    </tr>\n",
       "  </thead>\n",
       "  <tbody>\n",
       "    <tr>\n",
       "      <th>935606</th>\n",
       "      <td>37860</td>\n",
       "      <td>35</td>\n",
       "      <td>American Pale Ale (APA)</td>\n",
       "      <td>6.0</td>\n",
       "      <td>1367920800</td>\n",
       "      <td>jadjunk.401113</td>\n",
       "      <td>3.75</td>\n",
       "      <td>3.25</td>\n",
       "      <td>2.75</td>\n",
       "      <td>3.25</td>\n",
       "      <td>3.25</td>\n",
       "      <td>3.23</td>\n",
       "      <td>&amp;quot;Jack McAuliffe's pioneering spirit paved...</td>\n",
       "      <td>625</td>\n",
       "      <td>178</td>\n",
       "      <td>3.40</td>\n",
       "      <td>1175</td>\n",
       "      <td>1175</td>\n",
       "      <td>1.260097e+09</td>\n",
       "      <td>United States, Georgia</td>\n",
       "      <td>United States, Massachusetts</td>\n",
       "      <td>285.0</td>\n",
       "      <td>bottle</td>\n",
       "      <td>347</td>\n",
       "      <td>65</td>\n",
       "      <td>3.328308</td>\n",
       "    </tr>\n",
       "    <tr>\n",
       "      <th>1145616</th>\n",
       "      <td>65223</td>\n",
       "      <td>2137</td>\n",
       "      <td>Milk / Sweet Stout</td>\n",
       "      <td>7.2</td>\n",
       "      <td>1366452000</td>\n",
       "      <td>stouthunter.445745</td>\n",
       "      <td>4.00</td>\n",
       "      <td>3.75</td>\n",
       "      <td>3.50</td>\n",
       "      <td>3.75</td>\n",
       "      <td>3.75</td>\n",
       "      <td>3.74</td>\n",
       "      <td>I picked up a bottle of Breckenridge's 72 Impe...</td>\n",
       "      <td>756</td>\n",
       "      <td>158</td>\n",
       "      <td>3.87</td>\n",
       "      <td>2309</td>\n",
       "      <td>1946</td>\n",
       "      <td>1.270548e+09</td>\n",
       "      <td>United States, Michigan</td>\n",
       "      <td>United States, Colorado</td>\n",
       "      <td>140.0</td>\n",
       "      <td>bottle</td>\n",
       "      <td>1329</td>\n",
       "      <td>62</td>\n",
       "      <td>3.870484</td>\n",
       "    </tr>\n",
       "    <tr>\n",
       "      <th>1570004</th>\n",
       "      <td>18862</td>\n",
       "      <td>64</td>\n",
       "      <td>American Double / Imperial IPA</td>\n",
       "      <td>10.0</td>\n",
       "      <td>1314698400</td>\n",
       "      <td>cavery.553824</td>\n",
       "      <td>3.50</td>\n",
       "      <td>4.00</td>\n",
       "      <td>3.00</td>\n",
       "      <td>3.50</td>\n",
       "      <td>3.50</td>\n",
       "      <td>3.57</td>\n",
       "      <td>Review from notes, bottle courtesy of GoGators...</td>\n",
       "      <td>6565</td>\n",
       "      <td>1872</td>\n",
       "      <td>4.18</td>\n",
       "      <td>217</td>\n",
       "      <td>207</td>\n",
       "      <td>1.295176e+09</td>\n",
       "      <td>United States, California</td>\n",
       "      <td>United States, Delaware</td>\n",
       "      <td>378.0</td>\n",
       "      <td>bottle</td>\n",
       "      <td>103</td>\n",
       "      <td>860</td>\n",
       "      <td>4.148012</td>\n",
       "    </tr>\n",
       "  </tbody>\n",
       "</table>\n",
       "</div>"
      ],
      "text/plain": [
       "         beer_id  brewery_id                           style   abv  \\\n",
       "935606     37860          35         American Pale Ale (APA)   6.0   \n",
       "1145616    65223        2137              Milk / Sweet Stout   7.2   \n",
       "1570004    18862          64  American Double / Imperial IPA  10.0   \n",
       "\n",
       "               date             user_id  appearance  aroma  palate  taste  \\\n",
       "935606   1367920800      jadjunk.401113        3.75   3.25    2.75   3.25   \n",
       "1145616  1366452000  stouthunter.445745        4.00   3.75    3.50   3.75   \n",
       "1570004  1314698400       cavery.553824        3.50   4.00    3.00   3.50   \n",
       "\n",
       "         overall  rating                                               text  \\\n",
       "935606      3.25    3.23  &quot;Jack McAuliffe's pioneering spirit paved...   \n",
       "1145616     3.75    3.74  I picked up a bottle of Breckenridge's 72 Impe...   \n",
       "1570004     3.50    3.57  Review from notes, bottle courtesy of GoGators...   \n",
       "\n",
       "         beer_nbr_ratings  beer_nbr_reviews   avg  user_nbr_ratings  \\\n",
       "935606                625               178  3.40              1175   \n",
       "1145616               756               158  3.87              2309   \n",
       "1570004              6565              1872  4.18               217   \n",
       "\n",
       "         user_nbr_reviews   user_joined              user_location  \\\n",
       "935606               1175  1.260097e+09     United States, Georgia   \n",
       "1145616              1946  1.270548e+09    United States, Michigan   \n",
       "1570004               207  1.295176e+09  United States, California   \n",
       "\n",
       "                     brewery_location  brewery_nbr_beers serving_type  \\\n",
       "935606   United States, Massachusetts              285.0       bottle   \n",
       "1145616       United States, Colorado              140.0       bottle   \n",
       "1570004       United States, Delaware              378.0       bottle   \n",
       "\n",
       "         user_nbr_reviews_computed  beer_nbr_reviews_computed  \\\n",
       "935606                         347                         65   \n",
       "1145616                       1329                         62   \n",
       "1570004                        103                        860   \n",
       "\n",
       "         beer_avg_computed  \n",
       "935606            3.328308  \n",
       "1145616           3.870484  \n",
       "1570004           4.148012  "
      ]
     },
     "execution_count": 38,
     "metadata": {},
     "output_type": "execute_result"
    }
   ],
   "source": [
    "# compute the number of valid reviews per user\n",
    "df['user_nbr_reviews_computed'] = df.groupby('user_id')['user_id'].transform('count')\n",
    "\n",
    "# compute the number of valid reviews per beer\n",
    "df['beer_nbr_reviews_computed'] = df.groupby('beer_id')['beer_id'].transform('count')\n",
    "\n",
    "# compute the avg rating per beer\n",
    "df['beer_avg_computed'] = df.groupby('beer_id')['rating'].transform('mean')\n",
    "\n",
    "df.sample(3)"
   ]
  },
  {
   "cell_type": "code",
   "execution_count": 39,
   "metadata": {},
   "outputs": [
    {
     "data": {
      "image/png": "[encoded data removed]",
      "text/plain": [
       "<Figure size 1080x360 with 2 Axes>"
      ]
     },
     "metadata": {
      "needs_background": "light"
     },
     "output_type": "display_data"
    }
   ],
   "source": [
    "plt.figure(figsize=(15, 5))\n",
    "\n",
    "# group the reviews by beer_id and show a histogram of the number of reviews computed\n",
    "plt.subplot(1, 2, 1)\n",
    "df.groupby('beer_id')['beer_nbr_reviews_computed'].mean().hist(bins=100, log=True)\n",
    "plt.xlabel('Number of reviews per beer')\n",
    "plt.ylabel('Count')\n",
    "\n",
    "# group the reviews by user_id and show a histogram of the number of reviews computed\n",
    "plt.subplot(1, 2, 2)\n",
    "df.groupby('user_id')['user_nbr_reviews_computed'].mean().hist(bins=100, log=True)\n",
    "plt.xlabel('Number of reviews per user')\n",
    "plt.ylabel('Count')\n",
    "\n",
    "plt.tight_layout()\n",
    "plt.show()"
   ]
  },
  {
   "cell_type": "code",
   "execution_count": 40,
   "metadata": {},
   "outputs": [
    {
     "name": "stdout",
     "output_type": "stream",
     "text": [
      "We removed 255775 rows, leaving us with 73.69 %% of the original dataset\n",
      "We have 716358 valid reviews\n"
     ]
    },
    {
     "data": {
      "text/plain": [
       "bottle    489917\n",
       "can       140341\n",
       "draft      86100\n",
       "Name: serving_type, dtype: int64"
      ]
     },
     "execution_count": 40,
     "metadata": {},
     "output_type": "execute_result"
    }
   ],
   "source": [
    "#Filtering to remove users and beers with less reviews\n",
    "\n",
    "min_nbr_reviews_per_user = 0\n",
    "min_nbr_reviews_per_beer = 20\n",
    "\n",
    "len0 = df.shape[0]\n",
    "\n",
    "# remove every row where the number of reviews per user is less than min_nbr_reviews_per_user\n",
    "df_filter = df[df['user_nbr_reviews_computed'] >= min_nbr_reviews_per_user].copy(deep=True)\n",
    "\n",
    "# remove every row where the number of reviews per beer is less than min_nbr_reviews_per_beer\n",
    "df_filter_full = df_filter[df_filter['beer_nbr_reviews_computed'] >= min_nbr_reviews_per_beer].copy(deep=True)\n",
    "\n",
    "print('We removed {} rows, leaving us with {} %% of the original dataset'.format(len0 - df_filter_full.shape[0], round(df_filter_full.shape[0] / len0 * 100, 2)))\n",
    "print('We have {} valid reviews'.format(df_filter_full.shape[0]))\n",
    "\n",
    "# print the number of reviews for each serving type\n",
    "df_filter_full['serving_type'].value_counts(normalize=False)"
   ]
  },
  {
   "cell_type": "markdown",
   "metadata": {},
   "source": [
    "### Filter on readability score of the reviews 📝"
   ]
  },
  {
   "cell_type": "code",
   "execution_count": 41,
   "metadata": {},
   "outputs": [],
   "source": [
    "df_sample = df_filter_full.sample(n=1000, random_state=46)"
   ]
  },
  {
   "cell_type": "code",
   "execution_count": 42,
   "metadata": {},
   "outputs": [
    {
     "data": {
      "text/plain": [
       "<AxesSubplot:>"
      ]
     },
     "execution_count": 42,
     "metadata": {},
     "output_type": "execute_result"
    },
    {
     "data": {
      "image/png": "[encoded data removed]",
      "text/plain": [
       "<Figure size 1080x360 with 1 Axes>"
      ]
     },
     "metadata": {
      "needs_background": "light"
     },
     "output_type": "display_data"
    }
   ],
   "source": [
    "df_sample['readability_score'] = df_sample['text'].apply(lambda x: flesch_reading_ease(x) if isinstance(x, str) else None)\n",
    "df_sample['readability_score'].hist(bins=100, figsize=(15, 5), log=True)"
   ]
  },
  {
   "cell_type": "code",
   "execution_count": 43,
   "metadata": {},
   "outputs": [
    {
     "data": {
      "text/plain": [
       "9"
      ]
     },
     "execution_count": 43,
     "metadata": {},
     "output_type": "execute_result"
    }
   ],
   "source": [
    "# printing some reviews based on readability score\n",
    "\n",
    "df_sample[df_sample['readability_score'] < 20]['text'].count()\n",
    "\n",
    "# for row in df_sample[df_sample['readability_score'] > 96]['text']:\n",
    "#     print(row)\n",
    "#     print('----------------------')"
   ]
  },
  {
   "cell_type": "code",
   "execution_count": 44,
   "metadata": {},
   "outputs": [],
   "source": [
    "# remove reviews with bad readability score\n",
    "\n"
   ]
  },
  {
   "cell_type": "markdown",
   "metadata": {},
   "source": [
    "### Extracting the serving mode with NLP"
   ]
  },
  {
   "cell_type": "code",
   "execution_count": 45,
   "metadata": {},
   "outputs": [],
   "source": [
    "import nltk\n",
    "import spacy"
   ]
  },
  {
   "cell_type": "code",
   "execution_count": 46,
   "metadata": {},
   "outputs": [],
   "source": [
    "df_test_nlp = df_sample.copy(deep=True)\n",
    "nlp = spacy.load(\"en_core_web_sm\")"
   ]
  },
  {
   "cell_type": "code",
   "execution_count": 47,
   "metadata": {},
   "outputs": [],
   "source": [
    "def extract_serving_style(text):\n",
    "    # Process the text using spaCy\n",
    "    doc = nlp(text)\n",
    "    \n",
    "    # Initialize the serving style variable\n",
    "    serving_style = None\n",
    "    \n",
    "    # Analyze the dependency tree and part-of-speech tags\n",
    "    # Find the serving styles\n",
    "    for token in doc:\n",
    "        if \"can\" == token.lemma and token.dep_ == \"nsubj\":\n",
    "            serving_style = \"can\"\n",
    "            break\n",
    "        elif \"bottle\" == token.lemma and token.dep_ == \"nsubj\" and \"VB\" in token.head.pos_:\n",
    "            serving_style = \"bottle\"\n",
    "            break\n",
    "        elif \"tap\" == token.lemma and token.dep_ == \"nsubj\" and \"VB\" in token.head.pos_:\n",
    "            serving_style = \"tap\"\n",
    "            break\n",
    "    \n",
    "    return serving_style"
   ]
  },
  {
   "cell_type": "code",
   "execution_count": 48,
   "metadata": {},
   "outputs": [],
   "source": [
    "ex_review = str(\"Can. I would love to try it on tap\")"
   ]
  },
  {
   "cell_type": "code",
   "execution_count": 49,
   "metadata": {},
   "outputs": [
    {
     "name": "stdout",
     "output_type": "stream",
     "text": [
      "Can can AUX ROOT\n",
      ". . PUNCT punct\n",
      "I I PRON nsubj\n",
      "would would AUX aux\n",
      "love love VERB ROOT\n",
      "to to PART aux\n",
      "try try VERB xcomp\n",
      "it it PRON dobj\n",
      "on on ADP prep\n",
      "tap tap NOUN pobj\n"
     ]
    }
   ],
   "source": [
    "doc = nlp(ex_review)\n",
    "for token in doc:\n",
    "    print(token.text, token.lemma_, token.pos_, token.dep_)"
   ]
  },
  {
   "cell_type": "code",
   "execution_count": 50,
   "metadata": {},
   "outputs": [
    {
     "name": "stdout",
     "output_type": "stream",
     "text": [
      "None\n"
     ]
    }
   ],
   "source": [
    "print(extract_serving_style(ex_review))"
   ]
  },
  {
   "cell_type": "code",
   "execution_count": 51,
   "metadata": {},
   "outputs": [
    {
     "data": {
      "text/plain": [
       "50798    Reviewed 6/21/2006 (16.9 oz bottle):Pours a bl...\n",
       "Name: text, dtype: object"
      ]
     },
     "execution_count": 51,
     "metadata": {},
     "output_type": "execute_result"
    }
   ],
   "source": [
    "df_test_nlp['text'].sample(1)"
   ]
  },
  {
   "cell_type": "code",
   "execution_count": 52,
   "metadata": {},
   "outputs": [
    {
     "name": "stdout",
     "output_type": "stream",
     "text": [
      "CPU times: user 25.7 s, sys: 2.23 s, total: 27.9 s\n",
      "Wall time: 32.5 s\n"
     ]
    }
   ],
   "source": [
    "%%time\n",
    "df_test_nlp['serving_style'] = df_test_nlp['text'].apply(extract_serving_style)"
   ]
  },
  {
   "cell_type": "code",
   "execution_count": 63,
   "metadata": {},
   "outputs": [
    {
     "data": {
      "text/plain": [
       "True"
      ]
     },
     "execution_count": 63,
     "metadata": {},
     "output_type": "execute_result"
    }
   ],
   "source": [
    "# Look if all serving_style values are still None (True or False)\n",
    "df_test_nlp['serving_style'].isna().all()"
   ]
  },
  {
   "cell_type": "code",
   "execution_count": null,
   "metadata": {},
   "outputs": [],
   "source": [
    "#General fonction that will say if the word \"can\" is a verb or a noun  \n",
    "import spacy\n",
    "nlp = spacy.load(\"en_core_web_sm\")\n",
    "\n",
    "def differentiate_can(sentence):\n",
    "    doc = nlp(sentence)\n",
    "    verbes_nom=[]\n",
    "    for token in doc:\n",
    "        if token.text.lower() == \"can\":\n",
    "            if any(t.dep_ == \"aux\" for t in token.head.children):\n",
    "                verbes_nom .append(\"verb\")\n",
    "            else:\n",
    "                verbes_nom .append(\"noun\") \n",
    "    \n",
    "    return verbes_nom\n",
    "\n",
    "ex_review = str(\"Can I go to the bathroom I had a beer in a can even if I would have prefered it served by draft because I can\")\n",
    "test = str(\"Plase can you stop eating from the can\")\n",
    "print(differentiate_can(ex_review))\n",
    "print(differentiate_can(test))"
   ]
  },
  {
   "cell_type": "markdown",
   "metadata": {},
   "source": [
    "### Countries grouping 🌍"
   ]
  },
  {
   "cell_type": "code",
   "execution_count": 54,
   "metadata": {},
   "outputs": [
    {
     "data": {
      "text/html": [
       "<div>\n",
       "<style scoped>\n",
       "    .dataframe tbody tr th:only-of-type {\n",
       "        vertical-align: middle;\n",
       "    }\n",
       "\n",
       "    .dataframe tbody tr th {\n",
       "        vertical-align: top;\n",
       "    }\n",
       "\n",
       "    .dataframe thead th {\n",
       "        text-align: right;\n",
       "    }\n",
       "</style>\n",
       "<table border=\"1\" class=\"dataframe\">\n",
       "  <thead>\n",
       "    <tr style=\"text-align: right;\">\n",
       "      <th></th>\n",
       "      <th>name</th>\n",
       "      <th>region</th>\n",
       "      <th>sub-region</th>\n",
       "    </tr>\n",
       "  </thead>\n",
       "  <tbody>\n",
       "    <tr>\n",
       "      <th>100</th>\n",
       "      <td>Hong Kong</td>\n",
       "      <td>Asia</td>\n",
       "      <td>Eastern Asia</td>\n",
       "    </tr>\n",
       "  </tbody>\n",
       "</table>\n",
       "</div>"
      ],
      "text/plain": [
       "          name region    sub-region\n",
       "100  Hong Kong   Asia  Eastern Asia"
      ]
     },
     "execution_count": 54,
     "metadata": {},
     "output_type": "execute_result"
    }
   ],
   "source": [
    "countries = pd.read_csv('data/countries.csv', usecols=['name', 'region', 'sub-region'])\n",
    "countries.sample(1)"
   ]
  },
  {
   "cell_type": "markdown",
   "metadata": {},
   "source": [
    "### Visualization 📊"
   ]
  },
  {
   "cell_type": "code",
   "execution_count": 55,
   "metadata": {},
   "outputs": [
    {
     "name": "stdout",
     "output_type": "stream",
     "text": [
      "Reviews with bottle:\n",
      "\n",
      "500ml bottle poured into a pint glass.A - Poured a deep gold with a slight haze. Minimal head but a lasting thin layer of bubbles. Minimal lacing.S - Various herbal notes with some grass &amp; flowers. Smells quite pleasing.T - Sweet at first followed by the bitterness with tobacco notes.M - Watery at first but goes down smooth. Also feels a bit sticky.D - It's pretty drinkable but nothing spectacular.\n",
      "----------------------\n",
      "Reviews with can:\n",
      "\n",
      "World Wide Stout is a pleasure to the senses. It pours like a coca-cola, dark, but not in the least bit transparent. The thin dark brown head rounds out an inviting appearance. The aroma is a bit more than I expected. Strong and sharp, its as if you held the roasted malts right up in your nose. Definitely a bit more aromatic than most stouts I have encountered. Strong on the palate, coffee notes abound, the slightly chalky feel compliments the overall smoothness of this brew. I can taste the fine roasted malts as I drink it, and the flavor hits every part of the palate. Truly a full bodied, exciting stout. Its 15%, so a few glasses would likely over do it. But I found a great solution is a single glass with a large egg and bacon breakfast to start a nice, long day off.\n",
      "----------------------\n",
      "Reviews with draft:\n",
      "\n",
      "This brew was served on tap at ButaPub in Rochester, New York.  It arrived in a Three Heads pint glass showing a deep and dirty soy sauce coloring.  It held a half finger tall head of chicory colored foam.  This retained decently well before dissipating into wet islands of lacing left clinging around our glass.  No haze or sediment was appreciated, and carbonation appeared to be moderate.  The aroma was dominated by wet roastiness of brown, caramel, and burnt black grain, subtle hints of synthetic coffee creamer, vinyl plastics, almond mild, toffee bread and brown sugar cloy, mild citric and piney hoppiness, faint buttery diacetyls, dried molasses, mineral water, and flakey chocolate cereal graininess.  The taste to follow was a bit more zippy, but not as hoppy as one would hope.  Notes here included syrupy dark cherry, Tootsie Roll sugariness, plastic phenols, roasted but watered caramel, coffee, black, and chocolate graininess, yeasty aluminum, vegetal cauliflower sugars, chocolate flavored whey protein powder, wet cardboard, bleachy wash, and distant hiccups of  floral, citric, and lightly piney hops.  The aftertaste showed a fullness and deeper bittering of grainy roast, along with allowing some hotter stings of clean alcohol to stark poking through.  The body was just about medium, and the carbonation was soft and modest.  Each sip gave decent slurp, smack, cream, froth, and pop.  A light sticky and saucy coating was left filmed across the mouth, interrupted by dashes of astringent dryness here and there.  The abv was appropriate and, for the most part, masked well.  Drinkability was fine, as you could easily put away more than one of these if you weren’t thinking about it.Overall, we’re glad we finally found time to try this guy.  It has been hard for us to get over to the Genesee Brew House itself lately, and we’ve been lazy and neglected to buy their new offerings (this beer included) once they started rolling some new labels off the bottling line.  While we’ve generally enjoyed the initial products coming out of the revamped Brew House, this one didn’t really live up to that expectation for us.  Admittedly we’ve become spoiled with the array and availability of some phenomenal black ales in the market right now, but if you’re going to call something an “IPA”, albeit a variant of an IPA, you’re priority has got to be making the hops shine.  That just isn’t the case here.  Honestly, this beer comes across much more like a blend between a brown ale and a bock, with high residual sweetness, cloy, and a reasonable amount of roasted graininess.  The hops most certainly get lost in all of this, making the beer seem all but incomplete and dull.  The final product would have been more agreeable to its description, and actually rather unique, if they could have found a way to marry these two components together.\n",
      "----------------------\n"
     ]
    }
   ],
   "source": [
    "# print some reviews for each serving type\n",
    "print('Reviews with bottle:\\n')\n",
    "for text in df[df['serving_type'] == 'bottle']['text'].sample(1):\n",
    "    print(text)\n",
    "    print('----------------------')\n",
    "print('Reviews with can:\\n')\n",
    "for text in df[df['serving_type'] == 'can']['text'].sample(1):\n",
    "    print(text)\n",
    "    print('----------------------')\n",
    "print('Reviews with draft:\\n')\n",
    "for text in df[df['serving_type'] == 'draft']['text'].sample(1):\n",
    "    print(text)\n",
    "    print('----------------------')"
   ]
  },
  {
   "cell_type": "code",
   "execution_count": 56,
   "metadata": {},
   "outputs": [
    {
     "name": "stdout",
     "output_type": "stream",
     "text": [
      "Average rating for bottle:  3.832\n",
      "Average rating for can:  3.816\n",
      "Average rating for draft:  3.865\n"
     ]
    }
   ],
   "source": [
    "# print the average value of the rating for each serving type\n",
    "comp_str = 'rating'\n",
    "print('Average ' + comp_str + ' for bottle: ', round(df[df['serving_type'] == 'bottle'][comp_str].mean(), 3))\n",
    "print('Average ' + comp_str + ' for can: ', round(df[df['serving_type'] == 'can'][comp_str].mean(), 3))\n",
    "print('Average ' + comp_str + ' for draft: ', round(df[df['serving_type'] == 'draft'][comp_str].mean(), 3))"
   ]
  },
  {
   "cell_type": "code",
   "execution_count": 57,
   "metadata": {},
   "outputs": [
    {
     "data": {
      "image/png": "[encoded data removed]",
      "text/plain": [
       "<Figure size 720x432 with 2 Axes>"
      ]
     },
     "metadata": {
      "needs_background": "light"
     },
     "output_type": "display_data"
    }
   ],
   "source": [
    "# show boxplot and histograms of ratings for bottle, can and draft\n",
    "plt.figure(figsize=(10, 6))\n",
    "plt.subplot(121)\n",
    "sns.boxplot(data=df, hue='serving_type', y='rating')\n",
    "plt.subplot(122)\n",
    "sns.histplot(data=df, hue='serving_type', x='rating', kde=True, bins=20)\n",
    "plt.tight_layout()\n",
    "plt.show()"
   ]
  },
  {
   "cell_type": "markdown",
   "metadata": {},
   "source": [
    "# Statistical Analysis 📈"
   ]
  },
  {
   "cell_type": "markdown",
   "metadata": {},
   "source": [
    "### Measure the impact of each aspect on rating 📏"
   ]
  },
  {
   "cell_type": "code",
   "execution_count": 58,
   "metadata": {},
   "outputs": [
    {
     "data": {
      "image/png": "[encoded data removed]",
      "text/plain": [
       "<Figure size 1440x360 with 5 Axes>"
      ]
     },
     "metadata": {
      "needs_background": "light"
     },
     "output_type": "display_data"
    }
   ],
   "source": [
    "# fit a linear regression line to the data for all 5 aspects\n",
    "reg1 = LinearRegression().fit(df[['appearance']], df['rating'])\n",
    "reg2 = LinearRegression().fit(df[['aroma']], df['rating'])\n",
    "reg3 = LinearRegression().fit(df[['palate']], df['rating'])\n",
    "reg4 = LinearRegression().fit(df[['taste']], df['rating'])\n",
    "reg5 = LinearRegression().fit(df[['overall']], df['rating'])\n",
    "\n",
    "# create subplots for all 5 aspects\n",
    "fig, axs = plt.subplots(1, 5, figsize=(20, 5))\n",
    "\n",
    "# plot the data and regression line for each aspect\n",
    "sns.scatterplot(data=df, x='appearance', y='rating', s=0.5, ax=axs[0])\n",
    "axs[0].plot(df[['appearance']], reg1.predict(df[['appearance']]), color='red')\n",
    "axs[0].set_title('Appearance\\nSlope = ' + str(round(reg1.coef_[0], 3)) + '\\nR2 = ' + str(round(reg1.score(df[['appearance']], df['rating']), 3)))\n",
    "\n",
    "sns.scatterplot(data=df, x='aroma', y='rating', s=0.5, ax=axs[1])\n",
    "axs[1].plot(df[['aroma']], reg2.predict(df[['aroma']]), color='red')\n",
    "axs[1].set_title('Aroma\\nSlope = ' + str(round(reg2.coef_[0], 3)) + '\\nR2 = ' + str(round(reg2.score(df[['aroma']], df['rating']), 3)))\n",
    "\n",
    "sns.scatterplot(data=df, x='palate', y='rating', s=0.5, ax=axs[2])\n",
    "axs[2].plot(df[['palate']], reg3.predict(df[['palate']]), color='red')\n",
    "axs[2].set_title('Palate\\nSlope = ' + str(round(reg3.coef_[0], 3)) + '\\nR2 = ' + str(round(reg3.score(df[['palate']], df['rating']), 3)))\n",
    "\n",
    "sns.scatterplot(data=df, x='taste', y='rating', s=0.5, ax=axs[3])\n",
    "axs[3].plot(df[['taste']], reg4.predict(df[['taste']]), color='red')\n",
    "axs[3].set_title('Taste\\nSlope = ' + str(round(reg4.coef_[0], 3)) + '\\nR2 = ' + str(round(reg4.score(df[['taste']], df['rating']), 3)))\n",
    "\n",
    "sns.scatterplot(data=df, x='overall', y='rating', s=0.5, ax=axs[4])\n",
    "axs[4].plot(df[['overall']], reg5.predict(df[['overall']]), color='red')\n",
    "axs[4].set_title('Overall\\nSlope = ' + str(round(reg5.coef_[0], 3)) + '\\nR2 = ' + str(round(reg5.score(df[['overall']], df['rating']), 3)))\n",
    "\n",
    "plt.tight_layout()\n",
    "plt.show()\n",
    "\n",
    "# should still add confidence intervals"
   ]
  },
  {
   "cell_type": "markdown",
   "metadata": {},
   "source": [
    "It seems like Taste as the biggest impact on the rating while appearance has the least impact."
   ]
  },
  {
   "cell_type": "markdown",
   "metadata": {},
   "source": [
    "### Hypothesis testing on the new labels"
   ]
  },
  {
   "cell_type": "code",
   "execution_count": 59,
   "metadata": {},
   "outputs": [],
   "source": [
    "def do_ttest(type1, type2, category):\n",
    "    ttest = ttest_ind(df[df['serving_type'] == type1][category],df[df['serving_type'] == type2][category])\n",
    "    if ttest[1] > 0.05:\n",
    "        print('The p-value is high (' + str(ttest[1]) + '), so we cannot reject the null hypothesis that the two samples have the same average')\n",
    "    else:\n",
    "        print('The p-value is very low (' + str(ttest[1]) + '), so we can reject the null hypothesis that the two samples have the same average')"
   ]
  },
  {
   "cell_type": "code",
   "execution_count": 60,
   "metadata": {},
   "outputs": [
    {
     "data": {
      "image/png": "[encoded data removed]",
      "text/plain": [
       "<Figure size 720x432 with 1 Axes>"
      ]
     },
     "metadata": {
      "needs_background": "light"
     },
     "output_type": "display_data"
    }
   ],
   "source": [
    "# define the columns to compare\n",
    "columns = ['appearance', 'aroma', 'palate', 'taste', 'overall', 'rating']\n",
    "\n",
    "# create an empty matrix to store the p-values\n",
    "p_values = np.zeros((len(columns), 3))\n",
    "\n",
    "# perform the t-test and store the p-values in the matrix\n",
    "for i in range(len(columns)):\n",
    "    ttest1 = ttest_ind(df[df['serving_type'] == 'bottle'][columns[i]], df[df['serving_type'] == 'can'][columns[i]])\n",
    "    ttest2 = ttest_ind(df[df['serving_type'] == 'can'][columns[i]], df[df['serving_type'] == 'draft'][columns[i]])\n",
    "    ttest3 = ttest_ind(df[df['serving_type'] == 'draft'][columns[i]], df[df['serving_type'] == 'bottle'][columns[i]])\n",
    "    p_values[i][0] = ttest1[1]\n",
    "    p_values[i][1] = ttest2[1]\n",
    "    p_values[i][2] = ttest3[1]\n",
    "\n",
    "# create the grouped bar chart\n",
    "fig, ax = plt.subplots(figsize=(10, 6))\n",
    "x = np.arange(len(columns))\n",
    "width = 0.25\n",
    "rects1 = ax.bar(x - width, p_values[:,0], width, label='Bottle vs Can')\n",
    "rects2 = ax.bar(x, p_values[:,1], width, label='Can vs Draft')\n",
    "rects3 = ax.bar(x + width, p_values[:,2], width, label='Draft vs Bottle')\n",
    "ax.set_xticks(x)\n",
    "# ax.set_yscale('log')\n",
    "ax.set_xticklabels(columns)\n",
    "ax.set_ylabel('p-value')\n",
    "ax.set_title('Comparison of Aspects between Service Types')\n",
    "ax.legend()\n",
    "plt.show()"
   ]
  },
  {
   "cell_type": "markdown",
   "metadata": {},
   "source": [
    "All the p-values are below 0.05 (expect 1), so we can reject the null hypothesis and conclude that there is a significant difference between the groups."
   ]
  },
  {
   "cell_type": "code",
   "execution_count": 61,
   "metadata": {},
   "outputs": [
    {
     "name": "stdout",
     "output_type": "stream",
     "text": [
      "The p-value is high (0.9744195668254092), so we cannot reject the null hypothesis that the two samples have the same average\n"
     ]
    }
   ],
   "source": [
    "# t-test for aroma betwwen draft and bottle\n",
    "do_ttest('draft', 'bottle', 'aroma')"
   ]
  },
  {
   "cell_type": "code",
   "execution_count": 62,
   "metadata": {},
   "outputs": [
    {
     "data": {
      "image/png": "[encoded data removed]",
      "text/plain": [
       "<Figure size 720x432 with 1 Axes>"
      ]
     },
     "metadata": {
      "needs_background": "light"
     },
     "output_type": "display_data"
    }
   ],
   "source": [
    "# show a boxplot of aroma for draft and bottle\n",
    "plt.figure(figsize=(10, 6))\n",
    "sns.boxplot(data=df[df['serving_type'].isin(['draft', 'bottle'])], x='serving_type', y='aroma')\n",
    "plt.show()"
   ]
  },
  {
   "cell_type": "markdown",
   "metadata": {},
   "source": []
  }
 ],
 "metadata": {
  "kernelspec": {
   "display_name": "Python 3",
   "language": "python",
   "name": "python3"
  },
  "language_info": {
   "codemirror_mode": {
    "name": "ipython",
    "version": 3
   },
   "file_extension": ".py",
   "mimetype": "text/x-python",
   "name": "python",
   "nbconvert_exporter": "python",
   "pygments_lexer": "ipython3",
   "version": "3.8.5"
  }
 },
 "nbformat": 4,
 "nbformat_minor": 4
}
