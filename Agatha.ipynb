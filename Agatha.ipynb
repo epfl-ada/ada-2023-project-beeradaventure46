{
 "cells": [
  {
   "cell_type": "code",
   "execution_count": 1,
   "id": "8e42fe46-fb28-4066-a31f-2879e57e8917",
   "metadata": {},
   "outputs": [
    {
     "name": "stdout",
     "output_type": "stream",
     "text": [
      "| Rule              |   Accurancy in % |   Unknown in % |   bottle in % |   can in % |   draft in% |\n",
      "|:------------------|-----------------:|---------------:|--------------:|-----------:|------------:|\n",
      "| Naïve             |             75.6 |           42.2 |         22.25 |       23.5 |        12   |\n",
      "| Similarity        |             64   |           93.7 |          2.5  |        0.8 |         3.1 |\n",
      "| Rule-based        |             94.4 |           59.6 |         29.1  |        2.1 |         9.3 |\n",
      "| Rule-based+ Tense |             94   |           55.6 |         31.5  |        2.5 |        10.4 |\n"
     ]
    }
   ],
   "source": [
    "\n",
    "\n",
    "from tabulate import tabulate\n",
    "\n",
    "data = [\n",
    "    [\"Naïve\", 75.6, 42.2, 22.25, 23.5, 12.0],\n",
    "    [\"Similarity\", 64.0, 93.7, 2.5, 0.8, 3.1],\n",
    "    [\"Rule-based\", 94.4, 59.6, 29.1, 2.1, 9.3],\n",
    "    [\"Rule-based+ Tense\", 94.0, 55.6, 31.5, 2.5, 10.4]\n",
    "]\n",
    "\n",
    "headers = [\"Rule\", \"Accurancy in %\", \"Unknown in %\", \"bottle in %\", \"can in %\", \"draft in%\"]\n",
    "\n",
    "table = tabulate(data, headers, tablefmt=\"pipe\")\n",
    "\n",
    "print(table)\n"
   ]
  },
  {
   "cell_type": "markdown",
   "id": "b0a6147e-16ea-44fb-9720-fb35acb46411",
   "metadata": {},
   "source": [
    "In the process of analyzing 250 hand-checked reviews to accurately identify serving types, we assessed the effectiveness of different methods we created. Initially, we employed a simple approach known as Naïve, which assigned a serving type if there was only one clear option. However, when faced with reviews mentioning multiple serving types, we explored a more sophisticated method called Similarity. This approach used calculations to compare the review text with potential serving types, employing cosine distance.\n",
    "\n",
    "Despite our efforts to enhance accuracy, the straightforward Naïve method proved to be more effective overall. The accuracy decreased, and the number of reviews categorized as unknown increased. Subsequently, we decided not to pursue the Similarity method further and continued refining the Naïve method. We acknowledged its limitations, especially when dealing with ambiguous statements like the one found in some reviews: \"I actually found this more elegant and less bruising than expected. Stone can still surprise,\" where the word \"can\" functioned as a verb, not a serving type, but our algorithm mistakenly considered it one.\n",
    "\n",
    "To address such challenges, we introduced a Rule-based method. This involved differentiating between the verb 'can' and the noun 'can' in the reviews and excluding serving types if certain verbs (\"would,\" \"could,\" \"'d,\" \"will\") were present. For instance, in sentences like \"and I will certainly be keeping an eye out for a bottle,\" the serving type 'bottle' wouldn't be considered because the user had not yet consumed from a bottle. Despite these efforts, challenges persisted, leading us to refine our approach further with a Tense-based method.\n",
    "\n",
    "In the Tense-based method, we focused solely on the unknown reviews identified in the Rule-based analysis. The method involved analyzing the different tenses of the verbs before the serving type. When a verb in the past was found, the serving type was taken. However, if the verbs were all in the present, the serving was concidered unknown.\n",
    "\n",
    "All these methods were applied by examining the 250 hand reviews and were modified to maximize accuracy. The journey from the simple Naïve method to the more refined Tense-based method underscores the complexities involved in recognizing serving types in reviews.reviews.\r\n"
   ]
  },
  {
   "cell_type": "code",
   "execution_count": null,
   "id": "bcadcb88-dd6d-4b73-a4e8-c8a808a1d121",
   "metadata": {},
   "outputs": [],
   "source": []
  }
 ],
 "metadata": {
  "kernelspec": {
   "display_name": "Python 3 (ipykernel)",
   "language": "python",
   "name": "python3"
  },
  "language_info": {
   "codemirror_mode": {
    "name": "ipython",
    "version": 3
   },
   "file_extension": ".py",
   "mimetype": "text/x-python",
   "name": "python",
   "nbconvert_exporter": "python",
   "pygments_lexer": "ipython3",
   "version": "3.11.6"
  }
 },
 "nbformat": 4,
 "nbformat_minor": 5
}
